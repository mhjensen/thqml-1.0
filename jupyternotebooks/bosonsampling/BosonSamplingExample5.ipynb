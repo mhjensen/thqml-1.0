{
 "cells": [
  {
   "cell_type": "markdown",
   "metadata": {},
   "source": [
    "# Model for single mode squeezed vacuum and squeezed coherent state"
   ]
  },
  {
   "cell_type": "markdown",
   "metadata": {},
   "source": [
    "We test the boson sampling operator (no training) \n",
    "on coherent states and squeezed states, and \n",
    "propagating in a random medium\n",
    "\n",
    "nonlinearxwaves@gmail.com<br>\n",
    "@version 28 january 2021<br>\n",
    "@version 3 may 2023 <b>"
   ]
  },
  {
   "cell_type": "code",
   "execution_count": 1,
   "metadata": {},
   "outputs": [
    {
     "name": "stderr",
     "output_type": "stream",
     "text": [
      "2023-05-03 19:09:18.603202: W tensorflow/stream_executor/platform/default/dso_loader.cc:64] Could not load dynamic library 'libcudart.so.11.0'; dlerror: libcudart.so.11.0: cannot open shared object file: No such file or directory\n",
      "2023-05-03 19:09:18.603225: I tensorflow/stream_executor/cuda/cudart_stub.cc:29] Ignore above cudart dlerror if you do not have a GPU set up on your machine.\n"
     ]
    }
   ],
   "source": [
    "import numpy as np\n",
    "from thqml import phasespace as ps\n",
    "import tensorflow as tf\n",
    "import matplotlib.pyplot as plt"
   ]
  },
  {
   "cell_type": "code",
   "execution_count": 2,
   "metadata": {},
   "outputs": [],
   "source": [
    "tf_complex = tf.complex\n",
    "tf_real = tf.float32\n",
    "np_complex = complex\n",
    "np_real = np.float64"
   ]
  },
  {
   "cell_type": "code",
   "execution_count": 3,
   "metadata": {},
   "outputs": [],
   "source": [
    "tf.keras.backend.clear_session()"
   ]
  },
  {
   "cell_type": "code",
   "execution_count": 5,
   "metadata": {},
   "outputs": [],
   "source": [
    "np.set_printoptions(precision=2)"
   ]
  },
  {
   "cell_type": "markdown",
   "metadata": {},
   "source": [
    "Check GPU"
   ]
  },
  {
   "cell_type": "code",
   "execution_count": 6,
   "metadata": {},
   "outputs": [
    {
     "name": "stdout",
     "output_type": "stream",
     "text": [
      "Num GPUs Available:  0\n"
     ]
    },
    {
     "name": "stderr",
     "output_type": "stream",
     "text": [
      "2023-05-03 19:10:49.082571: W tensorflow/stream_executor/platform/default/dso_loader.cc:64] Could not load dynamic library 'libcuda.so.1'; dlerror: libcuda.so.1: cannot open shared object file: No such file or directory\n",
      "2023-05-03 19:10:49.082613: W tensorflow/stream_executor/cuda/cuda_driver.cc:269] failed call to cuInit: UNKNOWN ERROR (303)\n",
      "2023-05-03 19:10:49.082646: I tensorflow/stream_executor/cuda/cuda_diagnostics.cc:156] kernel driver does not appear to be running on this host (x1): /proc/driver/nvidia/version does not exist\n"
     ]
    }
   ],
   "source": [
    "print(\"Num GPUs Available: \", len(tf.config.experimental.list_physical_devices('GPU')))"
   ]
  },
  {
   "cell_type": "markdown",
   "metadata": {},
   "source": [
    "## Dimension"
   ]
  },
  {
   "cell_type": "code",
   "execution_count": 7,
   "metadata": {},
   "outputs": [],
   "source": [
    "N = 4"
   ]
  },
  {
   "cell_type": "code",
   "execution_count": 8,
   "metadata": {},
   "outputs": [],
   "source": [
    "n=np.floor_divide(N,2)"
   ]
  },
  {
   "cell_type": "markdown",
   "metadata": {},
   "source": [
    "## Build vacuum by the Gaussian state"
   ]
  },
  {
   "cell_type": "code",
   "execution_count": 9,
   "metadata": {},
   "outputs": [
    {
     "name": "stderr",
     "output_type": "stream",
     "text": [
      "2023-05-03 19:10:53.151714: I tensorflow/core/platform/cpu_feature_guard.cc:151] This TensorFlow binary is optimized with oneAPI Deep Neural Network Library (oneDNN) to use the following CPU instructions in performance-critical operations:  AVX2 FMA\n",
      "To enable them in other operations, rebuild TensorFlow with the appropriate compiler flags.\n"
     ]
    }
   ],
   "source": [
    "vacuum = ps.VacuumLayer(N)"
   ]
  },
  {
   "cell_type": "markdown",
   "metadata": {},
   "source": [
    "## Squeezer for mode 0"
   ]
  },
  {
   "cell_type": "code",
   "execution_count": 17,
   "metadata": {},
   "outputs": [],
   "source": [
    "r_np=0.8;\n",
    "theta_np=np.pi/4;\n",
    "squeezer=ps.SingleModeSqueezerLayer(N, r_np=r_np, theta_np=theta_np, n_squeezed=0)"
   ]
  },
  {
   "cell_type": "markdown",
   "metadata": {},
   "source": [
    "## Displacer for mode 1"
   ]
  },
  {
   "cell_type": "markdown",
   "metadata": {},
   "source": [
    "Define the alpha vector for the alpha"
   ]
  },
  {
   "cell_type": "code",
   "execution_count": 18,
   "metadata": {},
   "outputs": [],
   "source": [
    "alpha=np.zeros([2],dtype=np_complex)"
   ]
  },
  {
   "cell_type": "code",
   "execution_count": 19,
   "metadata": {},
   "outputs": [
    {
     "name": "stdout",
     "output_type": "stream",
     "text": [
      "[0. +0.j 1.5+0.j]\n",
      "[0.   2.25]\n"
     ]
    }
   ],
   "source": [
    "alpha[0]=0\n",
    "alpha[1]=1.5\n",
    "print(alpha)\n",
    "print(np.abs(alpha)**2)"
   ]
  },
  {
   "cell_type": "markdown",
   "metadata": {},
   "source": [
    "Define the corresponding displacement vector"
   ]
  },
  {
   "cell_type": "code",
   "execution_count": 20,
   "metadata": {},
   "outputs": [],
   "source": [
    "dinput_np=np.zeros([N,1], dtype=np_real)\n",
    "for j in range(n):\n",
    "    dinput_np[2*j]=np.sqrt(2)*np.real(alpha[j])\n",
    "    dinput_np[2*j+1]=np.sqrt(2)*np.imag(alpha[j])"
   ]
  },
  {
   "cell_type": "code",
   "execution_count": 21,
   "metadata": {},
   "outputs": [],
   "source": [
    "dinput = tf.constant( dinput_np, dtype=vacuum.dtype)\n",
    "displacer = ps.DisplacementLayerConstant(dinput)"
   ]
  },
  {
   "cell_type": "markdown",
   "metadata": {},
   "source": [
    "## Random medium (non trainable)"
   ]
  },
  {
   "cell_type": "code",
   "execution_count": 22,
   "metadata": {},
   "outputs": [],
   "source": [
    "R=ps.RandomLayerConstant(N)"
   ]
  },
  {
   "cell_type": "markdown",
   "metadata": {},
   "source": [
    "## Build the model"
   ]
  },
  {
   "cell_type": "code",
   "execution_count": 23,
   "metadata": {},
   "outputs": [],
   "source": [
    "xin = tf.keras.layers.Input(N)\n",
    "x1, a1 = R(xin)\n",
    "x2, a2 = displacer(x1, a1)\n",
    "x3, a3 = squeezer(x2, a2)\n",
    "chir, chii = vacuum(x3, a3)\n",
    "model = tf.keras.Model(inputs = xin, outputs=[chir, chii])"
   ]
  },
  {
   "cell_type": "markdown",
   "metadata": {},
   "source": [
    "# Evaluate the covariance"
   ]
  },
  {
   "cell_type": "code",
   "execution_count": 24,
   "metadata": {},
   "outputs": [
    {
     "name": "stdout",
     "output_type": "stream",
     "text": [
      "tf.Tensor([[0.18 2.06 0.45 0.09]], shape=(1, 4), dtype=float32)\n",
      "[[1.08352721 -0.108666956 0.367201269 0.504930854]\n",
      " [-0.108666897 1.06152725 -0.128855109 -0.554052293]\n",
      " [0.367201269 -0.128855109 1.08999693 1.77038634]\n",
      " [0.504930794 -0.554052353 1.7703861 3.9198761]]\n"
     ]
    }
   ],
   "source": [
    "cov_layer = ps.CovarianceLayer(N)\n",
    "covariance_matrix, mean_R, hessian = cov_layer(chir,chii, model)\n",
    "squeezed_cov = tf.keras.Model(inputs = xin, outputs=[covariance_matrix, mean_R, hessian])\n",
    "xtrain = np.random.rand(1, N)-0.5\n",
    "cov0,d0, hessian0=squeezed_cov(xtrain); print(d0); tf.print(cov0)"
   ]
  },
  {
   "cell_type": "markdown",
   "metadata": {},
   "source": [
    "# Evaluate the Qtransform with calculated covariance and displacemente"
   ]
  },
  {
   "cell_type": "code",
   "execution_count": 25,
   "metadata": {},
   "outputs": [],
   "source": [
    "Qrho = ps.QTransform(cov0, d0)"
   ]
  },
  {
   "cell_type": "markdown",
   "metadata": {},
   "source": [
    "# Test the Pr operator "
   ]
  },
  {
   "cell_type": "markdown",
   "metadata": {},
   "source": [
    "Probability of zero photon"
   ]
  },
  {
   "cell_type": "code",
   "execution_count": 26,
   "metadata": {},
   "outputs": [
    {
     "name": "stdout",
     "output_type": "stream",
     "text": [
      "CPU times: user 5.24 ms, sys: 4.25 ms, total: 9.49 ms\n",
      "Wall time: 8.05 ms\n"
     ]
    },
    {
     "data": {
      "text/plain": [
       "<tf.Tensor: shape=(1, 1), dtype=float32, numpy=array([[0.08]], dtype=float32)>"
      ]
     },
     "execution_count": 26,
     "metadata": {},
     "output_type": "execute_result"
    }
   ],
   "source": [
    "%%time\n",
    "ps.Pr([0,0], Qrho)"
   ]
  },
  {
   "cell_type": "markdown",
   "metadata": {},
   "source": [
    "Probability of two photons"
   ]
  },
  {
   "cell_type": "code",
   "execution_count": 28,
   "metadata": {},
   "outputs": [
    {
     "name": "stdout",
     "output_type": "stream",
     "text": [
      "CPU times: user 106 ms, sys: 3.46 ms, total: 109 ms\n",
      "Wall time: 108 ms\n"
     ]
    },
    {
     "data": {
      "text/plain": [
       "<tf.Tensor: shape=(1,), dtype=float32, numpy=array([0.01], dtype=float32)>"
      ]
     },
     "execution_count": 28,
     "metadata": {},
     "output_type": "execute_result"
    }
   ],
   "source": [
    "%%time\n",
    "ps.Pr([0,2], Qrho)"
   ]
  },
  {
   "cell_type": "markdown",
   "metadata": {},
   "source": [
    "## Some numerical examples"
   ]
  },
  {
   "cell_type": "code",
   "execution_count": 29,
   "metadata": {},
   "outputs": [
    {
     "name": "stdout",
     "output_type": "stream",
     "text": [
      "[[0.0788069218]]\n",
      "CPU times: user 14.8 ms, sys: 3.33 ms, total: 18.1 ms\n",
      "Wall time: 15.8 ms\n"
     ]
    }
   ],
   "source": [
    "%%time\n",
    "nbar=[0,0]\n",
    "tf.print(ps.Pr(nbar, Qrho))"
   ]
  },
  {
   "cell_type": "code",
   "execution_count": 30,
   "metadata": {},
   "outputs": [
    {
     "name": "stdout",
     "output_type": "stream",
     "text": [
      "[0.169163257]\n",
      "CPU times: user 18.1 ms, sys: 0 ns, total: 18.1 ms\n",
      "Wall time: 17.2 ms\n"
     ]
    }
   ],
   "source": [
    "%%time\n",
    "nbar=[1,0]\n",
    "tf.print(ps.Pr(nbar, Qrho))"
   ]
  },
  {
   "cell_type": "code",
   "execution_count": 31,
   "metadata": {},
   "outputs": [
    {
     "name": "stdout",
     "output_type": "stream",
     "text": [
      "[0.0217944607]\n",
      "CPU times: user 99.8 ms, sys: 6.21 ms, total: 106 ms\n",
      "Wall time: 105 ms\n"
     ]
    }
   ],
   "source": [
    "%%time\n",
    "nbar=[1,1]\n",
    "tf.print(ps.Pr(nbar, Qrho))"
   ]
  },
  {
   "cell_type": "code",
   "execution_count": 32,
   "metadata": {},
   "outputs": [
    {
     "name": "stdout",
     "output_type": "stream",
     "text": [
      "[0.0159540363]\n",
      "CPU times: user 19.4 s, sys: 79 ms, total: 19.4 s\n",
      "Wall time: 19.4 s\n"
     ]
    }
   ],
   "source": [
    "%%time\n",
    "nbar=[2,3]\n",
    "tf.print(ps.Pr(nbar, Qrho))"
   ]
  },
  {
   "cell_type": "markdown",
   "metadata": {},
   "source": [
    "## Make a plot versus the probability"
   ]
  },
  {
   "cell_type": "markdown",
   "metadata": {},
   "source": [
    "Build an array of photon number sampling"
   ]
  },
  {
   "cell_type": "code",
   "execution_count": 33,
   "metadata": {},
   "outputs": [
    {
     "name": "stdout",
     "output_type": "stream",
     "text": [
      "[(0, 0), (0, 1), (0, 2), (0, 3), (1, 0), (1, 1), (1, 2), (1, 3), (2, 0), (2, 1), (2, 2), (2, 3), (3, 0), (3, 1), (3, 2), (3, 3)]\n",
      "16\n",
      "CPU times: user 212 µs, sys: 11 µs, total: 223 µs\n",
      "Wall time: 203 µs\n"
     ]
    }
   ],
   "source": [
    "%%time\n",
    "nmax=3 # max number of photons\n",
    "# generate the combinations\n",
    "import itertools as it\n",
    "nlist=it.product(range(nmax+1),repeat=n)\n",
    "ln=list(nlist)\n",
    "print(ln)\n",
    "print(len(ln))"
   ]
  },
  {
   "cell_type": "code",
   "execution_count": 34,
   "metadata": {},
   "outputs": [
    {
     "name": "stdout",
     "output_type": "stream",
     "text": [
      "Computing Pn at n (0, 0)\n",
      "0.07880692\n",
      "Computing Pn at n (0, 1)\n",
      "0.008152481\n",
      "Computing Pn at n (0, 2)\n",
      "0.014850222\n",
      "Computing Pn at n (0, 3)\n",
      "0.004778997\n",
      "Computing Pn at n (1, 0)\n",
      "0.16916326\n",
      "Computing Pn at n (1, 1)\n",
      "0.02179446\n",
      "Computing Pn at n (1, 2)\n",
      "0.025935082\n",
      "Computing Pn at n (1, 3)\n",
      "0.0120770885\n",
      "Computing Pn at n (2, 0)\n",
      "0.18021035\n",
      "Computing Pn at n (2, 1)\n",
      "0.030817911\n",
      "Computing Pn at n (2, 2)\n",
      "0.021221323\n",
      "Computing Pn at n (2, 3)\n",
      "0.015954036\n",
      "Computing Pn at n (3, 0)\n",
      "0.12717146\n",
      "Computing Pn at n (3, 1)\n",
      "0.029273344\n",
      "Computing Pn at n (3, 2)\n",
      "0.01074109\n",
      "Computing Pn at n (3, 3)\n",
      "0.014009271\n",
      "Done\n",
      "CPU times: user 4min 29s, sys: 1.27 s, total: 4min 30s\n",
      "Wall time: 4min 31s\n"
     ]
    }
   ],
   "source": [
    "%%time\n",
    "npatterns=len(ln)\n",
    "Pn = np.zeros([npatterns,], dtype=np.float32)\n",
    "Pth = np.zeros_like(Pn)\n",
    "xaxis=np.zeros_like(Pn)\n",
    "for nbar in range(npatterns):\n",
    "    print('Computing Pn at n '+repr(ln[nbar]))\n",
    "    Pn[nbar]=ps.Pr(ln[nbar],Qrho).numpy()\n",
    "    tf.print(Pn[nbar])\n",
    "    xaxis[nbar]=nbar\n",
    "print('Done')"
   ]
  },
  {
   "cell_type": "code",
   "execution_count": 35,
   "metadata": {},
   "outputs": [
    {
     "data": {
      "image/png": "[encoded data removed]",
      "text/plain": [
       "<Figure size 432x288 with 1 Axes>"
      ]
     },
     "metadata": {
      "needs_background": "light"
     },
     "output_type": "display_data"
    }
   ],
   "source": [
    "plt.bar(xaxis,Pn)\n",
    "plt.xlabel(ln, fontsize=6);\n",
    "plt.ylabel('Sample Probability Pr');\n",
    "plt.savefig('BosonSamplingExample5.pdf', format='pdf', bbox_inches='tight')"
   ]
  },
  {
   "cell_type": "markdown",
   "metadata": {},
   "source": [
    "Probability of the photon patterns\n",
    "Sampling patters are indicate in the labels."
   ]
  }
 ],
 "metadata": {
  "kernelspec": {
   "display_name": "Python 3 (ipykernel)",
   "language": "python",
   "name": "python3"
  },
  "language_info": {
   "codemirror_mode": {
    "name": "ipython",
    "version": 3
   },
   "file_extension": ".py",
   "mimetype": "text/x-python",
   "name": "python",
   "nbconvert_exporter": "python",
   "pygments_lexer": "ipython3",
   "version": "3.8.13"
  }
 },
 "nbformat": 4,
 "nbformat_minor": 4
}
