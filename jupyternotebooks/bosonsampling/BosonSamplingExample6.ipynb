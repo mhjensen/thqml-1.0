{
 "cells": [
  {
   "cell_type": "markdown",
   "metadata": {},
   "source": [
    "# Haar interferometer and multimode squeezed vacuum"
   ]
  },
  {
   "cell_type": "markdown",
   "metadata": {},
   "source": [
    "We test the boson sampling operator (no training) \n",
    "on squeezed states, and \n",
    "propagating in a Haar random medium\n",
    "\n",
    "nonlinearxwaves@gmail.com<br>\n",
    "@created 30 gennaio 2021<br>\n",
    "@version 4 may 2023<br>"
   ]
  },
  {
   "cell_type": "code",
   "execution_count": 1,
   "metadata": {},
   "outputs": [
    {
     "name": "stderr",
     "output_type": "stream",
     "text": [
      "2023-05-04 05:42:51.094637: W tensorflow/stream_executor/platform/default/dso_loader.cc:64] Could not load dynamic library 'libcudart.so.11.0'; dlerror: libcudart.so.11.0: cannot open shared object file: No such file or directory\n",
      "2023-05-04 05:42:51.094701: I tensorflow/stream_executor/cuda/cudart_stub.cc:29] Ignore above cudart dlerror if you do not have a GPU set up on your machine.\n"
     ]
    }
   ],
   "source": [
    "import numpy as np\n",
    "from thqml import phasespace as ps\n",
    "import tensorflow as tf\n",
    "#import tensorflow_addons as tfa\n",
    "from tensorflow import keras\n",
    "import matplotlib.pyplot as plt\n",
    "from tensorflow.keras.callbacks import EarlyStopping\n",
    "import itertools as it"
   ]
  },
  {
   "cell_type": "code",
   "execution_count": 2,
   "metadata": {},
   "outputs": [],
   "source": [
    "tf_complex = tf.complex\n",
    "tf_real = tf.float32\n",
    "np_complex = complex\n",
    "np_real = np.float64"
   ]
  },
  {
   "cell_type": "code",
   "execution_count": 3,
   "metadata": {},
   "outputs": [],
   "source": [
    "tf.keras.backend.clear_session()"
   ]
  },
  {
   "cell_type": "code",
   "execution_count": 4,
   "metadata": {},
   "outputs": [],
   "source": [
    "np.set_printoptions(precision=2)"
   ]
  },
  {
   "cell_type": "markdown",
   "metadata": {},
   "source": [
    "Check GPU"
   ]
  },
  {
   "cell_type": "code",
   "execution_count": 5,
   "metadata": {},
   "outputs": [
    {
     "name": "stdout",
     "output_type": "stream",
     "text": [
      "Num GPUs Available:  0\n"
     ]
    },
    {
     "name": "stderr",
     "output_type": "stream",
     "text": [
      "2023-05-04 05:43:02.735007: W tensorflow/stream_executor/platform/default/dso_loader.cc:64] Could not load dynamic library 'libcuda.so.1'; dlerror: libcuda.so.1: cannot open shared object file: No such file or directory\n",
      "2023-05-04 05:43:02.735032: W tensorflow/stream_executor/cuda/cuda_driver.cc:269] failed call to cuInit: UNKNOWN ERROR (303)\n",
      "2023-05-04 05:43:02.735054: I tensorflow/stream_executor/cuda/cuda_diagnostics.cc:156] kernel driver does not appear to be running on this host (x1): /proc/driver/nvidia/version does not exist\n"
     ]
    }
   ],
   "source": [
    "print(\"Num GPUs Available: \", len(tf.config.experimental.list_physical_devices('GPU')))"
   ]
  },
  {
   "cell_type": "markdown",
   "metadata": {},
   "source": [
    "## Dimension"
   ]
  },
  {
   "cell_type": "code",
   "execution_count": 6,
   "metadata": {},
   "outputs": [],
   "source": [
    "N = 12"
   ]
  },
  {
   "cell_type": "code",
   "execution_count": 7,
   "metadata": {},
   "outputs": [],
   "source": [
    "n=np.floor_divide(N,2)"
   ]
  },
  {
   "cell_type": "code",
   "execution_count": 8,
   "metadata": {},
   "outputs": [],
   "source": [
    "nmodes = int(n)"
   ]
  },
  {
   "cell_type": "code",
   "execution_count": 9,
   "metadata": {},
   "outputs": [
    {
     "name": "stdout",
     "output_type": "stream",
     "text": [
      "Number of modes 6\n"
     ]
    }
   ],
   "source": [
    "print('Number of modes '+repr(n))"
   ]
  },
  {
   "cell_type": "markdown",
   "metadata": {},
   "source": [
    "## Build vacuum by the Gaussian state"
   ]
  },
  {
   "cell_type": "code",
   "execution_count": 10,
   "metadata": {},
   "outputs": [
    {
     "name": "stderr",
     "output_type": "stream",
     "text": [
      "2023-05-04 05:44:09.180593: I tensorflow/core/platform/cpu_feature_guard.cc:151] This TensorFlow binary is optimized with oneAPI Deep Neural Network Library (oneDNN) to use the following CPU instructions in performance-critical operations:  AVX2 FMA\n",
      "To enable them in other operations, rebuild TensorFlow with the appropriate compiler flags.\n"
     ]
    }
   ],
   "source": [
    "vacuum = ps.VacuumLayer(N)"
   ]
  },
  {
   "cell_type": "markdown",
   "metadata": {},
   "source": [
    "## Parameter for squeezing"
   ]
  },
  {
   "cell_type": "code",
   "execution_count": 11,
   "metadata": {},
   "outputs": [],
   "source": [
    "r_np=0.88;\n",
    "theta_np=np.pi/4;"
   ]
  },
  {
   "cell_type": "markdown",
   "metadata": {},
   "source": [
    "## Random medium (Haar measure)"
   ]
  },
  {
   "cell_type": "code",
   "execution_count": 12,
   "metadata": {},
   "outputs": [],
   "source": [
    "HAAR=ps.HaarLayerConstant(N)"
   ]
  },
  {
   "cell_type": "markdown",
   "metadata": {},
   "source": [
    "## Build the model"
   ]
  },
  {
   "cell_type": "code",
   "execution_count": 13,
   "metadata": {},
   "outputs": [],
   "source": [
    "xin = tf.keras.layers.Input(N)\n",
    "x1, a1 = HAAR(xin)\n",
    "for j in range(nmodes):\n",
    "    x1, a1 = ps.SingleModeSqueezerLayer(N, r_np=r_np, theta_np=theta_np, n_squeezed=j)(x1,a1)\n",
    "chir, chii = vacuum(x1, a1)\n",
    "model = tf.keras.Model(inputs = xin, outputs=[chir, chii])"
   ]
  },
  {
   "cell_type": "code",
   "execution_count": 14,
   "metadata": {},
   "outputs": [
    {
     "name": "stdout",
     "output_type": "stream",
     "text": [
      "Model: \"model\"\n",
      "__________________________________________________________________________________________________\n",
      " Layer (type)                   Output Shape         Param #     Connected to                     \n",
      "==================================================================================================\n",
      " input_1 (InputLayer)           [(None, 12)]         0           []                               \n",
      "                                                                                                  \n",
      " haar_layer_constant (HaarLayer  [(None, 12),        0           ['input_1[0][0]']                \n",
      " Constant)                       (12, 1)]                                                         \n",
      "                                                                                                  \n",
      " single_mode_squeezer_layer (Si  [(None, 12),        2           ['haar_layer_constant[0][0]',    \n",
      " ngleModeSqueezerLayer)          (12, 1)]                         'haar_layer_constant[0][1]']    \n",
      "                                                                                                  \n",
      " single_mode_squeezer_layer_1 (  [(None, 12),        2           ['single_mode_squeezer_layer[0][0\n",
      " SingleModeSqueezerLayer)        (12, 1)]                        ]',                              \n",
      "                                                                  'single_mode_squeezer_layer[0][1\n",
      "                                                                 ]']                              \n",
      "                                                                                                  \n",
      " single_mode_squeezer_layer_2 (  [(None, 12),        2           ['single_mode_squeezer_layer_1[0]\n",
      " SingleModeSqueezerLayer)        (12, 1)]                        [0]',                            \n",
      "                                                                  'single_mode_squeezer_layer_1[0]\n",
      "                                                                 [1]']                            \n",
      "                                                                                                  \n",
      " single_mode_squeezer_layer_3 (  [(None, 12),        2           ['single_mode_squeezer_layer_2[0]\n",
      " SingleModeSqueezerLayer)        (12, 1)]                        [0]',                            \n",
      "                                                                  'single_mode_squeezer_layer_2[0]\n",
      "                                                                 [1]']                            \n",
      "                                                                                                  \n",
      " single_mode_squeezer_layer_4 (  [(None, 12),        2           ['single_mode_squeezer_layer_3[0]\n",
      " SingleModeSqueezerLayer)        (12, 1)]                        [0]',                            \n",
      "                                                                  'single_mode_squeezer_layer_3[0]\n",
      "                                                                 [1]']                            \n",
      "                                                                                                  \n",
      " single_mode_squeezer_layer_5 (  [(None, 12),        2           ['single_mode_squeezer_layer_4[0]\n",
      " SingleModeSqueezerLayer)        (12, 1)]                        [0]',                            \n",
      "                                                                  'single_mode_squeezer_layer_4[0]\n",
      "                                                                 [1]']                            \n",
      "                                                                                                  \n",
      " gaussian_layer (GaussianLayer)  [(None, 1),         156         ['single_mode_squeezer_layer_5[0]\n",
      "                                 (None, 1)]                      [0]',                            \n",
      "                                                                  'single_mode_squeezer_layer_5[0]\n",
      "                                                                 [1]']                            \n",
      "                                                                                                  \n",
      "==================================================================================================\n",
      "Total params: 168\n",
      "Trainable params: 12\n",
      "Non-trainable params: 156\n",
      "__________________________________________________________________________________________________\n"
     ]
    }
   ],
   "source": [
    "model.summary()"
   ]
  },
  {
   "cell_type": "code",
   "execution_count": 16,
   "metadata": {},
   "outputs": [],
   "source": [
    "tf.keras.utils.plot_model(\n",
    "    model, to_file='modelHaar.pdf', show_shapes=False, show_dtype=False,\n",
    "    show_layer_names=True, rankdir='TB', expand_nested=False, dpi=96,\n",
    "    layer_range=None, show_layer_activations=False\n",
    ")"
   ]
  },
  {
   "cell_type": "markdown",
   "metadata": {},
   "source": [
    "# Evaluate the covariance"
   ]
  },
  {
   "cell_type": "code",
   "execution_count": 18,
   "metadata": {},
   "outputs": [
    {
     "name": "stdout",
     "output_type": "stream",
     "text": [
      "tf.Tensor([[0. 0. 0. 0. 0. 0. 0. 0. 0. 0. 0. 0.]], shape=(1, 12), dtype=float32)\n",
      "[[4.65378094 0.4662323 1.06614268 ... 0.549121916 -0.445810556 -0.714445472]\n",
      " [0.46623221 1.33070135 -0.656516194 ... 0.713902414 -0.714445531 0.445810407]\n",
      " [1.06614268 -0.656516194 4.19178915 ... -1.00861049 0.126099765 0.950789332]\n",
      " ...\n",
      " [0.549122 0.713902473 -1.00861061 ... 2.00609708 0.12736474 1.23721838]\n",
      " [-0.445810467 -0.714445591 0.126099661 ... 0.12736468 3.13234067 -0.0125622675]\n",
      " [-0.714445591 0.445810378 0.950789154 ... 1.23721838 -0.0125621883 2.8521409]]\n",
      "CPU times: user 1.38 s, sys: 11.8 ms, total: 1.39 s\n",
      "Wall time: 1.39 s\n"
     ]
    }
   ],
   "source": [
    "%%time\n",
    "cov_layer = ps.covariance(N)\n",
    "covariance_matrix, mean_R, hessian = cov_layer(chir,chii, model)\n",
    "squeezed_cov = tf.keras.Model(inputs = xin, outputs=[covariance_matrix, mean_R, hessian])\n",
    "xtrain = np.random.rand(1, N)-0.5\n",
    "cov0,d0, hessian0=squeezed_cov(xtrain); print(d0); tf.print(cov0)"
   ]
  },
  {
   "cell_type": "markdown",
   "metadata": {},
   "source": [
    "# Evaluate the Qtransform with calculated covariance and displacement"
   ]
  },
  {
   "cell_type": "code",
   "execution_count": 19,
   "metadata": {},
   "outputs": [],
   "source": [
    "Qrho = ps.QTransform(cov0, d0)"
   ]
  },
  {
   "cell_type": "markdown",
   "metadata": {},
   "source": [
    "# Test the Pr operator "
   ]
  },
  {
   "cell_type": "markdown",
   "metadata": {},
   "source": [
    "Probability of zero photon"
   ]
  },
  {
   "cell_type": "code",
   "execution_count": 20,
   "metadata": {},
   "outputs": [
    {
     "name": "stdout",
     "output_type": "stream",
     "text": [
      "CPU times: user 7.78 ms, sys: 0 ns, total: 7.78 ms\n",
      "Wall time: 9.49 ms\n"
     ]
    },
    {
     "data": {
      "text/plain": [
       "<tf.Tensor: shape=(1, 1), dtype=float32, numpy=array([[0.13]], dtype=float32)>"
      ]
     },
     "execution_count": 20,
     "metadata": {},
     "output_type": "execute_result"
    }
   ],
   "source": [
    "%%time\n",
    "ps.Pr([0]*nmodes, Qrho)"
   ]
  },
  {
   "cell_type": "markdown",
   "metadata": {},
   "source": [
    "# Generate all the possible photon patterns assuming one photon per mode"
   ]
  },
  {
   "cell_type": "code",
   "execution_count": 21,
   "metadata": {},
   "outputs": [],
   "source": [
    "def patterns(nphotons, nmodes):\n",
    "    l1=[0]*nmodes\n",
    "    for j in range(nphotons):\n",
    "        l1[j]=1\n",
    "    nlist=it.permutations(l1,nmodes)\n",
    "    ln=list(nlist)\n",
    "    ln.sort()\n",
    "    # remove duplicates\n",
    "    ln=list(ln for ln,_ in it.groupby(ln))\n",
    "    return ln"
   ]
  },
  {
   "cell_type": "code",
   "execution_count": 22,
   "metadata": {},
   "outputs": [
    {
     "name": "stdout",
     "output_type": "stream",
     "text": [
      "15\n",
      "CPU times: user 439 µs, sys: 76 µs, total: 515 µs\n",
      "Wall time: 521 µs\n"
     ]
    }
   ],
   "source": [
    "%%time\n",
    "ln =patterns(2,nmodes)\n",
    "# number of generated patterns\n",
    "print(len(ln))"
   ]
  },
  {
   "cell_type": "markdown",
   "metadata": {},
   "source": [
    "## Make a plot versus the probability"
   ]
  },
  {
   "cell_type": "markdown",
   "metadata": {},
   "source": [
    "Build an array of photon number sampling"
   ]
  },
  {
   "cell_type": "code",
   "execution_count": 23,
   "metadata": {},
   "outputs": [
    {
     "name": "stdout",
     "output_type": "stream",
     "text": [
      "Sample 0 of 15 (0, 0, 0, 0, 1, 1)\n",
      "0.012203297\n",
      "Sample 1 of 15 (0, 0, 0, 1, 0, 1)\n",
      "0.035485104\n",
      "Sample 2 of 15 (0, 0, 0, 1, 1, 0)\n",
      "0.01403134\n",
      "Sample 3 of 15 (0, 0, 1, 0, 0, 1)\n",
      "0.002047101\n",
      "Sample 4 of 15 (0, 0, 1, 0, 1, 0)\n",
      "0.003311731\n",
      "Sample 5 of 15 (0, 0, 1, 1, 0, 0)\n",
      "0.0029368605\n",
      "Sample 6 of 15 (0, 1, 0, 0, 0, 1)\n",
      "0.0072568394\n",
      "Sample 7 of 15 (0, 1, 0, 0, 1, 0)\n",
      "0.017042097\n",
      "Sample 8 of 15 (0, 1, 0, 1, 0, 0)\n",
      "0.002598987\n",
      "Sample 9 of 15 (0, 1, 1, 0, 0, 0)\n",
      "0.00074369274\n",
      "Sample 10 of 15 (1, 0, 0, 0, 0, 1)\n",
      "0.0055945143\n",
      "Sample 11 of 15 (1, 0, 0, 0, 1, 0)\n",
      "0.006399259\n",
      "Sample 12 of 15 (1, 0, 0, 1, 0, 0)\n",
      "0.0009832997\n",
      "Sample 13 of 15 (1, 0, 1, 0, 0, 0)\n",
      "0.013905654\n",
      "Sample 14 of 15 (1, 1, 0, 0, 0, 0)\n",
      "0.012366929\n",
      "Done\n",
      "CPU times: user 784 ms, sys: 6.27 ms, total: 790 ms\n",
      "Wall time: 788 ms\n"
     ]
    }
   ],
   "source": [
    "%%time\n",
    "npatterns=len(ln)\n",
    "Pn = np.zeros([npatterns,], dtype=np.float32)\n",
    "Pth = np.zeros_like(Pn)\n",
    "xaxis=np.zeros_like(Pn)\n",
    "for nbar in range(npatterns):\n",
    "    print('Sample '+repr(nbar)+' of '+repr(npatterns)+' '+repr(ln[nbar]))\n",
    "    Pn[nbar]=ps.Pr(ln[nbar],Qrho).numpy()\n",
    "    tf.print(Pn[nbar])\n",
    "    xaxis[nbar]=nbar\n",
    "print('Done')"
   ]
  },
  {
   "cell_type": "code",
   "execution_count": 25,
   "metadata": {},
   "outputs": [
    {
     "name": "stdout",
     "output_type": "stream",
     "text": [
      "CPU times: user 290 ms, sys: 142 ms, total: 432 ms\n",
      "Wall time: 179 ms\n"
     ]
    },
    {
     "data": {
      "image/png": "[encoded data removed]",
      "text/plain": [
       "<Figure size 432x288 with 1 Axes>"
      ]
     },
     "metadata": {
      "needs_background": "light"
     },
     "output_type": "display_data"
    }
   ],
   "source": [
    "%%time\n",
    "plt.bar(xaxis,Pn)\n",
    "plt.xlabel(np.transpose(np.array(ln)), fontsize=12);\n",
    "plt.ylabel('Sample Probability Pr');\n",
    "plt.savefig('BosonSamplingExample6.pdf', format='pdf', bbox_inches='tight')"
   ]
  },
  {
   "cell_type": "markdown",
   "metadata": {},
   "source": [
    "Probability of the photon patterns\n",
    "Sampling patters are indicate in the labels."
   ]
  },
  {
   "cell_type": "code",
   "execution_count": 26,
   "metadata": {},
   "outputs": [
    {
     "name": "stdout",
     "output_type": "stream",
     "text": [
      "[0.01 0.04 0.01 0.   0.   0.   0.01 0.02 0.   0.   0.01 0.01 0.   0.01\n",
      " 0.01]\n"
     ]
    }
   ],
   "source": [
    "print(Pn)"
   ]
  },
  {
   "cell_type": "code",
   "execution_count": 27,
   "metadata": {},
   "outputs": [
    {
     "data": {
      "text/plain": [
       "0.13690671"
      ]
     },
     "execution_count": 27,
     "metadata": {},
     "output_type": "execute_result"
    }
   ],
   "source": [
    "np.sum(Pn)"
   ]
  },
  {
   "cell_type": "markdown",
   "metadata": {},
   "source": [
    "# Compute the statistical probability of pairs"
   ]
  },
  {
   "cell_type": "code",
   "execution_count": 28,
   "metadata": {},
   "outputs": [
    {
     "name": "stdout",
     "output_type": "stream",
     "text": [
      "Generated 1 patterns with photon number 0\n",
      "Photons 0 Sample 1 of 15 Pr=0.1257302314043045 pattern (0, 0, 0, 0, 0, 0)\n",
      "Generated 15 patterns with photon number 2\n",
      "Photons 2 Sample 1 of 15 Pr=0.012203296646475792 pattern (0, 0, 0, 0, 1, 1)\n",
      "Photons 2 Sample 2 of 15 Pr=0.035485103726387024 pattern (0, 0, 0, 1, 0, 1)\n",
      "Photons 2 Sample 3 of 15 Pr=0.01403134036809206 pattern (0, 0, 0, 1, 1, 0)\n",
      "Photons 2 Sample 4 of 15 Pr=0.0020471010357141495 pattern (0, 0, 1, 0, 0, 1)\n",
      "Photons 2 Sample 5 of 15 Pr=0.003311730921268463 pattern (0, 0, 1, 0, 1, 0)\n",
      "Photons 2 Sample 6 of 15 Pr=0.0029368605464696884 pattern (0, 0, 1, 1, 0, 0)\n",
      "Photons 2 Sample 7 of 15 Pr=0.007256839424371719 pattern (0, 1, 0, 0, 0, 1)\n",
      "Photons 2 Sample 8 of 15 Pr=0.017042096704244614 pattern (0, 1, 0, 0, 1, 0)\n",
      "Photons 2 Sample 9 of 15 Pr=0.0025989869609475136 pattern (0, 1, 0, 1, 0, 0)\n",
      "Photons 2 Sample 10 of 15 Pr=0.0007436927407979965 pattern (0, 1, 1, 0, 0, 0)\n",
      "Photons 2 Sample 11 of 15 Pr=0.005594514310359955 pattern (1, 0, 0, 0, 0, 1)\n",
      "Photons 2 Sample 12 of 15 Pr=0.006399258971214294 pattern (1, 0, 0, 0, 1, 0)\n",
      "Photons 2 Sample 13 of 15 Pr=0.0009832996875047684 pattern (1, 0, 0, 1, 0, 0)\n",
      "Photons 2 Sample 14 of 15 Pr=0.013905653730034828 pattern (1, 0, 1, 0, 0, 0)\n",
      "Photons 2 Sample 15 of 15 Pr=0.012366929091513157 pattern (1, 1, 0, 0, 0, 0)\n",
      "Generated 15 patterns with photon number 4\n",
      "Photons 4 Sample 1 of 15 Pr=0.0015908225905150175 pattern (0, 0, 1, 1, 1, 1)\n",
      "Photons 4 Sample 2 of 15 Pr=0.0019221501424908638 pattern (0, 1, 0, 1, 1, 1)\n",
      "Photons 4 Sample 3 of 15 Pr=0.0002159954165108502 pattern (0, 1, 1, 0, 1, 1)\n",
      "Photons 4 Sample 4 of 15 Pr=0.00023192267690319568 pattern (0, 1, 1, 1, 0, 1)\n",
      "Photons 4 Sample 5 of 15 Pr=0.0008869448211044073 pattern (0, 1, 1, 1, 1, 0)\n",
      "Photons 4 Sample 6 of 15 Pr=0.0015220107743516564 pattern (1, 0, 0, 1, 1, 1)\n",
      "Photons 4 Sample 7 of 15 Pr=0.0011656536953523755 pattern (1, 0, 1, 0, 1, 1)\n",
      "Photons 4 Sample 8 of 15 Pr=0.003039412898942828 pattern (1, 0, 1, 1, 0, 1)\n",
      "Photons 4 Sample 9 of 15 Pr=0.001075084088370204 pattern (1, 0, 1, 1, 1, 0)\n",
      "Photons 4 Sample 10 of 15 Pr=0.00458892434835434 pattern (1, 1, 0, 0, 1, 1)\n",
      "Photons 4 Sample 11 of 15 Pr=0.001732884207740426 pattern (1, 1, 0, 1, 0, 1)\n",
      "Photons 4 Sample 12 of 15 Pr=0.0028046220541000366 pattern (1, 1, 0, 1, 1, 0)\n",
      "Photons 4 Sample 13 of 15 Pr=0.00041584542486816645 pattern (1, 1, 1, 0, 0, 1)\n",
      "Photons 4 Sample 14 of 15 Pr=0.0008449020097032189 pattern (1, 1, 1, 0, 1, 0)\n",
      "Photons 4 Sample 15 of 15 Pr=0.000931956572458148 pattern (1, 1, 1, 1, 0, 0)\n",
      "Done\n",
      "CPU times: user 27 s, sys: 12.4 ms, total: 27 s\n",
      "Wall time: 27 s\n"
     ]
    }
   ],
   "source": [
    "%%time\n",
    "nmax = 2 # number of couples\n",
    "probn=np.zeros([nmax+1,], dtype=np_real)\n",
    "for j in range(nmax+1):\n",
    "    photon_number=2*j\n",
    "    # generate the patterns\n",
    "    ln=patterns(photon_number,nmodes)\n",
    "    npattern=len(ln)\n",
    "    print('Generated '+repr(npattern)+\\\n",
    "          ' patterns with photon number '+repr(photon_number))\n",
    "    # compute probability for each pattern\n",
    "    Pn=np.zeros([npattern,], dtype=np_real)\n",
    "    for nbar in range(npattern):        \n",
    "        Pn[nbar]=ps.Pr(ln[nbar],Qrho).numpy()\n",
    "        print('Photons '+repr(photon_number)+' Sample '+repr(nbar+1)+\\\n",
    "              ' of '+repr(npatterns)+' Pr=' +repr(Pn[nbar])+\\\n",
    "              ' pattern '+repr(ln[nbar]))\n",
    "    # sum the probability of each pattern\n",
    "    probn[j]=sum(Pn)\n",
    "print('Done')"
   ]
  },
  {
   "cell_type": "code",
   "execution_count": 29,
   "metadata": {},
   "outputs": [
    {
     "data": {
      "text/plain": [
       "array([0.13, 0.14, 0.02])"
      ]
     },
     "execution_count": 29,
     "metadata": {},
     "output_type": "execute_result"
    }
   ],
   "source": [
    "probn"
   ]
  },
  {
   "cell_type": "code",
   "execution_count": 30,
   "metadata": {},
   "outputs": [
    {
     "data": {
      "image/png": "[encoded data removed]",
      "text/plain": [
       "<Figure size 432x288 with 1 Axes>"
      ]
     },
     "metadata": {
      "needs_background": "light"
     },
     "output_type": "display_data"
    }
   ],
   "source": [
    "plt.bar(range(nmax+1),probn)\n",
    "plt.ylabel('Probability of 2 m photons');\n",
    "plt.xlabel('Number of pairs m ');\n",
    "plt.savefig('BosonSamplingExample6ALL.pdf', format='pdf')   "
   ]
  },
  {
   "cell_type": "code",
   "execution_count": null,
   "metadata": {},
   "outputs": [],
   "source": []
  }
 ],
 "metadata": {
  "kernelspec": {
   "display_name": "Python 3 (ipykernel)",
   "language": "python",
   "name": "python3"
  },
  "language_info": {
   "codemirror_mode": {
    "name": "ipython",
    "version": 3
   },
   "file_extension": ".py",
   "mimetype": "text/x-python",
   "name": "python",
   "nbconvert_exporter": "python",
   "pygments_lexer": "ipython3",
   "version": "3.8.13"
  }
 },
 "nbformat": 4,
 "nbformat_minor": 4
}
