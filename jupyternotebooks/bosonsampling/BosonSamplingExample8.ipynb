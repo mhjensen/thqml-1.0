{
 "cells": [
  {
   "cell_type": "markdown",
   "metadata": {},
   "source": [
    "# Model Haar interferometer with squeezed states, with training on particle number"
   ]
  },
  {
   "cell_type": "markdown",
   "metadata": {},
   "source": [
    "We test the boson sampling operator \n",
    "on coherent states and squeezed states, and \n",
    "propagating in a random medium\n",
    "\n",
    "We train the random medium to maximize the sum of photons in modes 0 and 1, \n",
    "as n0+n1\n",
    "\n",
    "We have zero displacement here\n",
    "\n",
    "\n",
    "Hence training does not alter the probability of events, as each photon has zero mean photons\n",
    "\n",
    "Here training the squeezing parameters is allowed\n",
    "\n",
    "nonlinearxwaves@gmail.com<br>\n",
    "@created 8 February 2021<br>\n",
    "@version 1 October 2023<br>"
   ]
  },
  {
   "cell_type": "code",
   "execution_count": 1,
   "metadata": {},
   "outputs": [],
   "source": [
    "import os\n",
    "os.environ['TF_CPP_MIN_LOG_LEVEL'] = '2' # disable warning messages "
   ]
  },
  {
   "cell_type": "code",
   "execution_count": 2,
   "metadata": {},
   "outputs": [],
   "source": [
    "import numpy as np\n",
    "from thqml import phasespace as ps\n",
    "import tensorflow as tf\n",
    "import itertools as it\n",
    "import matplotlib.pyplot as plt"
   ]
  },
  {
   "cell_type": "code",
   "execution_count": 3,
   "metadata": {},
   "outputs": [],
   "source": [
    "tf_complex = tf.complex\n",
    "tf_real = tf.float32\n",
    "np_complex = complex\n",
    "np_real = np.float64"
   ]
  },
  {
   "cell_type": "code",
   "execution_count": 4,
   "metadata": {},
   "outputs": [],
   "source": [
    "tf.keras.backend.clear_session()"
   ]
  },
  {
   "cell_type": "code",
   "execution_count": 5,
   "metadata": {},
   "outputs": [],
   "source": [
    "np.set_printoptions(precision=4)"
   ]
  },
  {
   "cell_type": "markdown",
   "metadata": {},
   "source": [
    "Check GPU"
   ]
  },
  {
   "cell_type": "code",
   "execution_count": 6,
   "metadata": {},
   "outputs": [
    {
     "name": "stdout",
     "output_type": "stream",
     "text": [
      "Num GPUs Available:  0\n"
     ]
    }
   ],
   "source": [
    "print(\"Num GPUs Available: \", len(tf.config.experimental.list_physical_devices('GPU')))"
   ]
  },
  {
   "cell_type": "markdown",
   "metadata": {},
   "source": [
    "## Dimension"
   ]
  },
  {
   "cell_type": "code",
   "execution_count": 7,
   "metadata": {},
   "outputs": [],
   "source": [
    "N = 12"
   ]
  },
  {
   "cell_type": "code",
   "execution_count": 8,
   "metadata": {},
   "outputs": [],
   "source": [
    "n=np.floor_divide(N,2)"
   ]
  },
  {
   "cell_type": "code",
   "execution_count": 9,
   "metadata": {},
   "outputs": [],
   "source": [
    "nmodes = int(n)"
   ]
  },
  {
   "cell_type": "code",
   "execution_count": 10,
   "metadata": {},
   "outputs": [
    {
     "name": "stdout",
     "output_type": "stream",
     "text": [
      "Number of modes 6\n"
     ]
    }
   ],
   "source": [
    "print('Number of modes '+repr(n))"
   ]
  },
  {
   "cell_type": "markdown",
   "metadata": {},
   "source": [
    "## Build vacuum by the Gaussian state"
   ]
  },
  {
   "cell_type": "code",
   "execution_count": 11,
   "metadata": {},
   "outputs": [],
   "source": [
    "vacuum = ps.VacuumLayer(N)"
   ]
  },
  {
   "cell_type": "markdown",
   "metadata": {},
   "source": [
    "## Parameter for squeezing"
   ]
  },
  {
   "cell_type": "code",
   "execution_count": 12,
   "metadata": {},
   "outputs": [],
   "source": [
    "r_np=0.88;\n",
    "theta_np=np.pi/4;"
   ]
  },
  {
   "cell_type": "markdown",
   "metadata": {},
   "source": [
    "## Random medium (Haar measure)"
   ]
  },
  {
   "cell_type": "code",
   "execution_count": 13,
   "metadata": {},
   "outputs": [],
   "source": [
    "HAAR=ps.HaarLayerConstant(N)"
   ]
  },
  {
   "cell_type": "code",
   "execution_count": 14,
   "metadata": {},
   "outputs": [],
   "source": [
    "R=ps.RandomLayer(N) # trainable layer"
   ]
  },
  {
   "cell_type": "markdown",
   "metadata": {},
   "source": [
    "## Displacer"
   ]
  },
  {
   "cell_type": "code",
   "execution_count": 15,
   "metadata": {},
   "outputs": [],
   "source": [
    "#D=ps.TrainableDisplacementLayer(np.ones((N,1),dtype=np_real))"
   ]
  },
  {
   "cell_type": "code",
   "execution_count": 16,
   "metadata": {},
   "outputs": [],
   "source": [
    "D=ps.DisplacementLayerConstant(np.zeros((N,1),dtype=np_real))"
   ]
  },
  {
   "cell_type": "markdown",
   "metadata": {},
   "source": [
    "## Build the model (the squeezed states are not trainable)\n",
    "squeezed states are generated and mixed by a random medium and then go into an Haar Inteferometer"
   ]
  },
  {
   "cell_type": "code",
   "execution_count": 17,
   "metadata": {},
   "outputs": [],
   "source": [
    "xin = tf.keras.layers.Input(N)\n",
    "x1, a1 = HAAR(xin)\n",
    "x1, a1 = R(x1,a1)\n",
    "for j in range(nmodes):\n",
    "    x1, a1 = ps.SingleModeSqueezerLayer(N, r_np=r_np, theta_np=theta_np, n_squeezed=j, trainable=True)(x1,a1)\n",
    "x1, a1=D(x1,a1)    \n",
    "chir, chii = vacuum(x1, a1)\n",
    "model = tf.keras.Model(inputs = xin, outputs=[chir, chii])"
   ]
  },
  {
   "cell_type": "code",
   "execution_count": 18,
   "metadata": {},
   "outputs": [
    {
     "data": {
      "text/plain": [
       "12"
      ]
     },
     "execution_count": 18,
     "metadata": {},
     "output_type": "execute_result"
    }
   ],
   "source": [
    "model.input_shape[1]"
   ]
  },
  {
   "cell_type": "code",
   "execution_count": 19,
   "metadata": {},
   "outputs": [],
   "source": [
    "#model.summary()"
   ]
  },
  {
   "cell_type": "markdown",
   "metadata": {},
   "source": [
    "## Photon counter layer "
   ]
  },
  {
   "cell_type": "markdown",
   "metadata": {},
   "source": [
    "Dummy input"
   ]
  },
  {
   "cell_type": "code",
   "execution_count": 20,
   "metadata": {},
   "outputs": [],
   "source": [
    "Nbatch=10\n",
    "xtrain = np.random.rand(Nbatch, N)-0.5"
   ]
  },
  {
   "cell_type": "markdown",
   "metadata": {},
   "source": [
    "Model with the photon counting layer"
   ]
  },
  {
   "cell_type": "code",
   "execution_count": 21,
   "metadata": {},
   "outputs": [
    {
     "name": "stdout",
     "output_type": "stream",
     "text": [
      "[[0.99612093 0.996120453 0.996120691 0.996120214 0.99612093 0.996120334]]\n"
     ]
    }
   ],
   "source": [
    "photon_counter=ps.PhotonCountingLayer(N) # define the layer\n",
    "n_out = photon_counter(chir,chir, model);  # define the output tensor\n",
    "Nphoton = tf.keras.Model(inputs = xin, outputs=n_out) # define the model with inputs and ouputs\n",
    "tf.print(Nphoton(xtrain)); "
   ]
  },
  {
   "cell_type": "markdown",
   "metadata": {},
   "source": [
    "## Model with the target output to train"
   ]
  },
  {
   "cell_type": "markdown",
   "metadata": {},
   "source": [
    "Model with the custom ouput to train"
   ]
  },
  {
   "cell_type": "code",
   "execution_count": 22,
   "metadata": {},
   "outputs": [],
   "source": [
    "n_out0=tf.gather(tf.squeeze(n_out),0) #check this\n",
    "n_out1=tf.gather(tf.squeeze(n_out),1)\n",
    "min_out=tf.exp(-n_out0-n_out1)\n",
    "Train_model = tf.keras.Model(inputs = xin, outputs=min_out) # define the model with inputs and ouputs"
   ]
  },
  {
   "cell_type": "markdown",
   "metadata": {},
   "source": [
    "Define the custom loss to train the model for maximum output"
   ]
  },
  {
   "cell_type": "code",
   "execution_count": 23,
   "metadata": {},
   "outputs": [],
   "source": [
    "def custom_loss(yt,yp):\n",
    "    # the loss only return the output of the network yp\n",
    "    # that need to be minimized\n",
    "    return yp"
   ]
  },
  {
   "cell_type": "code",
   "execution_count": 24,
   "metadata": {},
   "outputs": [],
   "source": [
    "Train_model.compile(loss=custom_loss, optimizer='Adam')"
   ]
  },
  {
   "cell_type": "markdown",
   "metadata": {},
   "source": [
    "# Transform model"
   ]
  },
  {
   "cell_type": "code",
   "execution_count": 25,
   "metadata": {},
   "outputs": [],
   "source": [
    "kin, Qrho =ps.getQTransformModel(model)"
   ]
  },
  {
   "cell_type": "code",
   "execution_count": 26,
   "metadata": {},
   "outputs": [
    {
     "name": "stdout",
     "output_type": "stream",
     "text": [
      "Model: \"model_3\"\n",
      "_________________________________________________________________\n",
      " Layer (type)                Output Shape              Param #   \n",
      "=================================================================\n",
      " input_2 (InputLayer)        [(None, 12)]              0         \n",
      "                                                                 \n",
      " q_transform_layer (QTransfo  (None, None)             240       \n",
      " rmLayer)                                                        \n",
      "                                                                 \n",
      "=================================================================\n",
      "Total params: 240\n",
      "Trainable params: 84\n",
      "Non-trainable params: 156\n",
      "_________________________________________________________________\n"
     ]
    }
   ],
   "source": [
    "Qrho.summary()"
   ]
  },
  {
   "cell_type": "markdown",
   "metadata": {},
   "source": [
    "# Test the Pr operator "
   ]
  },
  {
   "cell_type": "markdown",
   "metadata": {},
   "source": [
    "Probability of zero photon"
   ]
  },
  {
   "cell_type": "code",
   "execution_count": 27,
   "metadata": {},
   "outputs": [
    {
     "data": {
      "text/plain": [
       "<tf.Tensor: shape=(1, 1), dtype=float32, numpy=array([[0.1257]], dtype=float32)>"
      ]
     },
     "execution_count": 27,
     "metadata": {},
     "output_type": "execute_result"
    }
   ],
   "source": [
    "ps.Pr([0]*nmodes, Qrho)"
   ]
  },
  {
   "cell_type": "markdown",
   "metadata": {},
   "source": [
    "Probability of two photons"
   ]
  },
  {
   "cell_type": "code",
   "execution_count": 28,
   "metadata": {},
   "outputs": [
    {
     "name": "stdout",
     "output_type": "stream",
     "text": [
      "[2, 0, 0, 0, 0, 0]\n"
     ]
    },
    {
     "data": {
      "text/plain": [
       "<tf.Tensor: shape=(1,), dtype=float32, numpy=array([0.0047], dtype=float32)>"
      ]
     },
     "execution_count": 28,
     "metadata": {},
     "output_type": "execute_result"
    }
   ],
   "source": [
    "nbar = [0]*nmodes\n",
    "nbar[0]=2\n",
    "print(nbar)\n",
    "ps.Pr(nbar, Qrho)"
   ]
  },
  {
   "cell_type": "markdown",
   "metadata": {},
   "source": [
    "# Generate all the possible photon patterns assuming max one photon per mode"
   ]
  },
  {
   "cell_type": "code",
   "execution_count": 29,
   "metadata": {},
   "outputs": [],
   "source": [
    "def patterns(nphotons, nmodes):\n",
    "    # Return the patterns of nmodes with maximal nphotons\n",
    "    \n",
    "    # generate a list of zero\n",
    "    l1=[0]*nmodes\n",
    "    # set nphotons 1\n",
    "    for j in range(nphotons):\n",
    "        l1[j]=1\n",
    "    # compute all the permutations (zeros and one are distinguishable)\n",
    "    nlist=it.permutations(l1,nmodes) # return iterators\n",
    "    # convert to list the iterators\n",
    "    ln=list(nlist)\n",
    "    # sort the list in reverse order to have the patterns with more ones first\n",
    "    ln.sort(reverse=True)\n",
    "    # remove duplicates (remove adjactent identical elements after sorting)\n",
    "    ln=list(ln for ln,_ in it.groupby(ln))\n",
    "    return ln"
   ]
  },
  {
   "cell_type": "code",
   "execution_count": 30,
   "metadata": {},
   "outputs": [
    {
     "name": "stdout",
     "output_type": "stream",
     "text": [
      "[(1, 1, 0, 0, 0, 0), (1, 0, 1, 0, 0, 0), (1, 0, 0, 1, 0, 0), (1, 0, 0, 0, 1, 0), (1, 0, 0, 0, 0, 1), (0, 1, 1, 0, 0, 0), (0, 1, 0, 1, 0, 0), (0, 1, 0, 0, 1, 0), (0, 1, 0, 0, 0, 1), (0, 0, 1, 1, 0, 0), (0, 0, 1, 0, 1, 0), (0, 0, 1, 0, 0, 1), (0, 0, 0, 1, 1, 0), (0, 0, 0, 1, 0, 1), (0, 0, 0, 0, 1, 1)]\n",
      "15\n"
     ]
    }
   ],
   "source": [
    "ln =patterns(2,nmodes)\n",
    "print(ln)\n",
    "print(len(ln))"
   ]
  },
  {
   "cell_type": "markdown",
   "metadata": {},
   "source": [
    "## Make a plot versus the probability"
   ]
  },
  {
   "cell_type": "markdown",
   "metadata": {},
   "source": [
    "Build an array of photon number sampling"
   ]
  },
  {
   "cell_type": "code",
   "execution_count": 31,
   "metadata": {},
   "outputs": [
    {
     "name": "stdout",
     "output_type": "stream",
     "text": [
      "Sample 0 of 15 (1, 1, 0, 0, 0, 0)\n",
      "Computed by the neural network: 0.00070048403\n",
      "--------------------\n",
      "Sample 1 of 15 (1, 0, 1, 0, 0, 0)\n",
      "Computed by the neural network: 0.012078259\n",
      "--------------------\n",
      "Sample 2 of 15 (1, 0, 0, 1, 0, 0)\n",
      "Computed by the neural network: 0.0013435557\n",
      "--------------------\n",
      "Sample 3 of 15 (1, 0, 0, 0, 1, 0)\n",
      "Computed by the neural network: 0.021151174\n",
      "--------------------\n",
      "Sample 4 of 15 (1, 0, 0, 0, 0, 1)\n",
      "Computed by the neural network: 0.018125365\n",
      "--------------------\n",
      "Sample 5 of 15 (0, 1, 1, 0, 0, 0)\n",
      "Computed by the neural network: 0.0038935747\n",
      "--------------------\n",
      "Sample 6 of 15 (0, 1, 0, 1, 0, 0)\n",
      "Computed by the neural network: 0.008367579\n",
      "--------------------\n",
      "Sample 7 of 15 (0, 1, 0, 0, 1, 0)\n",
      "Computed by the neural network: 0.0010011066\n",
      "--------------------\n",
      "Sample 8 of 15 (0, 1, 0, 0, 0, 1)\n",
      "Computed by the neural network: 0.001523871\n",
      "--------------------\n",
      "Sample 9 of 15 (0, 0, 1, 1, 0, 0)\n",
      "Computed by the neural network: 0.031536277\n",
      "--------------------\n",
      "Sample 10 of 15 (0, 0, 1, 0, 1, 0)\n",
      "Computed by the neural network: 0.0014995809\n",
      "--------------------\n",
      "Sample 11 of 15 (0, 0, 1, 0, 0, 1)\n",
      "Computed by the neural network: 0.008963749\n",
      "--------------------\n",
      "Sample 12 of 15 (0, 0, 0, 1, 1, 0)\n",
      "Computed by the neural network: 0.004153481\n",
      "--------------------\n",
      "Sample 13 of 15 (0, 0, 0, 1, 0, 1)\n",
      "Computed by the neural network: 0.013079247\n",
      "--------------------\n",
      "Sample 14 of 15 (0, 0, 0, 0, 1, 1)\n",
      "Computed by the neural network: 0.011559378\n",
      "--------------------\n",
      "Done\n"
     ]
    }
   ],
   "source": [
    "npatterns=len(ln)\n",
    "Pn = np.zeros([npatterns,], dtype=np.float32)\n",
    "Pth = np.zeros_like(Pn)\n",
    "xaxis=np.zeros_like(Pn)\n",
    "for nbar in range(npatterns):\n",
    "    print('Sample '+repr(nbar)+' of '+repr(npatterns)+' '+repr(ln[nbar]))\n",
    "    Pn[nbar]=ps.Pr(ln[nbar],Qrho).numpy()\n",
    "    tf.print('Computed by the neural network: '+repr(Pn[nbar]))\n",
    "    print('--------------------')\n",
    "    xaxis[nbar]=nbar #store for plot \n",
    "print('Done')"
   ]
  },
  {
   "cell_type": "code",
   "execution_count": 32,
   "metadata": {},
   "outputs": [
    {
     "name": "stderr",
     "output_type": "stream",
     "text": [
      "/home/claudio/.local/lib/python3.10/site-packages/matplotlib/text.py:1279: FutureWarning: elementwise comparison failed; returning scalar instead, but in the future will perform elementwise comparison\n",
      "  if s != self._text:\n"
     ]
    },
    {
     "data": {
      "image/png": "[encoded data removed]",
      "text/plain": [
       "<Figure size 640x480 with 1 Axes>"
      ]
     },
     "metadata": {},
     "output_type": "display_data"
    }
   ],
   "source": [
    "#plt.bar(xaxis,Pn)\n",
    "plt.bar(range(npatterns),Pn)\n",
    "plt.xlabel(np.transpose(np.array(ln)), fontsize=12);\n",
    "plt.ylabel('Sample Probability Pr (2 photons)');\n",
    "\n",
    "#plt.savefig('BS7pairsnotraining.eps', format='eps')\n"
   ]
  },
  {
   "cell_type": "markdown",
   "metadata": {},
   "source": [
    "## Patterns with 4 photons"
   ]
  },
  {
   "cell_type": "code",
   "execution_count": 33,
   "metadata": {},
   "outputs": [
    {
     "name": "stdout",
     "output_type": "stream",
     "text": [
      "15\n",
      "Sample 0 of 15 (1, 1, 1, 1, 0, 0)\n",
      "0.0014246674\n",
      "Sample 1 of 15 (1, 1, 1, 0, 1, 0)\n",
      "0.0004138461\n",
      "Sample 2 of 15 (1, 1, 1, 0, 0, 1)\n",
      "6.844514e-05\n",
      "Sample 3 of 15 (1, 1, 0, 1, 1, 0)\n",
      "0.0011321031\n",
      "Sample 4 of 15 (1, 1, 0, 1, 0, 1)\n",
      "0.0012474039\n",
      "Sample 5 of 15 (1, 1, 0, 0, 1, 1)\n",
      "0.00042609917\n",
      "Sample 6 of 15 (1, 0, 1, 1, 1, 0)\n",
      "0.0031744195\n",
      "Sample 7 of 15 (1, 0, 1, 1, 0, 1)\n",
      "0.00073550007\n",
      "Sample 8 of 15 (1, 0, 1, 0, 1, 1)\n",
      "0.00013775761\n",
      "Sample 9 of 15 (1, 0, 0, 1, 1, 1)\n",
      "0.0033013825\n",
      "Sample 10 of 15 (0, 1, 1, 1, 1, 0)\n",
      "0.00094814657\n",
      "Sample 11 of 15 (0, 1, 1, 1, 0, 1)\n",
      "0.0017155434\n",
      "Sample 12 of 15 (0, 1, 1, 0, 1, 1)\n",
      "0.0006594269\n",
      "Sample 13 of 15 (0, 1, 0, 1, 1, 1)\n",
      "0.0008674107\n",
      "Sample 14 of 15 (0, 0, 1, 1, 1, 1)\n",
      "0.004122193\n",
      "Done\n"
     ]
    }
   ],
   "source": [
    "ln =patterns(4,nmodes)\n",
    "print(len(ln))\n",
    "npatterns=len(ln)\n",
    "Pn = np.zeros([npatterns,], dtype=np.float32)\n",
    "Pth = np.zeros_like(Pn)\n",
    "xaxis=np.zeros_like(Pn)\n",
    "for nbar in range(npatterns):\n",
    "    print('Sample '+repr(nbar)+' of '+repr(npatterns)+' '+repr(ln[nbar]))\n",
    "    Pn[nbar]=ps.Pr(ln[nbar],Qrho).numpy()\n",
    "    tf.print(Pn[nbar])\n",
    "    xaxis[nbar]=nbar\n",
    "print('Done')\n"
   ]
  },
  {
   "cell_type": "code",
   "execution_count": 34,
   "metadata": {},
   "outputs": [
    {
     "data": {
      "image/png": "[encoded data removed]",
      "text/plain": [
       "<Figure size 640x480 with 1 Axes>"
      ]
     },
     "metadata": {},
     "output_type": "display_data"
    }
   ],
   "source": [
    "plt.bar(range(npatterns),Pn)\n",
    "plt.xlabel(np.transpose(np.array(ln)), fontsize=12);\n",
    "plt.ylabel('Sample Probability Pr (4 photons)');"
   ]
  },
  {
   "cell_type": "markdown",
   "metadata": {},
   "source": [
    "## Compute the probability of pairs "
   ]
  },
  {
   "cell_type": "code",
   "execution_count": 35,
   "metadata": {},
   "outputs": [
    {
     "name": "stdout",
     "output_type": "stream",
     "text": [
      "Generated 1 patterns with photon number 0\n",
      "Photons 0 Sample 1 of 15 Pr=0.12573017179965973 pattern (0, 0, 0, 0, 0, 0)\n",
      "Generated 15 patterns with photon number 2\n",
      "Photons 2 Sample 1 of 15 Pr=0.0007004840299487114 pattern (1, 1, 0, 0, 0, 0)\n",
      "Photons 2 Sample 2 of 15 Pr=0.012078259140253067 pattern (1, 0, 1, 0, 0, 0)\n",
      "Photons 2 Sample 3 of 15 Pr=0.001343555748462677 pattern (1, 0, 0, 1, 0, 0)\n",
      "Photons 2 Sample 4 of 15 Pr=0.02115117385983467 pattern (1, 0, 0, 0, 1, 0)\n",
      "Photons 2 Sample 5 of 15 Pr=0.018125364556908607 pattern (1, 0, 0, 0, 0, 1)\n",
      "Photons 2 Sample 6 of 15 Pr=0.0038935746997594833 pattern (0, 1, 1, 0, 0, 0)\n",
      "Photons 2 Sample 7 of 15 Pr=0.00836757943034172 pattern (0, 1, 0, 1, 0, 0)\n",
      "Photons 2 Sample 8 of 15 Pr=0.0010011065751314163 pattern (0, 1, 0, 0, 1, 0)\n",
      "Photons 2 Sample 9 of 15 Pr=0.001523870974779129 pattern (0, 1, 0, 0, 0, 1)\n",
      "Photons 2 Sample 10 of 15 Pr=0.0315362773835659 pattern (0, 0, 1, 1, 0, 0)\n",
      "Photons 2 Sample 11 of 15 Pr=0.001499580917879939 pattern (0, 0, 1, 0, 1, 0)\n",
      "Photons 2 Sample 12 of 15 Pr=0.008963748812675476 pattern (0, 0, 1, 0, 0, 1)\n",
      "Photons 2 Sample 13 of 15 Pr=0.0041534812189638615 pattern (0, 0, 0, 1, 1, 0)\n",
      "Photons 2 Sample 14 of 15 Pr=0.013079247437417507 pattern (0, 0, 0, 1, 0, 1)\n",
      "Photons 2 Sample 15 of 15 Pr=0.0115593783557415 pattern (0, 0, 0, 0, 1, 1)\n",
      "Generated 15 patterns with photon number 4\n",
      "Photons 4 Sample 1 of 15 Pr=0.0014246674254536629 pattern (1, 1, 1, 1, 0, 0)\n",
      "Photons 4 Sample 2 of 15 Pr=0.00041384610813111067 pattern (1, 1, 1, 0, 1, 0)\n",
      "Photons 4 Sample 3 of 15 Pr=6.844513700343668e-05 pattern (1, 1, 1, 0, 0, 1)\n",
      "Photons 4 Sample 4 of 15 Pr=0.0011321031488478184 pattern (1, 1, 0, 1, 1, 0)\n",
      "Photons 4 Sample 5 of 15 Pr=0.0012474039103835821 pattern (1, 1, 0, 1, 0, 1)\n",
      "Photons 4 Sample 6 of 15 Pr=0.00042609916999936104 pattern (1, 1, 0, 0, 1, 1)\n",
      "Photons 4 Sample 7 of 15 Pr=0.003174419514834881 pattern (1, 0, 1, 1, 1, 0)\n",
      "Photons 4 Sample 8 of 15 Pr=0.0007355000707320869 pattern (1, 0, 1, 1, 0, 1)\n",
      "Photons 4 Sample 9 of 15 Pr=0.00013775761181022972 pattern (1, 0, 1, 0, 1, 1)\n",
      "Photons 4 Sample 10 of 15 Pr=0.0033013825304806232 pattern (1, 0, 0, 1, 1, 1)\n",
      "Photons 4 Sample 11 of 15 Pr=0.0009481465676799417 pattern (0, 1, 1, 1, 1, 0)\n",
      "Photons 4 Sample 12 of 15 Pr=0.0017155434470623732 pattern (0, 1, 1, 1, 0, 1)\n",
      "Photons 4 Sample 13 of 15 Pr=0.0006594269070774317 pattern (0, 1, 1, 0, 1, 1)\n",
      "Photons 4 Sample 14 of 15 Pr=0.0008674106793478131 pattern (0, 1, 0, 1, 1, 1)\n",
      "Photons 4 Sample 15 of 15 Pr=0.004122192971408367 pattern (0, 0, 1, 1, 1, 1)\n",
      "Done\n",
      "CPU times: user 46.4 s, sys: 12.7 ms, total: 46.4 s\n",
      "Wall time: 46.4 s\n"
     ]
    }
   ],
   "source": [
    "%%time\n",
    "nmax = 2 # number of couples\n",
    "probn=np.zeros([nmax+1,], dtype=np_real)\n",
    "for j in range(nmax+1):\n",
    "    photon_number=2*j\n",
    "    # generate the patterns\n",
    "    ln=patterns(photon_number,nmodes)\n",
    "    npattern=len(ln)\n",
    "    print('Generated '+repr(npattern)+\\\n",
    "          ' patterns with photon number '+repr(photon_number))\n",
    "    # compute probability for each pattern\n",
    "    Pn=np.zeros([npattern,], dtype=np_real)\n",
    "    for nbar in range(npattern):        \n",
    "        Pn[nbar]=ps.Pr(ln[nbar],Qrho).numpy()\n",
    "        print('Photons '+repr(photon_number)+' Sample '+repr(nbar+1)+\\\n",
    "              ' of '+repr(npatterns)+' Pr=' +repr(Pn[nbar])+\\\n",
    "              ' pattern '+repr(ln[nbar]))\n",
    "    # sum the probability of each pattern\n",
    "    probn[j]=sum(Pn)\n",
    "print('Done')"
   ]
  },
  {
   "cell_type": "code",
   "execution_count": 36,
   "metadata": {},
   "outputs": [
    {
     "data": {
      "image/png": "[encoded data removed]",
      "text/plain": [
       "<Figure size 640x480 with 1 Axes>"
      ]
     },
     "metadata": {},
     "output_type": "display_data"
    }
   ],
   "source": [
    "plt.bar(range(nmax+1),probn)\n",
    "#plt.xlabel(ln, fontsize=6);\n",
    "plt.ylabel('Probability of 2 n photons');"
   ]
  },
  {
   "cell_type": "markdown",
   "metadata": {},
   "source": [
    "# Train the model and recompute probabilities"
   ]
  },
  {
   "cell_type": "code",
   "execution_count": 37,
   "metadata": {},
   "outputs": [
    {
     "name": "stdout",
     "output_type": "stream",
     "text": [
      "CPU times: user 56.9 s, sys: 2.4 s, total: 59.3 s\n",
      "Wall time: 32.5 s\n"
     ]
    }
   ],
   "source": [
    "%%time\n",
    "history=Train_model.fit(xtrain,np.zeros_like(xtrain),epochs=10000,verbose=0)"
   ]
  },
  {
   "cell_type": "markdown",
   "metadata": {},
   "source": [
    "Plot training history"
   ]
  },
  {
   "cell_type": "code",
   "execution_count": 38,
   "metadata": {},
   "outputs": [
    {
     "data": {
      "text/plain": [
       "[<matplotlib.lines.Line2D at 0x7f32e038c670>]"
      ]
     },
     "execution_count": 38,
     "metadata": {},
     "output_type": "execute_result"
    },
    {
     "data": {
      "image/png": "[encoded data removed]",
      "text/plain": [
       "<Figure size 640x480 with 1 Axes>"
      ]
     },
     "metadata": {},
     "output_type": "display_data"
    }
   ],
   "source": [
    "plt.plot(history.history['loss'])"
   ]
  },
  {
   "cell_type": "markdown",
   "metadata": {},
   "source": [
    "## Recompute the transform after training"
   ]
  },
  {
   "cell_type": "code",
   "execution_count": 39,
   "metadata": {},
   "outputs": [],
   "source": [
    "kin, Qrho =ps.getQTransformModel(model)"
   ]
  },
  {
   "cell_type": "markdown",
   "metadata": {},
   "source": [
    "## Patterns with 2 photons"
   ]
  },
  {
   "cell_type": "code",
   "execution_count": 40,
   "metadata": {},
   "outputs": [
    {
     "name": "stdout",
     "output_type": "stream",
     "text": [
      "15\n",
      "Sample 0 of 15 (1, 1, 0, 0, 0, 0)\n",
      "0.0007413047\n",
      "Sample 1 of 15 (1, 0, 1, 0, 0, 0)\n",
      "6.0535967e-09\n",
      "Sample 2 of 15 (1, 0, 0, 1, 0, 0)\n",
      "2.73576e-08\n",
      "Sample 3 of 15 (1, 0, 0, 0, 1, 0)\n",
      "1.6763806e-08\n",
      "Sample 4 of 15 (1, 0, 0, 0, 0, 1)\n",
      "9.313226e-10\n",
      "Sample 5 of 15 (0, 1, 1, 0, 0, 0)\n",
      "4.656613e-10\n",
      "Sample 6 of 15 (0, 1, 0, 1, 0, 0)\n",
      "6.519258e-09\n",
      "Sample 7 of 15 (0, 1, 0, 0, 1, 0)\n",
      "3.7252903e-09\n",
      "Sample 8 of 15 (0, 1, 0, 0, 0, 1)\n",
      "2.3283064e-10\n",
      "Sample 9 of 15 (0, 0, 1, 1, 0, 0)\n",
      "0.0019642739\n",
      "Sample 10 of 15 (0, 0, 1, 0, 1, 0)\n",
      "0.0045757247\n",
      "Sample 11 of 15 (0, 0, 1, 0, 0, 1)\n",
      "0.00036133645\n",
      "Sample 12 of 15 (0, 0, 0, 1, 1, 0)\n",
      "0.006043914\n",
      "Sample 13 of 15 (0, 0, 0, 1, 0, 1)\n",
      "0.00019193953\n",
      "Sample 14 of 15 (0, 0, 0, 0, 1, 1)\n",
      "0.0003822141\n",
      "Done\n",
      "CPU times: user 1.4 s, sys: 3.9 ms, total: 1.4 s\n",
      "Wall time: 1.4 s\n"
     ]
    }
   ],
   "source": [
    "%%time\n",
    "ln =patterns(2,nmodes)\n",
    "print(len(ln))\n",
    "npatterns=len(ln)\n",
    "Pn = np.zeros([npatterns,], dtype=np.float32)\n",
    "Pth = np.zeros_like(Pn)\n",
    "xaxis=np.zeros_like(Pn)\n",
    "for nbar in range(npatterns):\n",
    "    print('Sample '+repr(nbar)+' of '+repr(npatterns)+' '+repr(ln[nbar]))\n",
    "    Pn[nbar]=ps.Pr(ln[nbar],Qrho).numpy()\n",
    "    tf.print(Pn[nbar])\n",
    "    xaxis[nbar]=nbar\n",
    "print('Done')"
   ]
  },
  {
   "cell_type": "code",
   "execution_count": 41,
   "metadata": {},
   "outputs": [
    {
     "data": {
      "image/png": "[encoded data removed]",
      "text/plain": [
       "<Figure size 640x480 with 1 Axes>"
      ]
     },
     "metadata": {},
     "output_type": "display_data"
    }
   ],
   "source": [
    "plt.bar(range(npatterns),Pn)\n",
    "plt.xlabel(np.transpose(np.array(ln)), fontsize=12);\n",
    "plt.ylabel('Sample Probability Pr');"
   ]
  },
  {
   "cell_type": "markdown",
   "metadata": {},
   "source": [
    "## Patterns of 4 photons"
   ]
  },
  {
   "cell_type": "code",
   "execution_count": 42,
   "metadata": {},
   "outputs": [
    {
     "name": "stdout",
     "output_type": "stream",
     "text": [
      "15\n",
      "Sample 0 of 15 (1, 1, 1, 1, 0, 0)\n",
      "6.312586e-05\n",
      "Sample 1 of 15 (1, 1, 1, 0, 1, 0)\n",
      "0.00014705097\n",
      "Sample 2 of 15 (1, 1, 1, 0, 0, 1)\n",
      "1.1610122e-05\n",
      "Sample 3 of 15 (1, 1, 0, 1, 1, 0)\n",
      "0.00019424097\n",
      "Sample 4 of 15 (1, 1, 0, 1, 0, 1)\n",
      "6.1698374e-06\n",
      "Sample 5 of 15 (1, 1, 0, 0, 1, 1)\n",
      "1.2284734e-05\n",
      "Sample 6 of 15 (1, 0, 1, 1, 1, 0)\n",
      "1.9615982e-08\n",
      "Sample 7 of 15 (1, 0, 1, 1, 0, 1)\n",
      "-1.204171e-09\n",
      "Sample 8 of 15 (1, 0, 1, 0, 1, 1)\n",
      "2.9758667e-09\n",
      "Sample 9 of 15 (1, 0, 0, 1, 1, 1)\n",
      "3.5288394e-09\n",
      "Sample 10 of 15 (0, 1, 1, 1, 1, 0)\n",
      "4.132744e-09\n",
      "Sample 11 of 15 (0, 1, 1, 1, 0, 1)\n",
      "-8.0035534e-11\n",
      "Sample 12 of 15 (0, 1, 1, 0, 1, 1)\n",
      "-2.6484486e-09\n",
      "Sample 13 of 15 (0, 1, 0, 1, 1, 1)\n",
      "-1.4842954e-09\n",
      "Sample 14 of 15 (0, 0, 1, 1, 1, 1)\n",
      "0.00016028414\n",
      "Done\n",
      "CPU times: user 52.2 s, sys: 17.5 ms, total: 52.2 s\n",
      "Wall time: 52.2 s\n"
     ]
    }
   ],
   "source": [
    "%%time\n",
    "ln =patterns(4,nmodes)\n",
    "print(len(ln))\n",
    "npatterns=len(ln)\n",
    "Pn = np.zeros([npatterns,], dtype=np.float32)\n",
    "Pth = np.zeros_like(Pn)\n",
    "xaxis=np.zeros_like(Pn)\n",
    "for nbar in range(npatterns):\n",
    "    print('Sample '+repr(nbar)+' of '+repr(npatterns)+' '+repr(ln[nbar]))\n",
    "    Pn[nbar]=ps.Pr(ln[nbar],Qrho).numpy()\n",
    "    tf.print(Pn[nbar])\n",
    "    xaxis[nbar]=nbar\n",
    "print('Done')"
   ]
  },
  {
   "cell_type": "code",
   "execution_count": 43,
   "metadata": {},
   "outputs": [
    {
     "data": {
      "image/png": "[encoded data removed]",
      "text/plain": [
       "<Figure size 640x480 with 1 Axes>"
      ]
     },
     "metadata": {},
     "output_type": "display_data"
    }
   ],
   "source": [
    "plt.xlabel(np.transpose(np.array(ln)), fontsize=12);\n",
    "plt.bar(range(npatterns),Pn)\n",
    "plt.ylabel('Sample Probability Pr (4 photons)');"
   ]
  },
  {
   "cell_type": "markdown",
   "metadata": {},
   "source": [
    "# Check the weights of layers"
   ]
  },
  {
   "cell_type": "code",
   "execution_count": 44,
   "metadata": {},
   "outputs": [
    {
     "data": {
      "text/plain": [
       "[<keras.engine.input_layer.InputLayer at 0x7f331fa5a920>,\n",
       " <thqml.phasespace.HaarLayerConstant at 0x7f331fa5a0b0>,\n",
       " <thqml.phasespace.RandomLayer at 0x7f331fa5a530>,\n",
       " <thqml.phasespace.SingleModeSqueezerLayer at 0x7f33042e3940>,\n",
       " <thqml.phasespace.SingleModeSqueezerLayer at 0x7f33042e3970>,\n",
       " <thqml.phasespace.SingleModeSqueezerLayer at 0x7f33042e7c40>,\n",
       " <thqml.phasespace.SingleModeSqueezerLayer at 0x7f33042e5660>,\n",
       " <thqml.phasespace.SingleModeSqueezerLayer at 0x7f330442b8b0>,\n",
       " <thqml.phasespace.SingleModeSqueezerLayer at 0x7f33044790c0>,\n",
       " <thqml.phasespace.LinearLayerConstant at 0x7f331fa5b010>,\n",
       " <thqml.phasespace.GaussianLayer at 0x7f331fa585e0>]"
      ]
     },
     "execution_count": 44,
     "metadata": {},
     "output_type": "execute_result"
    }
   ],
   "source": [
    "model.layers"
   ]
  },
  {
   "cell_type": "code",
   "execution_count": 45,
   "metadata": {},
   "outputs": [
    {
     "name": "stdout",
     "output_type": "stream",
     "text": [
      "([[0.248335317 -0.179506809 -0.166207269 ... 0.137745067 0.194327667 -0.736356378]\n",
      " [0.179506809 0.248335317 0.283317208 ... 0.33450529 0.736356378 0.194327667]\n",
      " [0.227312014 -0.0232646689 0.139772475 ... -0.287882805 -0.355988473 0.207954556]\n",
      " ...\n",
      " [0.307345271 -0.494974464 0.655879378 ... -0.0121105015 -0.0363686085 0.128971]\n",
      " [-0.0821964741 -0.31772691 0.00333230197 ... -0.618720949 0.40125668 -0.0240808874]\n",
      " [0.31772691 -0.0821964741 -0.191937298 ... 0.216696233 0.0240808874 0.40125668]], [[0.248335317 0.179506809 0.227312014 ... 0.307345271 -0.0821964741 0.31772691]\n",
      " [-0.179506809 0.248335317 -0.0232646689 ... -0.494974464 -0.31772691 -0.0821964741]\n",
      " [-0.166207269 0.283317208 0.139772475 ... 0.655879378 0.00333230197 -0.191937298]\n",
      " ...\n",
      " [0.137745067 0.33450529 -0.287882805 ... -0.0121105015 -0.618720949 0.216696233]\n",
      " [0.194327667 0.736356378 -0.355988473 ... -0.0363686085 0.40125668 0.0240808874]\n",
      " [-0.736356378 0.194327667 0.207954556 ... 0.128971 -0.0240808874 0.40125668]])\n"
     ]
    }
   ],
   "source": [
    "tf.print(model.layers[2].get_M())"
   ]
  },
  {
   "cell_type": "markdown",
   "metadata": {},
   "source": [
    "# Compute the statistical probability of pairs"
   ]
  },
  {
   "cell_type": "code",
   "execution_count": 46,
   "metadata": {},
   "outputs": [
    {
     "name": "stdout",
     "output_type": "stream",
     "text": [
      "Generated 1 patterns with photon number 0\n",
      "Photons 0 Sample 1 of 15 Pr=0.023066610097885132 pattern (0, 0, 0, 0, 0, 0)\n",
      "Generated 15 patterns with photon number 2\n",
      "Photons 2 Sample 1 of 15 Pr=0.0007413047133013606 pattern (1, 1, 0, 0, 0, 0)\n",
      "Photons 2 Sample 2 of 15 Pr=6.05359673500061e-09 pattern (1, 0, 1, 0, 0, 0)\n",
      "Photons 2 Sample 3 of 15 Pr=2.735760062932968e-08 pattern (1, 0, 0, 1, 0, 0)\n",
      "Photons 2 Sample 4 of 15 Pr=1.6763806343078613e-08 pattern (1, 0, 0, 0, 1, 0)\n",
      "Photons 2 Sample 5 of 15 Pr=9.313225746154785e-10 pattern (1, 0, 0, 0, 0, 1)\n",
      "Photons 2 Sample 6 of 15 Pr=4.656612873077393e-10 pattern (0, 1, 1, 0, 0, 0)\n",
      "Photons 2 Sample 7 of 15 Pr=6.51925802230835e-09 pattern (0, 1, 0, 1, 0, 0)\n",
      "Photons 2 Sample 8 of 15 Pr=3.725290298461914e-09 pattern (0, 1, 0, 0, 1, 0)\n",
      "Photons 2 Sample 9 of 15 Pr=2.3283064365386963e-10 pattern (0, 1, 0, 0, 0, 1)\n",
      "Photons 2 Sample 10 of 15 Pr=0.001964273862540722 pattern (0, 0, 1, 1, 0, 0)\n",
      "Photons 2 Sample 11 of 15 Pr=0.004575724713504314 pattern (0, 0, 1, 0, 1, 0)\n",
      "Photons 2 Sample 12 of 15 Pr=0.0003613364533521235 pattern (0, 0, 1, 0, 0, 1)\n",
      "Photons 2 Sample 13 of 15 Pr=0.006043913774192333 pattern (0, 0, 0, 1, 1, 0)\n",
      "Photons 2 Sample 14 of 15 Pr=0.00019193952903151512 pattern (0, 0, 0, 1, 0, 1)\n",
      "Photons 2 Sample 15 of 15 Pr=0.0003822140861302614 pattern (0, 0, 0, 0, 1, 1)\n",
      "Generated 15 patterns with photon number 4\n",
      "Photons 4 Sample 1 of 15 Pr=6.312585901468992e-05 pattern (1, 1, 1, 1, 0, 0)\n",
      "Photons 4 Sample 2 of 15 Pr=0.00014705097419209778 pattern (1, 1, 1, 0, 1, 0)\n",
      "Photons 4 Sample 3 of 15 Pr=1.1610121873673052e-05 pattern (1, 1, 1, 0, 0, 1)\n",
      "Photons 4 Sample 4 of 15 Pr=0.00019424097263254225 pattern (1, 1, 0, 1, 1, 0)\n",
      "Photons 4 Sample 5 of 15 Pr=6.169837433844805e-06 pattern (1, 1, 0, 1, 0, 1)\n",
      "Photons 4 Sample 6 of 15 Pr=1.228473411174491e-05 pattern (1, 1, 0, 0, 1, 1)\n",
      "Photons 4 Sample 7 of 15 Pr=1.9615981727838516e-08 pattern (1, 0, 1, 1, 1, 0)\n",
      "Photons 4 Sample 8 of 15 Pr=-1.204170985147357e-09 pattern (1, 0, 1, 1, 0, 1)\n",
      "Photons 4 Sample 9 of 15 Pr=2.975866664201021e-09 pattern (1, 0, 1, 0, 1, 1)\n",
      "Photons 4 Sample 10 of 15 Pr=3.5288394428789616e-09 pattern (1, 0, 0, 1, 1, 1)\n",
      "Photons 4 Sample 11 of 15 Pr=4.132743924856186e-09 pattern (0, 1, 1, 1, 1, 0)\n",
      "Photons 4 Sample 12 of 15 Pr=-8.003553375601768e-11 pattern (0, 1, 1, 1, 0, 1)\n",
      "Photons 4 Sample 13 of 15 Pr=-2.648448571562767e-09 pattern (0, 1, 1, 0, 1, 1)\n",
      "Photons 4 Sample 14 of 15 Pr=-1.4842953532934189e-09 pattern (0, 1, 0, 1, 1, 1)\n",
      "Photons 4 Sample 15 of 15 Pr=0.00016028413665480912 pattern (0, 0, 1, 1, 1, 1)\n",
      "Done\n",
      "CPU times: user 1min 2s, sys: 2.07 ms, total: 1min 2s\n",
      "Wall time: 1min 2s\n"
     ]
    }
   ],
   "source": [
    "%%time\n",
    "nmax = 2 # number of couples\n",
    "probn=np.zeros([nmax+1,], dtype=np_real)\n",
    "for j in range(nmax+1):\n",
    "    photon_number=2*j\n",
    "    # generate the patterns\n",
    "    ln=patterns(photon_number,nmodes)\n",
    "    npattern=len(ln)\n",
    "    print('Generated '+repr(npattern)+\\\n",
    "          ' patterns with photon number '+repr(photon_number))\n",
    "    # compute probability for each pattern\n",
    "    Pn=np.zeros([npattern,], dtype=np_real)\n",
    "    for nbar in range(npattern):        \n",
    "        Pn[nbar]=ps.Pr(ln[nbar],Qrho).numpy()\n",
    "        print('Photons '+repr(photon_number)+' Sample '+repr(nbar+1)+\\\n",
    "              ' of '+repr(npatterns)+' Pr=' +repr(Pn[nbar])+\\\n",
    "              ' pattern '+repr(ln[nbar]))\n",
    "    # sum the probability of each pattern\n",
    "    probn[j]=sum(Pn)\n",
    "print('Done')"
   ]
  },
  {
   "cell_type": "code",
   "execution_count": 47,
   "metadata": {},
   "outputs": [
    {
     "data": {
      "text/plain": [
       "array([0.0231, 0.0143, 0.0006])"
      ]
     },
     "execution_count": 47,
     "metadata": {},
     "output_type": "execute_result"
    }
   ],
   "source": [
    "probn"
   ]
  },
  {
   "cell_type": "code",
   "execution_count": 48,
   "metadata": {},
   "outputs": [
    {
     "data": {
      "image/png": "[encoded data removed]",
      "text/plain": [
       "<Figure size 640x480 with 1 Axes>"
      ]
     },
     "metadata": {},
     "output_type": "display_data"
    }
   ],
   "source": [
    "plt.bar(range(nmax+1),probn)\n",
    "plt.ylabel('Probability of 2 n photons');"
   ]
  },
  {
   "cell_type": "markdown",
   "metadata": {},
   "source": [
    "Looks that the overall probability does not change, but most of the couples appears in the target modes"
   ]
  },
  {
   "cell_type": "code",
   "execution_count": 49,
   "metadata": {},
   "outputs": [
    {
     "name": "stdout",
     "output_type": "stream",
     "text": [
      "Model: \"model\"\n",
      "__________________________________________________________________________________________________\n",
      " Layer (type)                   Output Shape         Param #     Connected to                     \n",
      "==================================================================================================\n",
      " input_1 (InputLayer)           [(None, 12)]         0           []                               \n",
      "                                                                                                  \n",
      " haar_layer_constant (HaarLayer  [(None, 12),        0           ['input_1[0][0]']                \n",
      " Constant)                       (12, 1)]                                                         \n",
      "                                                                                                  \n",
      " random_layer (RandomLayer)     [(None, 12),         72          ['haar_layer_constant[0][0]',    \n",
      "                                 (12, 1)]                         'haar_layer_constant[0][1]']    \n",
      "                                                                                                  \n",
      " single_mode_squeezer_layer (Si  [(None, 12),        2           ['random_layer[0][0]',           \n",
      " ngleModeSqueezerLayer)          (12, 1)]                         'random_layer[0][1]']           \n",
      "                                                                                                  \n",
      " single_mode_squeezer_layer_1 (  [(None, 12),        2           ['single_mode_squeezer_layer[0][0\n",
      " SingleModeSqueezerLayer)        (12, 1)]                        ]',                              \n",
      "                                                                  'single_mode_squeezer_layer[0][1\n",
      "                                                                 ]']                              \n",
      "                                                                                                  \n",
      " single_mode_squeezer_layer_2 (  [(None, 12),        2           ['single_mode_squeezer_layer_1[0]\n",
      " SingleModeSqueezerLayer)        (12, 1)]                        [0]',                            \n",
      "                                                                  'single_mode_squeezer_layer_1[0]\n",
      "                                                                 [1]']                            \n",
      "                                                                                                  \n",
      " single_mode_squeezer_layer_3 (  [(None, 12),        2           ['single_mode_squeezer_layer_2[0]\n",
      " SingleModeSqueezerLayer)        (12, 1)]                        [0]',                            \n",
      "                                                                  'single_mode_squeezer_layer_2[0]\n",
      "                                                                 [1]']                            \n",
      "                                                                                                  \n",
      " single_mode_squeezer_layer_4 (  [(None, 12),        2           ['single_mode_squeezer_layer_3[0]\n",
      " SingleModeSqueezerLayer)        (12, 1)]                        [0]',                            \n",
      "                                                                  'single_mode_squeezer_layer_3[0]\n",
      "                                                                 [1]']                            \n",
      "                                                                                                  \n",
      " single_mode_squeezer_layer_5 (  [(None, 12),        2           ['single_mode_squeezer_layer_4[0]\n",
      " SingleModeSqueezerLayer)        (12, 1)]                        [0]',                            \n",
      "                                                                  'single_mode_squeezer_layer_4[0]\n",
      "                                                                 [1]']                            \n",
      "                                                                                                  \n",
      " linear_layer_constant (LinearL  [(None, 12),        0           ['single_mode_squeezer_layer_5[0]\n",
      " ayerConstant)                   (12, 1)]                        [0]',                            \n",
      "                                                                  'single_mode_squeezer_layer_5[0]\n",
      "                                                                 [1]']                            \n",
      "                                                                                                  \n",
      " gaussian_layer (GaussianLayer)  [(None, 1),         156         ['linear_layer_constant[0][0]',  \n",
      "                                 (None, 1)]                       'linear_layer_constant[0][1]']  \n",
      "                                                                                                  \n",
      "==================================================================================================\n",
      "Total params: 240\n",
      "Trainable params: 84\n",
      "Non-trainable params: 156\n",
      "__________________________________________________________________________________________________\n"
     ]
    }
   ],
   "source": [
    "model.summary()"
   ]
  },
  {
   "cell_type": "code",
   "execution_count": 50,
   "metadata": {},
   "outputs": [
    {
     "data": {
      "text/plain": [
       "<tf.Variable 'single_mode_squeezer_layer/r:0' shape=() dtype=float32, numpy=1.0031285>"
      ]
     },
     "execution_count": 50,
     "metadata": {},
     "output_type": "execute_result"
    }
   ],
   "source": [
    "model.layers[3].r"
   ]
  },
  {
   "cell_type": "code",
   "execution_count": 51,
   "metadata": {},
   "outputs": [
    {
     "data": {
      "text/plain": [
       "<tf.Variable 'single_mode_squeezer_layer/theta:0' shape=() dtype=float32, numpy=0.7853087>"
      ]
     },
     "execution_count": 51,
     "metadata": {},
     "output_type": "execute_result"
    }
   ],
   "source": [
    "model.layers[3].theta"
   ]
  },
  {
   "cell_type": "code",
   "execution_count": 52,
   "metadata": {},
   "outputs": [
    {
     "data": {
      "text/plain": [
       "<tf.Variable 'single_mode_squeezer_layer_1/r:0' shape=() dtype=float32, numpy=1.7895045>"
      ]
     },
     "execution_count": 52,
     "metadata": {},
     "output_type": "execute_result"
    }
   ],
   "source": [
    "model.layers[4].r"
   ]
  },
  {
   "cell_type": "code",
   "execution_count": 53,
   "metadata": {},
   "outputs": [
    {
     "data": {
      "text/plain": [
       "<tf.Variable 'single_mode_squeezer_layer_1/theta:0' shape=() dtype=float32, numpy=0.7854601>"
      ]
     },
     "execution_count": 53,
     "metadata": {},
     "output_type": "execute_result"
    }
   ],
   "source": [
    "model.layers[4].theta"
   ]
  },
  {
   "cell_type": "code",
   "execution_count": 54,
   "metadata": {},
   "outputs": [
    {
     "data": {
      "text/plain": [
       "<tf.Variable 'single_mode_squeezer_layer_2/r:0' shape=() dtype=float32, numpy=0.98030645>"
      ]
     },
     "execution_count": 54,
     "metadata": {},
     "output_type": "execute_result"
    }
   ],
   "source": [
    "model.layers[5].r"
   ]
  },
  {
   "cell_type": "code",
   "execution_count": 55,
   "metadata": {},
   "outputs": [
    {
     "data": {
      "text/plain": [
       "<tf.Variable 'single_mode_squeezer_layer_3/r:0' shape=() dtype=float32, numpy=0.94476604>"
      ]
     },
     "execution_count": 55,
     "metadata": {},
     "output_type": "execute_result"
    }
   ],
   "source": [
    "model.layers[6].r"
   ]
  },
  {
   "cell_type": "code",
   "execution_count": 56,
   "metadata": {},
   "outputs": [
    {
     "data": {
      "text/plain": [
       "<tf.Variable 'single_mode_squeezer_layer_4/r:0' shape=() dtype=float32, numpy=1.6177799>"
      ]
     },
     "execution_count": 56,
     "metadata": {},
     "output_type": "execute_result"
    }
   ],
   "source": [
    "model.layers[7].r"
   ]
  },
  {
   "cell_type": "code",
   "execution_count": 57,
   "metadata": {},
   "outputs": [
    {
     "data": {
      "text/plain": [
       "<tf.Variable 'single_mode_squeezer_layer_5/r:0' shape=() dtype=float32, numpy=1.0014298>"
      ]
     },
     "execution_count": 57,
     "metadata": {},
     "output_type": "execute_result"
    }
   ],
   "source": [
    "model.layers[8].r"
   ]
  },
  {
   "cell_type": "code",
   "execution_count": null,
   "metadata": {},
   "outputs": [],
   "source": []
  }
 ],
 "metadata": {
  "kernelspec": {
   "display_name": "Python 3 (ipykernel)",
   "language": "python",
   "name": "python3"
  },
  "language_info": {
   "codemirror_mode": {
    "name": "ipython",
    "version": 3
   },
   "file_extension": ".py",
   "mimetype": "text/x-python",
   "name": "python",
   "nbconvert_exporter": "python",
   "pygments_lexer": "ipython3",
   "version": "3.10.12"
  }
 },
 "nbformat": 4,
 "nbformat_minor": 4
}
