{
 "cells": [
  {
   "cell_type": "raw",
   "metadata": {},
   "source": [
    "# Model Haar interferometer with squeezed states, with training on particle number"
   ]
  },
  {
   "cell_type": "markdown",
   "metadata": {},
   "source": [
    "We test the boson sampling operator \n",
    "on coherent states and squeezed states, and \n",
    "propagating in a random medium\n",
    "\n",
    "We train the random medium to maximize the sum of photons in modes 0 and 1, \n",
    "as n0+n1\n",
    "\n",
    "We have zero displacement here\n",
    "\n",
    "\n",
    "Hence training does not alter the probability of events, as each photon has zero mean photons\n",
    "\n",
    "Here training the squeezing parameters is allowed\n",
    "\n",
    "nonlinearxwaves@gmail.com<br>\n",
    "@created 8 febbraio 2021<br>\n",
    "@version 5 may 2023"
   ]
  },
  {
   "cell_type": "code",
   "execution_count": 2,
   "metadata": {},
   "outputs": [
    {
     "name": "stderr",
     "output_type": "stream",
     "text": [
      "2023-05-05 05:57:11.773053: W tensorflow/stream_executor/platform/default/dso_loader.cc:64] Could not load dynamic library 'libcudart.so.11.0'; dlerror: libcudart.so.11.0: cannot open shared object file: No such file or directory\n",
      "2023-05-05 05:57:11.773077: I tensorflow/stream_executor/cuda/cudart_stub.cc:29] Ignore above cudart dlerror if you do not have a GPU set up on your machine.\n"
     ]
    }
   ],
   "source": [
    "import numpy as np\n",
    "from thqml import phasespace as ps\n",
    "import tensorflow as tf\n",
    "import itertools as it\n",
    "import matplotlib.pyplot as plt"
   ]
  },
  {
   "cell_type": "code",
   "execution_count": 3,
   "metadata": {},
   "outputs": [],
   "source": [
    "tf_complex = tf.complex\n",
    "tf_real = tf.float32\n",
    "np_complex = complex\n",
    "np_real = np.float64"
   ]
  },
  {
   "cell_type": "code",
   "execution_count": 4,
   "metadata": {},
   "outputs": [],
   "source": [
    "tf.keras.backend.clear_session()"
   ]
  },
  {
   "cell_type": "code",
   "execution_count": 5,
   "metadata": {},
   "outputs": [],
   "source": [
    "np.set_printoptions(precision=4)"
   ]
  },
  {
   "cell_type": "markdown",
   "metadata": {},
   "source": [
    "Check GPU"
   ]
  },
  {
   "cell_type": "code",
   "execution_count": 6,
   "metadata": {},
   "outputs": [
    {
     "name": "stdout",
     "output_type": "stream",
     "text": [
      "Num GPUs Available:  0\n"
     ]
    },
    {
     "name": "stderr",
     "output_type": "stream",
     "text": [
      "2023-05-05 05:57:17.864416: W tensorflow/stream_executor/platform/default/dso_loader.cc:64] Could not load dynamic library 'libcuda.so.1'; dlerror: libcuda.so.1: cannot open shared object file: No such file or directory\n",
      "2023-05-05 05:57:17.864448: W tensorflow/stream_executor/cuda/cuda_driver.cc:269] failed call to cuInit: UNKNOWN ERROR (303)\n",
      "2023-05-05 05:57:17.864475: I tensorflow/stream_executor/cuda/cuda_diagnostics.cc:156] kernel driver does not appear to be running on this host (x1): /proc/driver/nvidia/version does not exist\n"
     ]
    }
   ],
   "source": [
    "print(\"Num GPUs Available: \", len(tf.config.experimental.list_physical_devices('GPU')))"
   ]
  },
  {
   "cell_type": "code",
   "execution_count": 7,
   "metadata": {},
   "outputs": [],
   "source": [
    "#import warnings\n",
    "#warnings.filterwarnings('ignore')"
   ]
  },
  {
   "cell_type": "markdown",
   "metadata": {},
   "source": [
    "## Dimension"
   ]
  },
  {
   "cell_type": "code",
   "execution_count": 8,
   "metadata": {},
   "outputs": [],
   "source": [
    "N = 12"
   ]
  },
  {
   "cell_type": "code",
   "execution_count": 9,
   "metadata": {},
   "outputs": [],
   "source": [
    "n=np.floor_divide(N,2)"
   ]
  },
  {
   "cell_type": "code",
   "execution_count": 10,
   "metadata": {},
   "outputs": [],
   "source": [
    "nmodes = int(n)"
   ]
  },
  {
   "cell_type": "code",
   "execution_count": 11,
   "metadata": {},
   "outputs": [
    {
     "name": "stdout",
     "output_type": "stream",
     "text": [
      "Number of modes 6\n"
     ]
    }
   ],
   "source": [
    "print('Number of modes '+repr(n))"
   ]
  },
  {
   "cell_type": "markdown",
   "metadata": {},
   "source": [
    "## Build vacuum by the Gaussian state"
   ]
  },
  {
   "cell_type": "code",
   "execution_count": 13,
   "metadata": {},
   "outputs": [],
   "source": [
    "vacuum = ps.VacuumLayer(N)"
   ]
  },
  {
   "cell_type": "markdown",
   "metadata": {},
   "source": [
    "## Parameter for squeezing"
   ]
  },
  {
   "cell_type": "code",
   "execution_count": 14,
   "metadata": {},
   "outputs": [],
   "source": [
    "r_np=0.88;\n",
    "theta_np=np.pi/4;"
   ]
  },
  {
   "cell_type": "markdown",
   "metadata": {},
   "source": [
    "## Random medium (Haar measure)"
   ]
  },
  {
   "cell_type": "code",
   "execution_count": 15,
   "metadata": {},
   "outputs": [],
   "source": [
    "HAAR=ps.HaarLayerConstant(N)"
   ]
  },
  {
   "cell_type": "code",
   "execution_count": 16,
   "metadata": {},
   "outputs": [],
   "source": [
    "R=ps.RandomLayer(N) # trainable layer"
   ]
  },
  {
   "cell_type": "markdown",
   "metadata": {},
   "source": [
    "## Displacer"
   ]
  },
  {
   "cell_type": "code",
   "execution_count": 17,
   "metadata": {},
   "outputs": [],
   "source": [
    "#D=ps.TrainableDisplacementLayer(np.ones((N,1),dtype=np_real))"
   ]
  },
  {
   "cell_type": "code",
   "execution_count": 18,
   "metadata": {},
   "outputs": [],
   "source": [
    "D=ps.DisplacementLayerConstant(np.zeros((N,1),dtype=np_real))"
   ]
  },
  {
   "cell_type": "markdown",
   "metadata": {},
   "source": [
    "## Build the model (the squeezed states are not trainable)\n",
    "squeezed states are generated and mixed by a random medium and then go into an Haar Inteferometer"
   ]
  },
  {
   "cell_type": "code",
   "execution_count": 19,
   "metadata": {},
   "outputs": [],
   "source": [
    "xin = tf.keras.layers.Input(N)\n",
    "x1, a1 = HAAR(xin)\n",
    "x1, a1 = R(x1,a1)\n",
    "for j in range(nmodes):\n",
    "    x1, a1 = ps.SingleModeSqueezerLayer(N, r_np=r_np, theta_np=theta_np, n_squeezed=j, trainable=True)(x1,a1)\n",
    "x1, a1=D(x1,a1)    \n",
    "chir, chii = vacuum(x1, a1)\n",
    "model = tf.keras.Model(inputs = xin, outputs=[chir, chii])"
   ]
  },
  {
   "cell_type": "code",
   "execution_count": 20,
   "metadata": {},
   "outputs": [
    {
     "data": {
      "text/plain": [
       "12"
      ]
     },
     "execution_count": 20,
     "metadata": {},
     "output_type": "execute_result"
    }
   ],
   "source": [
    "model.input_shape[1]"
   ]
  },
  {
   "cell_type": "code",
   "execution_count": 21,
   "metadata": {},
   "outputs": [],
   "source": [
    "#model.summary()"
   ]
  },
  {
   "cell_type": "markdown",
   "metadata": {},
   "source": [
    "## Photon counter layer "
   ]
  },
  {
   "cell_type": "markdown",
   "metadata": {},
   "source": [
    "Dummy input"
   ]
  },
  {
   "cell_type": "code",
   "execution_count": 22,
   "metadata": {},
   "outputs": [],
   "source": [
    "Nbatch=10\n",
    "xtrain = np.random.rand(Nbatch, N)-0.5"
   ]
  },
  {
   "cell_type": "markdown",
   "metadata": {},
   "source": [
    "Model with the photon counting layer"
   ]
  },
  {
   "cell_type": "code",
   "execution_count": 23,
   "metadata": {},
   "outputs": [
    {
     "name": "stdout",
     "output_type": "stream",
     "text": [
      "[[0.99612093 0.996120453 0.996120572 0.996120214 0.996120691 0.996120572]]\n"
     ]
    }
   ],
   "source": [
    "photon_counter=ps.PhotonCountingLayer(N) # define the layer\n",
    "n_out = photon_counter(chir,chir, model);  # define the output tensor\n",
    "Nphoton = tf.keras.Model(inputs = xin, outputs=n_out) # define the model with inputs and ouputs\n",
    "tf.print(Nphoton(xtrain)); "
   ]
  },
  {
   "cell_type": "markdown",
   "metadata": {},
   "source": [
    "## Model with the target output to train"
   ]
  },
  {
   "cell_type": "markdown",
   "metadata": {},
   "source": [
    "Model with the custom ouput to train"
   ]
  },
  {
   "cell_type": "code",
   "execution_count": 24,
   "metadata": {},
   "outputs": [],
   "source": [
    "n_out0=tf.gather(tf.squeeze(n_out),0) #check this\n",
    "n_out1=tf.gather(tf.squeeze(n_out),1)\n",
    "min_out=tf.exp(-n_out0-n_out1)\n",
    "Train_model = tf.keras.Model(inputs = xin, outputs=min_out) # define the model with inputs and ouputs"
   ]
  },
  {
   "cell_type": "markdown",
   "metadata": {},
   "source": [
    "Define the custom loss to train the model for maximum output"
   ]
  },
  {
   "cell_type": "code",
   "execution_count": 25,
   "metadata": {},
   "outputs": [],
   "source": [
    "def custom_loss(yt,yp):\n",
    "    # the loss only return the output of the network yp\n",
    "    # that need to be minimized\n",
    "    return yp"
   ]
  },
  {
   "cell_type": "code",
   "execution_count": 26,
   "metadata": {},
   "outputs": [],
   "source": [
    "Train_model.compile(loss=custom_loss, optimizer='Adam')"
   ]
  },
  {
   "cell_type": "markdown",
   "metadata": {},
   "source": [
    "# Transform model"
   ]
  },
  {
   "cell_type": "code",
   "execution_count": 27,
   "metadata": {},
   "outputs": [],
   "source": [
    "kin, Qrho =ps.getQTransformModel(model)"
   ]
  },
  {
   "cell_type": "code",
   "execution_count": 28,
   "metadata": {},
   "outputs": [
    {
     "name": "stdout",
     "output_type": "stream",
     "text": [
      "Model: \"model_3\"\n",
      "_________________________________________________________________\n",
      " Layer (type)                Output Shape              Param #   \n",
      "=================================================================\n",
      " input_2 (InputLayer)        [(None, 12)]              0         \n",
      "                                                                 \n",
      " q_transform_layer (QTransfo  (None, None)             240       \n",
      " rmLayer)                                                        \n",
      "                                                                 \n",
      "=================================================================\n",
      "Total params: 240\n",
      "Trainable params: 84\n",
      "Non-trainable params: 156\n",
      "_________________________________________________________________\n"
     ]
    }
   ],
   "source": [
    "Qrho.summary()"
   ]
  },
  {
   "cell_type": "markdown",
   "metadata": {},
   "source": [
    "# Test the Pr operator "
   ]
  },
  {
   "cell_type": "markdown",
   "metadata": {},
   "source": [
    "Probability of zero photon"
   ]
  },
  {
   "cell_type": "code",
   "execution_count": 29,
   "metadata": {},
   "outputs": [
    {
     "data": {
      "text/plain": [
       "<tf.Tensor: shape=(1, 1), dtype=float32, numpy=array([[0.1257]], dtype=float32)>"
      ]
     },
     "execution_count": 29,
     "metadata": {},
     "output_type": "execute_result"
    }
   ],
   "source": [
    "ps.Pr([0]*nmodes, Qrho)"
   ]
  },
  {
   "cell_type": "markdown",
   "metadata": {},
   "source": [
    "Probability of two photons"
   ]
  },
  {
   "cell_type": "code",
   "execution_count": 30,
   "metadata": {},
   "outputs": [
    {
     "name": "stdout",
     "output_type": "stream",
     "text": [
      "[2, 0, 0, 0, 0, 0]\n"
     ]
    },
    {
     "data": {
      "text/plain": [
       "<tf.Tensor: shape=(1,), dtype=float32, numpy=array([0.0143], dtype=float32)>"
      ]
     },
     "execution_count": 30,
     "metadata": {},
     "output_type": "execute_result"
    }
   ],
   "source": [
    "nbar = [0]*nmodes\n",
    "nbar[0]=2\n",
    "print(nbar)\n",
    "ps.Pr(nbar, Qrho)"
   ]
  },
  {
   "cell_type": "markdown",
   "metadata": {},
   "source": [
    "# Generate all the possible photon patterns assuming max one photon per mode"
   ]
  },
  {
   "cell_type": "code",
   "execution_count": 31,
   "metadata": {},
   "outputs": [],
   "source": [
    "def patterns(nphotons, nmodes):\n",
    "    # Return the patterns of nmodes with maximal nphotons\n",
    "    \n",
    "    # generate a list of zero\n",
    "    l1=[0]*nmodes\n",
    "    # set nphotons 1\n",
    "    for j in range(nphotons):\n",
    "        l1[j]=1\n",
    "    # compute all the permutations (zeros and one are distinguishable)\n",
    "    nlist=it.permutations(l1,nmodes) # return iterators\n",
    "    # convert to list the iterators\n",
    "    ln=list(nlist)\n",
    "    # sort the list in reverse order to have the patterns with more ones first\n",
    "    ln.sort(reverse=True)\n",
    "    # remove duplicates (remove adjactent identical elements after sorting)\n",
    "    ln=list(ln for ln,_ in it.groupby(ln))\n",
    "    return ln"
   ]
  },
  {
   "cell_type": "code",
   "execution_count": 32,
   "metadata": {},
   "outputs": [
    {
     "name": "stdout",
     "output_type": "stream",
     "text": [
      "[(1, 1, 0, 0, 0, 0), (1, 0, 1, 0, 0, 0), (1, 0, 0, 1, 0, 0), (1, 0, 0, 0, 1, 0), (1, 0, 0, 0, 0, 1), (0, 1, 1, 0, 0, 0), (0, 1, 0, 1, 0, 0), (0, 1, 0, 0, 1, 0), (0, 1, 0, 0, 0, 1), (0, 0, 1, 1, 0, 0), (0, 0, 1, 0, 1, 0), (0, 0, 1, 0, 0, 1), (0, 0, 0, 1, 1, 0), (0, 0, 0, 1, 0, 1), (0, 0, 0, 0, 1, 1)]\n",
      "15\n"
     ]
    }
   ],
   "source": [
    "ln =patterns(2,nmodes)\n",
    "print(ln)\n",
    "print(len(ln))"
   ]
  },
  {
   "cell_type": "markdown",
   "metadata": {},
   "source": [
    "## Make a plot versus the probability"
   ]
  },
  {
   "cell_type": "markdown",
   "metadata": {},
   "source": [
    "Build an array of photon number sampling"
   ]
  },
  {
   "cell_type": "code",
   "execution_count": 33,
   "metadata": {},
   "outputs": [
    {
     "name": "stdout",
     "output_type": "stream",
     "text": [
      "Sample 0 of 15 (1, 1, 0, 0, 0, 0)\n",
      "0.018366542\n",
      "Sample 1 of 15 (1, 0, 1, 0, 0, 0)\n",
      "1.0598445e-05\n",
      "Sample 2 of 15 (1, 0, 0, 1, 0, 0)\n",
      "0.0011618906\n",
      "Sample 3 of 15 (1, 0, 0, 0, 1, 0)\n",
      "0.005373163\n",
      "Sample 4 of 15 (1, 0, 0, 0, 0, 1)\n",
      "0.0092707565\n",
      "Sample 5 of 15 (0, 1, 1, 0, 0, 0)\n",
      "0.0060278126\n",
      "Sample 6 of 15 (0, 1, 0, 1, 0, 0)\n",
      "0.00014638156\n",
      "Sample 7 of 15 (0, 1, 0, 0, 1, 0)\n",
      "0.013435677\n",
      "Sample 8 of 15 (0, 1, 0, 0, 0, 1)\n",
      "0.009646308\n",
      "Sample 9 of 15 (0, 0, 1, 1, 0, 0)\n",
      "0.0012057079\n",
      "Sample 10 of 15 (0, 0, 1, 0, 1, 0)\n",
      "0.0034561008\n",
      "Sample 11 of 15 (0, 0, 1, 0, 0, 1)\n",
      "0.02021321\n",
      "Sample 12 of 15 (0, 0, 0, 1, 1, 0)\n",
      "0.004358055\n",
      "Sample 13 of 15 (0, 0, 0, 1, 0, 1)\n",
      "0.005888731\n",
      "Sample 14 of 15 (0, 0, 0, 0, 1, 1)\n",
      "0.0043867687\n",
      "Done\n"
     ]
    }
   ],
   "source": [
    "npatterns=len(ln)\n",
    "Pn = np.zeros([npatterns,], dtype=np.float32)\n",
    "Pth = np.zeros_like(Pn)\n",
    "xaxis=np.zeros_like(Pn)\n",
    "for nbar in range(npatterns):\n",
    "    print('Sample '+repr(nbar)+' of '+repr(npatterns)+' '+repr(ln[nbar]))\n",
    "    Pn[nbar]=ps.Pr(ln[nbar],Qrho).numpy()\n",
    "    tf.print(Pn[nbar])\n",
    "    xaxis[nbar]=nbar\n",
    "print('Done')"
   ]
  },
  {
   "cell_type": "code",
   "execution_count": 34,
   "metadata": {},
   "outputs": [
    {
     "name": "stderr",
     "output_type": "stream",
     "text": [
      "/home/claudio/anaconda3/envs/tfquomplex2/lib/python3.7/site-packages/matplotlib/text.py:1165: FutureWarning: elementwise comparison failed; returning scalar instead, but in the future will perform elementwise comparison\n",
      "  if s != self._text:\n"
     ]
    },
    {
     "data": {
      "image/png": "[encoded data removed]",
      "text/plain": [
       "<Figure size 432x288 with 1 Axes>"
      ]
     },
     "metadata": {
      "needs_background": "light"
     },
     "output_type": "display_data"
    }
   ],
   "source": [
    "#plt.bar(xaxis,Pn)\n",
    "plt.bar(range(npatterns),Pn)\n",
    "plt.xlabel(np.transpose(np.array(ln)), fontsize=12);\n",
    "plt.ylabel('Sample Probability Pr (2 photons)');\n",
    "\n",
    "#plt.savefig('BS7pairsnotraining.eps', format='eps')\n"
   ]
  },
  {
   "cell_type": "markdown",
   "metadata": {},
   "source": [
    "## Patterns with 4 photons"
   ]
  },
  {
   "cell_type": "code",
   "execution_count": 35,
   "metadata": {},
   "outputs": [
    {
     "name": "stdout",
     "output_type": "stream",
     "text": [
      "15\n",
      "Sample 0 of 15 (1, 1, 1, 1, 0, 0)\n",
      "0.00010046632\n",
      "Sample 1 of 15 (1, 1, 1, 0, 1, 0)\n",
      "0.0015550206\n",
      "Sample 2 of 15 (1, 1, 1, 0, 0, 1)\n",
      "0.0011629958\n",
      "Sample 3 of 15 (1, 1, 0, 1, 1, 0)\n",
      "0.00024092739\n",
      "Sample 4 of 15 (1, 1, 0, 1, 0, 1)\n",
      "0.0013681765\n",
      "Sample 5 of 15 (1, 1, 0, 0, 1, 1)\n",
      "0.0010672585\n",
      "Sample 6 of 15 (1, 0, 1, 1, 1, 0)\n",
      "2.107329e-05\n",
      "Sample 7 of 15 (1, 0, 1, 1, 0, 1)\n",
      "0.000452761\n",
      "Sample 8 of 15 (1, 0, 1, 0, 1, 1)\n",
      "0.00021571535\n",
      "Sample 9 of 15 (1, 0, 0, 1, 1, 1)\n",
      "0.0012343335\n",
      "Sample 10 of 15 (0, 1, 1, 1, 1, 0)\n",
      "0.000595476\n",
      "Sample 11 of 15 (0, 1, 1, 1, 0, 1)\n",
      "0.00041041692\n",
      "Sample 12 of 15 (0, 1, 1, 0, 1, 1)\n",
      "0.0053106896\n",
      "Sample 13 of 15 (0, 1, 0, 1, 1, 1)\n",
      "8.2093116e-05\n",
      "Sample 14 of 15 (0, 0, 1, 1, 1, 1)\n",
      "0.0007596619\n",
      "Done\n"
     ]
    }
   ],
   "source": [
    "ln =patterns(4,nmodes)\n",
    "print(len(ln))\n",
    "npatterns=len(ln)\n",
    "Pn = np.zeros([npatterns,], dtype=np.float32)\n",
    "Pth = np.zeros_like(Pn)\n",
    "xaxis=np.zeros_like(Pn)\n",
    "for nbar in range(npatterns):\n",
    "    print('Sample '+repr(nbar)+' of '+repr(npatterns)+' '+repr(ln[nbar]))\n",
    "    Pn[nbar]=ps.Pr(ln[nbar],Qrho).numpy()\n",
    "    tf.print(Pn[nbar])\n",
    "    xaxis[nbar]=nbar\n",
    "print('Done')\n"
   ]
  },
  {
   "cell_type": "code",
   "execution_count": 36,
   "metadata": {},
   "outputs": [
    {
     "data": {
      "image/png": "[encoded data removed]",
      "text/plain": [
       "<Figure size 432x288 with 1 Axes>"
      ]
     },
     "metadata": {
      "needs_background": "light"
     },
     "output_type": "display_data"
    }
   ],
   "source": [
    "plt.bar(range(npatterns),Pn)\n",
    "plt.xlabel(np.transpose(np.array(ln)), fontsize=12);\n",
    "plt.ylabel('Sample Probability Pr (4 photons)');"
   ]
  },
  {
   "cell_type": "markdown",
   "metadata": {},
   "source": [
    "## Compute the probability of pairs "
   ]
  },
  {
   "cell_type": "code",
   "execution_count": 37,
   "metadata": {},
   "outputs": [
    {
     "name": "stdout",
     "output_type": "stream",
     "text": [
      "Generated 1 patterns with photon number 0\n",
      "Photons 0 Sample 1 of 15 Pr=0.1257302314043045 pattern (0, 0, 0, 0, 0, 0)\n",
      "Generated 15 patterns with photon number 2\n",
      "Photons 2 Sample 1 of 15 Pr=0.01836654171347618 pattern (1, 1, 0, 0, 0, 0)\n",
      "Photons 2 Sample 2 of 15 Pr=1.0598445442155935e-05 pattern (1, 0, 1, 0, 0, 0)\n",
      "Photons 2 Sample 3 of 15 Pr=0.0011618905700743198 pattern (1, 0, 0, 1, 0, 0)\n",
      "Photons 2 Sample 4 of 15 Pr=0.005373163148760796 pattern (1, 0, 0, 0, 1, 0)\n",
      "Photons 2 Sample 5 of 15 Pr=0.009270756505429745 pattern (1, 0, 0, 0, 0, 1)\n",
      "Photons 2 Sample 6 of 15 Pr=0.0060278126038610935 pattern (0, 1, 1, 0, 0, 0)\n",
      "Photons 2 Sample 7 of 15 Pr=0.00014638155698776245 pattern (0, 1, 0, 1, 0, 0)\n",
      "Photons 2 Sample 8 of 15 Pr=0.01343567669391632 pattern (0, 1, 0, 0, 1, 0)\n",
      "Photons 2 Sample 9 of 15 Pr=0.009646307677030563 pattern (0, 1, 0, 0, 0, 1)\n",
      "Photons 2 Sample 10 of 15 Pr=0.0012057079002261162 pattern (0, 0, 1, 1, 0, 0)\n",
      "Photons 2 Sample 11 of 15 Pr=0.003456100821495056 pattern (0, 0, 1, 0, 1, 0)\n",
      "Photons 2 Sample 12 of 15 Pr=0.020213209092617035 pattern (0, 0, 1, 0, 0, 1)\n",
      "Photons 2 Sample 13 of 15 Pr=0.00435805507004261 pattern (0, 0, 0, 1, 1, 0)\n",
      "Photons 2 Sample 14 of 15 Pr=0.0058887312188744545 pattern (0, 0, 0, 1, 0, 1)\n",
      "Photons 2 Sample 15 of 15 Pr=0.00438676867634058 pattern (0, 0, 0, 0, 1, 1)\n",
      "Generated 15 patterns with photon number 4\n",
      "Photons 4 Sample 1 of 15 Pr=0.00010046632087323815 pattern (1, 1, 1, 1, 0, 0)\n",
      "Photons 4 Sample 2 of 15 Pr=0.0015550205716863275 pattern (1, 1, 1, 0, 1, 0)\n",
      "Photons 4 Sample 3 of 15 Pr=0.0011629958171397448 pattern (1, 1, 1, 0, 0, 1)\n",
      "Photons 4 Sample 4 of 15 Pr=0.00024092738749459386 pattern (1, 1, 0, 1, 1, 0)\n",
      "Photons 4 Sample 5 of 15 Pr=0.0013681765412911773 pattern (1, 1, 0, 1, 0, 1)\n",
      "Photons 4 Sample 6 of 15 Pr=0.0010672585340216756 pattern (1, 1, 0, 0, 1, 1)\n",
      "Photons 4 Sample 7 of 15 Pr=2.107329055434093e-05 pattern (1, 0, 1, 1, 1, 0)\n",
      "Photons 4 Sample 8 of 15 Pr=0.00045276101445779204 pattern (1, 0, 1, 1, 0, 1)\n",
      "Photons 4 Sample 9 of 15 Pr=0.00021571535035036504 pattern (1, 0, 1, 0, 1, 1)\n",
      "Photons 4 Sample 10 of 15 Pr=0.0012343334965407848 pattern (1, 0, 0, 1, 1, 1)\n",
      "Photons 4 Sample 11 of 15 Pr=0.0005954760126769543 pattern (0, 1, 1, 1, 1, 0)\n",
      "Photons 4 Sample 12 of 15 Pr=0.00041041692020371556 pattern (0, 1, 1, 1, 0, 1)\n",
      "Photons 4 Sample 13 of 15 Pr=0.005310689564794302 pattern (0, 1, 1, 0, 1, 1)\n",
      "Photons 4 Sample 14 of 15 Pr=8.209311636164784e-05 pattern (0, 1, 0, 1, 1, 1)\n",
      "Photons 4 Sample 15 of 15 Pr=0.0007596618961542845 pattern (0, 0, 1, 1, 1, 1)\n",
      "Done\n",
      "CPU times: user 34.8 s, sys: 32.6 ms, total: 34.8 s\n",
      "Wall time: 34.8 s\n"
     ]
    }
   ],
   "source": [
    "%%time\n",
    "nmax = 2 # number of couples\n",
    "probn=np.zeros([nmax+1,], dtype=np_real)\n",
    "for j in range(nmax+1):\n",
    "    photon_number=2*j\n",
    "    # generate the patterns\n",
    "    ln=patterns(photon_number,nmodes)\n",
    "    npattern=len(ln)\n",
    "    print('Generated '+repr(npattern)+\\\n",
    "          ' patterns with photon number '+repr(photon_number))\n",
    "    # compute probability for each pattern\n",
    "    Pn=np.zeros([npattern,], dtype=np_real)\n",
    "    for nbar in range(npattern):        \n",
    "        Pn[nbar]=ps.Pr(ln[nbar],Qrho).numpy()\n",
    "        print('Photons '+repr(photon_number)+' Sample '+repr(nbar+1)+\\\n",
    "              ' of '+repr(npatterns)+' Pr=' +repr(Pn[nbar])+\\\n",
    "              ' pattern '+repr(ln[nbar]))\n",
    "    # sum the probability of each pattern\n",
    "    probn[j]=sum(Pn)\n",
    "print('Done')"
   ]
  },
  {
   "cell_type": "code",
   "execution_count": 38,
   "metadata": {},
   "outputs": [
    {
     "data": {
      "image/png": "[encoded data removed]",
      "text/plain": [
       "<Figure size 432x288 with 1 Axes>"
      ]
     },
     "metadata": {
      "needs_background": "light"
     },
     "output_type": "display_data"
    }
   ],
   "source": [
    "plt.bar(range(nmax+1),probn)\n",
    "#plt.xlabel(ln, fontsize=6);\n",
    "plt.ylabel('Probability of 2 n photons');"
   ]
  },
  {
   "cell_type": "markdown",
   "metadata": {},
   "source": [
    "# Train the model and recompute probabilities"
   ]
  },
  {
   "cell_type": "code",
   "execution_count": 44,
   "metadata": {},
   "outputs": [
    {
     "name": "stdout",
     "output_type": "stream",
     "text": [
      "CPU times: user 1min 42s, sys: 4.16 s, total: 1min 46s\n",
      "Wall time: 1min 20s\n"
     ]
    }
   ],
   "source": [
    "%%time\n",
    "history=Train_model.fit(xtrain,np.zeros_like(xtrain),epochs=10000,verbose=0)"
   ]
  },
  {
   "cell_type": "markdown",
   "metadata": {},
   "source": [
    "Plot training history"
   ]
  },
  {
   "cell_type": "code",
   "execution_count": 45,
   "metadata": {},
   "outputs": [
    {
     "data": {
      "text/plain": [
       "[<matplotlib.lines.Line2D at 0x7fbcecbc69d0>]"
      ]
     },
     "execution_count": 45,
     "metadata": {},
     "output_type": "execute_result"
    },
    {
     "data": {
      "image/png": "[encoded data removed]",
      "text/plain": [
       "<Figure size 432x288 with 1 Axes>"
      ]
     },
     "metadata": {
      "needs_background": "light"
     },
     "output_type": "display_data"
    }
   ],
   "source": [
    "plt.plot(history.history['loss'])"
   ]
  },
  {
   "cell_type": "markdown",
   "metadata": {},
   "source": [
    "## Recompute the transform after training"
   ]
  },
  {
   "cell_type": "code",
   "execution_count": 46,
   "metadata": {},
   "outputs": [],
   "source": [
    "kin, Qrho =ps.getQTransformModel(model)"
   ]
  },
  {
   "cell_type": "markdown",
   "metadata": {},
   "source": [
    "## Patterns with 2 photons"
   ]
  },
  {
   "cell_type": "code",
   "execution_count": 47,
   "metadata": {},
   "outputs": [
    {
     "name": "stdout",
     "output_type": "stream",
     "text": [
      "15\n",
      "Sample 0 of 15 (1, 1, 0, 0, 0, 0)\n",
      "0.004359359\n",
      "Sample 1 of 15 (1, 0, 1, 0, 0, 0)\n",
      "0.0\n",
      "Sample 2 of 15 (1, 0, 0, 1, 0, 0)\n",
      "0.0\n",
      "Sample 3 of 15 (1, 0, 0, 0, 1, 0)\n",
      "5.820766e-11\n",
      "Sample 4 of 15 (1, 0, 0, 0, 0, 1)\n",
      "-1.1641532e-10\n",
      "Sample 5 of 15 (0, 1, 1, 0, 0, 0)\n",
      "-2.3283064e-10\n",
      "Sample 6 of 15 (0, 1, 0, 1, 0, 0)\n",
      "-2.3283064e-10\n",
      "Sample 7 of 15 (0, 1, 0, 0, 1, 0)\n",
      "4.656613e-10\n",
      "Sample 8 of 15 (0, 1, 0, 0, 0, 1)\n",
      "4.656613e-10\n",
      "Sample 9 of 15 (0, 0, 1, 1, 0, 0)\n",
      "3.316556e-05\n",
      "Sample 10 of 15 (0, 0, 1, 0, 1, 0)\n",
      "4.1213585e-05\n",
      "Sample 11 of 15 (0, 0, 1, 0, 0, 1)\n",
      "9.1193244e-05\n",
      "Sample 12 of 15 (0, 0, 0, 1, 1, 0)\n",
      "0.0015321122\n",
      "Sample 13 of 15 (0, 0, 0, 1, 0, 1)\n",
      "0.0005979452\n",
      "Sample 14 of 15 (0, 0, 0, 0, 1, 1)\n",
      "0.0054417616\n",
      "Done\n",
      "CPU times: user 1.02 s, sys: 11.2 ms, total: 1.03 s\n",
      "Wall time: 1.02 s\n"
     ]
    }
   ],
   "source": [
    "%%time\n",
    "ln =patterns(2,nmodes)\n",
    "print(len(ln))\n",
    "npatterns=len(ln)\n",
    "Pn = np.zeros([npatterns,], dtype=np.float32)\n",
    "Pth = np.zeros_like(Pn)\n",
    "xaxis=np.zeros_like(Pn)\n",
    "for nbar in range(npatterns):\n",
    "    print('Sample '+repr(nbar)+' of '+repr(npatterns)+' '+repr(ln[nbar]))\n",
    "    Pn[nbar]=ps.Pr(ln[nbar],Qrho).numpy()\n",
    "    tf.print(Pn[nbar])\n",
    "    xaxis[nbar]=nbar\n",
    "print('Done')"
   ]
  },
  {
   "cell_type": "code",
   "execution_count": 48,
   "metadata": {},
   "outputs": [
    {
     "name": "stderr",
     "output_type": "stream",
     "text": [
      "/home/claudio/anaconda3/envs/tfquomplex2/lib/python3.7/site-packages/matplotlib/text.py:1165: FutureWarning: elementwise comparison failed; returning scalar instead, but in the future will perform elementwise comparison\n",
      "  if s != self._text:\n"
     ]
    },
    {
     "data": {
      "image/png": "[encoded data removed]",
      "text/plain": [
       "<Figure size 432x288 with 1 Axes>"
      ]
     },
     "metadata": {
      "needs_background": "light"
     },
     "output_type": "display_data"
    }
   ],
   "source": [
    "plt.bar(range(npatterns),Pn)\n",
    "plt.xlabel(np.transpose(np.array(ln)), fontsize=12);\n",
    "plt.ylabel('Sample Probability Pr');"
   ]
  },
  {
   "cell_type": "markdown",
   "metadata": {},
   "source": [
    "## Patterns of 4 photons"
   ]
  },
  {
   "cell_type": "code",
   "execution_count": 50,
   "metadata": {},
   "outputs": [
    {
     "name": "stdout",
     "output_type": "stream",
     "text": [
      "15\n",
      "Sample 0 of 15 (1, 1, 1, 1, 0, 0)\n",
      "5.706912e-06\n",
      "Sample 1 of 15 (1, 1, 1, 0, 1, 0)\n",
      "7.090566e-06\n",
      "Sample 2 of 15 (1, 1, 1, 0, 0, 1)\n",
      "1.5683443e-05\n",
      "Sample 3 of 15 (1, 1, 0, 1, 1, 0)\n",
      "0.00026341478\n",
      "Sample 4 of 15 (1, 1, 0, 1, 0, 1)\n",
      "0.000102806596\n",
      "Sample 5 of 15 (1, 1, 0, 0, 1, 1)\n",
      "0.00093558594\n",
      "Sample 6 of 15 (1, 0, 1, 1, 1, 0)\n",
      "5.966285e-10\n",
      "Sample 7 of 15 (1, 0, 1, 1, 0, 1)\n",
      "6.220944e-10\n",
      "Sample 8 of 15 (1, 0, 1, 0, 1, 1)\n",
      "9.0221874e-10\n",
      "Sample 9 of 15 (1, 0, 0, 1, 1, 1)\n",
      "3.4815457e-09\n",
      "Sample 10 of 15 (0, 1, 1, 1, 1, 0)\n",
      "1.1641532e-10\n",
      "Sample 11 of 15 (0, 1, 1, 1, 0, 1)\n",
      "1.6007107e-10\n",
      "Sample 12 of 15 (0, 1, 1, 0, 1, 1)\n",
      "1.3242243e-09\n",
      "Sample 13 of 15 (0, 1, 0, 1, 1, 1)\n",
      "8.731149e-10\n",
      "Sample 14 of 15 (0, 0, 1, 1, 1, 1)\n",
      "1.573754e-05\n",
      "Done\n",
      "CPU times: user 34 s, sys: 0 ns, total: 34 s\n",
      "Wall time: 33.9 s\n"
     ]
    }
   ],
   "source": [
    "%%time\n",
    "ln =patterns(4,nmodes)\n",
    "print(len(ln))\n",
    "npatterns=len(ln)\n",
    "Pn = np.zeros([npatterns,], dtype=np.float32)\n",
    "Pth = np.zeros_like(Pn)\n",
    "xaxis=np.zeros_like(Pn)\n",
    "for nbar in range(npatterns):\n",
    "    print('Sample '+repr(nbar)+' of '+repr(npatterns)+' '+repr(ln[nbar]))\n",
    "    Pn[nbar]=ps.Pr(ln[nbar],Qrho).numpy()\n",
    "    tf.print(Pn[nbar])\n",
    "    xaxis[nbar]=nbar\n",
    "print('Done')"
   ]
  },
  {
   "cell_type": "code",
   "execution_count": 51,
   "metadata": {},
   "outputs": [
    {
     "data": {
      "image/png": "[encoded data removed]",
      "text/plain": [
       "<Figure size 432x288 with 1 Axes>"
      ]
     },
     "metadata": {
      "needs_background": "light"
     },
     "output_type": "display_data"
    }
   ],
   "source": [
    "plt.xlabel(np.transpose(np.array(ln)), fontsize=12);\n",
    "plt.bar(range(npatterns),Pn)\n",
    "plt.ylabel('Sample Probability Pr (4 photons)');"
   ]
  },
  {
   "cell_type": "markdown",
   "metadata": {},
   "source": [
    "# Check the weights of layers"
   ]
  },
  {
   "cell_type": "code",
   "execution_count": 52,
   "metadata": {},
   "outputs": [
    {
     "data": {
      "text/plain": [
       "[<keras.engine.input_layer.InputLayer at 0x7fc01c726a90>,\n",
       " <quomplex2021.phasespace.HaarLayerConstant at 0x7fc01c775610>,\n",
       " <quomplex2021.phasespace.RandomLayer at 0x7fc01c775c50>,\n",
       " <quomplex2021.phasespace.SingleModeSqueezerLayer at 0x7fc01c9fb9d0>,\n",
       " <quomplex2021.phasespace.SingleModeSqueezerLayer at 0x7fbf733c2c10>,\n",
       " <quomplex2021.phasespace.SingleModeSqueezerLayer at 0x7fbf71433150>,\n",
       " <quomplex2021.phasespace.SingleModeSqueezerLayer at 0x7fc01c539810>,\n",
       " <quomplex2021.phasespace.SingleModeSqueezerLayer at 0x7fc01c66e510>,\n",
       " <quomplex2021.phasespace.SingleModeSqueezerLayer at 0x7fc01c6c8cd0>,\n",
       " <quomplex2021.phasespace.LinearLayerConstant at 0x7fc01c796e50>,\n",
       " <quomplex2021.phasespace.GaussianLayer at 0x7fc01c9f3b50>]"
      ]
     },
     "execution_count": 52,
     "metadata": {},
     "output_type": "execute_result"
    }
   ],
   "source": [
    "model.layers"
   ]
  },
  {
   "cell_type": "code",
   "execution_count": 53,
   "metadata": {},
   "outputs": [
    {
     "name": "stdout",
     "output_type": "stream",
     "text": [
      "([[-0.185043126 -0.38805306 -0.0738483667 ... 0.298891127 -0.168454856 -0.360883]\n",
      " [0.38805306 -0.185043126 0.0431848839 ... 0.156669185 0.360883 -0.168454856]\n",
      " [0.112321086 0.313956708 0.649087846 ... -0.151243821 -0.436094642 -0.131933689]\n",
      " ...\n",
      " [-0.101924464 0.578585088 -0.14001 ... 0.520286918 -0.132423043 0.0257488638]\n",
      " [0.0664659 -0.141118765 0.129513189 ... 0.341032952 0.229375601 0.0849813148]\n",
      " [0.141118765 0.0664659 -0.292629451 ... -0.392677188 -0.0849813148 0.229375601]], [[-0.185043126 0.38805306 0.112321086 ... -0.101924464 0.0664659 0.141118765]\n",
      " [-0.38805306 -0.185043126 0.313956708 ... 0.578585088 -0.141118765 0.0664659]\n",
      " [-0.0738483667 0.0431848839 0.649087846 ... -0.14001 0.129513189 -0.292629451]\n",
      " ...\n",
      " [0.298891127 0.156669185 -0.151243821 ... 0.520286918 0.341032952 -0.392677188]\n",
      " [-0.168454856 0.360883 -0.436094642 ... -0.132423043 0.229375601 -0.0849813148]\n",
      " [-0.360883 -0.168454856 -0.131933689 ... 0.0257488638 0.0849813148 0.229375601]])\n"
     ]
    }
   ],
   "source": [
    "tf.print(model.layers[2].get_M())"
   ]
  },
  {
   "cell_type": "markdown",
   "metadata": {},
   "source": [
    "# Compute the statistical probability of pairs"
   ]
  },
  {
   "cell_type": "code",
   "execution_count": 54,
   "metadata": {},
   "outputs": [
    {
     "name": "stdout",
     "output_type": "stream",
     "text": [
      "Generated 1 patterns with photon number 0\n",
      "Photons 0 Sample 1 of 15 Pr=0.025355929508805275 pattern (0, 0, 0, 0, 0, 0)\n",
      "Generated 15 patterns with photon number 2\n",
      "Photons 2 Sample 1 of 15 Pr=0.004359358921647072 pattern (1, 1, 0, 0, 0, 0)\n",
      "Photons 2 Sample 2 of 15 Pr=0.0 pattern (1, 0, 1, 0, 0, 0)\n",
      "Photons 2 Sample 3 of 15 Pr=0.0 pattern (1, 0, 0, 1, 0, 0)\n",
      "Photons 2 Sample 4 of 15 Pr=5.820766091346741e-11 pattern (1, 0, 0, 0, 1, 0)\n",
      "Photons 2 Sample 5 of 15 Pr=-1.1641532182693481e-10 pattern (1, 0, 0, 0, 0, 1)\n",
      "Photons 2 Sample 6 of 15 Pr=-2.3283064365386963e-10 pattern (0, 1, 1, 0, 0, 0)\n",
      "Photons 2 Sample 7 of 15 Pr=-2.3283064365386963e-10 pattern (0, 1, 0, 1, 0, 0)\n",
      "Photons 2 Sample 8 of 15 Pr=4.656612873077393e-10 pattern (0, 1, 0, 0, 1, 0)\n",
      "Photons 2 Sample 9 of 15 Pr=4.656612873077393e-10 pattern (0, 1, 0, 0, 0, 1)\n",
      "Photons 2 Sample 10 of 15 Pr=3.316556103527546e-05 pattern (0, 0, 1, 1, 0, 0)\n",
      "Photons 2 Sample 11 of 15 Pr=4.121358506381512e-05 pattern (0, 0, 1, 0, 1, 0)\n",
      "Photons 2 Sample 12 of 15 Pr=9.119324386119843e-05 pattern (0, 0, 1, 0, 0, 1)\n",
      "Photons 2 Sample 13 of 15 Pr=0.0015321122482419014 pattern (0, 0, 0, 1, 1, 0)\n",
      "Photons 2 Sample 14 of 15 Pr=0.0005979451816529036 pattern (0, 0, 0, 1, 0, 1)\n",
      "Photons 2 Sample 15 of 15 Pr=0.005441761575639248 pattern (0, 0, 0, 0, 1, 1)\n",
      "Generated 15 patterns with photon number 4\n",
      "Photons 4 Sample 1 of 15 Pr=5.7069119065999985e-06 pattern (1, 1, 1, 1, 0, 0)\n",
      "Photons 4 Sample 2 of 15 Pr=7.090566214174032e-06 pattern (1, 1, 1, 0, 1, 0)\n",
      "Photons 4 Sample 3 of 15 Pr=1.56834430526942e-05 pattern (1, 1, 1, 0, 0, 1)\n",
      "Photons 4 Sample 4 of 15 Pr=0.0002634147822391242 pattern (1, 1, 0, 1, 1, 0)\n",
      "Photons 4 Sample 5 of 15 Pr=0.00010280659626005217 pattern (1, 1, 0, 1, 0, 1)\n",
      "Photons 4 Sample 6 of 15 Pr=0.0009355859365314245 pattern (1, 1, 0, 0, 1, 1)\n",
      "Photons 4 Sample 7 of 15 Pr=5.966285243630409e-10 pattern (1, 0, 1, 1, 1, 0)\n",
      "Photons 4 Sample 8 of 15 Pr=6.220943760126829e-10 pattern (1, 0, 1, 1, 0, 1)\n",
      "Photons 4 Sample 9 of 15 Pr=9.022187441587448e-10 pattern (1, 0, 1, 0, 1, 1)\n",
      "Photons 4 Sample 10 of 15 Pr=3.4815457183867693e-09 pattern (1, 0, 0, 1, 1, 1)\n",
      "Photons 4 Sample 11 of 15 Pr=1.1641532182693481e-10 pattern (0, 1, 1, 1, 1, 0)\n",
      "Photons 4 Sample 12 of 15 Pr=1.6007106751203537e-10 pattern (0, 1, 1, 1, 0, 1)\n",
      "Photons 4 Sample 13 of 15 Pr=1.3242242857813835e-09 pattern (0, 1, 1, 0, 1, 1)\n",
      "Photons 4 Sample 14 of 15 Pr=8.731149137020111e-10 pattern (0, 1, 0, 1, 1, 1)\n",
      "Photons 4 Sample 15 of 15 Pr=1.5737539797555655e-05 pattern (0, 0, 1, 1, 1, 1)\n",
      "Done\n",
      "CPU times: user 36.3 s, sys: 0 ns, total: 36.3 s\n",
      "Wall time: 36.4 s\n"
     ]
    }
   ],
   "source": [
    "%%time\n",
    "nmax = 2 # number of couples\n",
    "probn=np.zeros([nmax+1,], dtype=np_real)\n",
    "for j in range(nmax+1):\n",
    "    photon_number=2*j\n",
    "    # generate the patterns\n",
    "    ln=patterns(photon_number,nmodes)\n",
    "    npattern=len(ln)\n",
    "    print('Generated '+repr(npattern)+\\\n",
    "          ' patterns with photon number '+repr(photon_number))\n",
    "    # compute probability for each pattern\n",
    "    Pn=np.zeros([npattern,], dtype=np_real)\n",
    "    for nbar in range(npattern):        \n",
    "        Pn[nbar]=ps.Pr(ln[nbar],Qrho).numpy()\n",
    "        print('Photons '+repr(photon_number)+' Sample '+repr(nbar+1)+\\\n",
    "              ' of '+repr(npatterns)+' Pr=' +repr(Pn[nbar])+\\\n",
    "              ' pattern '+repr(ln[nbar]))\n",
    "    # sum the probability of each pattern\n",
    "    probn[j]=sum(Pn)\n",
    "print('Done')"
   ]
  },
  {
   "cell_type": "code",
   "execution_count": 55,
   "metadata": {},
   "outputs": [
    {
     "data": {
      "text/plain": [
       "array([0.0254, 0.0121, 0.0013])"
      ]
     },
     "execution_count": 55,
     "metadata": {},
     "output_type": "execute_result"
    }
   ],
   "source": [
    "probn"
   ]
  },
  {
   "cell_type": "code",
   "execution_count": 57,
   "metadata": {},
   "outputs": [
    {
     "data": {
      "image/png": "[encoded data removed]",
      "text/plain": [
       "<Figure size 432x288 with 1 Axes>"
      ]
     },
     "metadata": {
      "needs_background": "light"
     },
     "output_type": "display_data"
    }
   ],
   "source": [
    "plt.bar(range(nmax+1),probn)\n",
    "plt.ylabel('Probability of 2 n photons');"
   ]
  },
  {
   "cell_type": "markdown",
   "metadata": {},
   "source": [
    "Looks that the overall probability does not change, but most of the couples appears in the target modes"
   ]
  },
  {
   "cell_type": "code",
   "execution_count": 58,
   "metadata": {},
   "outputs": [
    {
     "name": "stdout",
     "output_type": "stream",
     "text": [
      "Model: \"model\"\n",
      "__________________________________________________________________________________________________\n",
      " Layer (type)                   Output Shape         Param #     Connected to                     \n",
      "==================================================================================================\n",
      " input_1 (InputLayer)           [(None, 12)]         0           []                               \n",
      "                                                                                                  \n",
      " haar_layer_constant (HaarLayer  [(None, 12),        0           ['input_1[0][0]']                \n",
      " Constant)                       (12, 1)]                                                         \n",
      "                                                                                                  \n",
      " random_layer (RandomLayer)     [(None, 12),         72          ['haar_layer_constant[0][0]',    \n",
      "                                 (12, 1)]                         'haar_layer_constant[0][1]']    \n",
      "                                                                                                  \n",
      " single_mode_squeezer_layer (Si  [(None, 12),        2           ['random_layer[0][0]',           \n",
      " ngleModeSqueezerLayer)          (12, 1)]                         'random_layer[0][1]']           \n",
      "                                                                                                  \n",
      " single_mode_squeezer_layer_1 (  [(None, 12),        2           ['single_mode_squeezer_layer[0][0\n",
      " SingleModeSqueezerLayer)        (12, 1)]                        ]',                              \n",
      "                                                                  'single_mode_squeezer_layer[0][1\n",
      "                                                                 ]']                              \n",
      "                                                                                                  \n",
      " single_mode_squeezer_layer_2 (  [(None, 12),        2           ['single_mode_squeezer_layer_1[0]\n",
      " SingleModeSqueezerLayer)        (12, 1)]                        [0]',                            \n",
      "                                                                  'single_mode_squeezer_layer_1[0]\n",
      "                                                                 [1]']                            \n",
      "                                                                                                  \n",
      " single_mode_squeezer_layer_3 (  [(None, 12),        2           ['single_mode_squeezer_layer_2[0]\n",
      " SingleModeSqueezerLayer)        (12, 1)]                        [0]',                            \n",
      "                                                                  'single_mode_squeezer_layer_2[0]\n",
      "                                                                 [1]']                            \n",
      "                                                                                                  \n",
      " single_mode_squeezer_layer_4 (  [(None, 12),        2           ['single_mode_squeezer_layer_3[0]\n",
      " SingleModeSqueezerLayer)        (12, 1)]                        [0]',                            \n",
      "                                                                  'single_mode_squeezer_layer_3[0]\n",
      "                                                                 [1]']                            \n",
      "                                                                                                  \n",
      " single_mode_squeezer_layer_5 (  [(None, 12),        2           ['single_mode_squeezer_layer_4[0]\n",
      " SingleModeSqueezerLayer)        (12, 1)]                        [0]',                            \n",
      "                                                                  'single_mode_squeezer_layer_4[0]\n",
      "                                                                 [1]']                            \n",
      "                                                                                                  \n",
      " linear_layer_constant (LinearL  [(None, 12),        0           ['single_mode_squeezer_layer_5[0]\n",
      " ayerConstant)                   (12, 1)]                        [0]',                            \n",
      "                                                                  'single_mode_squeezer_layer_5[0]\n",
      "                                                                 [1]']                            \n",
      "                                                                                                  \n",
      " gaussian_layer (GaussianLayer)  [(None, 1),         156         ['linear_layer_constant[0][0]',  \n",
      "                                 (None, 1)]                       'linear_layer_constant[0][1]']  \n",
      "                                                                                                  \n",
      "==================================================================================================\n",
      "Total params: 240\n",
      "Trainable params: 84\n",
      "Non-trainable params: 156\n",
      "__________________________________________________________________________________________________\n"
     ]
    }
   ],
   "source": [
    "model.summary()"
   ]
  },
  {
   "cell_type": "code",
   "execution_count": 59,
   "metadata": {},
   "outputs": [
    {
     "data": {
      "text/plain": [
       "<tf.Variable 'single_mode_squeezer_layer/r:0' shape=() dtype=float32, numpy=1.0019027>"
      ]
     },
     "execution_count": 59,
     "metadata": {},
     "output_type": "execute_result"
    }
   ],
   "source": [
    "model.layers[3].r"
   ]
  },
  {
   "cell_type": "code",
   "execution_count": 60,
   "metadata": {},
   "outputs": [
    {
     "data": {
      "text/plain": [
       "<tf.Variable 'single_mode_squeezer_layer/theta:0' shape=() dtype=float32, numpy=0.7854839>"
      ]
     },
     "execution_count": 60,
     "metadata": {},
     "output_type": "execute_result"
    }
   ],
   "source": [
    "model.layers[3].theta"
   ]
  },
  {
   "cell_type": "code",
   "execution_count": 61,
   "metadata": {},
   "outputs": [
    {
     "data": {
      "text/plain": [
       "<tf.Variable 'single_mode_squeezer_layer_1/r:0' shape=() dtype=float32, numpy=0.94487077>"
      ]
     },
     "execution_count": 61,
     "metadata": {},
     "output_type": "execute_result"
    }
   ],
   "source": [
    "model.layers[4].r"
   ]
  },
  {
   "cell_type": "code",
   "execution_count": 62,
   "metadata": {},
   "outputs": [
    {
     "data": {
      "text/plain": [
       "<tf.Variable 'single_mode_squeezer_layer_1/theta:0' shape=() dtype=float32, numpy=0.78540343>"
      ]
     },
     "execution_count": 62,
     "metadata": {},
     "output_type": "execute_result"
    }
   ],
   "source": [
    "model.layers[4].theta"
   ]
  },
  {
   "cell_type": "code",
   "execution_count": 63,
   "metadata": {},
   "outputs": [
    {
     "data": {
      "text/plain": [
       "<tf.Variable 'single_mode_squeezer_layer_2/r:0' shape=() dtype=float32, numpy=1.5628673>"
      ]
     },
     "execution_count": 63,
     "metadata": {},
     "output_type": "execute_result"
    }
   ],
   "source": [
    "model.layers[5].r"
   ]
  },
  {
   "cell_type": "code",
   "execution_count": 64,
   "metadata": {},
   "outputs": [
    {
     "data": {
      "text/plain": [
       "<tf.Variable 'single_mode_squeezer_layer_3/r:0' shape=() dtype=float32, numpy=1.8392518>"
      ]
     },
     "execution_count": 64,
     "metadata": {},
     "output_type": "execute_result"
    }
   ],
   "source": [
    "model.layers[6].r"
   ]
  },
  {
   "cell_type": "code",
   "execution_count": 65,
   "metadata": {},
   "outputs": [
    {
     "data": {
      "text/plain": [
       "<tf.Variable 'single_mode_squeezer_layer_4/r:0' shape=() dtype=float32, numpy=0.9276404>"
      ]
     },
     "execution_count": 65,
     "metadata": {},
     "output_type": "execute_result"
    }
   ],
   "source": [
    "model.layers[7].r"
   ]
  },
  {
   "cell_type": "code",
   "execution_count": 66,
   "metadata": {},
   "outputs": [
    {
     "data": {
      "text/plain": [
       "<tf.Variable 'single_mode_squeezer_layer_5/r:0' shape=() dtype=float32, numpy=0.93269795>"
      ]
     },
     "execution_count": 66,
     "metadata": {},
     "output_type": "execute_result"
    }
   ],
   "source": [
    "model.layers[8].r"
   ]
  },
  {
   "cell_type": "code",
   "execution_count": null,
   "metadata": {},
   "outputs": [],
   "source": []
  }
 ],
 "metadata": {
  "kernelspec": {
   "display_name": "Python 3 (ipykernel)",
   "language": "python",
   "name": "python3"
  },
  "language_info": {
   "codemirror_mode": {
    "name": "ipython",
    "version": 3
   },
   "file_extension": ".py",
   "mimetype": "text/x-python",
   "name": "python",
   "nbconvert_exporter": "python",
   "pygments_lexer": "ipython3",
   "version": "3.8.13"
  }
 },
 "nbformat": 4,
 "nbformat_minor": 4
}
