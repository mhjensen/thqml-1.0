{
 "cells": [
  {
   "cell_type": "markdown",
   "metadata": {},
   "source": [
    "# Model Haar interferometer with squeezed states, with training on differential particle number"
   ]
  },
  {
   "cell_type": "markdown",
   "metadata": {},
   "source": [
    "We test the boson sampling operator \n",
    "on coherent states and squeezed states, and \n",
    "propagating in a random medium\n",
    "\n",
    "We train the random medium to minimize <(n0-n1)^2> with a differential layer\n",
    "\n",
    "A linear interferometer is used for training\n",
    "\n",
    "Squeezing parameters are not trained\n",
    "\n",
    "nonlinearxwaves@gmail.com<br>\n",
    "@version 9 February 2021 <br>\n",
    "@version 1 October 2023 <br>"
   ]
  },
  {
   "cell_type": "code",
   "execution_count": 1,
   "metadata": {},
   "outputs": [],
   "source": [
    "import os\n",
    "os.environ['TF_CPP_MIN_LOG_LEVEL'] = '2' # disable warning messages "
   ]
  },
  {
   "cell_type": "code",
   "execution_count": 2,
   "metadata": {},
   "outputs": [],
   "source": [
    "import numpy as np\n",
    "from thqml import phasespace as ps\n",
    "import tensorflow as tf\n",
    "import matplotlib.pyplot as plt\n",
    "import itertools as it"
   ]
  },
  {
   "cell_type": "code",
   "execution_count": 3,
   "metadata": {},
   "outputs": [],
   "source": [
    "tf_complex = tf.complex\n",
    "tf_real = tf.float32\n",
    "np_complex = complex\n",
    "np_real = np.float64"
   ]
  },
  {
   "cell_type": "code",
   "execution_count": 4,
   "metadata": {},
   "outputs": [],
   "source": [
    "tf.keras.backend.clear_session()"
   ]
  },
  {
   "cell_type": "code",
   "execution_count": 5,
   "metadata": {},
   "outputs": [],
   "source": [
    "#np.set_printoptions(precision=4)"
   ]
  },
  {
   "cell_type": "markdown",
   "metadata": {},
   "source": [
    "Check GPU"
   ]
  },
  {
   "cell_type": "code",
   "execution_count": 6,
   "metadata": {},
   "outputs": [
    {
     "name": "stdout",
     "output_type": "stream",
     "text": [
      "Num GPUs Available:  0\n"
     ]
    }
   ],
   "source": [
    "print(\"Num GPUs Available: \", len(tf.config.experimental.list_physical_devices('GPU')))"
   ]
  },
  {
   "cell_type": "code",
   "execution_count": 7,
   "metadata": {},
   "outputs": [],
   "source": [
    "import warnings\n",
    "warnings.filterwarnings('ignore')"
   ]
  },
  {
   "cell_type": "markdown",
   "metadata": {},
   "source": [
    "## Dimension"
   ]
  },
  {
   "cell_type": "code",
   "execution_count": 8,
   "metadata": {},
   "outputs": [],
   "source": [
    "N = 12"
   ]
  },
  {
   "cell_type": "code",
   "execution_count": 9,
   "metadata": {},
   "outputs": [],
   "source": [
    "n=np.floor_divide(N,2)"
   ]
  },
  {
   "cell_type": "code",
   "execution_count": 10,
   "metadata": {},
   "outputs": [],
   "source": [
    "nmodes = int(n)"
   ]
  },
  {
   "cell_type": "code",
   "execution_count": 11,
   "metadata": {},
   "outputs": [
    {
     "name": "stdout",
     "output_type": "stream",
     "text": [
      "Number of modes 6\n"
     ]
    }
   ],
   "source": [
    "print('Number of modes '+repr(n))"
   ]
  },
  {
   "cell_type": "markdown",
   "metadata": {},
   "source": [
    "## Build vacuum by the Gaussian state"
   ]
  },
  {
   "cell_type": "code",
   "execution_count": 12,
   "metadata": {},
   "outputs": [],
   "source": [
    "vacuum = ps.VacuumLayer(N)"
   ]
  },
  {
   "cell_type": "markdown",
   "metadata": {},
   "source": [
    "## Parameter for squeezing"
   ]
  },
  {
   "cell_type": "code",
   "execution_count": 13,
   "metadata": {},
   "outputs": [],
   "source": [
    "r_np=0.88;\n",
    "theta_np=np.pi/4;"
   ]
  },
  {
   "cell_type": "markdown",
   "metadata": {},
   "source": [
    "## Random medium (Haar measure)"
   ]
  },
  {
   "cell_type": "code",
   "execution_count": 14,
   "metadata": {},
   "outputs": [],
   "source": [
    "HAAR=ps.HaarLayerConstant(N)"
   ]
  },
  {
   "cell_type": "code",
   "execution_count": 15,
   "metadata": {},
   "outputs": [],
   "source": [
    "R=ps.RandomLayer(N) # trainable layer"
   ]
  },
  {
   "cell_type": "markdown",
   "metadata": {},
   "source": [
    "## Build the model (the squeezed states are not trainable)\n",
    "squeezed states are generated and mixed by a random medium and then go into an Haar Inteferometer"
   ]
  },
  {
   "cell_type": "code",
   "execution_count": 16,
   "metadata": {},
   "outputs": [],
   "source": [
    "xin = tf.keras.layers.Input(N)\n",
    "x1, a1 = HAAR(xin)\n",
    "x1, a1 = R(x1,a1)\n",
    "for j in range(nmodes):\n",
    "    x1, a1 = ps.SingleModeSqueezerLayer(N, r_np=r_np, theta_np=theta_np, n_squeezed=j, trainable=False)(x1,a1)\n",
    "chir, chii = vacuum(x1, a1)\n",
    "model = tf.keras.Model(inputs = xin, outputs=[chir, chii])"
   ]
  },
  {
   "cell_type": "code",
   "execution_count": 17,
   "metadata": {},
   "outputs": [
    {
     "data": {
      "text/plain": [
       "12"
      ]
     },
     "execution_count": 17,
     "metadata": {},
     "output_type": "execute_result"
    }
   ],
   "source": [
    "model.input_shape[1]"
   ]
  },
  {
   "cell_type": "code",
   "execution_count": 18,
   "metadata": {},
   "outputs": [
    {
     "name": "stdout",
     "output_type": "stream",
     "text": [
      "Model: \"model\"\n",
      "__________________________________________________________________________________________________\n",
      " Layer (type)                   Output Shape         Param #     Connected to                     \n",
      "==================================================================================================\n",
      " input_1 (InputLayer)           [(None, 12)]         0           []                               \n",
      "                                                                                                  \n",
      " haar_layer_constant (HaarLayer  [(None, 12),        0           ['input_1[0][0]']                \n",
      " Constant)                       (12, 1)]                                                         \n",
      "                                                                                                  \n",
      " random_layer (RandomLayer)     [(None, 12),         72          ['haar_layer_constant[0][0]',    \n",
      "                                 (12, 1)]                         'haar_layer_constant[0][1]']    \n",
      "                                                                                                  \n",
      " single_mode_squeezer_layer (Si  [(None, 12),        2           ['random_layer[0][0]',           \n",
      " ngleModeSqueezerLayer)          (12, 1)]                         'random_layer[0][1]']           \n",
      "                                                                                                  \n",
      " single_mode_squeezer_layer_1 (  [(None, 12),        2           ['single_mode_squeezer_layer[0][0\n",
      " SingleModeSqueezerLayer)        (12, 1)]                        ]',                              \n",
      "                                                                  'single_mode_squeezer_layer[0][1\n",
      "                                                                 ]']                              \n",
      "                                                                                                  \n",
      " single_mode_squeezer_layer_2 (  [(None, 12),        2           ['single_mode_squeezer_layer_1[0]\n",
      " SingleModeSqueezerLayer)        (12, 1)]                        [0]',                            \n",
      "                                                                  'single_mode_squeezer_layer_1[0]\n",
      "                                                                 [1]']                            \n",
      "                                                                                                  \n",
      " single_mode_squeezer_layer_3 (  [(None, 12),        2           ['single_mode_squeezer_layer_2[0]\n",
      " SingleModeSqueezerLayer)        (12, 1)]                        [0]',                            \n",
      "                                                                  'single_mode_squeezer_layer_2[0]\n",
      "                                                                 [1]']                            \n",
      "                                                                                                  \n",
      " single_mode_squeezer_layer_4 (  [(None, 12),        2           ['single_mode_squeezer_layer_3[0]\n",
      " SingleModeSqueezerLayer)        (12, 1)]                        [0]',                            \n",
      "                                                                  'single_mode_squeezer_layer_3[0]\n",
      "                                                                 [1]']                            \n",
      "                                                                                                  \n",
      " single_mode_squeezer_layer_5 (  [(None, 12),        2           ['single_mode_squeezer_layer_4[0]\n",
      " SingleModeSqueezerLayer)        (12, 1)]                        [0]',                            \n",
      "                                                                  'single_mode_squeezer_layer_4[0]\n",
      "                                                                 [1]']                            \n",
      "                                                                                                  \n",
      " gaussian_layer (GaussianLayer)  [(None, 1),         156         ['single_mode_squeezer_layer_5[0]\n",
      "                                 (None, 1)]                      [0]',                            \n",
      "                                                                  'single_mode_squeezer_layer_5[0]\n",
      "                                                                 [1]']                            \n",
      "                                                                                                  \n",
      "==================================================================================================\n",
      "Total params: 240\n",
      "Trainable params: 72\n",
      "Non-trainable params: 168\n",
      "__________________________________________________________________________________________________\n"
     ]
    }
   ],
   "source": [
    "model.summary()"
   ]
  },
  {
   "cell_type": "markdown",
   "metadata": {},
   "source": [
    "## Photon counting layer "
   ]
  },
  {
   "cell_type": "markdown",
   "metadata": {},
   "source": [
    "Dummy input"
   ]
  },
  {
   "cell_type": "code",
   "execution_count": 19,
   "metadata": {},
   "outputs": [],
   "source": [
    "Nbatch=10\n",
    "xtrain = np.random.rand(Nbatch, N)-0.5"
   ]
  },
  {
   "cell_type": "markdown",
   "metadata": {},
   "source": [
    "Model with the photon counting layer"
   ]
  },
  {
   "cell_type": "code",
   "execution_count": 20,
   "metadata": {},
   "outputs": [
    {
     "name": "stdout",
     "output_type": "stream",
     "text": [
      "[[0.996120691 0.996120453 0.996120214 0.996120691 0.996121049 0.996120453]]\n"
     ]
    }
   ],
   "source": [
    "photon_counter=ps.PhotonCountingLayer(N) # define the layer\n",
    "n_out = photon_counter(chir,chir, model);  # define the output tensor\n",
    "Nphoton = tf.keras.Model(inputs = xin, outputs=n_out) # define the model with inputs and ouputs\n",
    "tf.print(Nphoton(xtrain)); "
   ]
  },
  {
   "cell_type": "markdown",
   "metadata": {},
   "source": [
    "# Differential Gaussian Layer"
   ]
  },
  {
   "cell_type": "code",
   "execution_count": 21,
   "metadata": {},
   "outputs": [],
   "source": [
    "Diff=ps.DifferentialGaussianLayer(N)\n",
    "nboson, Dn, Dn2 = Diff(chir,chii, model)\n",
    "HModel = tf.keras.Model(inputs = xin, outputs=[nboson,Dn2])"
   ]
  },
  {
   "cell_type": "code",
   "execution_count": 22,
   "metadata": {},
   "outputs": [
    {
     "name": "stdout",
     "output_type": "stream",
     "text": [
      "[[0 3.62751961 5.53536892 4.75839615 4.74084663 4.5266552]\n",
      " [3.62751961 0 5.38350105 2.98493 3.46787596 4.42038822]\n",
      " [5.53536892 5.38350105 0 5.33703136 6.13564539 5.59839]\n",
      " [4.75839615 2.98493 5.33703136 0 4.7537508 3.23938942]\n",
      " [4.74084663 3.46787596 6.13564539 4.7537508 0 4.94607353]\n",
      " [4.5266552 4.42038822 5.59839 3.23938942 4.94607353 0]]\n"
     ]
    }
   ],
   "source": [
    "n_out,Dn_out=HModel(xtrain)\n",
    "tf.print(Dn_out)"
   ]
  },
  {
   "cell_type": "markdown",
   "metadata": {},
   "source": [
    "Initial differential corrents"
   ]
  },
  {
   "cell_type": "code",
   "execution_count": 23,
   "metadata": {},
   "outputs": [
    {
     "data": {
      "text/plain": [
       "<tf.Tensor: shape=(1,), dtype=float32, numpy=array([3.6275196], dtype=float32)>"
      ]
     },
     "execution_count": 23,
     "metadata": {},
     "output_type": "execute_result"
    }
   ],
   "source": [
    "tf.gather_nd(Dn_out,[[0,1]])"
   ]
  },
  {
   "cell_type": "markdown",
   "metadata": {},
   "source": [
    "Photon numbers before training"
   ]
  },
  {
   "cell_type": "code",
   "execution_count": 24,
   "metadata": {},
   "outputs": [
    {
     "name": "stdout",
     "output_type": "stream",
     "text": [
      "[[0.996120691 0.996120453 0.996120214 0.996120691 0.996121049 0.996120453]]\n"
     ]
    }
   ],
   "source": [
    "tf.print(n_out)"
   ]
  },
  {
   "cell_type": "code",
   "execution_count": 25,
   "metadata": {},
   "outputs": [
    {
     "data": {
      "text/plain": [
       "<tf.Tensor: shape=(), dtype=float32, numpy=0.99612063>"
      ]
     },
     "execution_count": 25,
     "metadata": {},
     "output_type": "execute_result"
    }
   ],
   "source": [
    "tf.reduce_mean(n_out)"
   ]
  },
  {
   "cell_type": "code",
   "execution_count": 26,
   "metadata": {},
   "outputs": [
    {
     "data": {
      "text/plain": [
       "<tf.Tensor: shape=(1,), dtype=float32, numpy=array([0.99612045], dtype=float32)>"
      ]
     },
     "execution_count": 26,
     "metadata": {},
     "output_type": "execute_result"
    }
   ],
   "source": [
    "tf.gather_nd(n_out,[[0,1]])"
   ]
  },
  {
   "cell_type": "markdown",
   "metadata": {},
   "source": [
    "# Heisenberg Layer"
   ]
  },
  {
   "cell_type": "code",
   "execution_count": 27,
   "metadata": {},
   "outputs": [],
   "source": [
    "Heis=ps.HeisenbergGaussianLayer(N)\n",
    "nbosonH, nboson2, Dnboson2 = Heis(chir,chii, model)\n",
    "HModel2 = tf.keras.Model(inputs = xin, outputs=[nbosonH, nboson2 , Dnboson2])"
   ]
  },
  {
   "cell_type": "code",
   "execution_count": 28,
   "metadata": {},
   "outputs": [
    {
     "name": "stdout",
     "output_type": "stream",
     "text": [
      "[[3.59051967 3.03975725 4.39071 3.23797202 3.73308897 3.51420403]]\n",
      "[3.59051967]\n"
     ]
    }
   ],
   "source": [
    "nHout,n2Hout,D2Hout=HModel2(xtrain)\n",
    "tf.print(n2Hout)\n",
    "tf.print(tf.gather_nd(n2Hout,[[0,0]]))"
   ]
  },
  {
   "cell_type": "markdown",
   "metadata": {},
   "source": [
    "## Model with the target output to train"
   ]
  },
  {
   "cell_type": "markdown",
   "metadata": {},
   "source": [
    "Model with the custom ouput to train"
   ]
  },
  {
   "cell_type": "code",
   "execution_count": 29,
   "metadata": {},
   "outputs": [],
   "source": [
    "Dn_out01=tf.gather_nd(Dn2,[[0,1]]) #check this\n",
    "#n2_out0=tf.gather_nd(nboson2,[[0,0]])\n",
    "#n2_out1=tf.gather_nd(nboson2,[[0,1]])\n",
    "#train_out=tf.exp(-Dn_out01+n2_out0+n2_out1)\n",
    "train_out=tf.exp(Dn_out01,name='Dn01')\n",
    "nboson0=tf.gather_nd(nboson,[[0,0]], name='n0')\n",
    "nboson1=tf.gather_nd(nboson,[[0,1]], name='n1')\n",
    "Train_model = tf.keras.Model(inputs = xin, outputs=[train_out, nboson0, nboson1]) # define the model with inputs and ouputs"
   ]
  },
  {
   "cell_type": "markdown",
   "metadata": {},
   "source": [
    "Define the custom loss to train the model for maximum output"
   ]
  },
  {
   "cell_type": "code",
   "execution_count": 30,
   "metadata": {},
   "outputs": [],
   "source": [
    "def custom_loss(yt,yp):\n",
    "    # the loss only return the output of the network yp\n",
    "    # that need to be minimized\n",
    "    return yp\n",
    "Train_model.compile(loss=custom_loss, optimizer='Adam')"
   ]
  },
  {
   "cell_type": "code",
   "execution_count": 31,
   "metadata": {},
   "outputs": [],
   "source": [
    "#Train_model.add_loss(train_out)\n",
    "#Train_model.add_loss(nboson0)\n",
    "#Train_model.add_loss(nboson1)\n",
    "#Train_model.compile(optimizer='Adam')"
   ]
  },
  {
   "cell_type": "markdown",
   "metadata": {},
   "source": [
    "# Transform model"
   ]
  },
  {
   "cell_type": "code",
   "execution_count": 32,
   "metadata": {},
   "outputs": [],
   "source": [
    "kin, Qrho =ps.getQTransformModel(model)"
   ]
  },
  {
   "cell_type": "code",
   "execution_count": 33,
   "metadata": {},
   "outputs": [
    {
     "name": "stdout",
     "output_type": "stream",
     "text": [
      "Model: \"model_5\"\n",
      "_________________________________________________________________\n",
      " Layer (type)                Output Shape              Param #   \n",
      "=================================================================\n",
      " input_2 (InputLayer)        [(None, 12)]              0         \n",
      "                                                                 \n",
      " q_transform_layer (QTransfo  (None, None)             240       \n",
      " rmLayer)                                                        \n",
      "                                                                 \n",
      "=================================================================\n",
      "Total params: 240\n",
      "Trainable params: 72\n",
      "Non-trainable params: 168\n",
      "_________________________________________________________________\n"
     ]
    }
   ],
   "source": [
    "Qrho.summary()"
   ]
  },
  {
   "cell_type": "markdown",
   "metadata": {},
   "source": [
    "# Test the Pr operator "
   ]
  },
  {
   "cell_type": "markdown",
   "metadata": {},
   "source": [
    "Probability of zero photon"
   ]
  },
  {
   "cell_type": "code",
   "execution_count": 34,
   "metadata": {},
   "outputs": [
    {
     "data": {
      "text/plain": [
       "<tf.Tensor: shape=(1, 1), dtype=float32, numpy=array([[0.12573013]], dtype=float32)>"
      ]
     },
     "execution_count": 34,
     "metadata": {},
     "output_type": "execute_result"
    }
   ],
   "source": [
    "ps.Pr([0]*nmodes, Qrho)"
   ]
  },
  {
   "cell_type": "markdown",
   "metadata": {},
   "source": [
    "Probability of two photons"
   ]
  },
  {
   "cell_type": "code",
   "execution_count": 35,
   "metadata": {},
   "outputs": [
    {
     "name": "stdout",
     "output_type": "stream",
     "text": [
      "[2, 0, 0, 0, 0, 0]\n"
     ]
    },
    {
     "data": {
      "text/plain": [
       "<tf.Tensor: shape=(1,), dtype=float32, numpy=array([0.00962241], dtype=float32)>"
      ]
     },
     "execution_count": 35,
     "metadata": {},
     "output_type": "execute_result"
    }
   ],
   "source": [
    "nbar = [0]*nmodes\n",
    "nbar[0]=2\n",
    "print(nbar)\n",
    "ps.Pr(nbar, Qrho)"
   ]
  },
  {
   "cell_type": "markdown",
   "metadata": {},
   "source": [
    "# Generate all the possible photon patterns assuming max one photon per mode"
   ]
  },
  {
   "cell_type": "code",
   "execution_count": 36,
   "metadata": {},
   "outputs": [],
   "source": [
    "def patterns(nphotons, nmodes):\n",
    "    # Return the patterns of nmodes with maximal nphotons\n",
    "    \n",
    "    # generate a list of zero\n",
    "    l1=[0]*nmodes\n",
    "    # set nphotons 1\n",
    "    for j in range(nphotons):\n",
    "        l1[j]=1\n",
    "    # compute all the permutations (zeros and one are distinguishable)\n",
    "    nlist=it.permutations(l1,nmodes) # return iterators\n",
    "    # convert to list the iterators\n",
    "    ln=list(nlist)\n",
    "    # sort the list in reverse order to have the patterns with more ones first\n",
    "    ln.sort(reverse=True)\n",
    "    # remove duplicates (remove adjactent identical elements after sorting)\n",
    "    ln=list(ln for ln,_ in it.groupby(ln))\n",
    "    return ln"
   ]
  },
  {
   "cell_type": "code",
   "execution_count": 37,
   "metadata": {},
   "outputs": [
    {
     "name": "stdout",
     "output_type": "stream",
     "text": [
      "[(1, 1, 0, 0, 0, 0), (1, 0, 1, 0, 0, 0), (1, 0, 0, 1, 0, 0), (1, 0, 0, 0, 1, 0), (1, 0, 0, 0, 0, 1), (0, 1, 1, 0, 0, 0), (0, 1, 0, 1, 0, 0), (0, 1, 0, 0, 1, 0), (0, 1, 0, 0, 0, 1), (0, 0, 1, 1, 0, 0), (0, 0, 1, 0, 1, 0), (0, 0, 1, 0, 0, 1), (0, 0, 0, 1, 1, 0), (0, 0, 0, 1, 0, 1), (0, 0, 0, 0, 1, 1)]\n",
      "15\n"
     ]
    }
   ],
   "source": [
    "ln =patterns(2,nmodes)\n",
    "print(ln)\n",
    "print(len(ln))"
   ]
  },
  {
   "cell_type": "markdown",
   "metadata": {},
   "source": [
    "## Make a plot versus the probability"
   ]
  },
  {
   "cell_type": "markdown",
   "metadata": {},
   "source": [
    "Build an array of photon number sampling"
   ]
  },
  {
   "cell_type": "code",
   "execution_count": 38,
   "metadata": {},
   "outputs": [
    {
     "name": "stdout",
     "output_type": "stream",
     "text": [
      "Sample 0 of 15 (1, 1, 0, 0, 0, 0)\n",
      "Computed by the neural network: 0.016065268\n",
      "--------------------\n",
      "Sample 1 of 15 (1, 0, 1, 0, 0, 0)\n",
      "Computed by the neural network: 0.007278896\n",
      "--------------------\n",
      "Sample 2 of 15 (1, 0, 0, 1, 0, 0)\n",
      "Computed by the neural network: 0.0013502678\n",
      "--------------------\n",
      "Sample 3 of 15 (1, 0, 0, 0, 1, 0)\n",
      "Computed by the neural network: 0.009438812\n",
      "--------------------\n",
      "Sample 4 of 15 (1, 0, 0, 0, 0, 1)\n",
      "Computed by the neural network: 0.009364773\n",
      "--------------------\n",
      "Sample 5 of 15 (0, 1, 1, 0, 0, 0)\n",
      "Computed by the neural network: 0.0009853698\n",
      "--------------------\n",
      "Sample 6 of 15 (0, 1, 0, 1, 0, 0)\n",
      "Computed by the neural network: 0.020641364\n",
      "--------------------\n",
      "Sample 7 of 15 (0, 1, 0, 0, 1, 0)\n",
      "Computed by the neural network: 0.020833382\n",
      "--------------------\n",
      "Sample 8 of 15 (0, 1, 0, 0, 0, 1)\n",
      "Computed by the neural network: 0.002351798\n",
      "--------------------\n",
      "Sample 9 of 15 (0, 0, 1, 1, 0, 0)\n",
      "Computed by the neural network: 0.0048458427\n",
      "--------------------\n",
      "Sample 10 of 15 (0, 0, 1, 0, 1, 0)\n",
      "Computed by the neural network: 5.743187e-05\n",
      "--------------------\n",
      "Sample 11 of 15 (0, 0, 1, 0, 0, 1)\n",
      "Computed by the neural network: 0.0050805174\n",
      "--------------------\n",
      "Sample 12 of 15 (0, 0, 0, 1, 1, 0)\n",
      "Computed by the neural network: 0.003672921\n",
      "--------------------\n",
      "Sample 13 of 15 (0, 0, 0, 1, 0, 1)\n",
      "Computed by the neural network: 0.024112193\n",
      "--------------------\n",
      "Sample 14 of 15 (0, 0, 0, 0, 1, 1)\n",
      "Computed by the neural network: 0.0049968027\n",
      "--------------------\n",
      "Done\n"
     ]
    }
   ],
   "source": [
    "npatterns=len(ln)\n",
    "Pn = np.zeros([npatterns,], dtype=np.float32)\n",
    "Pth = np.zeros_like(Pn)\n",
    "xaxis=np.zeros_like(Pn)\n",
    "for nbar in range(npatterns):\n",
    "    print('Sample '+repr(nbar)+' of '+repr(npatterns)+' '+repr(ln[nbar]))\n",
    "    Pn[nbar]=ps.Pr(ln[nbar],Qrho).numpy()\n",
    "    tf.print('Computed by the neural network: '+repr(Pn[nbar]))\n",
    "    print('--------------------')\n",
    "    xaxis[nbar]=nbar #store for plot \n",
    "print('Done')"
   ]
  },
  {
   "cell_type": "markdown",
   "metadata": {},
   "source": [
    "Store data for plot"
   ]
  },
  {
   "cell_type": "code",
   "execution_count": 39,
   "metadata": {},
   "outputs": [],
   "source": [
    "ln2u=ln\n",
    "Pn2u=Pn"
   ]
  },
  {
   "cell_type": "markdown",
   "metadata": {},
   "source": [
    "Plot"
   ]
  },
  {
   "cell_type": "code",
   "execution_count": 40,
   "metadata": {},
   "outputs": [
    {
     "data": {
      "text/plain": [
       "(0.0, 0.07)"
      ]
     },
     "execution_count": 40,
     "metadata": {},
     "output_type": "execute_result"
    },
    {
     "data": {
      "image/png": "[encoded data removed]",
      "text/plain": [
       "<Figure size 640x480 with 1 Axes>"
      ]
     },
     "metadata": {},
     "output_type": "display_data"
    }
   ],
   "source": [
    "plt.bar(range(len(ln2u)),Pn2u)\n",
    "plt.xlabel(np.transpose(np.array(ln2u)), fontsize=12);\n",
    "plt.ylabel('Sample Probability Pr (2 photons)');\n",
    "plt.ylim((0,0.07))"
   ]
  },
  {
   "cell_type": "markdown",
   "metadata": {},
   "source": [
    "## Patterns with 4 photons"
   ]
  },
  {
   "cell_type": "code",
   "execution_count": 41,
   "metadata": {},
   "outputs": [
    {
     "name": "stdout",
     "output_type": "stream",
     "text": [
      "15\n",
      "Sample 0 of 15 (1, 1, 1, 1, 0, 0)\n",
      "Computed by the neural network: 0.00053540256\n",
      "--------------------\n",
      "Sample 1 of 15 (1, 1, 1, 0, 1, 0)\n",
      "Computed by the neural network: 0.0006981875\n",
      "--------------------\n",
      "Sample 2 of 15 (1, 1, 1, 0, 0, 1)\n",
      "Computed by the neural network: 0.0011331879\n",
      "--------------------\n",
      "Sample 3 of 15 (1, 1, 0, 1, 1, 0)\n",
      "Computed by the neural network: 0.005340297\n",
      "--------------------\n",
      "Sample 4 of 15 (1, 1, 0, 1, 0, 1)\n",
      "Computed by the neural network: 0.00097501394\n",
      "--------------------\n",
      "Sample 5 of 15 (1, 1, 0, 0, 1, 1)\n",
      "Computed by the neural network: 0.005429069\n",
      "--------------------\n",
      "Sample 6 of 15 (1, 0, 1, 1, 1, 0)\n",
      "Computed by the neural network: 7.012028e-05\n",
      "--------------------\n",
      "Sample 7 of 15 (1, 0, 1, 1, 0, 1)\n",
      "Computed by the neural network: 0.0028711227\n",
      "--------------------\n",
      "Sample 8 of 15 (1, 0, 1, 0, 1, 1)\n",
      "Computed by the neural network: 0.00074942154\n",
      "--------------------\n",
      "Sample 9 of 15 (1, 0, 0, 1, 1, 1)\n",
      "Computed by the neural network: 0.0010197124\n",
      "--------------------\n",
      "Sample 10 of 15 (0, 1, 1, 1, 1, 0)\n",
      "Computed by the neural network: 0.0009876302\n",
      "--------------------\n",
      "Sample 11 of 15 (0, 1, 1, 1, 0, 1)\n",
      "Computed by the neural network: 0.00040701678\n",
      "--------------------\n",
      "Sample 12 of 15 (0, 1, 1, 0, 1, 1)\n",
      "Computed by the neural network: 0.00090219174\n",
      "--------------------\n",
      "Sample 13 of 15 (0, 1, 0, 1, 1, 1)\n",
      "Computed by the neural network: 0.0017511118\n",
      "--------------------\n",
      "Sample 14 of 15 (0, 0, 1, 1, 1, 1)\n",
      "Computed by the neural network: 0.000228424\n",
      "--------------------\n",
      "Done\n"
     ]
    }
   ],
   "source": [
    "ln =patterns(4,nmodes)\n",
    "print(len(ln))\n",
    "npatterns=len(ln)\n",
    "Pn = np.zeros([npatterns,], dtype=np.float32)\n",
    "Pth = np.zeros_like(Pn)\n",
    "xaxis=np.zeros_like(Pn)\n",
    "for nbar in range(npatterns):\n",
    "    print('Sample '+repr(nbar)+' of '+repr(npatterns)+' '+repr(ln[nbar]))\n",
    "    Pn[nbar]=ps.Pr(ln[nbar],Qrho).numpy()\n",
    "    tf.print('Computed by the neural network: '+repr(Pn[nbar]))\n",
    "    print('--------------------')\n",
    "    xaxis[nbar]=nbar #store for plot \n",
    "print('Done')\n"
   ]
  },
  {
   "cell_type": "code",
   "execution_count": 42,
   "metadata": {},
   "outputs": [
    {
     "data": {
      "image/png": "[encoded data removed]",
      "text/plain": [
       "<Figure size 640x480 with 1 Axes>"
      ]
     },
     "metadata": {},
     "output_type": "display_data"
    }
   ],
   "source": [
    "plt.bar(range(npatterns),Pn)\n",
    "plt.xlabel(np.transpose(np.array(ln)), fontsize=12);\n",
    "plt.ylabel('Sample Probability Pr (4 photons)');"
   ]
  },
  {
   "cell_type": "markdown",
   "metadata": {},
   "source": [
    "## Compute the probability of pairs "
   ]
  },
  {
   "cell_type": "code",
   "execution_count": 43,
   "metadata": {},
   "outputs": [
    {
     "name": "stdout",
     "output_type": "stream",
     "text": [
      "Generated 1 patterns with photon number 0\n",
      "Photons 0 Sample 1 of 15 Pr=0.12573012709617615 pattern (0, 0, 0, 0, 0, 0)\n",
      "Generated 15 patterns with photon number 2\n",
      "Photons 2 Sample 1 of 15 Pr=0.016065267845988274 pattern (1, 1, 0, 0, 0, 0)\n",
      "Photons 2 Sample 2 of 15 Pr=0.007278895936906338 pattern (1, 0, 1, 0, 0, 0)\n",
      "Photons 2 Sample 3 of 15 Pr=0.0013502677902579308 pattern (1, 0, 0, 1, 0, 0)\n",
      "Photons 2 Sample 4 of 15 Pr=0.009438811801373959 pattern (1, 0, 0, 0, 1, 0)\n",
      "Photons 2 Sample 5 of 15 Pr=0.009364772588014603 pattern (1, 0, 0, 0, 0, 1)\n",
      "Photons 2 Sample 6 of 15 Pr=0.000985369784757495 pattern (0, 1, 1, 0, 0, 0)\n",
      "Photons 2 Sample 7 of 15 Pr=0.02064136415719986 pattern (0, 1, 0, 1, 0, 0)\n",
      "Photons 2 Sample 8 of 15 Pr=0.02083338238298893 pattern (0, 1, 0, 0, 1, 0)\n",
      "Photons 2 Sample 9 of 15 Pr=0.0023517978843301535 pattern (0, 1, 0, 0, 0, 1)\n",
      "Photons 2 Sample 10 of 15 Pr=0.004845842719078064 pattern (0, 0, 1, 1, 0, 0)\n",
      "Photons 2 Sample 11 of 15 Pr=5.7431869208812714e-05 pattern (0, 0, 1, 0, 1, 0)\n",
      "Photons 2 Sample 12 of 15 Pr=0.005080517381429672 pattern (0, 0, 1, 0, 0, 1)\n",
      "Photons 2 Sample 13 of 15 Pr=0.003672921098768711 pattern (0, 0, 0, 1, 1, 0)\n",
      "Photons 2 Sample 14 of 15 Pr=0.024112192913889885 pattern (0, 0, 0, 1, 0, 1)\n",
      "Photons 2 Sample 15 of 15 Pr=0.004996802657842636 pattern (0, 0, 0, 0, 1, 1)\n",
      "Generated 15 patterns with photon number 4\n",
      "Photons 4 Sample 1 of 15 Pr=0.0005354025634005666 pattern (1, 1, 1, 1, 0, 0)\n",
      "Photons 4 Sample 2 of 15 Pr=0.0006981875048950315 pattern (1, 1, 1, 0, 1, 0)\n",
      "Photons 4 Sample 3 of 15 Pr=0.0011331879068166018 pattern (1, 1, 1, 0, 0, 1)\n",
      "Photons 4 Sample 4 of 15 Pr=0.005340296775102615 pattern (1, 1, 0, 1, 1, 0)\n",
      "Photons 4 Sample 5 of 15 Pr=0.0009750139433890581 pattern (1, 1, 0, 1, 0, 1)\n",
      "Photons 4 Sample 6 of 15 Pr=0.005429069045931101 pattern (1, 1, 0, 0, 1, 1)\n",
      "Photons 4 Sample 7 of 15 Pr=7.012028072495013e-05 pattern (1, 0, 1, 1, 1, 0)\n",
      "Photons 4 Sample 8 of 15 Pr=0.0028711226768791676 pattern (1, 0, 1, 1, 0, 1)\n",
      "Photons 4 Sample 9 of 15 Pr=0.0007494215387851 pattern (1, 0, 1, 0, 1, 1)\n",
      "Photons 4 Sample 10 of 15 Pr=0.0010197124211117625 pattern (1, 0, 0, 1, 1, 1)\n",
      "Photons 4 Sample 11 of 15 Pr=0.0009876302210614085 pattern (0, 1, 1, 1, 1, 0)\n",
      "Photons 4 Sample 12 of 15 Pr=0.0004070167778991163 pattern (0, 1, 1, 1, 0, 1)\n",
      "Photons 4 Sample 13 of 15 Pr=0.000902191735804081 pattern (0, 1, 1, 0, 1, 1)\n",
      "Photons 4 Sample 14 of 15 Pr=0.0017511118203401566 pattern (0, 1, 0, 1, 1, 1)\n",
      "Photons 4 Sample 15 of 15 Pr=0.00022842400358058512 pattern (0, 0, 1, 1, 1, 1)\n",
      "Done\n",
      "CPU times: user 55.8 s, sys: 3.02 ms, total: 55.8 s\n",
      "Wall time: 55.8 s\n"
     ]
    }
   ],
   "source": [
    "%%time\n",
    "nmax = 2 # number of couples\n",
    "probn=np.zeros([nmax+1,], dtype=np_real)\n",
    "for j in range(nmax+1):\n",
    "    photon_number=2*j\n",
    "    # generate the patterns\n",
    "    ln=patterns(photon_number,nmodes)\n",
    "    npattern=len(ln)\n",
    "    print('Generated '+repr(npattern)+\\\n",
    "          ' patterns with photon number '+repr(photon_number))\n",
    "    # compute probability for each pattern\n",
    "    Pn=np.zeros([npattern,], dtype=np_real)\n",
    "    for nbar in range(npattern):        \n",
    "        Pn[nbar]=ps.Pr(ln[nbar],Qrho).numpy()\n",
    "        print('Photons '+repr(photon_number)+' Sample '+repr(nbar+1)+\\\n",
    "              ' of '+repr(npatterns)+' Pr=' +repr(Pn[nbar])+\\\n",
    "              ' pattern '+repr(ln[nbar]))\n",
    "    # sum the probability of each pattern\n",
    "    probn[j]=sum(Pn)\n",
    "print('Done')"
   ]
  },
  {
   "cell_type": "code",
   "execution_count": 44,
   "metadata": {},
   "outputs": [
    {
     "data": {
      "image/png": "[encoded data removed]",
      "text/plain": [
       "<Figure size 640x480 with 1 Axes>"
      ]
     },
     "metadata": {},
     "output_type": "display_data"
    }
   ],
   "source": [
    "plt.bar(range(nmax+1),probn)\n",
    "#plt.xlabel(ln, fontsize=6);\n",
    "plt.ylabel('Probability of 2 n photons');"
   ]
  },
  {
   "cell_type": "markdown",
   "metadata": {},
   "source": [
    "# Train the model and recompute probabilities"
   ]
  },
  {
   "cell_type": "code",
   "execution_count": 45,
   "metadata": {},
   "outputs": [
    {
     "name": "stdout",
     "output_type": "stream",
     "text": [
      "CPU times: user 1min 5s, sys: 2.02 s, total: 1min 7s\n",
      "Wall time: 46.8 s\n"
     ]
    }
   ],
   "source": [
    "%%time\n",
    "history=Train_model.fit(xtrain,np.zeros_like(xtrain),epochs=5000,verbose=0)"
   ]
  },
  {
   "cell_type": "markdown",
   "metadata": {},
   "source": [
    "Plot training history"
   ]
  },
  {
   "cell_type": "code",
   "execution_count": 46,
   "metadata": {},
   "outputs": [
    {
     "data": {
      "text/plain": [
       "[<matplotlib.lines.Line2D at 0x7fdcec17eb30>]"
      ]
     },
     "execution_count": 46,
     "metadata": {},
     "output_type": "execute_result"
    },
    {
     "data": {
      "image/png": "[encoded data removed]",
      "text/plain": [
       "<Figure size 640x480 with 1 Axes>"
      ]
     },
     "metadata": {},
     "output_type": "display_data"
    }
   ],
   "source": [
    "plt.plot(history.history['tf.math.exp_loss'])"
   ]
  },
  {
   "cell_type": "markdown",
   "metadata": {},
   "source": [
    "Plot the training history in log scale (corresponding to Dn2_01, n0 and n1)"
   ]
  },
  {
   "cell_type": "code",
   "execution_count": 47,
   "metadata": {},
   "outputs": [
    {
     "data": {
      "text/plain": [
       "(0.0, 4.0)"
      ]
     },
     "execution_count": 47,
     "metadata": {},
     "output_type": "execute_result"
    },
    {
     "data": {
      "image/png": "[encoded data removed]",
      "text/plain": [
       "<Figure size 640x480 with 1 Axes>"
      ]
     },
     "metadata": {},
     "output_type": "display_data"
    }
   ],
   "source": [
    "plt.plot(np.log(history.history['tf.math.exp_loss']))\n",
    "plt.plot(history.history['tf.compat.v1.gather_nd_1_loss'])\n",
    "plt.plot(history.history['tf.compat.v1.gather_nd_2_loss'])\n",
    "plt.ylim((0,4.0))"
   ]
  },
  {
   "cell_type": "markdown",
   "metadata": {},
   "source": [
    "Plot number of photons"
   ]
  },
  {
   "cell_type": "code",
   "execution_count": 48,
   "metadata": {},
   "outputs": [
    {
     "data": {
      "text/plain": [
       "[<matplotlib.lines.Line2D at 0x7fdcc01b6e60>]"
      ]
     },
     "execution_count": 48,
     "metadata": {},
     "output_type": "execute_result"
    },
    {
     "data": {
      "image/png": "[encoded data removed]",
      "text/plain": [
       "<Figure size 640x480 with 1 Axes>"
      ]
     },
     "metadata": {},
     "output_type": "display_data"
    }
   ],
   "source": [
    "plt.plot(history.history['tf.math.exp_loss'])"
   ]
  },
  {
   "cell_type": "markdown",
   "metadata": {},
   "source": [
    "## Photon number after training"
   ]
  },
  {
   "cell_type": "code",
   "execution_count": 49,
   "metadata": {},
   "outputs": [
    {
     "name": "stdout",
     "output_type": "stream",
     "text": [
      "[[0.996120453 0.996120691 0.996120334 0.996120214 0.996120691 0.996120453]]\n"
     ]
    }
   ],
   "source": [
    "tf.print(Nphoton(xtrain)); "
   ]
  },
  {
   "cell_type": "code",
   "execution_count": 50,
   "metadata": {},
   "outputs": [
    {
     "data": {
      "text/plain": [
       "<tf.Tensor: shape=(), dtype=float32, numpy=0.99612045>"
      ]
     },
     "execution_count": 50,
     "metadata": {},
     "output_type": "execute_result"
    }
   ],
   "source": [
    "tf.reduce_mean(Nphoton(xtrain))"
   ]
  },
  {
   "cell_type": "markdown",
   "metadata": {},
   "source": [
    "## Photon correlations after training"
   ]
  },
  {
   "cell_type": "code",
   "execution_count": 51,
   "metadata": {},
   "outputs": [
    {
     "name": "stdout",
     "output_type": "stream",
     "text": [
      "[[0 0 5.84452868 4.49042034 5.81816626 4.50460196]\n",
      " [0 0 5.84452915 4.49042 5.81816578 4.50460243]\n",
      " [5.84452868 5.84452915 0 6.2811842 7.59839535 6.29573584]\n",
      " [4.49042034 4.49042 6.2811842 0 6.21464396 2.26305246]\n",
      " [5.81816626 5.81816578 7.59839535 6.21464396 0 6.25682068]\n",
      " [4.50460196 4.50460243 6.29573584 2.26305246 6.25682068 0]]\n",
      "0\n"
     ]
    }
   ],
   "source": [
    "n_out,Dn_out=HModel(xtrain)\n",
    "tf.print(Dn_out)\n",
    "tf.print(tf.gather_nd(Dn_out,[0,1]))"
   ]
  },
  {
   "cell_type": "markdown",
   "metadata": {},
   "source": [
    "Important the mean photon number does not change in the modes!\n",
    "But the difference between the number of photons is zero"
   ]
  },
  {
   "cell_type": "markdown",
   "metadata": {},
   "source": [
    "## Recompute the transform"
   ]
  },
  {
   "cell_type": "code",
   "execution_count": 52,
   "metadata": {},
   "outputs": [],
   "source": [
    "kin, Qrho =ps.getQTransformModel(model)\n",
    "#QLayer = ps.TransformLayer(N, model)\n",
    "#kin=tf.keras.layers.Input([N],dtype=model.dtype)\n",
    "#Q = QLayer(kin)\n",
    "#Qrho = tf.keras.Model(inputs=kin, outputs=Q)"
   ]
  },
  {
   "cell_type": "markdown",
   "metadata": {},
   "source": [
    "## Patterns with 2 photons"
   ]
  },
  {
   "cell_type": "code",
   "execution_count": 53,
   "metadata": {},
   "outputs": [
    {
     "name": "stdout",
     "output_type": "stream",
     "text": [
      "15\n",
      "Sample 0 of 15 (1, 1, 0, 0, 0, 0)\n",
      "Computed by the neural network: 0.06274289\n",
      "--------------------\n",
      "Sample 1 of 15 (1, 0, 1, 0, 0, 0)\n",
      "Computed by the neural network: -1.7763568e-15\n",
      "--------------------\n",
      "Sample 2 of 15 (1, 0, 0, 1, 0, 0)\n",
      "Computed by the neural network: 2.4424907e-14\n",
      "--------------------\n",
      "Sample 3 of 15 (1, 0, 0, 0, 1, 0)\n",
      "Computed by the neural network: 1.5099033e-14\n",
      "--------------------\n",
      "Sample 4 of 15 (1, 0, 0, 0, 0, 1)\n",
      "Computed by the neural network: 3.5971226e-14\n",
      "--------------------\n",
      "Sample 5 of 15 (0, 1, 1, 0, 0, 0)\n",
      "Computed by the neural network: -3.5527137e-15\n",
      "--------------------\n",
      "Sample 6 of 15 (0, 1, 0, 1, 0, 0)\n",
      "Computed by the neural network: 4.3520743e-14\n",
      "--------------------\n",
      "Sample 7 of 15 (0, 1, 0, 0, 1, 0)\n",
      "Computed by the neural network: 1.9539925e-14\n",
      "--------------------\n",
      "Sample 8 of 15 (0, 1, 0, 0, 0, 1)\n",
      "Computed by the neural network: 1.7763568e-14\n",
      "--------------------\n",
      "Sample 9 of 15 (0, 0, 1, 1, 0, 0)\n",
      "Computed by the neural network: 0.0012150351\n",
      "--------------------\n",
      "Sample 10 of 15 (0, 0, 1, 0, 1, 0)\n",
      "Computed by the neural network: 0.0013812492\n",
      "--------------------\n",
      "Sample 11 of 15 (0, 0, 1, 0, 0, 1)\n",
      "Computed by the neural network: 0.0012092143\n",
      "--------------------\n",
      "Sample 12 of 15 (0, 0, 0, 1, 1, 0)\n",
      "Computed by the neural network: 0.001848937\n",
      "--------------------\n",
      "Sample 13 of 15 (0, 0, 0, 1, 0, 1)\n",
      "Computed by the neural network: 0.043470196\n",
      "--------------------\n",
      "Sample 14 of 15 (0, 0, 0, 0, 1, 1)\n",
      "Computed by the neural network: 0.0014072629\n",
      "--------------------\n",
      "Done\n"
     ]
    }
   ],
   "source": [
    "ln =patterns(2,nmodes)\n",
    "print(len(ln))\n",
    "npatterns=len(ln)\n",
    "Pn = np.zeros([npatterns,], dtype=np.float32)\n",
    "Pth = np.zeros_like(Pn)\n",
    "xaxis=np.zeros_like(Pn)\n",
    "for nbar in range(npatterns):\n",
    "    print('Sample '+repr(nbar)+' of '+repr(npatterns)+' '+repr(ln[nbar]))\n",
    "    Pn[nbar]=ps.Pr(ln[nbar],Qrho).numpy()\n",
    "    tf.print('Computed by the neural network: '+repr(Pn[nbar]))\n",
    "    print('--------------------')\n",
    "    xaxis[nbar]=nbar #store for plot \n",
    "print('Done')"
   ]
  },
  {
   "cell_type": "code",
   "execution_count": 54,
   "metadata": {},
   "outputs": [],
   "source": [
    "ln2t=ln\n",
    "Pn2t=Pn"
   ]
  },
  {
   "cell_type": "code",
   "execution_count": 55,
   "metadata": {},
   "outputs": [
    {
     "data": {
      "text/plain": [
       "(0.0, 0.07)"
      ]
     },
     "execution_count": 55,
     "metadata": {},
     "output_type": "execute_result"
    },
    {
     "data": {
      "image/png": "[encoded data removed]",
      "text/plain": [
       "<Figure size 640x480 with 1 Axes>"
      ]
     },
     "metadata": {},
     "output_type": "display_data"
    }
   ],
   "source": [
    "plt.bar(range(len(ln2t)),Pn2t)\n",
    "plt.xlabel(np.transpose(np.array(ln2t)), fontsize=12);\n",
    "plt.ylim((0,0.07))"
   ]
  },
  {
   "cell_type": "markdown",
   "metadata": {},
   "source": [
    "## Patterns of 4 photons"
   ]
  },
  {
   "cell_type": "code",
   "execution_count": 56,
   "metadata": {},
   "outputs": [
    {
     "name": "stdout",
     "output_type": "stream",
     "text": [
      "15\n",
      "Sample 0 of 15 (1, 1, 1, 1, 0, 0)\n",
      "Computed by the neural network: 0.0006063455\n",
      "--------------------\n",
      "Sample 1 of 15 (1, 1, 1, 0, 1, 0)\n",
      "Computed by the neural network: 0.0006892879\n",
      "--------------------\n",
      "Sample 2 of 15 (1, 1, 1, 0, 0, 1)\n",
      "Computed by the neural network: 0.0006034379\n",
      "--------------------\n",
      "Sample 3 of 15 (1, 1, 0, 1, 1, 0)\n",
      "Computed by the neural network: 0.00092268374\n",
      "--------------------\n",
      "Sample 4 of 15 (1, 1, 0, 1, 0, 1)\n",
      "Computed by the neural network: 0.021692855\n",
      "--------------------\n",
      "Sample 5 of 15 (1, 1, 0, 0, 1, 1)\n",
      "Computed by the neural network: 0.00070226775\n",
      "--------------------\n",
      "Sample 6 of 15 (1, 0, 1, 1, 1, 0)\n",
      "Computed by the neural network: -4.6566068e-10\n",
      "--------------------\n",
      "Sample 7 of 15 (1, 0, 1, 1, 0, 1)\n",
      "Computed by the neural network: -4.656607e-10\n",
      "--------------------\n",
      "Sample 8 of 15 (1, 0, 1, 0, 1, 1)\n",
      "Computed by the neural network: 9.313234e-10\n",
      "--------------------\n",
      "Sample 9 of 15 (1, 0, 0, 1, 1, 1)\n",
      "Computed by the neural network: 4.6566138e-09\n",
      "--------------------\n",
      "Sample 10 of 15 (0, 1, 1, 1, 1, 0)\n",
      "Computed by the neural network: -4.656604e-10\n",
      "--------------------\n",
      "Sample 11 of 15 (0, 1, 1, 1, 0, 1)\n",
      "Computed by the neural network: -4.656616e-10\n",
      "--------------------\n",
      "Sample 12 of 15 (0, 1, 1, 0, 1, 1)\n",
      "Computed by the neural network: 3.958121e-09\n",
      "--------------------\n",
      "Sample 13 of 15 (0, 1, 0, 1, 1, 1)\n",
      "Computed by the neural network: 5.5879354e-09\n",
      "--------------------\n",
      "Sample 14 of 15 (0, 0, 1, 1, 1, 1)\n",
      "Computed by the neural network: 0.00050178554\n",
      "--------------------\n",
      "Done\n"
     ]
    }
   ],
   "source": [
    "ln =patterns(4,nmodes)\n",
    "print(len(ln))\n",
    "npatterns=len(ln)\n",
    "Pn = np.zeros([npatterns,], dtype=np.float32)\n",
    "Pth = np.zeros_like(Pn)\n",
    "xaxis=np.zeros_like(Pn)\n",
    "for nbar in range(npatterns):\n",
    "    print('Sample '+repr(nbar)+' of '+repr(npatterns)+' '+repr(ln[nbar]))\n",
    "    Pn[nbar]=ps.Pr(ln[nbar],Qrho).numpy()\n",
    "    tf.print('Computed by the neural network: '+repr(Pn[nbar]))\n",
    "    print('--------------------')\n",
    "    xaxis[nbar]=nbar #store for plot \n",
    "print('Done')"
   ]
  },
  {
   "cell_type": "code",
   "execution_count": 57,
   "metadata": {},
   "outputs": [
    {
     "data": {
      "image/png": "[encoded data removed]",
      "text/plain": [
       "<Figure size 640x480 with 1 Axes>"
      ]
     },
     "metadata": {},
     "output_type": "display_data"
    }
   ],
   "source": [
    "plt.xlabel(np.transpose(np.array(ln)), fontsize=12);\n",
    "plt.bar(range(npatterns),Pn)\n",
    "plt.ylabel('Sample Probability Pr (4 photons)');"
   ]
  },
  {
   "cell_type": "markdown",
   "metadata": {},
   "source": [
    "# Check the weights of layers"
   ]
  },
  {
   "cell_type": "code",
   "execution_count": 58,
   "metadata": {},
   "outputs": [
    {
     "data": {
      "text/plain": [
       "[<keras.engine.input_layer.InputLayer at 0x7fdcedf37400>,\n",
       " <thqml.phasespace.HaarLayerConstant at 0x7fdcedf36170>,\n",
       " <thqml.phasespace.RandomLayer at 0x7fdcedf367a0>,\n",
       " <thqml.phasespace.SingleModeSqueezerLayer at 0x7fdcec17fb50>,\n",
       " <thqml.phasespace.SingleModeSqueezerLayer at 0x7fdce47c41c0>,\n",
       " <thqml.phasespace.SingleModeSqueezerLayer at 0x7fdcec17ef20>,\n",
       " <thqml.phasespace.SingleModeSqueezerLayer at 0x7fdce4772b00>,\n",
       " <thqml.phasespace.SingleModeSqueezerLayer at 0x7fdce4773c70>,\n",
       " <thqml.phasespace.SingleModeSqueezerLayer at 0x7fdce4600730>,\n",
       " <thqml.phasespace.GaussianLayer at 0x7fdcedf35000>]"
      ]
     },
     "execution_count": 58,
     "metadata": {},
     "output_type": "execute_result"
    }
   ],
   "source": [
    "model.layers"
   ]
  },
  {
   "cell_type": "code",
   "execution_count": 59,
   "metadata": {},
   "outputs": [
    {
     "name": "stdout",
     "output_type": "stream",
     "text": [
      "squeezer layer 3 r= 0.88 theta=0.7853982\n",
      "squeezer layer 4 r= 0.88 theta=0.7853982\n",
      "squeezer layer 5 r= 0.88 theta=0.7853982\n",
      "squeezer layer 6 r= 0.88 theta=0.7853982\n",
      "squeezer layer 7 r= 0.88 theta=0.7853982\n",
      "squeezer layer 8 r= 0.88 theta=0.7853982\n"
     ]
    }
   ],
   "source": [
    "for j in range(3,len(model.layers)-1):\n",
    "    print('squeezer layer '+repr(j)+ ' r= '+repr(model.layers[j].r.numpy()) \\\n",
    "    + ' theta='+repr(model.layers[j].theta.numpy()))"
   ]
  },
  {
   "cell_type": "code",
   "execution_count": 60,
   "metadata": {},
   "outputs": [
    {
     "name": "stdout",
     "output_type": "stream",
     "text": [
      "[[0]\n",
      " [0]\n",
      " [0]\n",
      " ...\n",
      " [0]\n",
      " [0]\n",
      " [0]]\n"
     ]
    }
   ],
   "source": [
    "tf.print(model.layers[9].d)"
   ]
  },
  {
   "cell_type": "code",
   "execution_count": 61,
   "metadata": {},
   "outputs": [
    {
     "name": "stdout",
     "output_type": "stream",
     "text": [
      "([[0.678030908 0.358566374 0.341942161 ... -0.165135458 0.240829512 0.0970078707]\n",
      " [-0.358566374 0.678030908 0.1134625 ... -0.0854827538 -0.0970078707 0.240829512]\n",
      " [-0.0273103863 -0.0845311359 0.650365412 ... 0.0172114689 -0.385653585 -0.0696014]\n",
      " ...\n",
      " [-0.103168398 0.243379653 0.114816606 ... 0.421908 0.144675702 0.0688650906]\n",
      " [-0.214171439 0.047563538 0.243638366 ... -0.382721186 0.693111062 -0.336526424]\n",
      " [-0.047563538 -0.214171439 0.0246342346 ... -0.0347716361 0.336526424 0.693111062]], [[0.678030908 -0.358566374 -0.0273103863 ... -0.103168398 -0.214171439 -0.047563538]\n",
      " [0.358566374 0.678030908 -0.0845311359 ... 0.243379653 0.047563538 -0.214171439]\n",
      " [0.341942161 0.1134625 0.650365412 ... 0.114816606 0.243638366 0.0246342346]\n",
      " ...\n",
      " [-0.165135458 -0.0854827538 0.0172114689 ... 0.421908 -0.382721186 -0.0347716361]\n",
      " [0.240829512 -0.0970078707 -0.385653585 ... 0.144675702 0.693111062 0.336526424]\n",
      " [0.0970078707 0.240829512 -0.0696014 ... 0.0688650906 -0.336526424 0.693111062]])\n"
     ]
    }
   ],
   "source": [
    "tf.print(model.layers[2].get_M())"
   ]
  },
  {
   "cell_type": "markdown",
   "metadata": {},
   "source": [
    "# Compute the statistical probability of pairs"
   ]
  },
  {
   "cell_type": "code",
   "execution_count": 62,
   "metadata": {},
   "outputs": [
    {
     "name": "stdout",
     "output_type": "stream",
     "text": [
      "Generated 1 patterns with photon number 0\n",
      "Photons 0 Sample 1 of 15 Pr=0.12573020160198212 pattern (0, 0, 0, 0, 0, 0)\n",
      "Generated 15 patterns with photon number 2\n",
      "Photons 2 Sample 1 of 15 Pr=0.06274288892745972 pattern (1, 1, 0, 0, 0, 0)\n",
      "Photons 2 Sample 2 of 15 Pr=-1.7763568394002505e-15 pattern (1, 0, 1, 0, 0, 0)\n",
      "Photons 2 Sample 3 of 15 Pr=2.4424906541753444e-14 pattern (1, 0, 0, 1, 0, 0)\n",
      "Photons 2 Sample 4 of 15 Pr=1.509903313490213e-14 pattern (1, 0, 0, 0, 1, 0)\n",
      "Photons 2 Sample 5 of 15 Pr=3.597122599785507e-14 pattern (1, 0, 0, 0, 0, 1)\n",
      "Photons 2 Sample 6 of 15 Pr=-3.552713678800501e-15 pattern (0, 1, 1, 0, 0, 0)\n",
      "Photons 2 Sample 7 of 15 Pr=4.3520742565306136e-14 pattern (0, 1, 0, 1, 0, 0)\n",
      "Photons 2 Sample 8 of 15 Pr=1.9539925233402755e-14 pattern (0, 1, 0, 0, 1, 0)\n",
      "Photons 2 Sample 9 of 15 Pr=1.7763568394002505e-14 pattern (0, 1, 0, 0, 0, 1)\n",
      "Photons 2 Sample 10 of 15 Pr=0.0012150350958108902 pattern (0, 0, 1, 1, 0, 0)\n",
      "Photons 2 Sample 11 of 15 Pr=0.0013812491670250893 pattern (0, 0, 1, 0, 1, 0)\n",
      "Photons 2 Sample 12 of 15 Pr=0.0012092143297195435 pattern (0, 0, 1, 0, 0, 1)\n",
      "Photons 2 Sample 13 of 15 Pr=0.0018489370122551918 pattern (0, 0, 0, 1, 1, 0)\n",
      "Photons 2 Sample 14 of 15 Pr=0.043470196425914764 pattern (0, 0, 0, 1, 0, 1)\n",
      "Photons 2 Sample 15 of 15 Pr=0.0014072628691792488 pattern (0, 0, 0, 0, 1, 1)\n",
      "Generated 15 patterns with photon number 4\n",
      "Photons 4 Sample 1 of 15 Pr=0.0006063454784452915 pattern (1, 1, 1, 1, 0, 0)\n",
      "Photons 4 Sample 2 of 15 Pr=0.0006892879027873278 pattern (1, 1, 1, 0, 1, 0)\n",
      "Photons 4 Sample 3 of 15 Pr=0.000603437889367342 pattern (1, 1, 1, 0, 0, 1)\n",
      "Photons 4 Sample 4 of 15 Pr=0.0009226837428286672 pattern (1, 1, 0, 1, 1, 0)\n",
      "Photons 4 Sample 5 of 15 Pr=0.021692855283617973 pattern (1, 1, 0, 1, 0, 1)\n",
      "Photons 4 Sample 6 of 15 Pr=0.0007022677455097437 pattern (1, 1, 0, 0, 1, 1)\n",
      "Photons 4 Sample 7 of 15 Pr=-4.656606766850757e-10 pattern (1, 0, 1, 1, 1, 0)\n",
      "Photons 4 Sample 8 of 15 Pr=-4.6566070444065133e-10 pattern (1, 0, 1, 1, 0, 1)\n",
      "Photons 4 Sample 9 of 15 Pr=9.313233517715958e-10 pattern (1, 0, 1, 0, 1, 1)\n",
      "Photons 4 Sample 10 of 15 Pr=4.656613761255812e-09 pattern (1, 0, 0, 1, 1, 1)\n",
      "Photons 4 Sample 11 of 15 Pr=-4.6566039912931956e-10 pattern (0, 1, 1, 1, 1, 0)\n",
      "Photons 4 Sample 12 of 15 Pr=-4.656616203746466e-10 pattern (0, 1, 1, 1, 0, 1)\n",
      "Photons 4 Sample 13 of 15 Pr=3.958120942115784e-09 pattern (0, 1, 1, 0, 1, 1)\n",
      "Photons 4 Sample 14 of 15 Pr=5.587935447692871e-09 pattern (0, 1, 0, 1, 1, 1)\n",
      "Photons 4 Sample 15 of 15 Pr=0.0005017855437472463 pattern (0, 0, 1, 1, 1, 1)\n",
      "Done\n",
      "CPU times: user 56.6 s, sys: 6.29 ms, total: 56.6 s\n",
      "Wall time: 56.6 s\n"
     ]
    }
   ],
   "source": [
    "%%time\n",
    "nmax = 2 # number of couples\n",
    "probn=np.zeros([nmax+1,], dtype=np_real)\n",
    "for j in range(nmax+1):\n",
    "    photon_number=2*j\n",
    "    # generate the patterns\n",
    "    ln=patterns(photon_number,nmodes)\n",
    "    npattern=len(ln)\n",
    "    print('Generated '+repr(npattern)+\\\n",
    "          ' patterns with photon number '+repr(photon_number))\n",
    "    # compute probability for each pattern\n",
    "    Pn=np.zeros([npattern,], dtype=np_real)\n",
    "    for nbar in range(npattern):        \n",
    "        Pn[nbar]=ps.Pr(ln[nbar],Qrho).numpy()\n",
    "        print('Photons '+repr(photon_number)+' Sample '+repr(nbar+1)+\\\n",
    "              ' of '+repr(npatterns)+' Pr=' +repr(Pn[nbar])+\\\n",
    "              ' pattern '+repr(ln[nbar]))\n",
    "    # sum the probability of each pattern\n",
    "    probn[j]=sum(Pn)\n",
    "print('Done')"
   ]
  },
  {
   "cell_type": "code",
   "execution_count": 63,
   "metadata": {},
   "outputs": [
    {
     "data": {
      "text/plain": [
       "array([0.1257302 , 0.11327478, 0.02571868])"
      ]
     },
     "execution_count": 63,
     "metadata": {},
     "output_type": "execute_result"
    }
   ],
   "source": [
    "probn"
   ]
  },
  {
   "cell_type": "code",
   "execution_count": 64,
   "metadata": {},
   "outputs": [
    {
     "data": {
      "image/png": "[encoded data removed]",
      "text/plain": [
       "<Figure size 640x480 with 1 Axes>"
      ]
     },
     "metadata": {},
     "output_type": "display_data"
    }
   ],
   "source": [
    "plt.bar(range(nmax+1),probn)\n",
    "#plt.xlabel(ln, fontsize=6);\n",
    "plt.ylabel('Probability of 2 n photons');"
   ]
  },
  {
   "cell_type": "markdown",
   "metadata": {},
   "source": [
    "Looks that the overall probability does not change, but most of the couples appears in the target modes"
   ]
  },
  {
   "cell_type": "code",
   "execution_count": null,
   "metadata": {},
   "outputs": [],
   "source": []
  }
 ],
 "metadata": {
  "kernelspec": {
   "display_name": "Python 3 (ipykernel)",
   "language": "python",
   "name": "python3"
  },
  "language_info": {
   "codemirror_mode": {
    "name": "ipython",
    "version": 3
   },
   "file_extension": ".py",
   "mimetype": "text/x-python",
   "name": "python",
   "nbconvert_exporter": "python",
   "pygments_lexer": "ipython3",
   "version": "3.10.12"
  }
 },
 "nbformat": 4,
 "nbformat_minor": 4
}
