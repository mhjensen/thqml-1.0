{
 "cells": [
  {
   "cell_type": "markdown",
   "metadata": {},
   "source": [
    "# Model Haar interferometer with squeezed states, with training on differential particle number"
   ]
  },
  {
   "cell_type": "markdown",
   "metadata": {},
   "source": [
    "We test the boson sampling operator \n",
    "on coherent states and squeezed states, and \n",
    "propagating in a random medium\n",
    "\n",
    "We train the random medium to minimize <(n0-n1)^2> with a differential layer\n",
    "\n",
    "A linear interferometer is used for training\n",
    "\n",
    "Squeezing parameters are not trained\n",
    "\n",
    "nonlinearxwaves@gmail.com<br>\n",
    "@version 9 feb 2021 <br>\n",
    "@version 5 may 2023"
   ]
  },
  {
   "cell_type": "code",
   "execution_count": 1,
   "metadata": {},
   "outputs": [
    {
     "name": "stderr",
     "output_type": "stream",
     "text": [
      "2023-05-05 06:00:19.058391: W tensorflow/stream_executor/platform/default/dso_loader.cc:64] Could not load dynamic library 'libcudart.so.11.0'; dlerror: libcudart.so.11.0: cannot open shared object file: No such file or directory\n",
      "2023-05-05 06:00:19.058413: I tensorflow/stream_executor/cuda/cudart_stub.cc:29] Ignore above cudart dlerror if you do not have a GPU set up on your machine.\n"
     ]
    }
   ],
   "source": [
    "import numpy as np\n",
    "from thqml import phasespace as ps\n",
    "import tensorflow as tf\n",
    "import matplotlib.pyplot as plt\n",
    "import itertools as it"
   ]
  },
  {
   "cell_type": "code",
   "execution_count": 3,
   "metadata": {},
   "outputs": [],
   "source": [
    "tf_complex = tf.complex\n",
    "tf_real = tf.float32\n",
    "np_complex = complex\n",
    "np_real = np.float64"
   ]
  },
  {
   "cell_type": "code",
   "execution_count": 4,
   "metadata": {},
   "outputs": [],
   "source": [
    "tf.keras.backend.clear_session()"
   ]
  },
  {
   "cell_type": "code",
   "execution_count": 5,
   "metadata": {},
   "outputs": [],
   "source": [
    "#np.set_printoptions(precision=4)"
   ]
  },
  {
   "cell_type": "markdown",
   "metadata": {},
   "source": [
    "Check GPU"
   ]
  },
  {
   "cell_type": "code",
   "execution_count": 7,
   "metadata": {},
   "outputs": [
    {
     "name": "stdout",
     "output_type": "stream",
     "text": [
      "Num GPUs Available:  0\n"
     ]
    }
   ],
   "source": [
    "print(\"Num GPUs Available: \", len(tf.config.experimental.list_physical_devices('GPU')))"
   ]
  },
  {
   "cell_type": "code",
   "execution_count": 8,
   "metadata": {},
   "outputs": [],
   "source": [
    "import warnings\n",
    "warnings.filterwarnings('ignore')"
   ]
  },
  {
   "cell_type": "markdown",
   "metadata": {},
   "source": [
    "## Dimension"
   ]
  },
  {
   "cell_type": "code",
   "execution_count": 9,
   "metadata": {},
   "outputs": [],
   "source": [
    "N = 12"
   ]
  },
  {
   "cell_type": "code",
   "execution_count": 10,
   "metadata": {},
   "outputs": [],
   "source": [
    "n=np.floor_divide(N,2)"
   ]
  },
  {
   "cell_type": "code",
   "execution_count": 11,
   "metadata": {},
   "outputs": [],
   "source": [
    "nmodes = int(n)"
   ]
  },
  {
   "cell_type": "code",
   "execution_count": 12,
   "metadata": {},
   "outputs": [
    {
     "name": "stdout",
     "output_type": "stream",
     "text": [
      "Number of modes 6\n"
     ]
    }
   ],
   "source": [
    "print('Number of modes '+repr(n))"
   ]
  },
  {
   "cell_type": "markdown",
   "metadata": {},
   "source": [
    "## Build vacuum by the Gaussian state"
   ]
  },
  {
   "cell_type": "code",
   "execution_count": 13,
   "metadata": {},
   "outputs": [],
   "source": [
    "vacuum = ps.VacuumLayer(N)"
   ]
  },
  {
   "cell_type": "markdown",
   "metadata": {},
   "source": [
    "## Parameter for squeezing"
   ]
  },
  {
   "cell_type": "code",
   "execution_count": 14,
   "metadata": {},
   "outputs": [],
   "source": [
    "r_np=0.88;\n",
    "theta_np=np.pi/4;"
   ]
  },
  {
   "cell_type": "markdown",
   "metadata": {},
   "source": [
    "## Random medium (Haar measure)"
   ]
  },
  {
   "cell_type": "code",
   "execution_count": 15,
   "metadata": {},
   "outputs": [],
   "source": [
    "HAAR=ps.HaarLayerConstant(N)"
   ]
  },
  {
   "cell_type": "code",
   "execution_count": 16,
   "metadata": {},
   "outputs": [],
   "source": [
    "R=ps.RandomLayer(N) # trainable layer"
   ]
  },
  {
   "cell_type": "markdown",
   "metadata": {},
   "source": [
    "## Build the model (the squeezed states are not trainable)\n",
    "squeezed states are generated and mixed by a random medium and then go into an Haar Inteferometer"
   ]
  },
  {
   "cell_type": "code",
   "execution_count": 17,
   "metadata": {},
   "outputs": [],
   "source": [
    "xin = tf.keras.layers.Input(N)\n",
    "x1, a1 = HAAR(xin)\n",
    "x1, a1 = R(x1,a1)\n",
    "for j in range(nmodes):\n",
    "    x1, a1 = ps.SingleModeSqueezerLayer(N, r_np=r_np, theta_np=theta_np, n_squeezed=j, trainable=False)(x1,a1)\n",
    "chir, chii = vacuum(x1, a1)\n",
    "model = tf.keras.Model(inputs = xin, outputs=[chir, chii])"
   ]
  },
  {
   "cell_type": "code",
   "execution_count": 18,
   "metadata": {},
   "outputs": [
    {
     "data": {
      "text/plain": [
       "12"
      ]
     },
     "execution_count": 18,
     "metadata": {},
     "output_type": "execute_result"
    }
   ],
   "source": [
    "model.input_shape[1]"
   ]
  },
  {
   "cell_type": "code",
   "execution_count": 19,
   "metadata": {},
   "outputs": [
    {
     "name": "stdout",
     "output_type": "stream",
     "text": [
      "Model: \"model\"\n",
      "__________________________________________________________________________________________________\n",
      " Layer (type)                   Output Shape         Param #     Connected to                     \n",
      "==================================================================================================\n",
      " input_1 (InputLayer)           [(None, 12)]         0           []                               \n",
      "                                                                                                  \n",
      " haar_layer_constant (HaarLayer  [(None, 12),        0           ['input_1[0][0]']                \n",
      " Constant)                       (12, 1)]                                                         \n",
      "                                                                                                  \n",
      " random_layer (RandomLayer)     [(None, 12),         72          ['haar_layer_constant[0][0]',    \n",
      "                                 (12, 1)]                         'haar_layer_constant[0][1]']    \n",
      "                                                                                                  \n",
      " single_mode_squeezer_layer (Si  [(None, 12),        2           ['random_layer[0][0]',           \n",
      " ngleModeSqueezerLayer)          (12, 1)]                         'random_layer[0][1]']           \n",
      "                                                                                                  \n",
      " single_mode_squeezer_layer_1 (  [(None, 12),        2           ['single_mode_squeezer_layer[0][0\n",
      " SingleModeSqueezerLayer)        (12, 1)]                        ]',                              \n",
      "                                                                  'single_mode_squeezer_layer[0][1\n",
      "                                                                 ]']                              \n",
      "                                                                                                  \n",
      " single_mode_squeezer_layer_2 (  [(None, 12),        2           ['single_mode_squeezer_layer_1[0]\n",
      " SingleModeSqueezerLayer)        (12, 1)]                        [0]',                            \n",
      "                                                                  'single_mode_squeezer_layer_1[0]\n",
      "                                                                 [1]']                            \n",
      "                                                                                                  \n",
      " single_mode_squeezer_layer_3 (  [(None, 12),        2           ['single_mode_squeezer_layer_2[0]\n",
      " SingleModeSqueezerLayer)        (12, 1)]                        [0]',                            \n",
      "                                                                  'single_mode_squeezer_layer_2[0]\n",
      "                                                                 [1]']                            \n",
      "                                                                                                  \n",
      " single_mode_squeezer_layer_4 (  [(None, 12),        2           ['single_mode_squeezer_layer_3[0]\n",
      " SingleModeSqueezerLayer)        (12, 1)]                        [0]',                            \n",
      "                                                                  'single_mode_squeezer_layer_3[0]\n",
      "                                                                 [1]']                            \n",
      "                                                                                                  \n",
      " single_mode_squeezer_layer_5 (  [(None, 12),        2           ['single_mode_squeezer_layer_4[0]\n",
      " SingleModeSqueezerLayer)        (12, 1)]                        [0]',                            \n",
      "                                                                  'single_mode_squeezer_layer_4[0]\n",
      "                                                                 [1]']                            \n",
      "                                                                                                  \n",
      " gaussian_layer (GaussianLayer)  [(None, 1),         156         ['single_mode_squeezer_layer_5[0]\n",
      "                                 (None, 1)]                      [0]',                            \n",
      "                                                                  'single_mode_squeezer_layer_5[0]\n",
      "                                                                 [1]']                            \n",
      "                                                                                                  \n",
      "==================================================================================================\n",
      "Total params: 240\n",
      "Trainable params: 72\n",
      "Non-trainable params: 168\n",
      "__________________________________________________________________________________________________\n"
     ]
    }
   ],
   "source": [
    "model.summary()"
   ]
  },
  {
   "cell_type": "markdown",
   "metadata": {},
   "source": [
    "## Photon counting layer "
   ]
  },
  {
   "cell_type": "markdown",
   "metadata": {},
   "source": [
    "Dummy input"
   ]
  },
  {
   "cell_type": "code",
   "execution_count": 20,
   "metadata": {},
   "outputs": [],
   "source": [
    "Nbatch=10\n",
    "xtrain = np.random.rand(Nbatch, N)-0.5"
   ]
  },
  {
   "cell_type": "markdown",
   "metadata": {},
   "source": [
    "Model with the photon counting layer"
   ]
  },
  {
   "cell_type": "code",
   "execution_count": 21,
   "metadata": {},
   "outputs": [
    {
     "name": "stdout",
     "output_type": "stream",
     "text": [
      "[[0.996120691 0.996120811 0.996120334 0.996120691 0.99612093 0.996120691]]\n"
     ]
    }
   ],
   "source": [
    "photon_counter=ps.PhotonCountingLayer(N) # define the layer\n",
    "n_out = photon_counter(chir,chir, model);  # define the output tensor\n",
    "Nphoton = tf.keras.Model(inputs = xin, outputs=n_out) # define the model with inputs and ouputs\n",
    "tf.print(Nphoton(xtrain)); "
   ]
  },
  {
   "cell_type": "markdown",
   "metadata": {},
   "source": [
    "# Differential Gaussian Layer"
   ]
  },
  {
   "cell_type": "code",
   "execution_count": 22,
   "metadata": {},
   "outputs": [],
   "source": [
    "Diff=ps.DifferentialGaussianLayer(N)\n",
    "nboson, Dn, Dn2 = Diff(chir,chii, model)\n",
    "HModel = tf.keras.Model(inputs = xin, outputs=[nboson,Dn2])"
   ]
  },
  {
   "cell_type": "code",
   "execution_count": 23,
   "metadata": {},
   "outputs": [
    {
     "name": "stdout",
     "output_type": "stream",
     "text": [
      "[[0 5.67235 2.47956133 6.09471226 5.7744236 5.12272644]\n",
      " [5.67235 0 5.59847 7.45187044 7.16948223 6.77871]\n",
      " [2.47956133 5.59847 0 5.85954 5.66431665 4.18332767]\n",
      " [6.09471226 7.45187044 5.85954 0 7.41097784 6.93178749]\n",
      " [5.7744236 7.16948223 5.66431665 7.41097784 0 6.68504906]\n",
      " [5.12272644 6.77871 4.18332767 6.93178749 6.68504906 0]]\n"
     ]
    }
   ],
   "source": [
    "n_out,Dn_out=HModel(xtrain)\n",
    "tf.print(Dn_out)"
   ]
  },
  {
   "cell_type": "markdown",
   "metadata": {},
   "source": [
    "Initial differential corrents"
   ]
  },
  {
   "cell_type": "code",
   "execution_count": 24,
   "metadata": {},
   "outputs": [
    {
     "data": {
      "text/plain": [
       "<tf.Tensor: shape=(1,), dtype=float32, numpy=array([5.67235], dtype=float32)>"
      ]
     },
     "execution_count": 24,
     "metadata": {},
     "output_type": "execute_result"
    }
   ],
   "source": [
    "tf.gather_nd(Dn_out,[[0,1]])"
   ]
  },
  {
   "cell_type": "markdown",
   "metadata": {},
   "source": [
    "Photon numbers before training"
   ]
  },
  {
   "cell_type": "code",
   "execution_count": 25,
   "metadata": {},
   "outputs": [
    {
     "name": "stdout",
     "output_type": "stream",
     "text": [
      "[[0.996120691 0.996120811 0.996120334 0.996120691 0.99612093 0.996120691]]\n"
     ]
    }
   ],
   "source": [
    "tf.print(n_out)"
   ]
  },
  {
   "cell_type": "code",
   "execution_count": 26,
   "metadata": {},
   "outputs": [
    {
     "data": {
      "text/plain": [
       "<tf.Tensor: shape=(), dtype=float32, numpy=0.9961207>"
      ]
     },
     "execution_count": 26,
     "metadata": {},
     "output_type": "execute_result"
    }
   ],
   "source": [
    "tf.reduce_mean(n_out)"
   ]
  },
  {
   "cell_type": "code",
   "execution_count": 27,
   "metadata": {},
   "outputs": [
    {
     "data": {
      "text/plain": [
       "<tf.Tensor: shape=(1,), dtype=float32, numpy=array([0.9961208], dtype=float32)>"
      ]
     },
     "execution_count": 27,
     "metadata": {},
     "output_type": "execute_result"
    }
   ],
   "source": [
    "tf.gather_nd(n_out,[[0,1]])"
   ]
  },
  {
   "cell_type": "markdown",
   "metadata": {},
   "source": [
    "# Heisenberg Layer"
   ]
  },
  {
   "cell_type": "code",
   "execution_count": 28,
   "metadata": {},
   "outputs": [],
   "source": [
    "Heis=ps.HeisenbergGaussianLayer(N)\n",
    "nbosonH, nboson2, Dnboson2 = Heis(chir,chii, model)\n",
    "HModel2 = tf.keras.Model(inputs = xin, outputs=[nbosonH, nboson2 , Dnboson2])"
   ]
  },
  {
   "cell_type": "code",
   "execution_count": 29,
   "metadata": {},
   "outputs": [
    {
     "name": "stdout",
     "output_type": "stream",
     "text": [
      "[[3.37686419 4.63138247 3.15043592 4.81104946 4.63694382 4.13650131]]\n",
      "[3.37686419]\n"
     ]
    }
   ],
   "source": [
    "nHout,n2Hout,D2Hout=HModel2(xtrain)\n",
    "tf.print(n2Hout)\n",
    "tf.print(tf.gather_nd(n2Hout,[[0,0]]))"
   ]
  },
  {
   "cell_type": "markdown",
   "metadata": {},
   "source": [
    "## Model with the target output to train"
   ]
  },
  {
   "cell_type": "markdown",
   "metadata": {},
   "source": [
    "Model with the custom ouput to train"
   ]
  },
  {
   "cell_type": "code",
   "execution_count": 30,
   "metadata": {},
   "outputs": [],
   "source": [
    "Dn_out01=tf.gather_nd(Dn2,[[0,1]]) #check this\n",
    "#n2_out0=tf.gather_nd(nboson2,[[0,0]])\n",
    "#n2_out1=tf.gather_nd(nboson2,[[0,1]])\n",
    "#train_out=tf.exp(-Dn_out01+n2_out0+n2_out1)\n",
    "train_out=tf.exp(Dn_out01,name='Dn01')\n",
    "nboson0=tf.gather_nd(nboson,[[0,0]], name='n0')\n",
    "nboson1=tf.gather_nd(nboson,[[0,1]], name='n1')\n",
    "Train_model = tf.keras.Model(inputs = xin, outputs=[train_out, nboson0, nboson1]) # define the model with inputs and ouputs"
   ]
  },
  {
   "cell_type": "markdown",
   "metadata": {},
   "source": [
    "Define the custom loss to train the model for maximum output"
   ]
  },
  {
   "cell_type": "code",
   "execution_count": 31,
   "metadata": {},
   "outputs": [],
   "source": [
    "def custom_loss(yt,yp):\n",
    "    # the loss only return the output of the network yp\n",
    "    # that need to be minimized\n",
    "    return yp\n",
    "Train_model.compile(loss=custom_loss, optimizer='Adam')"
   ]
  },
  {
   "cell_type": "code",
   "execution_count": 32,
   "metadata": {},
   "outputs": [],
   "source": [
    "#Train_model.add_loss(train_out)\n",
    "#Train_model.add_loss(nboson0)\n",
    "#Train_model.add_loss(nboson1)\n",
    "#Train_model.compile(optimizer='Adam')"
   ]
  },
  {
   "cell_type": "markdown",
   "metadata": {},
   "source": [
    "# Transform model"
   ]
  },
  {
   "cell_type": "code",
   "execution_count": 33,
   "metadata": {},
   "outputs": [],
   "source": [
    "kin, Qrho =ps.getQTransformModel(model)"
   ]
  },
  {
   "cell_type": "code",
   "execution_count": 34,
   "metadata": {},
   "outputs": [
    {
     "name": "stdout",
     "output_type": "stream",
     "text": [
      "Model: \"model_5\"\n",
      "_________________________________________________________________\n",
      " Layer (type)                Output Shape              Param #   \n",
      "=================================================================\n",
      " input_2 (InputLayer)        [(None, 12)]              0         \n",
      "                                                                 \n",
      " q_transform_layer (QTransfo  (None, None)             240       \n",
      " rmLayer)                                                        \n",
      "                                                                 \n",
      "=================================================================\n",
      "Total params: 240\n",
      "Trainable params: 72\n",
      "Non-trainable params: 168\n",
      "_________________________________________________________________\n"
     ]
    }
   ],
   "source": [
    "Qrho.summary()"
   ]
  },
  {
   "cell_type": "markdown",
   "metadata": {},
   "source": [
    "# Test the Pr operator "
   ]
  },
  {
   "cell_type": "markdown",
   "metadata": {},
   "source": [
    "Probability of zero photon"
   ]
  },
  {
   "cell_type": "code",
   "execution_count": 35,
   "metadata": {},
   "outputs": [
    {
     "data": {
      "text/plain": [
       "<tf.Tensor: shape=(1, 1), dtype=float32, numpy=array([[0.12573017]], dtype=float32)>"
      ]
     },
     "execution_count": 35,
     "metadata": {},
     "output_type": "execute_result"
    }
   ],
   "source": [
    "ps.Pr([0]*nmodes, Qrho)"
   ]
  },
  {
   "cell_type": "markdown",
   "metadata": {},
   "source": [
    "Probability of two photons"
   ]
  },
  {
   "cell_type": "code",
   "execution_count": 36,
   "metadata": {},
   "outputs": [
    {
     "name": "stdout",
     "output_type": "stream",
     "text": [
      "[2, 0, 0, 0, 0, 0]\n"
     ]
    },
    {
     "data": {
      "text/plain": [
       "<tf.Tensor: shape=(1,), dtype=float32, numpy=array([0.00625148], dtype=float32)>"
      ]
     },
     "execution_count": 36,
     "metadata": {},
     "output_type": "execute_result"
    }
   ],
   "source": [
    "nbar = [0]*nmodes\n",
    "nbar[0]=2\n",
    "print(nbar)\n",
    "ps.Pr(nbar, Qrho)"
   ]
  },
  {
   "cell_type": "markdown",
   "metadata": {},
   "source": [
    "# Generate all the possible photon patterns assuming max one photon per mode"
   ]
  },
  {
   "cell_type": "code",
   "execution_count": 37,
   "metadata": {},
   "outputs": [],
   "source": [
    "def patterns(nphotons, nmodes):\n",
    "    # Return the patterns of nmodes with maximal nphotons\n",
    "    \n",
    "    # generate a list of zero\n",
    "    l1=[0]*nmodes\n",
    "    # set nphotons 1\n",
    "    for j in range(nphotons):\n",
    "        l1[j]=1\n",
    "    # compute all the permutations (zeros and one are distinguishable)\n",
    "    nlist=it.permutations(l1,nmodes) # return iterators\n",
    "    # convert to list the iterators\n",
    "    ln=list(nlist)\n",
    "    # sort the list in reverse order to have the patterns with more ones first\n",
    "    ln.sort(reverse=True)\n",
    "    # remove duplicates (remove adjactent identical elements after sorting)\n",
    "    ln=list(ln for ln,_ in it.groupby(ln))\n",
    "    return ln"
   ]
  },
  {
   "cell_type": "code",
   "execution_count": 38,
   "metadata": {},
   "outputs": [
    {
     "name": "stdout",
     "output_type": "stream",
     "text": [
      "[(1, 1, 0, 0, 0, 0), (1, 0, 1, 0, 0, 0), (1, 0, 0, 1, 0, 0), (1, 0, 0, 0, 1, 0), (1, 0, 0, 0, 0, 1), (0, 1, 1, 0, 0, 0), (0, 1, 0, 1, 0, 0), (0, 1, 0, 0, 1, 0), (0, 1, 0, 0, 0, 1), (0, 0, 1, 1, 0, 0), (0, 0, 1, 0, 1, 0), (0, 0, 1, 0, 0, 1), (0, 0, 0, 1, 1, 0), (0, 0, 0, 1, 0, 1), (0, 0, 0, 0, 1, 1)]\n",
      "15\n"
     ]
    }
   ],
   "source": [
    "ln =patterns(2,nmodes)\n",
    "print(ln)\n",
    "print(len(ln))"
   ]
  },
  {
   "cell_type": "markdown",
   "metadata": {},
   "source": [
    "## Make a plot versus the probability"
   ]
  },
  {
   "cell_type": "markdown",
   "metadata": {},
   "source": [
    "Build an array of photon number sampling"
   ]
  },
  {
   "cell_type": "code",
   "execution_count": 39,
   "metadata": {},
   "outputs": [
    {
     "name": "stdout",
     "output_type": "stream",
     "text": [
      "Sample 0 of 15 (1, 1, 0, 0, 0, 0)\n",
      "0.005543915\n",
      "Sample 1 of 15 (1, 0, 1, 0, 0, 0)\n",
      "0.032552384\n",
      "Sample 2 of 15 (1, 0, 0, 1, 0, 0)\n",
      "0.0017148163\n",
      "Sample 3 of 15 (1, 0, 0, 0, 1, 0)\n",
      "0.0040212083\n",
      "Sample 4 of 15 (1, 0, 0, 0, 0, 1)\n",
      "0.0064076097\n",
      "Sample 5 of 15 (0, 1, 1, 0, 0, 0)\n",
      "0.0031371024\n",
      "Sample 6 of 15 (0, 1, 0, 1, 0, 0)\n",
      "9.542331e-05\n",
      "Sample 7 of 15 (0, 1, 0, 0, 1, 0)\n",
      "0.0018038396\n",
      "Sample 8 of 15 (0, 1, 0, 0, 0, 1)\n",
      "7.35363e-05\n",
      "Sample 9 of 15 (0, 0, 1, 1, 0, 0)\n",
      "0.0018527997\n",
      "Sample 10 of 15 (0, 0, 1, 0, 1, 0)\n",
      "0.0021859684\n",
      "Sample 11 of 15 (0, 0, 1, 0, 0, 1)\n",
      "0.017656483\n",
      "Sample 12 of 15 (0, 0, 0, 1, 1, 0)\n",
      "0.00082835206\n",
      "Sample 13 of 15 (0, 0, 0, 1, 0, 1)\n",
      "0.00049305917\n",
      "Sample 14 of 15 (0, 0, 0, 0, 1, 1)\n",
      "0.0016389927\n",
      "Done\n"
     ]
    }
   ],
   "source": [
    "npatterns=len(ln)\n",
    "Pn = np.zeros([npatterns,], dtype=np.float32)\n",
    "Pth = np.zeros_like(Pn)\n",
    "xaxis=np.zeros_like(Pn)\n",
    "for nbar in range(npatterns):\n",
    "    print('Sample '+repr(nbar)+' of '+repr(npatterns)+' '+repr(ln[nbar]))\n",
    "    Pn[nbar]=ps.Pr(ln[nbar],Qrho).numpy()\n",
    "    tf.print(Pn[nbar])\n",
    "    xaxis[nbar]=nbar\n",
    "print('Done')"
   ]
  },
  {
   "cell_type": "markdown",
   "metadata": {},
   "source": [
    "Store data for plot"
   ]
  },
  {
   "cell_type": "code",
   "execution_count": 40,
   "metadata": {},
   "outputs": [],
   "source": [
    "ln2u=ln\n",
    "Pn2u=Pn"
   ]
  },
  {
   "cell_type": "markdown",
   "metadata": {},
   "source": [
    "Plot"
   ]
  },
  {
   "cell_type": "code",
   "execution_count": 41,
   "metadata": {},
   "outputs": [
    {
     "data": {
      "text/plain": [
       "(0.0, 0.07)"
      ]
     },
     "execution_count": 41,
     "metadata": {},
     "output_type": "execute_result"
    },
    {
     "data": {
      "image/png": "[encoded data removed]",
      "text/plain": [
       "<Figure size 432x288 with 1 Axes>"
      ]
     },
     "metadata": {
      "needs_background": "light"
     },
     "output_type": "display_data"
    }
   ],
   "source": [
    "plt.bar(range(len(ln2u)),Pn2u)\n",
    "plt.xlabel(np.transpose(np.array(ln2u)), fontsize=12);\n",
    "plt.ylabel('Sample Probability Pr (2 photons)');\n",
    "plt.ylim((0,0.07))"
   ]
  },
  {
   "cell_type": "markdown",
   "metadata": {},
   "source": [
    "## Patterns with 4 photons"
   ]
  },
  {
   "cell_type": "code",
   "execution_count": 42,
   "metadata": {},
   "outputs": [
    {
     "name": "stdout",
     "output_type": "stream",
     "text": [
      "15\n",
      "Sample 0 of 15 (1, 1, 1, 1, 0, 0)\n",
      "0.00028141364\n",
      "Sample 1 of 15 (1, 1, 1, 0, 1, 0)\n",
      "0.0006634772\n",
      "Sample 2 of 15 (1, 1, 1, 0, 0, 1)\n",
      "0.00030870028\n",
      "Sample 3 of 15 (1, 1, 0, 1, 1, 0)\n",
      "1.6782287e-06\n",
      "Sample 4 of 15 (1, 1, 0, 1, 0, 1)\n",
      "6.128117e-06\n",
      "Sample 5 of 15 (1, 1, 0, 0, 1, 1)\n",
      "0.0002055289\n",
      "Sample 6 of 15 (1, 0, 1, 1, 1, 0)\n",
      "0.00028678836\n",
      "Sample 7 of 15 (1, 0, 1, 1, 0, 1)\n",
      "0.00065196224\n",
      "Sample 8 of 15 (1, 0, 1, 0, 1, 1)\n",
      "0.0010647376\n",
      "Sample 9 of 15 (1, 0, 0, 1, 1, 1)\n",
      "4.947862e-06\n",
      "Sample 10 of 15 (0, 1, 1, 1, 1, 0)\n",
      "5.492044e-06\n",
      "Sample 11 of 15 (0, 1, 1, 1, 0, 1)\n",
      "6.216934e-05\n",
      "Sample 12 of 15 (0, 1, 1, 0, 1, 1)\n",
      "0.00025640638\n",
      "Sample 13 of 15 (0, 1, 0, 1, 1, 1)\n",
      "2.8215582e-06\n",
      "Sample 14 of 15 (0, 0, 1, 1, 1, 1)\n",
      "6.31843e-05\n",
      "Done\n"
     ]
    }
   ],
   "source": [
    "ln =patterns(4,nmodes)\n",
    "print(len(ln))\n",
    "npatterns=len(ln)\n",
    "Pn = np.zeros([npatterns,], dtype=np.float32)\n",
    "Pth = np.zeros_like(Pn)\n",
    "xaxis=np.zeros_like(Pn)\n",
    "for nbar in range(npatterns):\n",
    "    print('Sample '+repr(nbar)+' of '+repr(npatterns)+' '+repr(ln[nbar]))\n",
    "    Pn[nbar]=ps.Pr(ln[nbar],Qrho).numpy()\n",
    "    tf.print(Pn[nbar])\n",
    "    xaxis[nbar]=nbar\n",
    "print('Done')\n"
   ]
  },
  {
   "cell_type": "code",
   "execution_count": 43,
   "metadata": {},
   "outputs": [
    {
     "data": {
      "image/png": "[encoded data removed]",
      "text/plain": [
       "<Figure size 432x288 with 1 Axes>"
      ]
     },
     "metadata": {
      "needs_background": "light"
     },
     "output_type": "display_data"
    }
   ],
   "source": [
    "plt.bar(range(npatterns),Pn)\n",
    "plt.xlabel(np.transpose(np.array(ln)), fontsize=12);\n",
    "plt.ylabel('Sample Probability Pr (4 photons)');"
   ]
  },
  {
   "cell_type": "markdown",
   "metadata": {},
   "source": [
    "## Compute the probability of pairs "
   ]
  },
  {
   "cell_type": "code",
   "execution_count": 44,
   "metadata": {},
   "outputs": [
    {
     "name": "stdout",
     "output_type": "stream",
     "text": [
      "Generated 1 patterns with photon number 0\n",
      "Photons 0 Sample 1 of 15 Pr=0.12573017179965973 pattern (0, 0, 0, 0, 0, 0)\n",
      "Generated 15 patterns with photon number 2\n",
      "Photons 2 Sample 1 of 15 Pr=0.005543915089219809 pattern (1, 1, 0, 0, 0, 0)\n",
      "Photons 2 Sample 2 of 15 Pr=0.032552383840084076 pattern (1, 0, 1, 0, 0, 0)\n",
      "Photons 2 Sample 3 of 15 Pr=0.0017148163169622421 pattern (1, 0, 0, 1, 0, 0)\n",
      "Photons 2 Sample 4 of 15 Pr=0.004021208267658949 pattern (1, 0, 0, 0, 1, 0)\n",
      "Photons 2 Sample 5 of 15 Pr=0.006407609675079584 pattern (1, 0, 0, 0, 0, 1)\n",
      "Photons 2 Sample 6 of 15 Pr=0.0031371023505926132 pattern (0, 1, 1, 0, 0, 0)\n",
      "Photons 2 Sample 7 of 15 Pr=9.542331099510193e-05 pattern (0, 1, 0, 1, 0, 0)\n",
      "Photons 2 Sample 8 of 15 Pr=0.0018038395792245865 pattern (0, 1, 0, 0, 1, 0)\n",
      "Photons 2 Sample 9 of 15 Pr=7.353629916906357e-05 pattern (0, 1, 0, 0, 0, 1)\n",
      "Photons 2 Sample 10 of 15 Pr=0.0018527996726334095 pattern (0, 0, 1, 1, 0, 0)\n",
      "Photons 2 Sample 11 of 15 Pr=0.0021859684493392706 pattern (0, 0, 1, 0, 1, 0)\n",
      "Photons 2 Sample 12 of 15 Pr=0.017656482756137848 pattern (0, 0, 1, 0, 0, 1)\n",
      "Photons 2 Sample 13 of 15 Pr=0.0008283520583063364 pattern (0, 0, 0, 1, 1, 0)\n",
      "Photons 2 Sample 14 of 15 Pr=0.0004930591676384211 pattern (0, 0, 0, 1, 0, 1)\n",
      "Photons 2 Sample 15 of 15 Pr=0.001638992689549923 pattern (0, 0, 0, 0, 1, 1)\n",
      "Generated 15 patterns with photon number 4\n",
      "Photons 4 Sample 1 of 15 Pr=0.00028141363873146474 pattern (1, 1, 1, 1, 0, 0)\n",
      "Photons 4 Sample 2 of 15 Pr=0.0006634772289544344 pattern (1, 1, 1, 0, 1, 0)\n",
      "Photons 4 Sample 3 of 15 Pr=0.0003087002842221409 pattern (1, 1, 1, 0, 0, 1)\n",
      "Photons 4 Sample 4 of 15 Pr=1.678228727541864e-06 pattern (1, 1, 0, 1, 1, 0)\n",
      "Photons 4 Sample 5 of 15 Pr=6.128117092885077e-06 pattern (1, 1, 0, 1, 0, 1)\n",
      "Photons 4 Sample 6 of 15 Pr=0.00020552889327518642 pattern (1, 1, 0, 0, 1, 1)\n",
      "Photons 4 Sample 7 of 15 Pr=0.0002867883595172316 pattern (1, 0, 1, 1, 1, 0)\n",
      "Photons 4 Sample 8 of 15 Pr=0.0006519622402265668 pattern (1, 0, 1, 1, 0, 1)\n",
      "Photons 4 Sample 9 of 15 Pr=0.0010647375602275133 pattern (1, 0, 1, 0, 1, 1)\n",
      "Photons 4 Sample 10 of 15 Pr=4.947862180415541e-06 pattern (1, 0, 0, 1, 1, 1)\n",
      "Photons 4 Sample 11 of 15 Pr=5.492043783306144e-06 pattern (0, 1, 1, 1, 1, 0)\n",
      "Photons 4 Sample 12 of 15 Pr=6.216933979885653e-05 pattern (0, 1, 1, 1, 0, 1)\n",
      "Photons 4 Sample 13 of 15 Pr=0.0002564063761383295 pattern (0, 1, 1, 0, 1, 1)\n",
      "Photons 4 Sample 14 of 15 Pr=2.821558155119419e-06 pattern (0, 1, 0, 1, 1, 1)\n",
      "Photons 4 Sample 15 of 15 Pr=6.318429950624704e-05 pattern (0, 0, 1, 1, 1, 1)\n",
      "Done\n",
      "CPU times: user 34.6 s, sys: 55.8 ms, total: 34.7 s\n",
      "Wall time: 34.6 s\n"
     ]
    }
   ],
   "source": [
    "%%time\n",
    "nmax = 2 # number of couples\n",
    "probn=np.zeros([nmax+1,], dtype=np_real)\n",
    "for j in range(nmax+1):\n",
    "    photon_number=2*j\n",
    "    # generate the patterns\n",
    "    ln=patterns(photon_number,nmodes)\n",
    "    npattern=len(ln)\n",
    "    print('Generated '+repr(npattern)+\\\n",
    "          ' patterns with photon number '+repr(photon_number))\n",
    "    # compute probability for each pattern\n",
    "    Pn=np.zeros([npattern,], dtype=np_real)\n",
    "    for nbar in range(npattern):        \n",
    "        Pn[nbar]=ps.Pr(ln[nbar],Qrho).numpy()\n",
    "        print('Photons '+repr(photon_number)+' Sample '+repr(nbar+1)+\\\n",
    "              ' of '+repr(npatterns)+' Pr=' +repr(Pn[nbar])+\\\n",
    "              ' pattern '+repr(ln[nbar]))\n",
    "    # sum the probability of each pattern\n",
    "    probn[j]=sum(Pn)\n",
    "print('Done')"
   ]
  },
  {
   "cell_type": "code",
   "execution_count": 45,
   "metadata": {},
   "outputs": [
    {
     "data": {
      "image/png": "[encoded data removed]",
      "text/plain": [
       "<Figure size 432x288 with 1 Axes>"
      ]
     },
     "metadata": {
      "needs_background": "light"
     },
     "output_type": "display_data"
    }
   ],
   "source": [
    "plt.bar(range(nmax+1),probn)\n",
    "#plt.xlabel(ln, fontsize=6);\n",
    "plt.ylabel('Probability of 2 n photons');"
   ]
  },
  {
   "cell_type": "markdown",
   "metadata": {},
   "source": [
    "# Train the model and recompute probabilities"
   ]
  },
  {
   "cell_type": "code",
   "execution_count": 46,
   "metadata": {},
   "outputs": [
    {
     "name": "stdout",
     "output_type": "stream",
     "text": [
      "CPU times: user 2min 1s, sys: 13.9 s, total: 2min 15s\n",
      "Wall time: 1min 5s\n"
     ]
    }
   ],
   "source": [
    "%%time\n",
    "history=Train_model.fit(xtrain,np.zeros_like(xtrain),epochs=5000,verbose=0)"
   ]
  },
  {
   "cell_type": "markdown",
   "metadata": {},
   "source": [
    "Plot training history"
   ]
  },
  {
   "cell_type": "code",
   "execution_count": 47,
   "metadata": {},
   "outputs": [
    {
     "data": {
      "text/plain": [
       "[<matplotlib.lines.Line2D at 0x7f9639b7ae50>]"
      ]
     },
     "execution_count": 47,
     "metadata": {},
     "output_type": "execute_result"
    },
    {
     "data": {
      "image/png": "[encoded data removed]",
      "text/plain": [
       "<Figure size 432x288 with 1 Axes>"
      ]
     },
     "metadata": {
      "needs_background": "light"
     },
     "output_type": "display_data"
    }
   ],
   "source": [
    "plt.plot(history.history['tf.math.exp_loss'])"
   ]
  },
  {
   "cell_type": "markdown",
   "metadata": {},
   "source": [
    "Plot the training history in log scale (corresponding to Dn2_01, n0 and n1)"
   ]
  },
  {
   "cell_type": "code",
   "execution_count": 48,
   "metadata": {},
   "outputs": [
    {
     "data": {
      "text/plain": [
       "(0.0, 4.0)"
      ]
     },
     "execution_count": 48,
     "metadata": {},
     "output_type": "execute_result"
    },
    {
     "data": {
      "image/png": "[encoded data removed]",
      "text/plain": [
       "<Figure size 432x288 with 1 Axes>"
      ]
     },
     "metadata": {
      "needs_background": "light"
     },
     "output_type": "display_data"
    }
   ],
   "source": [
    "plt.plot(np.log(history.history['tf.math.exp_loss']))\n",
    "plt.plot(history.history['tf.compat.v1.gather_nd_1_loss'])\n",
    "plt.plot(history.history['tf.compat.v1.gather_nd_2_loss'])\n",
    "plt.ylim((0,4.0))"
   ]
  },
  {
   "cell_type": "markdown",
   "metadata": {},
   "source": [
    "Plot number of photons"
   ]
  },
  {
   "cell_type": "code",
   "execution_count": 49,
   "metadata": {},
   "outputs": [
    {
     "data": {
      "text/plain": [
       "[<matplotlib.lines.Line2D at 0x7f9639acb6d0>]"
      ]
     },
     "execution_count": 49,
     "metadata": {},
     "output_type": "execute_result"
    },
    {
     "data": {
      "image/png": "[encoded data removed]",
      "text/plain": [
       "<Figure size 432x288 with 1 Axes>"
      ]
     },
     "metadata": {
      "needs_background": "light"
     },
     "output_type": "display_data"
    }
   ],
   "source": [
    "plt.plot(history.history['tf.math.exp_loss'])"
   ]
  },
  {
   "cell_type": "markdown",
   "metadata": {},
   "source": [
    "## Photon number after training"
   ]
  },
  {
   "cell_type": "code",
   "execution_count": 50,
   "metadata": {},
   "outputs": [
    {
     "name": "stdout",
     "output_type": "stream",
     "text": [
      "[[0.996120691 0.996120214 0.996120334 0.996120691 0.996120691 0.996120572]]\n"
     ]
    }
   ],
   "source": [
    "tf.print(Nphoton(xtrain)); "
   ]
  },
  {
   "cell_type": "code",
   "execution_count": 51,
   "metadata": {},
   "outputs": [
    {
     "data": {
      "text/plain": [
       "<tf.Tensor: shape=(), dtype=float32, numpy=0.9961205>"
      ]
     },
     "execution_count": 51,
     "metadata": {},
     "output_type": "execute_result"
    }
   ],
   "source": [
    "tf.reduce_mean(Nphoton(xtrain))"
   ]
  },
  {
   "cell_type": "markdown",
   "metadata": {},
   "source": [
    "## Photon correlations after training"
   ]
  },
  {
   "cell_type": "code",
   "execution_count": 52,
   "metadata": {},
   "outputs": [
    {
     "name": "stdout",
     "output_type": "stream",
     "text": [
      "[[0 7.62939453e-06 4.36722612 5.70377 5.59098196 4.33082533]\n",
      " [7.62939453e-06 0 4.36722469 5.70376921 5.59098101 4.33082342]\n",
      " [4.36722612 4.36722469 0 5.7759285 5.74875736 2.07652235]\n",
      " [5.70377 5.70376921 5.7759285 0 7.26992083 5.90153456]\n",
      " [5.59098196 5.59098101 5.74875736 7.26992083 0 5.47753668]\n",
      " [4.33082533 4.33082342 2.07652235 5.90153456 5.47753668 0]]\n",
      "7.62939453e-06\n"
     ]
    }
   ],
   "source": [
    "n_out,Dn_out=HModel(xtrain)\n",
    "tf.print(Dn_out)\n",
    "tf.print(tf.gather_nd(Dn_out,[0,1]))"
   ]
  },
  {
   "cell_type": "markdown",
   "metadata": {},
   "source": [
    "Important the mean photon number does not change in the modes!\n",
    "But the difference between the number of photons is zero"
   ]
  },
  {
   "cell_type": "markdown",
   "metadata": {},
   "source": [
    "## Recompute the transform"
   ]
  },
  {
   "cell_type": "code",
   "execution_count": 53,
   "metadata": {},
   "outputs": [],
   "source": [
    "kin, Qrho =ps.getQTransformModel(model)\n",
    "#QLayer = ps.TransformLayer(N, model)\n",
    "#kin=tf.keras.layers.Input([N],dtype=model.dtype)\n",
    "#Q = QLayer(kin)\n",
    "#Qrho = tf.keras.Model(inputs=kin, outputs=Q)"
   ]
  },
  {
   "cell_type": "markdown",
   "metadata": {},
   "source": [
    "## Patterns with 2 photons"
   ]
  },
  {
   "cell_type": "code",
   "execution_count": 54,
   "metadata": {},
   "outputs": [
    {
     "name": "stdout",
     "output_type": "stream",
     "text": [
      "15\n",
      "Sample 0 of 15 (1, 1, 0, 0, 0, 0)\n",
      "0.06274284\n",
      "Sample 1 of 15 (1, 0, 1, 0, 0, 0)\n",
      "4.3016996e-08\n",
      "Sample 2 of 15 (1, 0, 0, 1, 0, 0)\n",
      "5.1211657e-08\n",
      "Sample 3 of 15 (1, 0, 0, 0, 1, 0)\n",
      "6.730545e-09\n",
      "Sample 4 of 15 (1, 0, 0, 0, 0, 1)\n",
      "1.436797e-08\n",
      "Sample 5 of 15 (0, 1, 1, 0, 0, 0)\n",
      "4.5329898e-08\n",
      "Sample 6 of 15 (0, 1, 0, 1, 0, 0)\n",
      "4.8426955e-08\n",
      "Sample 7 of 15 (0, 1, 0, 0, 1, 0)\n",
      "1.4409807e-09\n",
      "Sample 8 of 15 (0, 1, 0, 0, 0, 1)\n",
      "2.0157586e-08\n",
      "Sample 9 of 15 (0, 0, 1, 1, 0, 0)\n",
      "0.0050222576\n",
      "Sample 10 of 15 (0, 0, 1, 0, 1, 0)\n",
      "0.003671391\n",
      "Sample 11 of 15 (0, 0, 1, 0, 0, 1)\n",
      "0.041727822\n",
      "Sample 12 of 15 (0, 0, 0, 1, 1, 0)\n",
      "0.00075858436\n",
      "Sample 13 of 15 (0, 0, 0, 1, 0, 1)\n",
      "0.0024661864\n",
      "Sample 14 of 15 (0, 0, 0, 0, 1, 1)\n",
      "0.0073762303\n",
      "Done\n"
     ]
    }
   ],
   "source": [
    "ln =patterns(2,nmodes)\n",
    "print(len(ln))\n",
    "npatterns=len(ln)\n",
    "Pn = np.zeros([npatterns,], dtype=np.float32)\n",
    "Pth = np.zeros_like(Pn)\n",
    "xaxis=np.zeros_like(Pn)\n",
    "for nbar in range(npatterns):\n",
    "    print('Sample '+repr(nbar)+' of '+repr(npatterns)+' '+repr(ln[nbar]))\n",
    "    Pn[nbar]=ps.Pr(ln[nbar],Qrho).numpy()\n",
    "    tf.print(Pn[nbar])\n",
    "    xaxis[nbar]=nbar\n",
    "print('Done')"
   ]
  },
  {
   "cell_type": "code",
   "execution_count": 55,
   "metadata": {},
   "outputs": [],
   "source": [
    "ln2t=ln\n",
    "Pn2t=Pn"
   ]
  },
  {
   "cell_type": "code",
   "execution_count": 56,
   "metadata": {},
   "outputs": [
    {
     "data": {
      "text/plain": [
       "(0.0, 0.07)"
      ]
     },
     "execution_count": 56,
     "metadata": {},
     "output_type": "execute_result"
    },
    {
     "data": {
      "image/png": "[encoded data removed]",
      "text/plain": [
       "<Figure size 432x288 with 1 Axes>"
      ]
     },
     "metadata": {
      "needs_background": "light"
     },
     "output_type": "display_data"
    }
   ],
   "source": [
    "plt.bar(range(len(ln2t)),Pn2t)\n",
    "plt.xlabel(np.transpose(np.array(ln2t)), fontsize=12);\n",
    "plt.ylim((0,0.07))"
   ]
  },
  {
   "cell_type": "markdown",
   "metadata": {},
   "source": [
    "## Patterns of 4 photons"
   ]
  },
  {
   "cell_type": "code",
   "execution_count": 57,
   "metadata": {},
   "outputs": [
    {
     "name": "stdout",
     "output_type": "stream",
     "text": [
      "15\n",
      "Sample 0 of 15 (1, 1, 1, 1, 0, 0)\n",
      "0.0025062445\n",
      "Sample 1 of 15 (1, 1, 1, 0, 1, 0)\n",
      "0.0018321315\n",
      "Sample 2 of 15 (1, 1, 1, 0, 0, 1)\n",
      "0.020823289\n",
      "Sample 3 of 15 (1, 1, 0, 1, 1, 0)\n",
      "0.00037856627\n",
      "Sample 4 of 15 (1, 1, 0, 1, 0, 1)\n",
      "0.0012307017\n",
      "Sample 5 of 15 (1, 1, 0, 0, 1, 1)\n",
      "0.0036809358\n",
      "Sample 6 of 15 (1, 0, 1, 1, 1, 0)\n",
      "1.0474253e-08\n",
      "Sample 7 of 15 (1, 0, 1, 1, 0, 1)\n",
      "3.092333e-08\n",
      "Sample 8 of 15 (1, 0, 1, 0, 1, 1)\n",
      "-5.5946194e-09\n",
      "Sample 9 of 15 (1, 0, 0, 1, 1, 1)\n",
      "4.347878e-09\n",
      "Sample 10 of 15 (0, 1, 1, 1, 1, 0)\n",
      "-1.3216974e-08\n",
      "Sample 11 of 15 (0, 1, 1, 1, 0, 1)\n",
      "1.8275674e-09\n",
      "Sample 12 of 15 (0, 1, 1, 0, 1, 1)\n",
      "-1.679361e-08\n",
      "Sample 13 of 15 (0, 1, 0, 1, 1, 1)\n",
      "-1.6060536e-09\n",
      "Sample 14 of 15 (0, 0, 1, 1, 1, 1)\n",
      "0.00068254047\n",
      "Done\n"
     ]
    }
   ],
   "source": [
    "ln =patterns(4,nmodes)\n",
    "print(len(ln))\n",
    "npatterns=len(ln)\n",
    "Pn = np.zeros([npatterns,], dtype=np.float32)\n",
    "Pth = np.zeros_like(Pn)\n",
    "xaxis=np.zeros_like(Pn)\n",
    "for nbar in range(npatterns):\n",
    "    print('Sample '+repr(nbar)+' of '+repr(npatterns)+' '+repr(ln[nbar]))\n",
    "    Pn[nbar]=ps.Pr(ln[nbar],Qrho).numpy()\n",
    "    tf.print(Pn[nbar])\n",
    "    xaxis[nbar]=nbar\n",
    "print('Done')"
   ]
  },
  {
   "cell_type": "code",
   "execution_count": 58,
   "metadata": {},
   "outputs": [
    {
     "data": {
      "image/png": "[encoded data removed]",
      "text/plain": [
       "<Figure size 432x288 with 1 Axes>"
      ]
     },
     "metadata": {
      "needs_background": "light"
     },
     "output_type": "display_data"
    }
   ],
   "source": [
    "plt.xlabel(np.transpose(np.array(ln)), fontsize=12);\n",
    "plt.bar(range(npatterns),Pn)\n",
    "plt.ylabel('Sample Probability Pr (4 photons)');"
   ]
  },
  {
   "cell_type": "markdown",
   "metadata": {},
   "source": [
    "# Check the weights of layers"
   ]
  },
  {
   "cell_type": "code",
   "execution_count": 59,
   "metadata": {},
   "outputs": [
    {
     "data": {
      "text/plain": [
       "[<keras.engine.input_layer.InputLayer at 0x7f97a9330c50>,\n",
       " <quomplex2021.phasespace.HaarLayerConstant at 0x7f97a9db9f90>,\n",
       " <quomplex2021.phasespace.RandomLayer at 0x7f97a93895d0>,\n",
       " <quomplex2021.phasespace.SingleModeSqueezerLayer at 0x7f97a9330d10>,\n",
       " <quomplex2021.phasespace.SingleModeSqueezerLayer at 0x7f97a9257210>,\n",
       " <quomplex2021.phasespace.SingleModeSqueezerLayer at 0x7f97a9147790>,\n",
       " <quomplex2021.phasespace.SingleModeSqueezerLayer at 0x7f97a9287290>,\n",
       " <quomplex2021.phasespace.SingleModeSqueezerLayer at 0x7f97a91c0f10>,\n",
       " <quomplex2021.phasespace.SingleModeSqueezerLayer at 0x7f97a9221150>,\n",
       " <quomplex2021.phasespace.GaussianLayer at 0x7f97aa043450>]"
      ]
     },
     "execution_count": 59,
     "metadata": {},
     "output_type": "execute_result"
    }
   ],
   "source": [
    "model.layers"
   ]
  },
  {
   "cell_type": "code",
   "execution_count": 60,
   "metadata": {},
   "outputs": [
    {
     "name": "stdout",
     "output_type": "stream",
     "text": [
      "squeezer layer 3 r= 0.88 theta=0.7853982\n",
      "squeezer layer 4 r= 0.88 theta=0.7853982\n",
      "squeezer layer 5 r= 0.88 theta=0.7853982\n",
      "squeezer layer 6 r= 0.88 theta=0.7853982\n",
      "squeezer layer 7 r= 0.88 theta=0.7853982\n",
      "squeezer layer 8 r= 0.88 theta=0.7853982\n"
     ]
    }
   ],
   "source": [
    "for j in range(3,len(model.layers)-1):\n",
    "    print('squeezer layer '+repr(j)+ ' r= '+repr(model.layers[j].r.numpy()) \\\n",
    "    + ' theta='+repr(model.layers[j].theta.numpy()))"
   ]
  },
  {
   "cell_type": "code",
   "execution_count": 61,
   "metadata": {},
   "outputs": [
    {
     "name": "stdout",
     "output_type": "stream",
     "text": [
      "[[0]\n",
      " [0]\n",
      " [0]\n",
      " ...\n",
      " [0]\n",
      " [0]\n",
      " [0]]\n"
     ]
    }
   ],
   "source": [
    "tf.print(model.layers[9].d)"
   ]
  },
  {
   "cell_type": "code",
   "execution_count": 62,
   "metadata": {},
   "outputs": [
    {
     "name": "stdout",
     "output_type": "stream",
     "text": [
      "([[0.376002789 -0.22700797 -0.350534409 ... -0.086766988 0.220724642 0.238700196]\n",
      " [0.22700797 0.376002789 -0.0794462264 ... 0.0560056418 -0.238700196 0.220724642]\n",
      " [0.0958849564 -0.234319389 -0.113003924 ... 0.0462155491 -0.135839403 -0.537319839]\n",
      " ...\n",
      " [0.0707309693 0.318539 0.183523238 ... 0.576828718 -0.309097767 0.00752966106]\n",
      " [0.341231257 -0.225671187 0.572178185 ... -0.110756904 0.407212883 0.0962017477]\n",
      " [0.225671187 0.341231257 -0.182876647 ... -0.368596315 -0.0962017477 0.407212883]], [[0.376002789 0.22700797 0.0958849564 ... 0.0707309693 0.341231257 0.225671187]\n",
      " [-0.22700797 0.376002789 -0.234319389 ... 0.318539 -0.225671187 0.341231257]\n",
      " [-0.350534409 -0.0794462264 -0.113003924 ... 0.183523238 0.572178185 -0.182876647]\n",
      " ...\n",
      " [-0.086766988 0.0560056418 0.0462155491 ... 0.576828718 -0.110756904 -0.368596315]\n",
      " [0.220724642 -0.238700196 -0.135839403 ... -0.309097767 0.407212883 -0.0962017477]\n",
      " [0.238700196 0.220724642 -0.537319839 ... 0.00752966106 0.0962017477 0.407212883]])\n"
     ]
    }
   ],
   "source": [
    "tf.print(model.layers[2].get_M())"
   ]
  },
  {
   "cell_type": "markdown",
   "metadata": {},
   "source": [
    "# Compute the statistical probability of pairs"
   ]
  },
  {
   "cell_type": "code",
   "execution_count": 63,
   "metadata": {},
   "outputs": [
    {
     "name": "stdout",
     "output_type": "stream",
     "text": [
      "Generated 1 patterns with photon number 0\n",
      "Photons 0 Sample 1 of 15 Pr=0.12573029100894928 pattern (0, 0, 0, 0, 0, 0)\n",
      "Generated 15 patterns with photon number 2\n",
      "Photons 2 Sample 1 of 15 Pr=0.06274283677339554 pattern (1, 1, 0, 0, 0, 0)\n",
      "Photons 2 Sample 2 of 15 Pr=4.3016996187361656e-08 pattern (1, 0, 1, 0, 0, 0)\n",
      "Photons 2 Sample 3 of 15 Pr=5.121165713717346e-08 pattern (1, 0, 0, 1, 0, 0)\n",
      "Photons 2 Sample 4 of 15 Pr=6.730545010213973e-09 pattern (1, 0, 0, 0, 1, 0)\n",
      "Photons 2 Sample 5 of 15 Pr=1.4367969924933277e-08 pattern (1, 0, 0, 0, 0, 1)\n",
      "Photons 2 Sample 6 of 15 Pr=4.532989805738907e-08 pattern (0, 1, 1, 0, 0, 0)\n",
      "Photons 2 Sample 7 of 15 Pr=4.842695489060134e-08 pattern (0, 1, 0, 1, 0, 0)\n",
      "Photons 2 Sample 8 of 15 Pr=1.4409806681214832e-09 pattern (0, 1, 0, 0, 1, 0)\n",
      "Photons 2 Sample 9 of 15 Pr=2.0157585822744295e-08 pattern (0, 1, 0, 0, 0, 1)\n",
      "Photons 2 Sample 10 of 15 Pr=0.005022257566452026 pattern (0, 0, 1, 1, 0, 0)\n",
      "Photons 2 Sample 11 of 15 Pr=0.003671390935778618 pattern (0, 0, 1, 0, 1, 0)\n",
      "Photons 2 Sample 12 of 15 Pr=0.04172782227396965 pattern (0, 0, 1, 0, 0, 1)\n",
      "Photons 2 Sample 13 of 15 Pr=0.0007585843559354544 pattern (0, 0, 0, 1, 1, 0)\n",
      "Photons 2 Sample 14 of 15 Pr=0.0024661864154040813 pattern (0, 0, 0, 1, 0, 1)\n",
      "Photons 2 Sample 15 of 15 Pr=0.007376230321824551 pattern (0, 0, 0, 0, 1, 1)\n",
      "Generated 15 patterns with photon number 4\n",
      "Photons 4 Sample 1 of 15 Pr=0.0025062444619834423 pattern (1, 1, 1, 1, 0, 0)\n",
      "Photons 4 Sample 2 of 15 Pr=0.0018321315292268991 pattern (1, 1, 1, 0, 1, 0)\n",
      "Photons 4 Sample 3 of 15 Pr=0.020823288708925247 pattern (1, 1, 1, 0, 0, 1)\n",
      "Photons 4 Sample 4 of 15 Pr=0.00037856627022847533 pattern (1, 1, 0, 1, 1, 0)\n",
      "Photons 4 Sample 5 of 15 Pr=0.00123070168774575 pattern (1, 1, 0, 1, 0, 1)\n",
      "Photons 4 Sample 6 of 15 Pr=0.0036809358280152082 pattern (1, 1, 0, 0, 1, 1)\n",
      "Photons 4 Sample 7 of 15 Pr=1.0474252576386789e-08 pattern (1, 0, 1, 1, 1, 0)\n",
      "Photons 4 Sample 8 of 15 Pr=3.092333145104931e-08 pattern (1, 0, 1, 1, 0, 1)\n",
      "Photons 4 Sample 9 of 15 Pr=-5.594619434390324e-09 pattern (1, 0, 1, 0, 1, 1)\n",
      "Photons 4 Sample 10 of 15 Pr=4.34787805758674e-09 pattern (1, 0, 0, 1, 1, 1)\n",
      "Photons 4 Sample 11 of 15 Pr=-1.3216974181773367e-08 pattern (0, 1, 1, 1, 1, 0)\n",
      "Photons 4 Sample 12 of 15 Pr=1.8275674307233203e-09 pattern (0, 1, 1, 1, 0, 1)\n",
      "Photons 4 Sample 13 of 15 Pr=-1.679361005813007e-08 pattern (0, 1, 1, 0, 1, 1)\n",
      "Photons 4 Sample 14 of 15 Pr=-1.6060536234263623e-09 pattern (0, 1, 0, 1, 1, 1)\n",
      "Photons 4 Sample 15 of 15 Pr=0.0006825404707342386 pattern (0, 0, 1, 1, 1, 1)\n",
      "Done\n",
      "CPU times: user 35.2 s, sys: 0 ns, total: 35.2 s\n",
      "Wall time: 35.1 s\n"
     ]
    }
   ],
   "source": [
    "%%time\n",
    "nmax = 2 # number of couples\n",
    "probn=np.zeros([nmax+1,], dtype=np_real)\n",
    "for j in range(nmax+1):\n",
    "    photon_number=2*j\n",
    "    # generate the patterns\n",
    "    ln=patterns(photon_number,nmodes)\n",
    "    npattern=len(ln)\n",
    "    print('Generated '+repr(npattern)+\\\n",
    "          ' patterns with photon number '+repr(photon_number))\n",
    "    # compute probability for each pattern\n",
    "    Pn=np.zeros([npattern,], dtype=np_real)\n",
    "    for nbar in range(npattern):        \n",
    "        Pn[nbar]=ps.Pr(ln[nbar],Qrho).numpy()\n",
    "        print('Photons '+repr(photon_number)+' Sample '+repr(nbar+1)+\\\n",
    "              ' of '+repr(npatterns)+' Pr=' +repr(Pn[nbar])+\\\n",
    "              ' pattern '+repr(ln[nbar]))\n",
    "    # sum the probability of each pattern\n",
    "    probn[j]=sum(Pn)\n",
    "print('Done')"
   ]
  },
  {
   "cell_type": "code",
   "execution_count": 64,
   "metadata": {},
   "outputs": [
    {
     "data": {
      "text/plain": [
       "array([0.12573029, 0.12376554, 0.03113442])"
      ]
     },
     "execution_count": 64,
     "metadata": {},
     "output_type": "execute_result"
    }
   ],
   "source": [
    "probn"
   ]
  },
  {
   "cell_type": "code",
   "execution_count": 65,
   "metadata": {},
   "outputs": [
    {
     "data": {
      "image/png": "[encoded data removed]",
      "text/plain": [
       "<Figure size 432x288 with 1 Axes>"
      ]
     },
     "metadata": {
      "needs_background": "light"
     },
     "output_type": "display_data"
    }
   ],
   "source": [
    "plt.bar(range(nmax+1),probn)\n",
    "#plt.xlabel(ln, fontsize=6);\n",
    "plt.ylabel('Probability of 2 n photons');"
   ]
  },
  {
   "cell_type": "markdown",
   "metadata": {},
   "source": [
    "Looks that the overall probability does not change, but most of the couples appears in the target modes"
   ]
  },
  {
   "cell_type": "code",
   "execution_count": null,
   "metadata": {},
   "outputs": [],
   "source": []
  }
 ],
 "metadata": {
  "kernelspec": {
   "display_name": "Python 3 (ipykernel)",
   "language": "python",
   "name": "python3"
  },
  "language_info": {
   "codemirror_mode": {
    "name": "ipython",
    "version": 3
   },
   "file_extension": ".py",
   "mimetype": "text/x-python",
   "name": "python",
   "nbconvert_exporter": "python",
   "pygments_lexer": "ipython3",
   "version": "3.8.13"
  }
 },
 "nbformat": 4,
 "nbformat_minor": 4
}
