{
 "cells": [
  {
   "cell_type": "markdown",
   "metadata": {},
   "source": [
    "# Boson sampling on a multimode coherent state"
   ]
  },
  {
   "cell_type": "markdown",
   "metadata": {},
   "source": [
    "We test the boson sampling operator (no training) \n",
    "on coherent states\n",
    "\n",
    "We compare with theory\n",
    "\n",
    "nonlinearxwaves@gmail.com<br>\n",
    "@created 27 january 2021<br>\n",
    "@version 3 may 2023<br<"
   ]
  },
  {
   "cell_type": "code",
   "execution_count": 1,
   "metadata": {},
   "outputs": [
    {
     "name": "stderr",
     "output_type": "stream",
     "text": [
      "2023-05-03 18:29:00.518517: W tensorflow/stream_executor/platform/default/dso_loader.cc:64] Could not load dynamic library 'libcudart.so.11.0'; dlerror: libcudart.so.11.0: cannot open shared object file: No such file or directory\n",
      "2023-05-03 18:29:00.518538: I tensorflow/stream_executor/cuda/cudart_stub.cc:29] Ignore above cudart dlerror if you do not have a GPU set up on your machine.\n"
     ]
    }
   ],
   "source": [
    "import numpy as np\n",
    "from thqml import phasespace as ps\n",
    "from thqml.utilities import utilities\n",
    "import tensorflow as tf\n",
    "import matplotlib.pyplot as plt"
   ]
  },
  {
   "cell_type": "code",
   "execution_count": 2,
   "metadata": {},
   "outputs": [],
   "source": [
    "tf_complex = tf.complex\n",
    "tf_real = tf.float32\n",
    "np_complex = complex\n",
    "np_real = np.float64"
   ]
  },
  {
   "cell_type": "code",
   "execution_count": 3,
   "metadata": {},
   "outputs": [],
   "source": [
    "tf.keras.backend.clear_session()"
   ]
  },
  {
   "cell_type": "code",
   "execution_count": 4,
   "metadata": {},
   "outputs": [],
   "source": [
    "np.set_printoptions(precision=2)"
   ]
  },
  {
   "cell_type": "markdown",
   "metadata": {},
   "source": [
    "Check GPU"
   ]
  },
  {
   "cell_type": "code",
   "execution_count": 5,
   "metadata": {},
   "outputs": [
    {
     "name": "stdout",
     "output_type": "stream",
     "text": [
      "Num GPUs Available:  0\n"
     ]
    },
    {
     "name": "stderr",
     "output_type": "stream",
     "text": [
      "2023-05-03 18:29:08.988350: W tensorflow/stream_executor/platform/default/dso_loader.cc:64] Could not load dynamic library 'libcuda.so.1'; dlerror: libcuda.so.1: cannot open shared object file: No such file or directory\n",
      "2023-05-03 18:29:08.988451: W tensorflow/stream_executor/cuda/cuda_driver.cc:269] failed call to cuInit: UNKNOWN ERROR (303)\n",
      "2023-05-03 18:29:08.988578: I tensorflow/stream_executor/cuda/cuda_diagnostics.cc:156] kernel driver does not appear to be running on this host (x1): /proc/driver/nvidia/version does not exist\n"
     ]
    }
   ],
   "source": [
    "print(\"Num GPUs Available: \", len(tf.config.experimental.list_physical_devices('GPU')))"
   ]
  },
  {
   "cell_type": "markdown",
   "metadata": {},
   "source": [
    "## Dimension"
   ]
  },
  {
   "cell_type": "code",
   "execution_count": 6,
   "metadata": {},
   "outputs": [],
   "source": [
    "N = 4"
   ]
  },
  {
   "cell_type": "code",
   "execution_count": 7,
   "metadata": {},
   "outputs": [],
   "source": [
    "n=np.floor_divide(N,2)"
   ]
  },
  {
   "cell_type": "markdown",
   "metadata": {},
   "source": [
    "## Build vacuum by the Gaussian state"
   ]
  },
  {
   "cell_type": "code",
   "execution_count": 8,
   "metadata": {},
   "outputs": [
    {
     "name": "stderr",
     "output_type": "stream",
     "text": [
      "2023-05-03 18:29:13.184905: I tensorflow/core/platform/cpu_feature_guard.cc:151] This TensorFlow binary is optimized with oneAPI Deep Neural Network Library (oneDNN) to use the following CPU instructions in performance-critical operations:  AVX2 FMA\n",
      "To enable them in other operations, rebuild TensorFlow with the appropriate compiler flags.\n"
     ]
    }
   ],
   "source": [
    "vacuum = ps.VacuumLayer(N)"
   ]
  },
  {
   "cell_type": "markdown",
   "metadata": {},
   "source": [
    "## Displacer"
   ]
  },
  {
   "cell_type": "markdown",
   "metadata": {},
   "source": [
    "Define the alpha vector for the alpha"
   ]
  },
  {
   "cell_type": "code",
   "execution_count": 9,
   "metadata": {},
   "outputs": [],
   "source": [
    "alpha=np.zeros([2],dtype=np_complex)"
   ]
  },
  {
   "cell_type": "code",
   "execution_count": 10,
   "metadata": {},
   "outputs": [
    {
     "name": "stdout",
     "output_type": "stream",
     "text": [
      "[0.5+0.87j 1.5+0.j  ]\n",
      "[1.   2.25]\n"
     ]
    }
   ],
   "source": [
    "alpha[0]=np.exp(1j*np.pi/3)\n",
    "alpha[1]=1.5\n",
    "print(alpha)\n",
    "print(np.abs(alpha)**2)"
   ]
  },
  {
   "cell_type": "markdown",
   "metadata": {},
   "source": [
    "Define the corresponding displacement vector"
   ]
  },
  {
   "cell_type": "code",
   "execution_count": 11,
   "metadata": {},
   "outputs": [],
   "source": [
    "dinput_np=np.zeros([N,1], dtype=np_real)\n",
    "for j in range(n):\n",
    "    dinput_np[2*j]=np.sqrt(2)*np.real(alpha[j])\n",
    "    dinput_np[2*j+1]=np.sqrt(2)*np.imag(alpha[j])"
   ]
  },
  {
   "cell_type": "code",
   "execution_count": 12,
   "metadata": {},
   "outputs": [],
   "source": [
    "dinput = tf.constant( dinput_np, dtype=vacuum.dtype)\n",
    "displacer = ps.DisplacementLayerConstant(dinput)"
   ]
  },
  {
   "cell_type": "markdown",
   "metadata": {},
   "source": [
    "## Build the model"
   ]
  },
  {
   "cell_type": "code",
   "execution_count": 13,
   "metadata": {},
   "outputs": [],
   "source": [
    "xin = tf.keras.layers.Input(N)\n",
    "x1, a1 = displacer(xin)\n",
    "chir, chii = vacuum(x1, a1)\n",
    "model = tf.keras.Model(inputs = xin, outputs=[chir, chii])"
   ]
  },
  {
   "cell_type": "markdown",
   "metadata": {},
   "source": [
    "# Evaluate the covariance"
   ]
  },
  {
   "cell_type": "code",
   "execution_count": 14,
   "metadata": {},
   "outputs": [
    {
     "name": "stdout",
     "output_type": "stream",
     "text": [
      "tf.Tensor([[0.71 1.22 2.12 0.  ]], shape=(1, 4), dtype=float32)\n",
      "[[1 -0 -0 -0]\n",
      " [-0 0.999999762 -0 -0]\n",
      " [-0 -0 1 -0]\n",
      " [-0 -0 -0 1]]\n"
     ]
    }
   ],
   "source": [
    "cov_layer = ps.CovarianceLayer(N)\n",
    "covariance_matrix, mean_R, hessian = cov_layer(chir,chii, model)\n",
    "squeezed_cov = tf.keras.Model(inputs = xin, outputs=[covariance_matrix, mean_R, hessian])\n",
    "xtrain = np.random.rand(1, N)-0.5\n",
    "cov0,d0, hessian0=squeezed_cov(xtrain); print(d0); tf.print(cov0)"
   ]
  },
  {
   "cell_type": "markdown",
   "metadata": {},
   "source": [
    "# Evaluate the Qtransform with calculated covariance and displacemente"
   ]
  },
  {
   "cell_type": "code",
   "execution_count": 15,
   "metadata": {},
   "outputs": [],
   "source": [
    "Qrho = ps.QTransform(cov0, d0)"
   ]
  },
  {
   "cell_type": "markdown",
   "metadata": {},
   "source": [
    "# Test the Pr operator "
   ]
  },
  {
   "cell_type": "markdown",
   "metadata": {},
   "source": [
    "Probability of zero photon"
   ]
  },
  {
   "cell_type": "code",
   "execution_count": 16,
   "metadata": {},
   "outputs": [
    {
     "data": {
      "text/plain": [
       "<tf.Tensor: shape=(1, 1), dtype=float32, numpy=array([[0.04]], dtype=float32)>"
      ]
     },
     "execution_count": 16,
     "metadata": {},
     "output_type": "execute_result"
    }
   ],
   "source": [
    "ps.Pr([0,0], Qrho)"
   ]
  },
  {
   "cell_type": "markdown",
   "metadata": {},
   "source": [
    "Probability of two photons"
   ]
  },
  {
   "cell_type": "code",
   "execution_count": 17,
   "metadata": {},
   "outputs": [
    {
     "data": {
      "text/plain": [
       "<tf.Tensor: shape=(1,), dtype=float32, numpy=array([0.1], dtype=float32)>"
      ]
     },
     "execution_count": 17,
     "metadata": {},
     "output_type": "execute_result"
    }
   ],
   "source": [
    "ps.Pr([0,2], Qrho)"
   ]
  },
  {
   "cell_type": "markdown",
   "metadata": {},
   "source": [
    "## Define a function with the expected theoretical value"
   ]
  },
  {
   "cell_type": "code",
   "execution_count": 18,
   "metadata": {},
   "outputs": [],
   "source": [
    "def theoryPr(nbar, alpha):\n",
    "    # returh the theory value for the Boson sampling for coherent states\n",
    "    n=len(nbar)\n",
    "    \n",
    "    scale = 1\n",
    "    for j in range(n):\n",
    "        nj = nbar[j]\n",
    "        aj2 = np.abs(alpha[j])**2\n",
    "        scale = scale/np.math.factorial(nj)\n",
    "        scale = scale*np.exp(-aj2)*np.power(aj2,nj)\n",
    "    \n",
    "    return scale  "
   ]
  },
  {
   "cell_type": "markdown",
   "metadata": {},
   "source": [
    "## Compare with some examples"
   ]
  },
  {
   "cell_type": "code",
   "execution_count": 19,
   "metadata": {},
   "outputs": [
    {
     "name": "stdout",
     "output_type": "stream",
     "text": [
      "[[0.038774211]]\n",
      "0.03877420783172201\n"
     ]
    }
   ],
   "source": [
    "nbar=[0,0]\n",
    "tf.print(ps.Pr(nbar, Qrho))\n",
    "print(theoryPr(nbar,alpha))"
   ]
  },
  {
   "cell_type": "code",
   "execution_count": 20,
   "metadata": {},
   "outputs": [
    {
     "name": "stdout",
     "output_type": "stream",
     "text": [
      "[0.0387742147]\n",
      "0.03877420783172201\n"
     ]
    }
   ],
   "source": [
    "nbar=[1,0]\n",
    "tf.print(ps.Pr(nbar, Qrho))\n",
    "print(theoryPr(nbar,alpha))"
   ]
  },
  {
   "cell_type": "code",
   "execution_count": 21,
   "metadata": {},
   "outputs": [
    {
     "name": "stdout",
     "output_type": "stream",
     "text": [
      "[0.0872419775]\n",
      "0.08724196762137452\n"
     ]
    }
   ],
   "source": [
    "nbar=[1,1]\n",
    "tf.print(ps.Pr(nbar, Qrho))\n",
    "print(theoryPr(nbar,alpha))"
   ]
  },
  {
   "cell_type": "code",
   "execution_count": 22,
   "metadata": {},
   "outputs": [
    {
     "name": "stdout",
     "output_type": "stream",
     "text": [
      "[0.0368051939]\n",
      "0.03680520509026738\n"
     ]
    }
   ],
   "source": [
    "nbar=[2,3]\n",
    "tf.print(ps.Pr(nbar, Qrho))\n",
    "print(theoryPr(nbar,alpha))"
   ]
  },
  {
   "cell_type": "markdown",
   "metadata": {},
   "source": [
    "## Make a plot versus the probability"
   ]
  },
  {
   "cell_type": "markdown",
   "metadata": {},
   "source": [
    "Build an array of photon number sampling"
   ]
  },
  {
   "cell_type": "code",
   "execution_count": 23,
   "metadata": {},
   "outputs": [
    {
     "name": "stdout",
     "output_type": "stream",
     "text": [
      "[(0, 0), (0, 1), (0, 2), (0, 3), (1, 0), (1, 1), (1, 2), (1, 3), (2, 0), (2, 1), (2, 2), (2, 3), (3, 0), (3, 1), (3, 2), (3, 3)]\n",
      "16\n"
     ]
    }
   ],
   "source": [
    "nmax=3 # max number of photons\n",
    "# generate the combinations\n",
    "import itertools as it\n",
    "nlist=it.product(range(nmax+1),repeat=n)\n",
    "ln=list(nlist)\n",
    "print(ln)\n",
    "print(len(ln))"
   ]
  },
  {
   "cell_type": "code",
   "execution_count": 27,
   "metadata": {},
   "outputs": [
    {
     "name": "stdout",
     "output_type": "stream",
     "text": [
      "Computing Pn at n (0, 0)\n",
      "0.03877421\n",
      "0.038774207\n",
      "Computing Pn at n (0, 1)\n",
      "0.08724196\n",
      "0.08724197\n",
      "Computing Pn at n (0, 2)\n",
      "0.098147206\n",
      "0.09814721\n",
      "Computing Pn at n (0, 3)\n",
      "0.073610395\n",
      "0.07361041\n",
      "Computing Pn at n (1, 0)\n",
      "0.038774215\n",
      "0.038774207\n",
      "Computing Pn at n (1, 1)\n",
      "0.08724198\n",
      "0.08724197\n",
      "Computing Pn at n (1, 2)\n",
      "0.09814721\n",
      "0.09814721\n",
      "Computing Pn at n (1, 3)\n",
      "0.07361041\n",
      "0.07361041\n",
      "Computing Pn at n (2, 0)\n",
      "0.019387107\n",
      "0.019387104\n",
      "Computing Pn at n (2, 1)\n",
      "0.04362099\n",
      "0.043620985\n",
      "Computing Pn at n (2, 2)\n",
      "0.0490736\n",
      "0.049073607\n",
      "Computing Pn at n (2, 3)\n",
      "0.036805194\n",
      "0.036805205\n",
      "Computing Pn at n (3, 0)\n",
      "0.006462368\n",
      "0.006462368\n",
      "Computing Pn at n (3, 1)\n",
      "0.014540324\n",
      "0.014540328\n",
      "Computing Pn at n (3, 2)\n",
      "0.016357865\n",
      "0.016357869\n",
      "Computing Pn at n (3, 3)\n",
      "0.012268395\n",
      "0.012268402\n",
      "Done\n",
      "CPU times: user 4min 34s, sys: 1.22 s, total: 4min 36s\n",
      "Wall time: 4min 36s\n"
     ]
    }
   ],
   "source": [
    "%%time \n",
    "npatterns=len(ln)\n",
    "Pn = np.zeros([npatterns,], dtype=np.float32)\n",
    "Pth = np.zeros_like(Pn)\n",
    "xaxis=np.zeros_like(Pn)\n",
    "for nbar in range(npatterns):\n",
    "    print('Computing Pn at n '+repr(ln[nbar]))\n",
    "    Pn[nbar]=ps.Pr(ln[nbar],Qrho).numpy()\n",
    "    tf.print(Pn[nbar])\n",
    "    Pth[nbar]=theoryPr(ln[nbar],alpha)\n",
    "    print(Pth[nbar])\n",
    "    xaxis[nbar]=nbar\n",
    "print('Done')"
   ]
  },
  {
   "cell_type": "code",
   "execution_count": 28,
   "metadata": {},
   "outputs": [
    {
     "data": {
      "image/png": "[encoded data removed]",
      "text/plain": [
       "<Figure size 432x288 with 1 Axes>"
      ]
     },
     "metadata": {
      "needs_background": "light"
     },
     "output_type": "display_data"
    }
   ],
   "source": [
    "plt.bar(xaxis,Pn)\n",
    "plt.plot(xaxis, Pth, marker='o', markersize=8, markerfacecolor='red', linestyle='none')\n",
    "plt.xlabel(ln, fontsize=6);\n",
    "plt.ylabel('Sample Probability Pr');\n",
    "plt.savefig('BosonSamplingExample3.pdf', format='pdf')"
   ]
  },
  {
   "cell_type": "markdown",
   "metadata": {},
   "source": [
    "Comparison between the photon number evaluated with the model(bars) and the theory (red dots). Sampling patters are indicate in the labels."
   ]
  }
 ],
 "metadata": {
  "kernelspec": {
   "display_name": "Python 3 (ipykernel)",
   "language": "python",
   "name": "python3"
  },
  "language_info": {
   "codemirror_mode": {
    "name": "ipython",
    "version": 3
   },
   "file_extension": ".py",
   "mimetype": "text/x-python",
   "name": "python",
   "nbconvert_exporter": "python",
   "pygments_lexer": "ipython3",
   "version": "3.8.13"
  }
 },
 "nbformat": 4,
 "nbformat_minor": 4
}
