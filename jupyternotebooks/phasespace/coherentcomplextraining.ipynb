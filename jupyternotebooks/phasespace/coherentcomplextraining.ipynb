{
 "cells": [
  {
   "cell_type": "markdown",
   "metadata": {},
   "source": [
    "# Training a random medium by a complex medium to generate a target coherent state"
   ]
  },
  {
   "cell_type": "markdown",
   "metadata": {},
   "source": [
    "Use the multi-heads (2-head) gates in the phase space \n",
    "to create a network that represent a coherent state \n",
    "propagating in a random medium. \n",
    "Use a trainable complex medium to obtain a target state\n",
    "\n",
    "NOTE: remember to shut down the kernel when out of memory\n",
    "\n",
    "<img src=\"../img/coherentcomplextraining.png\" width=\"900\" height=\"300\" />\n",
    "\n",
    "<img src=\"../img/logo_circular.png\" width=\"20\" height=\"20\" />@by claudio<br>\n",
    "\n",
    "nonlinearxwaves@gmail.com<br>\n",
    "@created 22 july 2020<br>\n",
    "@version 15 may 2023"
   ]
  },
  {
   "cell_type": "code",
   "execution_count": 1,
   "metadata": {},
   "outputs": [
    {
     "name": "stderr",
     "output_type": "stream",
     "text": [
      "2023-05-14 11:09:42.297676: W tensorflow/stream_executor/platform/default/dso_loader.cc:64] Could not load dynamic library 'libcudart.so.11.0'; dlerror: libcudart.so.11.0: cannot open shared object file: No such file or directory\n",
      "2023-05-14 11:09:42.297699: I tensorflow/stream_executor/cuda/cudart_stub.cc:29] Ignore above cudart dlerror if you do not have a GPU set up on your machine.\n"
     ]
    }
   ],
   "source": [
    "import numpy as np\n",
    "from thqml import phasespace as ps\n",
    "from thqml.utilities import utilities\n",
    "import tensorflow as tf\n",
    "#import tensorflow_addons as tfa\n",
    "from tensorflow import keras\n",
    "import matplotlib.pyplot as plt\n",
    "from tensorflow.keras.callbacks import EarlyStopping"
   ]
  },
  {
   "cell_type": "code",
   "execution_count": 2,
   "metadata": {},
   "outputs": [],
   "source": [
    "tf_complex = tf.complex\n",
    "tf_real = tf.float32\n",
    "np_complex = complex\n",
    "np_real = np.float64"
   ]
  },
  {
   "cell_type": "markdown",
   "metadata": {},
   "source": [
    "Set the precision for the output"
   ]
  },
  {
   "cell_type": "code",
   "execution_count": 3,
   "metadata": {},
   "outputs": [],
   "source": [
    "np.set_printoptions(precision=4)"
   ]
  },
  {
   "cell_type": "markdown",
   "metadata": {},
   "source": [
    "## Dimension"
   ]
  },
  {
   "cell_type": "code",
   "execution_count": 4,
   "metadata": {},
   "outputs": [],
   "source": [
    "N = 20"
   ]
  },
  {
   "cell_type": "markdown",
   "metadata": {},
   "source": [
    "## Build vacuum by the Gaussian state"
   ]
  },
  {
   "cell_type": "code",
   "execution_count": 5,
   "metadata": {},
   "outputs": [
    {
     "name": "stderr",
     "output_type": "stream",
     "text": [
      "2023-05-14 11:09:46.944338: W tensorflow/stream_executor/platform/default/dso_loader.cc:64] Could not load dynamic library 'libcuda.so.1'; dlerror: libcuda.so.1: cannot open shared object file: No such file or directory\n",
      "2023-05-14 11:09:46.944364: W tensorflow/stream_executor/cuda/cuda_driver.cc:269] failed call to cuInit: UNKNOWN ERROR (303)\n",
      "2023-05-14 11:09:46.944389: I tensorflow/stream_executor/cuda/cuda_diagnostics.cc:156] kernel driver does not appear to be running on this host (x1): /proc/driver/nvidia/version does not exist\n",
      "2023-05-14 11:09:46.944724: I tensorflow/core/platform/cpu_feature_guard.cc:151] This TensorFlow binary is optimized with oneAPI Deep Neural Network Library (oneDNN) to use the following CPU instructions in performance-critical operations:  AVX2 FMA\n",
      "To enable them in other operations, rebuild TensorFlow with the appropriate compiler flags.\n"
     ]
    }
   ],
   "source": [
    "vacuum = ps.VacuumLayer(N, name = 'Vacuum')"
   ]
  },
  {
   "cell_type": "markdown",
   "metadata": {},
   "source": [
    "## Build the pullback layer for generating the input coherent state"
   ]
  },
  {
   "cell_type": "markdown",
   "metadata": {},
   "source": [
    "### Target displacement vector (IMPORTANT THE DISPLACEMENT VECTOR MUST BE NORMALIZED!!!)\n",
    "The displacement vector is a normalized column vector"
   ]
  },
  {
   "cell_type": "code",
   "execution_count": 6,
   "metadata": {},
   "outputs": [],
   "source": [
    "dinput = 3.0*np.ones((N,1)); "
   ]
  },
  {
   "cell_type": "markdown",
   "metadata": {},
   "source": [
    "Normalize the dinput (this is needed as we want to training with constant photon number, the target displacement and the input must have the same norm)"
   ]
  },
  {
   "cell_type": "code",
   "execution_count": 7,
   "metadata": {},
   "outputs": [
    {
     "name": "stdout",
     "output_type": "stream",
     "text": [
      "[[0.2236 0.2236 0.2236 0.2236 0.2236 0.2236 0.2236 0.2236 0.2236 0.2236\n",
      "  0.2236 0.2236 0.2236 0.2236 0.2236 0.2236 0.2236 0.2236 0.2236 0.2236]]\n",
      "[[1.]]\n"
     ]
    }
   ],
   "source": [
    "norm = np.linalg.norm(dinput)\n",
    "dinput = dinput /norm\n",
    "print(dinput.transpose())\n",
    "print(np.dot(dinput.transpose(), dinput))"
   ]
  },
  {
   "cell_type": "markdown",
   "metadata": {},
   "source": [
    "## Define the linear Glauber layer\n",
    "The layer is a constant layer, as no training is needed"
   ]
  },
  {
   "cell_type": "code",
   "execution_count": 8,
   "metadata": {},
   "outputs": [],
   "source": [
    "D = ps.DisplacementLayerConstant(dinput, name = 'GlauberLayer')"
   ]
  },
  {
   "cell_type": "markdown",
   "metadata": {},
   "source": [
    "## Define the layer for the untrainable complex medium\n",
    "We can give a name to the layer to appear in the model summary"
   ]
  },
  {
   "cell_type": "code",
   "execution_count": 9,
   "metadata": {},
   "outputs": [],
   "source": [
    "R = ps.RandomLayerConstant(N, name = 'RandomLayerConstant')"
   ]
  },
  {
   "cell_type": "markdown",
   "metadata": {},
   "source": [
    "## Define the trainable random layer"
   ]
  },
  {
   "cell_type": "code",
   "execution_count": 10,
   "metadata": {},
   "outputs": [],
   "source": [
    "T = ps.RandomLayer(N, name='RandomLayer')"
   ]
  },
  {
   "cell_type": "markdown",
   "metadata": {},
   "source": [
    "## Define the normalize target displacement vector <br>\n",
    "The target displacement vector must have the same norm of the input as the photon number is conserved"
   ]
  },
  {
   "cell_type": "code",
   "execution_count": 11,
   "metadata": {},
   "outputs": [
    {
     "name": "stdout",
     "output_type": "stream",
     "text": [
      "[[0.9528 0.3035 0.     0.     0.     0.     0.     0.     0.     0.\n",
      "  0.     0.     0.     0.     0.     0.     0.     0.     0.     0.    ]]\n"
     ]
    }
   ],
   "source": [
    "dtarget = np.zeros((N,1)); dtarget[0]=3.14; dtarget[1]=1.0; \n",
    "norm = np.linalg.norm(dtarget)\n",
    "dtarget = dtarget /norm\n",
    "print(dtarget.transpose())"
   ]
  },
  {
   "cell_type": "markdown",
   "metadata": {},
   "source": [
    "## Connect the layers (in reverse order)"
   ]
  },
  {
   "cell_type": "code",
   "execution_count": 12,
   "metadata": {},
   "outputs": [],
   "source": [
    "xin = tf.keras.layers.Input(N)\n",
    "x3, a3 = R(xin)\n",
    "x2, a2 = T(x3, a3)\n",
    "x1, a1 = D(x2,a2)\n",
    "chir, chii = vacuum(x1, a1)"
   ]
  },
  {
   "cell_type": "code",
   "execution_count": 13,
   "metadata": {},
   "outputs": [],
   "source": [
    "model = tf.keras.Model(inputs = xin, outputs=[chir, chii])"
   ]
  },
  {
   "cell_type": "markdown",
   "metadata": {},
   "source": [
    "## Test the model by derivatives"
   ]
  },
  {
   "cell_type": "code",
   "execution_count": 14,
   "metadata": {},
   "outputs": [],
   "source": [
    "xzero = tf.constant(np.zeros((1,N)))\n",
    "with tf.GradientTape(persistent=True) as tape:\n",
    "    tape.watch(xzero)\n",
    "    chir, chii = model(xzero)         "
   ]
  },
  {
   "cell_type": "code",
   "execution_count": 15,
   "metadata": {},
   "outputs": [
    {
     "name": "stdout",
     "output_type": "stream",
     "text": [
      "[[0 0 0 ... 0 0 0]]\n"
     ]
    }
   ],
   "source": [
    "tf.print(tape.gradient(chir,xzero))"
   ]
  },
  {
   "cell_type": "code",
   "execution_count": 16,
   "metadata": {},
   "outputs": [
    {
     "name": "stdout",
     "output_type": "stream",
     "text": [
      "[[-0.26598483324050903 -0.10995617508888245 -0.25033503770828247 ... -0.031040109694004059 -0.34186285734176636 -0.11959177255630493]]\n"
     ]
    }
   ],
   "source": [
    "tf.print(tape.gradient(chii,xzero))"
   ]
  },
  {
   "cell_type": "markdown",
   "metadata": {},
   "source": [
    "## Build the training set by using a target characteristic function"
   ]
  },
  {
   "cell_type": "markdown",
   "metadata": {},
   "source": [
    "Number of training points"
   ]
  },
  {
   "cell_type": "code",
   "execution_count": 17,
   "metadata": {},
   "outputs": [],
   "source": [
    "Nbatch = 100"
   ]
  },
  {
   "cell_type": "markdown",
   "metadata": {},
   "source": [
    "Define the numpy function for the target characteristic function:\n",
    "    a coherent state with a target displacement"
   ]
  },
  {
   "cell_type": "code",
   "execution_count": 18,
   "metadata": {},
   "outputs": [],
   "source": [
    "def chi_target(x, d):\n",
    "    \"\"\" Characteristic function of a Gaussian coherent state\n",
    "    Parameters\n",
    "    ----------\n",
    "    :param x: input\n",
    "    :param d: displacement vector\n",
    "    \"\"\"\n",
    "    yr = -0.25*np.matmul(x, x.transpose())\n",
    "    yi = np.matmul(x, d)\n",
    "    #return yr, yi\n",
    "    return np.exp(yr)*np.cos(yi), np.exp(yr)*np.sin(yi)"
   ]
  },
  {
   "cell_type": "markdown",
   "metadata": {},
   "source": [
    "Generate the training set"
   ]
  },
  {
   "cell_type": "code",
   "execution_count": 19,
   "metadata": {},
   "outputs": [],
   "source": [
    "xtrain = np.random.rand(Nbatch, N)-0.5\n",
    "chitestr = np.zeros(Nbatch)\n",
    "chitesti = np.zeros(Nbatch)\n",
    "for j in range(Nbatch):\n",
    "    chitestr[j], chitesti[j] = chi_target(xtrain[j], dtarget)"
   ]
  },
  {
   "cell_type": "markdown",
   "metadata": {},
   "source": [
    "## Train the model"
   ]
  },
  {
   "cell_type": "code",
   "execution_count": 20,
   "metadata": {},
   "outputs": [],
   "source": [
    "model.compile(optimizer=tf.keras.optimizers.Adam(learning_rate=0.01),\n",
    "                loss='mean_squared_error')"
   ]
  },
  {
   "cell_type": "code",
   "execution_count": 21,
   "metadata": {},
   "outputs": [
    {
     "name": "stdout",
     "output_type": "stream",
     "text": [
      "Model: \"model\"\n",
      "__________________________________________________________________________________________________\n",
      " Layer (type)                   Output Shape         Param #     Connected to                     \n",
      "==================================================================================================\n",
      " input_1 (InputLayer)           [(None, 20)]         0           []                               \n",
      "                                                                                                  \n",
      " RandomLayerConstant (RandomLay  [(None, 20),        200         ['input_1[0][0]']                \n",
      " er)                             (20, 1)]                                                         \n",
      "                                                                                                  \n",
      " RandomLayer (RandomLayer)      [(None, 20),         200         ['RandomLayerConstant[0][0]',    \n",
      "                                 (20, 1)]                         'RandomLayerConstant[0][1]']    \n",
      "                                                                                                  \n",
      " GlauberLayer (LinearLayerConst  [(None, 20),        0           ['RandomLayer[0][0]',            \n",
      " ant)                            (20, 1)]                         'RandomLayer[0][1]']            \n",
      "                                                                                                  \n",
      " Vacuum (GaussianLayer)         [(None, 1),          420         ['GlauberLayer[0][0]',           \n",
      "                                 (None, 1)]                       'GlauberLayer[0][1]']           \n",
      "                                                                                                  \n",
      "==================================================================================================\n",
      "Total params: 820\n",
      "Trainable params: 200\n",
      "Non-trainable params: 620\n",
      "__________________________________________________________________________________________________\n"
     ]
    }
   ],
   "source": [
    "model.summary()"
   ]
  },
  {
   "cell_type": "markdown",
   "metadata": {},
   "source": [
    "Note the model as 200 trainable weight, corresponding to random layer 1, which is the only trainable"
   ]
  },
  {
   "cell_type": "code",
   "execution_count": 22,
   "metadata": {},
   "outputs": [
    {
     "name": "stdout",
     "output_type": "stream",
     "text": [
      "Epoch 1/100\n",
      "4/4 [==============================] - 1s 2ms/step - loss: 0.0703 - Vacuum_loss: 0.0015 - Vacuum_1_loss: 0.0688\n",
      "Epoch 2/100\n",
      "4/4 [==============================] - 0s 2ms/step - loss: 0.0639 - Vacuum_loss: 0.0015 - Vacuum_1_loss: 0.0625\n",
      "Epoch 3/100\n",
      "4/4 [==============================] - 0s 2ms/step - loss: 0.0595 - Vacuum_loss: 0.0015 - Vacuum_1_loss: 0.0580\n",
      "Epoch 4/100\n",
      "4/4 [==============================] - 0s 3ms/step - loss: 0.0555 - Vacuum_loss: 0.0013 - Vacuum_1_loss: 0.0542\n",
      "Epoch 5/100\n",
      "4/4 [==============================] - 0s 3ms/step - loss: 0.0518 - Vacuum_loss: 0.0012 - Vacuum_1_loss: 0.0506\n",
      "Epoch 6/100\n",
      "4/4 [==============================] - 0s 3ms/step - loss: 0.0483 - Vacuum_loss: 0.0011 - Vacuum_1_loss: 0.0472\n",
      "Epoch 7/100\n",
      "4/4 [==============================] - 0s 3ms/step - loss: 0.0450 - Vacuum_loss: 0.0011 - Vacuum_1_loss: 0.0440\n",
      "Epoch 8/100\n",
      "4/4 [==============================] - 0s 3ms/step - loss: 0.0425 - Vacuum_loss: 0.0011 - Vacuum_1_loss: 0.0414\n",
      "Epoch 9/100\n",
      "4/4 [==============================] - 0s 3ms/step - loss: 0.0403 - Vacuum_loss: 0.0012 - Vacuum_1_loss: 0.0390\n",
      "Epoch 10/100\n",
      "4/4 [==============================] - 0s 3ms/step - loss: 0.0384 - Vacuum_loss: 0.0015 - Vacuum_1_loss: 0.0369\n",
      "Epoch 11/100\n",
      "4/4 [==============================] - 0s 3ms/step - loss: 0.0353 - Vacuum_loss: 0.0015 - Vacuum_1_loss: 0.0337\n",
      "Epoch 12/100\n",
      "4/4 [==============================] - 0s 3ms/step - loss: 0.0332 - Vacuum_loss: 0.0015 - Vacuum_1_loss: 0.0317\n",
      "Epoch 13/100\n",
      "4/4 [==============================] - 0s 3ms/step - loss: 0.0311 - Vacuum_loss: 0.0014 - Vacuum_1_loss: 0.0297\n",
      "Epoch 14/100\n",
      "4/4 [==============================] - 0s 3ms/step - loss: 0.0295 - Vacuum_loss: 0.0013 - Vacuum_1_loss: 0.0282\n",
      "Epoch 15/100\n",
      "4/4 [==============================] - 0s 3ms/step - loss: 0.0282 - Vacuum_loss: 0.0012 - Vacuum_1_loss: 0.0271\n",
      "Epoch 16/100\n",
      "4/4 [==============================] - 0s 3ms/step - loss: 0.0268 - Vacuum_loss: 0.0011 - Vacuum_1_loss: 0.0257\n",
      "Epoch 17/100\n",
      "4/4 [==============================] - 0s 3ms/step - loss: 0.0256 - Vacuum_loss: 0.0010 - Vacuum_1_loss: 0.0246\n",
      "Epoch 18/100\n",
      "4/4 [==============================] - 0s 3ms/step - loss: 0.0246 - Vacuum_loss: 9.5419e-04 - Vacuum_1_loss: 0.0237\n",
      "Epoch 19/100\n",
      "4/4 [==============================] - 0s 3ms/step - loss: 0.0230 - Vacuum_loss: 8.6819e-04 - Vacuum_1_loss: 0.0222\n",
      "Epoch 20/100\n",
      "4/4 [==============================] - 0s 3ms/step - loss: 0.0220 - Vacuum_loss: 8.1678e-04 - Vacuum_1_loss: 0.0212\n",
      "Epoch 21/100\n",
      "4/4 [==============================] - 0s 3ms/step - loss: 0.0213 - Vacuum_loss: 7.7544e-04 - Vacuum_1_loss: 0.0205\n",
      "Epoch 22/100\n",
      "4/4 [==============================] - 0s 3ms/step - loss: 0.0207 - Vacuum_loss: 7.5255e-04 - Vacuum_1_loss: 0.0199\n",
      "Epoch 23/100\n",
      "4/4 [==============================] - 0s 3ms/step - loss: 0.0201 - Vacuum_loss: 7.2082e-04 - Vacuum_1_loss: 0.0194\n",
      "Epoch 24/100\n",
      "4/4 [==============================] - 0s 3ms/step - loss: 0.0196 - Vacuum_loss: 7.0816e-04 - Vacuum_1_loss: 0.0189\n",
      "Epoch 25/100\n",
      "4/4 [==============================] - 0s 3ms/step - loss: 0.0190 - Vacuum_loss: 6.9242e-04 - Vacuum_1_loss: 0.0183\n",
      "Epoch 26/100\n",
      "4/4 [==============================] - 0s 3ms/step - loss: 0.0185 - Vacuum_loss: 6.7001e-04 - Vacuum_1_loss: 0.0178\n",
      "Epoch 27/100\n",
      "4/4 [==============================] - 0s 2ms/step - loss: 0.0180 - Vacuum_loss: 6.5811e-04 - Vacuum_1_loss: 0.0173\n",
      "Epoch 28/100\n",
      "4/4 [==============================] - 0s 3ms/step - loss: 0.0176 - Vacuum_loss: 6.4995e-04 - Vacuum_1_loss: 0.0170\n",
      "Epoch 29/100\n",
      "4/4 [==============================] - 0s 3ms/step - loss: 0.0170 - Vacuum_loss: 6.3251e-04 - Vacuum_1_loss: 0.0164\n",
      "Epoch 30/100\n",
      "4/4 [==============================] - 0s 3ms/step - loss: 0.0164 - Vacuum_loss: 6.2549e-04 - Vacuum_1_loss: 0.0158\n",
      "Epoch 31/100\n",
      "4/4 [==============================] - 0s 3ms/step - loss: 0.0159 - Vacuum_loss: 6.2205e-04 - Vacuum_1_loss: 0.0153\n",
      "Epoch 32/100\n",
      "4/4 [==============================] - 0s 3ms/step - loss: 0.0159 - Vacuum_loss: 6.6618e-04 - Vacuum_1_loss: 0.0153\n",
      "Epoch 33/100\n",
      "4/4 [==============================] - 0s 3ms/step - loss: 0.0149 - Vacuum_loss: 6.6889e-04 - Vacuum_1_loss: 0.0143\n",
      "Epoch 34/100\n",
      "4/4 [==============================] - 0s 3ms/step - loss: 0.0142 - Vacuum_loss: 6.3852e-04 - Vacuum_1_loss: 0.0135\n",
      "Epoch 35/100\n",
      "4/4 [==============================] - 0s 3ms/step - loss: 0.0134 - Vacuum_loss: 6.0754e-04 - Vacuum_1_loss: 0.0128\n",
      "Epoch 36/100\n",
      "4/4 [==============================] - 0s 3ms/step - loss: 0.0128 - Vacuum_loss: 5.7849e-04 - Vacuum_1_loss: 0.0122\n",
      "Epoch 37/100\n",
      "4/4 [==============================] - 0s 3ms/step - loss: 0.0124 - Vacuum_loss: 5.5443e-04 - Vacuum_1_loss: 0.0118\n",
      "Epoch 38/100\n",
      "4/4 [==============================] - 0s 3ms/step - loss: 0.0119 - Vacuum_loss: 5.3241e-04 - Vacuum_1_loss: 0.0113\n",
      "Epoch 39/100\n",
      "4/4 [==============================] - 0s 3ms/step - loss: 0.0116 - Vacuum_loss: 5.2680e-04 - Vacuum_1_loss: 0.0111\n",
      "Epoch 40/100\n",
      "4/4 [==============================] - 0s 3ms/step - loss: 0.0110 - Vacuum_loss: 5.1776e-04 - Vacuum_1_loss: 0.0105\n",
      "Epoch 41/100\n",
      "4/4 [==============================] - 0s 3ms/step - loss: 0.0107 - Vacuum_loss: 5.1136e-04 - Vacuum_1_loss: 0.0102\n",
      "Epoch 42/100\n",
      "4/4 [==============================] - 0s 3ms/step - loss: 0.0101 - Vacuum_loss: 5.0152e-04 - Vacuum_1_loss: 0.0096\n",
      "Epoch 43/100\n",
      "4/4 [==============================] - 0s 3ms/step - loss: 0.0098 - Vacuum_loss: 4.9606e-04 - Vacuum_1_loss: 0.0093\n",
      "Epoch 44/100\n",
      "4/4 [==============================] - 0s 3ms/step - loss: 0.0095 - Vacuum_loss: 4.7793e-04 - Vacuum_1_loss: 0.0090\n",
      "Epoch 45/100\n",
      "4/4 [==============================] - 0s 3ms/step - loss: 0.0089 - Vacuum_loss: 4.5836e-04 - Vacuum_1_loss: 0.0085\n",
      "Epoch 46/100\n",
      "4/4 [==============================] - 0s 3ms/step - loss: 0.0085 - Vacuum_loss: 4.4167e-04 - Vacuum_1_loss: 0.0080\n",
      "Epoch 47/100\n",
      "4/4 [==============================] - 0s 3ms/step - loss: 0.0081 - Vacuum_loss: 4.1852e-04 - Vacuum_1_loss: 0.0077\n",
      "Epoch 48/100\n",
      "4/4 [==============================] - 0s 3ms/step - loss: 0.0078 - Vacuum_loss: 4.0944e-04 - Vacuum_1_loss: 0.0074\n",
      "Epoch 49/100\n",
      "4/4 [==============================] - 0s 3ms/step - loss: 0.0076 - Vacuum_loss: 4.0463e-04 - Vacuum_1_loss: 0.0072\n",
      "Epoch 50/100\n",
      "4/4 [==============================] - 0s 3ms/step - loss: 0.0071 - Vacuum_loss: 3.9098e-04 - Vacuum_1_loss: 0.0067\n",
      "Epoch 51/100\n",
      "4/4 [==============================] - 0s 2ms/step - loss: 0.0065 - Vacuum_loss: 3.7845e-04 - Vacuum_1_loss: 0.0061\n",
      "Epoch 52/100\n",
      "4/4 [==============================] - 0s 3ms/step - loss: 0.0060 - Vacuum_loss: 3.5434e-04 - Vacuum_1_loss: 0.0056\n",
      "Epoch 53/100\n",
      "4/4 [==============================] - 0s 3ms/step - loss: 0.0057 - Vacuum_loss: 3.3616e-04 - Vacuum_1_loss: 0.0054\n",
      "Epoch 54/100\n",
      "4/4 [==============================] - 0s 3ms/step - loss: 0.0054 - Vacuum_loss: 3.1898e-04 - Vacuum_1_loss: 0.0051\n",
      "Epoch 55/100\n",
      "4/4 [==============================] - 0s 3ms/step - loss: 0.0052 - Vacuum_loss: 3.0192e-04 - Vacuum_1_loss: 0.0049\n",
      "Epoch 56/100\n",
      "4/4 [==============================] - 0s 3ms/step - loss: 0.0051 - Vacuum_loss: 2.9043e-04 - Vacuum_1_loss: 0.0048\n",
      "Epoch 57/100\n",
      "4/4 [==============================] - 0s 3ms/step - loss: 0.0049 - Vacuum_loss: 2.7740e-04 - Vacuum_1_loss: 0.0046\n",
      "Epoch 58/100\n",
      "4/4 [==============================] - 0s 3ms/step - loss: 0.0047 - Vacuum_loss: 2.6648e-04 - Vacuum_1_loss: 0.0044\n",
      "Epoch 59/100\n",
      "4/4 [==============================] - 0s 3ms/step - loss: 0.0046 - Vacuum_loss: 2.7225e-04 - Vacuum_1_loss: 0.0043\n",
      "Epoch 60/100\n",
      "4/4 [==============================] - 0s 7ms/step - loss: 0.0045 - Vacuum_loss: 2.8833e-04 - Vacuum_1_loss: 0.0042\n",
      "Epoch 61/100\n",
      "4/4 [==============================] - 0s 4ms/step - loss: 0.0043 - Vacuum_loss: 2.7719e-04 - Vacuum_1_loss: 0.0041\n",
      "Epoch 62/100\n",
      "4/4 [==============================] - 0s 3ms/step - loss: 0.0040 - Vacuum_loss: 2.5580e-04 - Vacuum_1_loss: 0.0038\n",
      "Epoch 63/100\n",
      "4/4 [==============================] - 0s 3ms/step - loss: 0.0037 - Vacuum_loss: 2.2849e-04 - Vacuum_1_loss: 0.0035\n",
      "Epoch 64/100\n",
      "4/4 [==============================] - 0s 3ms/step - loss: 0.0035 - Vacuum_loss: 2.0993e-04 - Vacuum_1_loss: 0.0033\n",
      "Epoch 65/100\n",
      "4/4 [==============================] - 0s 3ms/step - loss: 0.0034 - Vacuum_loss: 1.9742e-04 - Vacuum_1_loss: 0.0032\n",
      "Epoch 66/100\n",
      "4/4 [==============================] - 0s 3ms/step - loss: 0.0033 - Vacuum_loss: 1.9033e-04 - Vacuum_1_loss: 0.0031\n",
      "Epoch 67/100\n",
      "4/4 [==============================] - 0s 3ms/step - loss: 0.0031 - Vacuum_loss: 1.7666e-04 - Vacuum_1_loss: 0.0029\n",
      "Epoch 68/100\n",
      "4/4 [==============================] - 0s 3ms/step - loss: 0.0028 - Vacuum_loss: 1.6501e-04 - Vacuum_1_loss: 0.0026\n",
      "Epoch 69/100\n",
      "4/4 [==============================] - 0s 3ms/step - loss: 0.0026 - Vacuum_loss: 1.5690e-04 - Vacuum_1_loss: 0.0024\n",
      "Epoch 70/100\n",
      "4/4 [==============================] - 0s 3ms/step - loss: 0.0025 - Vacuum_loss: 1.6274e-04 - Vacuum_1_loss: 0.0023\n",
      "Epoch 71/100\n",
      "4/4 [==============================] - 0s 3ms/step - loss: 0.0024 - Vacuum_loss: 1.6069e-04 - Vacuum_1_loss: 0.0022\n",
      "Epoch 72/100\n",
      "4/4 [==============================] - 0s 3ms/step - loss: 0.0020 - Vacuum_loss: 1.4451e-04 - Vacuum_1_loss: 0.0019\n",
      "Epoch 73/100\n",
      "4/4 [==============================] - 0s 3ms/step - loss: 0.0020 - Vacuum_loss: 1.3653e-04 - Vacuum_1_loss: 0.0019\n",
      "Epoch 74/100\n",
      "4/4 [==============================] - 0s 3ms/step - loss: 0.0019 - Vacuum_loss: 1.1850e-04 - Vacuum_1_loss: 0.0018\n",
      "Epoch 75/100\n",
      "4/4 [==============================] - 0s 3ms/step - loss: 0.0017 - Vacuum_loss: 1.1092e-04 - Vacuum_1_loss: 0.0016\n",
      "Epoch 76/100\n",
      "4/4 [==============================] - 0s 3ms/step - loss: 0.0016 - Vacuum_loss: 1.0536e-04 - Vacuum_1_loss: 0.0015\n",
      "Epoch 77/100\n",
      "4/4 [==============================] - 0s 3ms/step - loss: 0.0015 - Vacuum_loss: 1.0506e-04 - Vacuum_1_loss: 0.0014\n",
      "Epoch 78/100\n",
      "4/4 [==============================] - 0s 3ms/step - loss: 0.0015 - Vacuum_loss: 1.0590e-04 - Vacuum_1_loss: 0.0014\n",
      "Epoch 79/100\n",
      "4/4 [==============================] - 0s 3ms/step - loss: 0.0014 - Vacuum_loss: 1.0111e-04 - Vacuum_1_loss: 0.0013\n",
      "Epoch 80/100\n",
      "4/4 [==============================] - 0s 5ms/step - loss: 0.0013 - Vacuum_loss: 9.6913e-05 - Vacuum_1_loss: 0.0012\n",
      "Epoch 81/100\n",
      "4/4 [==============================] - 0s 3ms/step - loss: 0.0012 - Vacuum_loss: 9.3094e-05 - Vacuum_1_loss: 0.0011\n",
      "Epoch 82/100\n",
      "4/4 [==============================] - 0s 3ms/step - loss: 0.0011 - Vacuum_loss: 8.4751e-05 - Vacuum_1_loss: 0.0011    \n",
      "Epoch 83/100\n",
      "4/4 [==============================] - 0s 3ms/step - loss: 0.0011 - Vacuum_loss: 7.9932e-05 - Vacuum_1_loss: 0.0010\n",
      "Epoch 84/100\n",
      "4/4 [==============================] - 0s 3ms/step - loss: 0.0011 - Vacuum_loss: 7.3600e-05 - Vacuum_1_loss: 0.0010    \n",
      "Epoch 85/100\n",
      "4/4 [==============================] - 0s 3ms/step - loss: 9.9870e-04 - Vacuum_loss: 6.6310e-05 - Vacuum_1_loss: 9.3239e-04\n",
      "Epoch 86/100\n",
      "4/4 [==============================] - 0s 3ms/step - loss: 8.8299e-04 - Vacuum_loss: 6.0007e-05 - Vacuum_1_loss: 8.2298e-04\n",
      "Epoch 87/100\n",
      "4/4 [==============================] - 0s 3ms/step - loss: 8.4768e-04 - Vacuum_loss: 5.9573e-05 - Vacuum_1_loss: 7.8811e-04\n",
      "Epoch 88/100\n",
      "4/4 [==============================] - 0s 3ms/step - loss: 7.9405e-04 - Vacuum_loss: 5.8041e-05 - Vacuum_1_loss: 7.3601e-04\n",
      "Epoch 89/100\n",
      "4/4 [==============================] - 0s 3ms/step - loss: 7.4179e-04 - Vacuum_loss: 5.6251e-05 - Vacuum_1_loss: 6.8554e-04\n",
      "Epoch 90/100\n",
      "4/4 [==============================] - 0s 3ms/step - loss: 6.9551e-04 - Vacuum_loss: 5.4308e-05 - Vacuum_1_loss: 6.4121e-04\n",
      "Epoch 91/100\n",
      "4/4 [==============================] - 0s 3ms/step - loss: 6.7431e-04 - Vacuum_loss: 5.2392e-05 - Vacuum_1_loss: 6.2192e-04\n",
      "Epoch 92/100\n",
      "4/4 [==============================] - 0s 3ms/step - loss: 6.6270e-04 - Vacuum_loss: 5.0705e-05 - Vacuum_1_loss: 6.1200e-04\n",
      "Epoch 93/100\n",
      "4/4 [==============================] - 0s 3ms/step - loss: 6.6110e-04 - Vacuum_loss: 5.1233e-05 - Vacuum_1_loss: 6.0987e-04\n",
      "Epoch 94/100\n",
      "4/4 [==============================] - 0s 3ms/step - loss: 6.1524e-04 - Vacuum_loss: 4.7748e-05 - Vacuum_1_loss: 5.6749e-04\n",
      "Epoch 95/100\n",
      "4/4 [==============================] - 0s 2ms/step - loss: 5.3842e-04 - Vacuum_loss: 4.0099e-05 - Vacuum_1_loss: 4.9833e-04\n",
      "Epoch 96/100\n",
      "4/4 [==============================] - 0s 3ms/step - loss: 5.0978e-04 - Vacuum_loss: 3.4275e-05 - Vacuum_1_loss: 4.7551e-04\n",
      "Epoch 97/100\n",
      "4/4 [==============================] - 0s 3ms/step - loss: 4.9966e-04 - Vacuum_loss: 3.2060e-05 - Vacuum_1_loss: 4.6760e-04\n",
      "Epoch 98/100\n",
      "4/4 [==============================] - 0s 3ms/step - loss: 4.3532e-04 - Vacuum_loss: 2.8746e-05 - Vacuum_1_loss: 4.0658e-04\n",
      "Epoch 99/100\n",
      "4/4 [==============================] - 0s 3ms/step - loss: 4.3012e-04 - Vacuum_loss: 3.1878e-05 - Vacuum_1_loss: 3.9824e-04\n",
      "Epoch 100/100\n",
      "4/4 [==============================] - 0s 3ms/step - loss: 4.2078e-04 - Vacuum_loss: 3.2551e-05 - Vacuum_1_loss: 3.8823e-04\n"
     ]
    }
   ],
   "source": [
    "history=model.fit(x=xtrain, y=(chitestr, chitesti), epochs=100, verbose=1)"
   ]
  },
  {
   "cell_type": "code",
   "execution_count": 23,
   "metadata": {},
   "outputs": [
    {
     "data": {
      "image/png": "[encoded data removed]",
      "text/plain": [
       "<Figure size 432x288 with 1 Axes>"
      ]
     },
     "metadata": {
      "needs_background": "light"
     },
     "output_type": "display_data"
    }
   ],
   "source": [
    "# %%\n",
    "# %matplotlib inline\n",
    "# Plot training & validation accuracy values\n",
    "f1 = plt.figure\n",
    "#plt.subplot(2, 1s'])\n",
    "plt.plot(history.history['loss'])\n",
    "plt.ylabel('Error')\n",
    "plt.xlabel('Epochs')\n",
    "plt.savefig('training1.pdf')"
   ]
  },
  {
   "cell_type": "markdown",
   "metadata": {},
   "source": [
    "## Test the derivative of the model\n",
    "Evaluate the expectation value of the displacement as derivative of the characterisc function"
   ]
  },
  {
   "cell_type": "code",
   "execution_count": 24,
   "metadata": {},
   "outputs": [],
   "source": [
    "#x = tf.constant(np.zeros((1,N)), dtype=tf_real) # the derivative are evaluated at x=0\n",
    "with tf.GradientTape(persistent=True) as tape:\n",
    "    tape.watch(xzero)\n",
    "    chir, chii = model(xzero)"
   ]
  },
  {
   "cell_type": "code",
   "execution_count": 25,
   "metadata": {},
   "outputs": [
    {
     "name": "stdout",
     "output_type": "stream",
     "text": [
      "tf.Tensor([[0. 0. 0. 0. 0. 0. 0. 0. 0. 0. 0. 0. 0. 0. 0. 0. 0. 0. 0. 0.]], shape=(1, 20), dtype=float64)\n"
     ]
    }
   ],
   "source": [
    "print(tape.gradient(chir,xzero))"
   ]
  },
  {
   "cell_type": "markdown",
   "metadata": {},
   "source": [
    "## Compare the derivative of the chi and the target vector"
   ]
  },
  {
   "cell_type": "code",
   "execution_count": 26,
   "metadata": {},
   "outputs": [
    {
     "name": "stdout",
     "output_type": "stream",
     "text": [
      "[[0.9447016716003418 0.29915264248847961 -0.026197928935289383 ... -0.014624708332121372 0.053116705268621445 0.0020913612097501755]]\n"
     ]
    }
   ],
   "source": [
    "tf.print(tape.gradient(chii,xzero))"
   ]
  },
  {
   "cell_type": "code",
   "execution_count": 27,
   "metadata": {},
   "outputs": [
    {
     "name": "stdout",
     "output_type": "stream",
     "text": [
      "[[0.9528 0.3035 0.     0.     0.     0.     0.     0.     0.     0.\n",
      "  0.     0.     0.     0.     0.     0.     0.     0.     0.     0.    ]]\n"
     ]
    }
   ],
   "source": [
    "print(dtarget.transpose())"
   ]
  },
  {
   "cell_type": "code",
   "execution_count": null,
   "metadata": {},
   "outputs": [],
   "source": []
  }
 ],
 "metadata": {
  "kernelspec": {
   "display_name": "Python 3 (ipykernel)",
   "language": "python",
   "name": "python3"
  },
  "language_info": {
   "codemirror_mode": {
    "name": "ipython",
    "version": 3
   },
   "file_extension": ".py",
   "mimetype": "text/x-python",
   "name": "python",
   "nbconvert_exporter": "python",
   "pygments_lexer": "ipython3",
   "version": "3.8.13"
  }
 },
 "nbformat": 4,
 "nbformat_minor": 4
}
