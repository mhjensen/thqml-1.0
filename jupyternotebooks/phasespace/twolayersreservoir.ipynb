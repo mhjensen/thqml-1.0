{
 "cells": [
  {
   "cell_type": "markdown",
   "metadata": {},
   "source": [
    "# Training a two layer model with a reservoir for the generation of coherent state"
   ]
  },
  {
   "cell_type": "markdown",
   "metadata": {},
   "source": [
    "Model with two trainable complex layers and one untrainable random reservoir \n",
    "\n",
    "Use the derivative for the training\n",
    "\n",
    "NOTE: remember to shut down the kernel when out of memory\n",
    "\n",
    "Bug train model:\n",
    "\n",
    "<img src=\"../img/twolayersreservoir.png\" width=\"900\" height=\"200\" />\n",
    "\n",
    "<img src=\"../img/logo_circular.png\" width=\"20\" height=\"20\" />@by claudio<br>\n",
    "\n",
    "nonlinearxwaves@gmail.com<br>\n",
    "@created 24 sep 2020<br>\n",
    "@version 15 may 2023"
   ]
  },
  {
   "cell_type": "code",
   "execution_count": 1,
   "metadata": {},
   "outputs": [
    {
     "name": "stderr",
     "output_type": "stream",
     "text": [
      "2023-05-14 11:16:31.169818: W tensorflow/stream_executor/platform/default/dso_loader.cc:64] Could not load dynamic library 'libcudart.so.11.0'; dlerror: libcudart.so.11.0: cannot open shared object file: No such file or directory\n",
      "2023-05-14 11:16:31.169841: I tensorflow/stream_executor/cuda/cudart_stub.cc:29] Ignore above cudart dlerror if you do not have a GPU set up on your machine.\n"
     ]
    }
   ],
   "source": [
    "import numpy as np\n",
    "from scipy.linalg import expm, sinm, cosm\n",
    "from thqml import phasespace as ps\n",
    "from thqml.utilities import utilities\n",
    "import tensorflow as tf\n",
    "from tensorflow import keras\n",
    "import matplotlib.pyplot as plt\n",
    "from tensorflow.keras.callbacks import EarlyStopping"
   ]
  },
  {
   "cell_type": "code",
   "execution_count": 2,
   "metadata": {},
   "outputs": [],
   "source": [
    "tf_complex = tf.complex\n",
    "tf_real = tf.float32\n",
    "np_complex = complex\n",
    "np_real = np.float32"
   ]
  },
  {
   "cell_type": "markdown",
   "metadata": {},
   "source": [
    "Precision for output on the screen"
   ]
  },
  {
   "cell_type": "code",
   "execution_count": 3,
   "metadata": {},
   "outputs": [],
   "source": [
    "np.set_printoptions(precision=2)"
   ]
  },
  {
   "cell_type": "markdown",
   "metadata": {},
   "source": [
    "## Dimension"
   ]
  },
  {
   "cell_type": "code",
   "execution_count": 4,
   "metadata": {},
   "outputs": [],
   "source": [
    "N = 10"
   ]
  },
  {
   "cell_type": "markdown",
   "metadata": {},
   "source": [
    "## Build vacuum by the Gaussian state"
   ]
  },
  {
   "cell_type": "code",
   "execution_count": 5,
   "metadata": {},
   "outputs": [
    {
     "name": "stderr",
     "output_type": "stream",
     "text": [
      "2023-05-14 11:16:33.445857: W tensorflow/stream_executor/platform/default/dso_loader.cc:64] Could not load dynamic library 'libcuda.so.1'; dlerror: libcuda.so.1: cannot open shared object file: No such file or directory\n",
      "2023-05-14 11:16:33.445895: W tensorflow/stream_executor/cuda/cuda_driver.cc:269] failed call to cuInit: UNKNOWN ERROR (303)\n",
      "2023-05-14 11:16:33.445919: I tensorflow/stream_executor/cuda/cuda_diagnostics.cc:156] kernel driver does not appear to be running on this host (x1): /proc/driver/nvidia/version does not exist\n",
      "2023-05-14 11:16:33.446214: I tensorflow/core/platform/cpu_feature_guard.cc:151] This TensorFlow binary is optimized with oneAPI Deep Neural Network Library (oneDNN) to use the following CPU instructions in performance-critical operations:  AVX2 FMA\n",
      "To enable them in other operations, rebuild TensorFlow with the appropriate compiler flags.\n"
     ]
    }
   ],
   "source": [
    "vacuum = ps.VacuumLayer(N)"
   ]
  },
  {
   "cell_type": "markdown",
   "metadata": {},
   "source": [
    "## Build the pullback layer for generating the input coherent state"
   ]
  },
  {
   "cell_type": "markdown",
   "metadata": {},
   "source": [
    "### Target displacement vector \n",
    "The displacement vector is a normalized column vector"
   ]
  },
  {
   "cell_type": "code",
   "execution_count": 6,
   "metadata": {},
   "outputs": [
    {
     "name": "stdout",
     "output_type": "stream",
     "text": [
      "[[0.32 0.32 0.32 0.32 0.32 0.32 0.32 0.32 0.32 0.32]]\n"
     ]
    }
   ],
   "source": [
    "dinput = 3.0*np.ones((N,1)); \n",
    "norm = np.linalg.norm(dinput)\n",
    "dinput = dinput /norm\n",
    "print(dinput.transpose())"
   ]
  },
  {
   "cell_type": "markdown",
   "metadata": {},
   "source": [
    "Check the normalization of the dtarget"
   ]
  },
  {
   "cell_type": "code",
   "execution_count": 7,
   "metadata": {},
   "outputs": [
    {
     "name": "stdout",
     "output_type": "stream",
     "text": [
      "[[1.]]\n"
     ]
    }
   ],
   "source": [
    "print(np.dot(dinput.transpose(), dinput)) "
   ]
  },
  {
   "cell_type": "markdown",
   "metadata": {},
   "source": [
    "### Build the displacement layer\n",
    "The layer is a constant layer, as no training is needed"
   ]
  },
  {
   "cell_type": "code",
   "execution_count": 8,
   "metadata": {},
   "outputs": [],
   "source": [
    "D = ps.DisplacementLayerConstant(dinput)"
   ]
  },
  {
   "cell_type": "markdown",
   "metadata": {},
   "source": [
    "## Define the layer for the complex medium\n",
    "The LinearConstantMultiHead generate by default a random medium with \n",
    "the relevant symplectic operator"
   ]
  },
  {
   "cell_type": "code",
   "execution_count": 9,
   "metadata": {},
   "outputs": [],
   "source": [
    "R = ps.RandomLayerConstant(N)"
   ]
  },
  {
   "cell_type": "markdown",
   "metadata": {},
   "source": [
    "## Define the trainable unitary layer in input"
   ]
  },
  {
   "cell_type": "code",
   "execution_count": 10,
   "metadata": {},
   "outputs": [],
   "source": [
    "Ci = ps.RandomLayer(N)"
   ]
  },
  {
   "cell_type": "markdown",
   "metadata": {},
   "source": [
    "## Define the trainable unitary layer in output"
   ]
  },
  {
   "cell_type": "code",
   "execution_count": 11,
   "metadata": {},
   "outputs": [],
   "source": [
    "Co = ps.RandomLayer(N)"
   ]
  },
  {
   "cell_type": "markdown",
   "metadata": {},
   "source": [
    "## Define the normalize target displacement vector \n",
    "Can be any normalized column vector"
   ]
  },
  {
   "cell_type": "code",
   "execution_count": 12,
   "metadata": {},
   "outputs": [
    {
     "name": "stdout",
     "output_type": "stream",
     "text": [
      "[[0.33 0.67 0.67 0.   0.   0.   0.   0.   0.   0.  ]]\n"
     ]
    }
   ],
   "source": [
    "dtarget = np.zeros((N,1)); dtarget[0]=1.0; dtarget[1]=2.0; dtarget[2]=2.0;\n",
    "norm = np.linalg.norm(dtarget)\n",
    "dtarget = dtarget /norm\n",
    "print(dtarget.transpose())"
   ]
  },
  {
   "cell_type": "markdown",
   "metadata": {},
   "source": [
    "## Connect the layers"
   ]
  },
  {
   "cell_type": "code",
   "execution_count": 13,
   "metadata": {},
   "outputs": [
    {
     "name": "stdout",
     "output_type": "stream",
     "text": [
      "KerasTensor(type_spec=TensorSpec(shape=(None, 10), dtype=tf.float32, name='input_1'), name='input_1', description=\"created by layer 'input_1'\")\n"
     ]
    }
   ],
   "source": [
    "xin = tf.keras.layers.Input(N);print(xin) # input layer\n",
    "x4, a4 = Co(xin) # output trainable layer\n",
    "x3, a3 = R(x4, a4) # reservoir layer (untrainable)\n",
    "x2, a2 = Ci(x3,a3) # input trainable layer\n",
    "x1, a1 = D(x2,a2) # linear layer to generate the input coherent state \n",
    "chir, chii = vacuum(x1, a1)  # vacuum\n",
    "pullback = tf.keras.Model(inputs = xin, outputs=[chir, chii])\n",
    "# Add the derivative layer for training\n",
    "der_layer = ps.avgR(N)\n",
    "Re = der_layer(chir,chii, pullback)\n",
    "pullback_der = tf.keras.Model(inputs = xin, outputs=Re)"
   ]
  },
  {
   "cell_type": "markdown",
   "metadata": {},
   "source": [
    "### Store the M,d of the Random layer for later chek"
   ]
  },
  {
   "cell_type": "code",
   "execution_count": 14,
   "metadata": {},
   "outputs": [],
   "source": [
    "M_R, _ = R.get_M();"
   ]
  },
  {
   "cell_type": "code",
   "execution_count": 15,
   "metadata": {},
   "outputs": [],
   "source": [
    "M_R_random=M_R.numpy()"
   ]
  },
  {
   "cell_type": "code",
   "execution_count": 16,
   "metadata": {},
   "outputs": [],
   "source": [
    "d_R_random=R.d.numpy()"
   ]
  },
  {
   "cell_type": "markdown",
   "metadata": {},
   "source": [
    "### Store the M, d of the untrained U_train layer for later check"
   ]
  },
  {
   "cell_type": "code",
   "execution_count": 17,
   "metadata": {},
   "outputs": [],
   "source": [
    "WR_untrained_Ci = Ci.WR.numpy()"
   ]
  },
  {
   "cell_type": "code",
   "execution_count": 18,
   "metadata": {},
   "outputs": [],
   "source": [
    "WI_untrained_Ci = Ci.WI.numpy()"
   ]
  },
  {
   "cell_type": "code",
   "execution_count": 19,
   "metadata": {},
   "outputs": [],
   "source": [
    "M_untrained_Ci, MI_untrained_Ci = Ci.get_M()"
   ]
  },
  {
   "cell_type": "code",
   "execution_count": 20,
   "metadata": {},
   "outputs": [],
   "source": [
    "WR_untrained_Co = Co.WR.numpy()"
   ]
  },
  {
   "cell_type": "code",
   "execution_count": 21,
   "metadata": {},
   "outputs": [],
   "source": [
    "WI_untrained_Co = Co.WI.numpy()"
   ]
  },
  {
   "cell_type": "code",
   "execution_count": 22,
   "metadata": {},
   "outputs": [],
   "source": [
    "M_untrained_Co, MI_untrained_Co = Co.get_M()"
   ]
  },
  {
   "cell_type": "markdown",
   "metadata": {},
   "source": [
    "### Auxiliary staff"
   ]
  },
  {
   "cell_type": "code",
   "execution_count": 23,
   "metadata": {},
   "outputs": [],
   "source": [
    "x0 = tf.constant(np.zeros((1,N)))\n",
    "with tf.GradientTape() as tape:\n",
    "    tape.watch(x0)\n",
    "    cr, ci = pullback(x0)\n",
    "    chii_x = tape.gradient(ci, x0)"
   ]
  },
  {
   "cell_type": "code",
   "execution_count": 24,
   "metadata": {},
   "outputs": [],
   "source": [
    "@tf.function\n",
    "def derivative(yr):\n",
    "    x = tf.constant(np.zeros((1,N)))\n",
    "    with tf.GradientTape() as tape:\n",
    "        tape.watch(x)\n",
    "        cr, ci = pullback(x)\n",
    "        chii_x = tape.gradient(ci, x)\n",
    "    return chii_x"
   ]
  },
  {
   "cell_type": "markdown",
   "metadata": {},
   "source": [
    "## Build the training set by using a target characteristic function"
   ]
  },
  {
   "cell_type": "markdown",
   "metadata": {},
   "source": [
    "Number of training points\n",
    "Also a single training point is enough for Gaussian state, more points improve the training"
   ]
  },
  {
   "cell_type": "code",
   "execution_count": 25,
   "metadata": {},
   "outputs": [],
   "source": [
    "Nbatch = 100"
   ]
  },
  {
   "cell_type": "markdown",
   "metadata": {},
   "source": [
    "Define the numpy function for the target characteristic function:\n",
    "    a coherent state with a target displacement\n",
    "One need a target d for any training points"
   ]
  },
  {
   "cell_type": "code",
   "execution_count": 26,
   "metadata": {},
   "outputs": [],
   "source": [
    "xtrain = np.random.rand(Nbatch, N)-0.5\n",
    "Rtrain = np.zeros((Nbatch,N))\n",
    "for j in range(Nbatch):\n",
    "    for i in range(N):\n",
    "        Rtrain[j,i]=dtarget[i]"
   ]
  },
  {
   "cell_type": "markdown",
   "metadata": {},
   "source": [
    "## Train the model"
   ]
  },
  {
   "cell_type": "code",
   "execution_count": 27,
   "metadata": {},
   "outputs": [],
   "source": [
    "pullback_der.compile(optimizer=tf.keras.optimizers.Adam(learning_rate=0.01),\n",
    "                loss='mean_squared_error')"
   ]
  },
  {
   "cell_type": "markdown",
   "metadata": {},
   "source": [
    "Summary of the derivative model"
   ]
  },
  {
   "cell_type": "code",
   "execution_count": 28,
   "metadata": {},
   "outputs": [
    {
     "name": "stdout",
     "output_type": "stream",
     "text": [
      "Model: \"model_1\"\n",
      "__________________________________________________________________________________________________\n",
      " Layer (type)                   Output Shape         Param #     Connected to                     \n",
      "==================================================================================================\n",
      " input_1 (InputLayer)           [(None, 10)]         0           []                               \n",
      "                                                                                                  \n",
      " random_layer_2 (RandomLayer)   [(None, 10),         50          ['input_1[0][0]']                \n",
      "                                 (10, 1)]                                                         \n",
      "                                                                                                  \n",
      " random_layer (RandomLayer)     [(None, 10),         50          ['random_layer_2[0][0]',         \n",
      "                                 (10, 1)]                         'random_layer_2[0][1]']         \n",
      "                                                                                                  \n",
      " random_layer_1 (RandomLayer)   [(None, 10),         50          ['random_layer[0][0]',           \n",
      "                                 (10, 1)]                         'random_layer[0][1]']           \n",
      "                                                                                                  \n",
      " linear_layer_constant (LinearL  [(None, 10),        0           ['random_layer_1[0][0]',         \n",
      " ayerConstant)                   (10, 1)]                         'random_layer_1[0][1]']         \n",
      "                                                                                                  \n",
      " gaussian_layer (GaussianLayer)  [(None, 1),         110         ['linear_layer_constant[0][0]',  \n",
      "                                 (None, 1)]                       'linear_layer_constant[0][1]']  \n",
      "                                                                                                  \n",
      " avg_r (avgR)                   (1, 10)              0           ['gaussian_layer[0][0]',         \n",
      "                                                                  'gaussian_layer[0][1]']         \n",
      "                                                                                                  \n",
      "==================================================================================================\n",
      "Total params: 260\n",
      "Trainable params: 100\n",
      "Non-trainable params: 160\n",
      "__________________________________________________________________________________________________\n"
     ]
    }
   ],
   "source": [
    "pullback_der.summary()"
   ]
  },
  {
   "cell_type": "markdown",
   "metadata": {},
   "source": [
    "Test the call of the derivative layer"
   ]
  },
  {
   "cell_type": "code",
   "execution_count": 29,
   "metadata": {},
   "outputs": [
    {
     "data": {
      "text/plain": [
       "<tf.Tensor: shape=(1, 10), dtype=float64, numpy=\n",
       "array([[-0.34, -0.48, -0.2 , -0.31, -0.09, -0.26,  0.06, -0.48, -0.39,\n",
       "        -0.23]])>"
      ]
     },
     "execution_count": 29,
     "metadata": {},
     "output_type": "execute_result"
    }
   ],
   "source": [
    "pullback_der(xtrain)"
   ]
  },
  {
   "cell_type": "markdown",
   "metadata": {},
   "source": [
    "## Training of the model"
   ]
  },
  {
   "cell_type": "code",
   "execution_count": 30,
   "metadata": {},
   "outputs": [
    {
     "name": "stdout",
     "output_type": "stream",
     "text": [
      "Epoch 1/50\n",
      "4/4 - 3s - loss: 0.3005 - 3s/epoch - 844ms/step\n",
      "Epoch 2/50\n",
      "4/4 - 0s - loss: 0.2270 - 7ms/epoch - 2ms/step\n",
      "Epoch 3/50\n",
      "4/4 - 0s - loss: 0.1321 - 9ms/epoch - 2ms/step\n",
      "Epoch 4/50\n",
      "4/4 - 0s - loss: 0.0810 - 8ms/epoch - 2ms/step\n",
      "Epoch 5/50\n",
      "4/4 - 0s - loss: 0.0792 - 9ms/epoch - 2ms/step\n",
      "Epoch 6/50\n",
      "4/4 - 0s - loss: 0.0711 - 8ms/epoch - 2ms/step\n",
      "Epoch 7/50\n",
      "4/4 - 0s - loss: 0.0504 - 9ms/epoch - 2ms/step\n",
      "Epoch 8/50\n",
      "4/4 - 0s - loss: 0.0357 - 7ms/epoch - 2ms/step\n",
      "Epoch 9/50\n",
      "4/4 - 0s - loss: 0.0308 - 8ms/epoch - 2ms/step\n",
      "Epoch 10/50\n",
      "4/4 - 0s - loss: 0.0252 - 8ms/epoch - 2ms/step\n",
      "Epoch 11/50\n",
      "4/4 - 0s - loss: 0.0180 - 8ms/epoch - 2ms/step\n",
      "Epoch 12/50\n",
      "4/4 - 0s - loss: 0.0142 - 7ms/epoch - 2ms/step\n",
      "Epoch 13/50\n",
      "4/4 - 0s - loss: 0.0120 - 9ms/epoch - 2ms/step\n",
      "Epoch 14/50\n",
      "4/4 - 0s - loss: 0.0089 - 8ms/epoch - 2ms/step\n",
      "Epoch 15/50\n",
      "4/4 - 0s - loss: 0.0068 - 7ms/epoch - 2ms/step\n",
      "Epoch 16/50\n",
      "4/4 - 0s - loss: 0.0055 - 10ms/epoch - 2ms/step\n",
      "Epoch 17/50\n",
      "4/4 - 0s - loss: 0.0040 - 8ms/epoch - 2ms/step\n",
      "Epoch 18/50\n",
      "4/4 - 0s - loss: 0.0030 - 9ms/epoch - 2ms/step\n",
      "Epoch 19/50\n",
      "4/4 - 0s - loss: 0.0022 - 9ms/epoch - 2ms/step\n",
      "Epoch 20/50\n",
      "4/4 - 0s - loss: 0.0015 - 8ms/epoch - 2ms/step\n",
      "Epoch 21/50\n",
      "4/4 - 0s - loss: 0.0011 - 9ms/epoch - 2ms/step\n",
      "Epoch 22/50\n",
      "4/4 - 0s - loss: 7.4476e-04 - 7ms/epoch - 2ms/step\n",
      "Epoch 23/50\n",
      "4/4 - 0s - loss: 4.7513e-04 - 7ms/epoch - 2ms/step\n",
      "Epoch 24/50\n",
      "4/4 - 0s - loss: 3.1061e-04 - 9ms/epoch - 2ms/step\n",
      "Epoch 25/50\n",
      "4/4 - 0s - loss: 1.8541e-04 - 9ms/epoch - 2ms/step\n",
      "Epoch 26/50\n",
      "4/4 - 0s - loss: 1.0970e-04 - 7ms/epoch - 2ms/step\n",
      "Epoch 27/50\n",
      "4/4 - 0s - loss: 6.0893e-05 - 8ms/epoch - 2ms/step\n",
      "Epoch 28/50\n",
      "4/4 - 0s - loss: 2.9422e-05 - 8ms/epoch - 2ms/step\n",
      "Epoch 29/50\n",
      "4/4 - 0s - loss: 1.4743e-05 - 8ms/epoch - 2ms/step\n",
      "Epoch 30/50\n",
      "4/4 - 0s - loss: 5.6690e-06 - 9ms/epoch - 2ms/step\n",
      "Epoch 31/50\n",
      "4/4 - 0s - loss: 2.5152e-06 - 8ms/epoch - 2ms/step\n",
      "Epoch 32/50\n",
      "4/4 - 0s - loss: 6.3349e-07 - 7ms/epoch - 2ms/step\n",
      "Epoch 33/50\n",
      "4/4 - 0s - loss: 2.3473e-07 - 8ms/epoch - 2ms/step\n",
      "Epoch 34/50\n",
      "4/4 - 0s - loss: 3.4850e-07 - 9ms/epoch - 2ms/step\n",
      "Epoch 35/50\n",
      "4/4 - 0s - loss: 4.7412e-07 - 8ms/epoch - 2ms/step\n",
      "Epoch 36/50\n",
      "4/4 - 0s - loss: 6.4854e-07 - 8ms/epoch - 2ms/step\n",
      "Epoch 37/50\n",
      "4/4 - 0s - loss: 6.0151e-07 - 8ms/epoch - 2ms/step\n",
      "Epoch 38/50\n",
      "4/4 - 0s - loss: 5.7166e-07 - 9ms/epoch - 2ms/step\n",
      "Epoch 39/50\n",
      "4/4 - 0s - loss: 4.3977e-07 - 9ms/epoch - 2ms/step\n",
      "Epoch 40/50\n",
      "4/4 - 0s - loss: 3.4374e-07 - 10ms/epoch - 2ms/step\n",
      "Epoch 41/50\n",
      "4/4 - 0s - loss: 2.3348e-07 - 9ms/epoch - 2ms/step\n",
      "Epoch 42/50\n",
      "4/4 - 0s - loss: 1.5720e-07 - 8ms/epoch - 2ms/step\n",
      "Epoch 43/50\n",
      "4/4 - 0s - loss: 9.1500e-08 - 9ms/epoch - 2ms/step\n",
      "Epoch 44/50\n",
      "4/4 - 0s - loss: 5.0957e-08 - 8ms/epoch - 2ms/step\n",
      "Epoch 45/50\n",
      "4/4 - 0s - loss: 2.4535e-08 - 9ms/epoch - 2ms/step\n",
      "Epoch 46/50\n",
      "4/4 - 0s - loss: 1.1070e-08 - 9ms/epoch - 2ms/step\n",
      "Epoch 47/50\n",
      "4/4 - 0s - loss: 3.7788e-09 - 8ms/epoch - 2ms/step\n",
      "Epoch 48/50\n",
      "4/4 - 0s - loss: 1.0836e-09 - 9ms/epoch - 2ms/step\n",
      "Epoch 49/50\n",
      "4/4 - 0s - loss: 3.7171e-10 - 8ms/epoch - 2ms/step\n",
      "Epoch 50/50\n",
      "4/4 - 0s - loss: 5.2383e-10 - 10ms/epoch - 2ms/step\n"
     ]
    }
   ],
   "source": [
    "history = pullback_der.fit(x=xtrain,\n",
    "                      y=Rtrain,\n",
    "                      epochs=50,\n",
    "                      verbose=2)"
   ]
  },
  {
   "cell_type": "code",
   "execution_count": 31,
   "metadata": {},
   "outputs": [
    {
     "data": {
      "text/plain": [
       "Text(0.5, 0, 'Epoch')"
      ]
     },
     "execution_count": 31,
     "metadata": {},
     "output_type": "execute_result"
    },
    {
     "data": {
      "image/png": "[encoded data removed]",
      "text/plain": [
       "<Figure size 432x288 with 1 Axes>"
      ]
     },
     "metadata": {
      "needs_background": "light"
     },
     "output_type": "display_data"
    }
   ],
   "source": [
    "# %%\n",
    "# %matplotlib inline\n",
    "# Plot training & validation accuracy values\n",
    "f1 = plt.figure\n",
    "plt.subplot(2, 1, 1)\n",
    "plt.plot(history.history['loss'])\n",
    "plt.ylabel('Error')\n",
    "plt.xlabel('Epoch')"
   ]
  },
  {
   "cell_type": "markdown",
   "metadata": {},
   "source": [
    "## Test the derivative of the model\n",
    "Evaluate the expectation value of the displacement as derivative of the characterisc function"
   ]
  },
  {
   "cell_type": "code",
   "execution_count": 32,
   "metadata": {},
   "outputs": [],
   "source": [
    "x = tf.Variable(np.zeros((1,N)), dtype=tf_real) # the derivative are evaluated at x=0\n",
    "with tf.GradientTape(persistent=True) as tape:\n",
    "    tape.watch(x)\n",
    "    chir, chii = pullback(x)"
   ]
  },
  {
   "cell_type": "code",
   "execution_count": 33,
   "metadata": {},
   "outputs": [
    {
     "name": "stdout",
     "output_type": "stream",
     "text": [
      "tf.Tensor([[0. 0. 0. 0. 0. 0. 0. 0. 0. 0.]], shape=(1, 10), dtype=float32)\n"
     ]
    }
   ],
   "source": [
    "print(tape.gradient(chir,x))"
   ]
  },
  {
   "cell_type": "code",
   "execution_count": 34,
   "metadata": {},
   "outputs": [
    {
     "name": "stdout",
     "output_type": "stream",
     "text": [
      "tf.Tensor(\n",
      "[[ 3.33e-01  6.67e-01  6.67e-01  2.93e-05 -8.02e-06  2.59e-05  2.46e-05\n",
      "   5.53e-05  2.13e-05  3.32e-05]], shape=(1, 10), dtype=float32)\n"
     ]
    }
   ],
   "source": [
    "print(tape.gradient(chii,x))"
   ]
  },
  {
   "cell_type": "markdown",
   "metadata": {},
   "source": [
    "Use the derivative function for the derivative"
   ]
  },
  {
   "cell_type": "code",
   "execution_count": 35,
   "metadata": {},
   "outputs": [
    {
     "name": "stdout",
     "output_type": "stream",
     "text": [
      "tf.Tensor(\n",
      "[[ 3.33e-01  6.67e-01  6.67e-01  2.93e-05 -7.99e-06  2.60e-05  2.45e-05\n",
      "   5.53e-05  2.13e-05  3.31e-05]], shape=(1, 10), dtype=float64)\n"
     ]
    }
   ],
   "source": [
    "print(derivative(x))"
   ]
  },
  {
   "cell_type": "markdown",
   "metadata": {},
   "source": [
    "Use the derivative model"
   ]
  },
  {
   "cell_type": "code",
   "execution_count": 36,
   "metadata": {},
   "outputs": [
    {
     "data": {
      "text/plain": [
       "<tf.Tensor: shape=(1, 10), dtype=float64, numpy=\n",
       "array([[ 3.33e-01,  6.67e-01,  6.67e-01,  2.93e-05, -8.02e-06,  2.59e-05,\n",
       "         2.46e-05,  5.53e-05,  2.13e-05,  3.32e-05]])>"
      ]
     },
     "execution_count": 36,
     "metadata": {},
     "output_type": "execute_result"
    }
   ],
   "source": [
    "pullback_der(xtrain)"
   ]
  },
  {
   "cell_type": "markdown",
   "metadata": {},
   "source": [
    "## Plot the model"
   ]
  },
  {
   "cell_type": "code",
   "execution_count": 37,
   "metadata": {},
   "outputs": [
    {
     "data": {
      "image/png": "[encoded data removed]",
      "text/plain": [
       "<IPython.core.display.Image object>"
      ]
     },
     "execution_count": 37,
     "metadata": {},
     "output_type": "execute_result"
    }
   ],
   "source": [
    "dot_img_file = 'pullback_twolayers_DER.png'\n",
    "tf.keras.utils.plot_model(pullback, to_file=dot_img_file, show_shapes=True)"
   ]
  },
  {
   "cell_type": "markdown",
   "metadata": {},
   "source": [
    "## Check the weights of the layers"
   ]
  },
  {
   "cell_type": "markdown",
   "metadata": {},
   "source": [
    "### d and M of the complex layer R(these are unchanged)"
   ]
  },
  {
   "cell_type": "code",
   "execution_count": 38,
   "metadata": {},
   "outputs": [
    {
     "name": "stdout",
     "output_type": "stream",
     "text": [
      "[[0. 0. 0. 0. 0. 0. 0. 0. 0. 0.]]\n"
     ]
    }
   ],
   "source": [
    "print(R.d.numpy().transpose())"
   ]
  },
  {
   "cell_type": "code",
   "execution_count": 39,
   "metadata": {},
   "outputs": [
    {
     "name": "stdout",
     "output_type": "stream",
     "text": [
      "[[0. 0. 0. 0. 0. 0. 0. 0. 0. 0.]]\n"
     ]
    }
   ],
   "source": [
    "print(d_R_random.transpose())"
   ]
  },
  {
   "cell_type": "code",
   "execution_count": 40,
   "metadata": {},
   "outputs": [
    {
     "name": "stdout",
     "output_type": "stream",
     "text": [
      "[[ 0.59  0.46  0.13  0.07 -0.37  0.   -0.42  0.04 -0.03  0.32]\n",
      " [-0.46  0.59 -0.07  0.13 -0.   -0.37 -0.04 -0.42 -0.32 -0.03]\n",
      " [-0.12 -0.1   0.49  0.61  0.25  0.31 -0.1   0.12 -0.4   0.15]\n",
      " [ 0.1  -0.12 -0.61  0.49 -0.31  0.25 -0.12 -0.1  -0.15 -0.4 ]\n",
      " [ 0.21  0.05 -0.57  0.02  0.5  -0.05  0.15  0.14 -0.27  0.52]\n",
      " [-0.05  0.21 -0.02 -0.57  0.05  0.5  -0.14  0.15 -0.52 -0.27]\n",
      " [ 0.1   0.19  0.1   0.06 -0.4   0.19  0.85  0.02 -0.14  0.11]\n",
      " [-0.19  0.1  -0.06  0.1  -0.19 -0.4  -0.02  0.85 -0.11 -0.14]\n",
      " [-0.51  0.25 -0.19  0.05 -0.12  0.49 -0.12  0.16  0.45  0.37]\n",
      " [-0.25 -0.51 -0.05 -0.19 -0.49 -0.12 -0.16 -0.12 -0.37  0.45]]\n"
     ]
    }
   ],
   "source": [
    "M_Random_trained, _ =R.get_M(); print(M_Random_trained.numpy())"
   ]
  },
  {
   "cell_type": "code",
   "execution_count": 41,
   "metadata": {},
   "outputs": [
    {
     "name": "stdout",
     "output_type": "stream",
     "text": [
      "[[ 0.59  0.46  0.13  0.07 -0.37  0.   -0.42  0.04 -0.03  0.32]\n",
      " [-0.46  0.59 -0.07  0.13 -0.   -0.37 -0.04 -0.42 -0.32 -0.03]\n",
      " [-0.12 -0.1   0.49  0.61  0.25  0.31 -0.1   0.12 -0.4   0.15]\n",
      " [ 0.1  -0.12 -0.61  0.49 -0.31  0.25 -0.12 -0.1  -0.15 -0.4 ]\n",
      " [ 0.21  0.05 -0.57  0.02  0.5  -0.05  0.15  0.14 -0.27  0.52]\n",
      " [-0.05  0.21 -0.02 -0.57  0.05  0.5  -0.14  0.15 -0.52 -0.27]\n",
      " [ 0.1   0.19  0.1   0.06 -0.4   0.19  0.85  0.02 -0.14  0.11]\n",
      " [-0.19  0.1  -0.06  0.1  -0.19 -0.4  -0.02  0.85 -0.11 -0.14]\n",
      " [-0.51  0.25 -0.19  0.05 -0.12  0.49 -0.12  0.16  0.45  0.37]\n",
      " [-0.25 -0.51 -0.05 -0.19 -0.49 -0.12 -0.16 -0.12 -0.37  0.45]]\n"
     ]
    }
   ],
   "source": [
    "print(M_R_random)"
   ]
  },
  {
   "cell_type": "markdown",
   "metadata": {},
   "source": [
    "The M layer of the reservoir is unchanged"
   ]
  },
  {
   "cell_type": "markdown",
   "metadata": {},
   "source": [
    "### d and M of the trained layer, before and after training (they must change)"
   ]
  },
  {
   "cell_type": "code",
   "execution_count": 42,
   "metadata": {},
   "outputs": [
    {
     "data": {
      "text/plain": [
       "<tf.Variable 'random_layer_1/WR:0' shape=(5, 5) dtype=float32, numpy=\n",
       "array([[0.03, 0.78, 1.  , 0.56, 0.81],\n",
       "       [0.84, 0.88, 0.2 , 0.98, 1.1 ],\n",
       "       [0.64, 0.72, 0.96, 0.25, 0.43],\n",
       "       [0.36, 0.22, 0.83, 0.43, 0.47],\n",
       "       [0.68, 0.38, 0.65, 0.48, 0.74]], dtype=float32)>"
      ]
     },
     "execution_count": 42,
     "metadata": {},
     "output_type": "execute_result"
    }
   ],
   "source": [
    "Ci.WR"
   ]
  },
  {
   "cell_type": "code",
   "execution_count": 43,
   "metadata": {},
   "outputs": [
    {
     "data": {
      "text/plain": [
       "array([[0.01, 0.55, 0.96, 0.62, 0.73],\n",
       "       [0.62, 0.68, 0.03, 0.91, 0.92],\n",
       "       [0.6 , 0.55, 0.91, 0.23, 0.37],\n",
       "       [0.42, 0.15, 0.81, 0.45, 0.54],\n",
       "       [0.6 , 0.2 , 0.59, 0.55, 0.58]], dtype=float32)"
      ]
     },
     "execution_count": 43,
     "metadata": {},
     "output_type": "execute_result"
    }
   ],
   "source": [
    "WR_untrained_Ci"
   ]
  },
  {
   "cell_type": "code",
   "execution_count": 44,
   "metadata": {},
   "outputs": [
    {
     "data": {
      "text/plain": [
       "<tf.Variable 'random_layer_2/WI:0' shape=(5, 5) dtype=float32, numpy=\n",
       "array([[ 0.18,  0.74,  0.35,  0.12,  0.33],\n",
       "       [ 0.57,  0.44, -0.08, -0.04,  0.08],\n",
       "       [ 0.54,  1.19,  0.94,  1.37,  0.88],\n",
       "       [ 0.6 ,  1.31,  0.16,  0.04,  0.73],\n",
       "       [ 0.21,  1.03,  0.16,  0.3 ,  0.01]], dtype=float32)>"
      ]
     },
     "execution_count": 44,
     "metadata": {},
     "output_type": "execute_result"
    }
   ],
   "source": [
    "Co.WI"
   ]
  },
  {
   "cell_type": "code",
   "execution_count": 45,
   "metadata": {},
   "outputs": [
    {
     "data": {
      "text/plain": [
       "array([[0.18, 0.43, 0.47, 0.34, 0.06],\n",
       "       [0.88, 0.44, 0.28, 0.3 , 0.23],\n",
       "       [0.42, 0.84, 0.94, 0.99, 0.85],\n",
       "       [0.38, 0.97, 0.53, 0.04, 0.92],\n",
       "       [0.48, 0.88, 0.19, 0.11, 0.01]], dtype=float32)"
      ]
     },
     "execution_count": 45,
     "metadata": {},
     "output_type": "execute_result"
    }
   ],
   "source": [
    "WI_untrained_Co"
   ]
  },
  {
   "cell_type": "code",
   "execution_count": 46,
   "metadata": {},
   "outputs": [
    {
     "name": "stdout",
     "output_type": "stream",
     "text": [
      "[[ 0.22  0.6   0.36 -0.22  0.02 -0.38 -0.25 -0.41 -0.03 -0.18]\n",
      " [-0.6   0.22  0.22  0.36  0.38  0.02  0.41 -0.25  0.18 -0.03]\n",
      " [ 0.21 -0.41  0.17 -0.44  0.3   0.1   0.46 -0.36 -0.32 -0.17]\n",
      " [ 0.41  0.21  0.44  0.17 -0.1   0.3   0.36  0.46  0.17 -0.32]\n",
      " [ 0.13 -0.37  0.33  0.07  0.62 -0.2  -0.42  0.22  0.29  0.03]\n",
      " [ 0.37  0.13 -0.07  0.33  0.2   0.62 -0.22 -0.42 -0.03  0.29]\n",
      " [ 0.29  0.21 -0.6  -0.18  0.29 -0.15  0.29 -0.01  0.54 -0.06]\n",
      " [-0.21  0.29  0.18 -0.6   0.15  0.29  0.01  0.29  0.06  0.54]\n",
      " [-0.06 -0.31  0.26 -0.16 -0.46  0.11 -0.01 -0.36  0.67  0.06]\n",
      " [ 0.31 -0.06  0.16  0.26 -0.11 -0.46  0.36 -0.01 -0.06  0.67]]\n"
     ]
    }
   ],
   "source": [
    "M_i, _= Ci.get_M(); print(M_i.numpy())"
   ]
  },
  {
   "cell_type": "code",
   "execution_count": 47,
   "metadata": {},
   "outputs": [
    {
     "name": "stdout",
     "output_type": "stream",
     "text": [
      "[[ 0.35  0.84  0.33  0.09  0.14 -0.09 -0.02  0.05 -0.06 -0.13]\n",
      " [-0.84  0.35 -0.09  0.33  0.09  0.14 -0.05 -0.02  0.13 -0.06]\n",
      " [-0.06 -0.06  0.17  0.04  0.42  0.32  0.54  0.08 -0.51  0.34]\n",
      " [ 0.06 -0.06 -0.04  0.17 -0.32  0.42 -0.08  0.54 -0.34 -0.51]\n",
      " [ 0.2  -0.25  0.09  0.56  0.48 -0.06 -0.16  0.41  0.38  0.08]\n",
      " [ 0.25  0.2  -0.56  0.09  0.06  0.48 -0.41 -0.16 -0.08  0.38]\n",
      " [ 0.15  0.18 -0.35  0.04 -0.27  0.13  0.67  0.19  0.49  0.08]\n",
      " [-0.18  0.15 -0.04 -0.35 -0.13 -0.27 -0.19  0.67 -0.08  0.49]\n",
      " [-0.03 -0.05  0.62 -0.18 -0.21  0.56 -0.14 -0.03  0.38  0.23]\n",
      " [ 0.05 -0.03  0.18  0.62 -0.56 -0.21  0.03 -0.14 -0.23  0.38]]\n"
     ]
    }
   ],
   "source": [
    "print(M_untrained_Ci.numpy())"
   ]
  },
  {
   "cell_type": "code",
   "execution_count": 48,
   "metadata": {},
   "outputs": [
    {
     "name": "stdout",
     "output_type": "stream",
     "text": [
      "[[ 0.37 -0.26  0.37 -0.18 -0.35 -0.52  0.36  0.    0.09 -0.31]\n",
      " [ 0.26  0.37  0.18  0.37  0.52 -0.35 -0.    0.36  0.31  0.09]\n",
      " [-0.35 -0.18  0.51  0.05  0.33  0.41  0.24 -0.13  0.31 -0.37]\n",
      " [ 0.18 -0.35 -0.05  0.51 -0.41  0.33  0.13  0.24  0.37  0.31]\n",
      " [ 0.29 -0.55  0.13  0.09  0.38 -0.13 -0.3  -0.49 -0.07  0.31]\n",
      " [ 0.55  0.29 -0.09  0.13  0.13  0.38  0.49 -0.3  -0.31 -0.07]\n",
      " [ 0.24 -0.44 -0.37 -0.34  0.36  0.17  0.06  0.54 -0.03 -0.22]\n",
      " [ 0.44  0.24  0.34 -0.37 -0.17  0.36 -0.54  0.06  0.22 -0.03]\n",
      " [-0.    0.11 -0.34 -0.42  0.08 -0.06  0.28 -0.31  0.66  0.27]\n",
      " [-0.11 -0.    0.42 -0.34  0.06  0.08  0.31  0.28 -0.27  0.66]]\n"
     ]
    }
   ],
   "source": [
    "M_o, _= Co.get_M(); print(M_o.numpy())"
   ]
  },
  {
   "cell_type": "code",
   "execution_count": 49,
   "metadata": {},
   "outputs": [
    {
     "name": "stdout",
     "output_type": "stream",
     "text": [
      "[[ 0.52  0.07  0.31  0.24 -0.57 -0.07 -0.04 -0.14  0.46  0.12]\n",
      " [-0.07  0.52 -0.24  0.31  0.07 -0.57  0.14 -0.04 -0.12  0.46]\n",
      " [-0.5   0.26  0.66  0.22  0.1   0.27  0.29  0.    0.14  0.1 ]\n",
      " [-0.26 -0.5  -0.22  0.66 -0.27  0.1  -0.    0.29 -0.1   0.14]\n",
      " [ 0.36 -0.36  0.32  0.18  0.62 -0.04 -0.21 -0.08 -0.05  0.4 ]\n",
      " [ 0.36  0.36 -0.18  0.32  0.04  0.62  0.08 -0.21 -0.4  -0.05]\n",
      " [ 0.38  0.07  0.18  0.05  0.11 -0.16  0.4   0.72 -0.15 -0.29]\n",
      " [-0.07  0.38 -0.05  0.18  0.16  0.11 -0.72  0.4   0.29 -0.15]\n",
      " [ 0.06  0.01 -0.37 -0.23  0.14  0.38  0.32  0.26  0.52  0.46]\n",
      " [-0.01  0.06  0.23 -0.37 -0.38  0.14 -0.26  0.32 -0.46  0.52]]\n"
     ]
    }
   ],
   "source": [
    "print(M_untrained_Co.numpy())"
   ]
  },
  {
   "cell_type": "markdown",
   "metadata": {},
   "source": [
    "The weights of the trainable media are changed"
   ]
  },
  {
   "cell_type": "markdown",
   "metadata": {},
   "source": [
    "# Retrieve the covariance matrix (use the cvovariance layer)"
   ]
  },
  {
   "cell_type": "code",
   "execution_count": 50,
   "metadata": {},
   "outputs": [
    {
     "name": "stdout",
     "output_type": "stream",
     "text": [
      "(<tf.Tensor: shape=(10, 10), dtype=float32, numpy=\n",
      "array([[ 1.00e+00, -0.00e+00, -2.68e-07,  1.52e-07, -4.17e-08, -3.33e-08,\n",
      "         7.04e-09,  1.93e-08, -2.91e-08,  1.11e-07],\n",
      "       [-2.98e-08,  1.00e+00, -1.19e-07, -2.47e-07,  1.11e-07, -1.09e-07,\n",
      "         7.32e-08, -5.05e-08, -7.46e-08,  9.76e-08],\n",
      "       [-2.68e-07, -5.96e-08,  1.00e+00,  1.08e-07,  1.60e-07, -2.13e-07,\n",
      "         4.02e-08, -1.04e-07,  1.69e-07, -2.59e-07],\n",
      "       [ 3.49e-08, -2.48e-07, -6.65e-08,  1.00e+00,  1.84e-07,  2.51e-08,\n",
      "         1.09e-07,  2.99e-08,  1.94e-07,  8.13e-08],\n",
      "       [-1.52e-07,  3.76e-08, -1.94e-08,  1.68e-07,  1.00e+00,  2.86e-08,\n",
      "         1.63e-07, -5.50e-08,  6.70e-08,  2.21e-07],\n",
      "       [ 3.05e-08, -3.08e-08, -9.68e-08,  9.73e-08,  6.22e-09,  1.00e+00,\n",
      "         1.07e-07,  1.51e-07, -2.96e-07,  4.16e-08],\n",
      "       [-9.34e-08, -2.22e-08, -1.12e-08,  1.08e-07,  2.34e-07,  1.16e-07,\n",
      "         1.00e+00, -1.46e-08, -1.54e-08,  3.52e-08],\n",
      "       [ 2.40e-08, -2.52e-09, -8.04e-08, -4.56e-08, -6.63e-08,  1.57e-07,\n",
      "         2.38e-08,  1.00e+00, -6.80e-08, -9.57e-08],\n",
      "       [ 7.61e-08, -6.58e-08,  1.37e-07,  1.60e-07,  3.40e-08, -2.41e-07,\n",
      "        -1.01e-07, -1.01e-07,  1.00e+00, -3.10e-08],\n",
      "       [ 6.79e-08,  9.11e-08, -8.45e-08,  1.24e-07,  2.42e-07,  7.53e-08,\n",
      "         7.61e-08, -1.21e-07, -6.35e-08,  1.00e+00]], dtype=float32)>, <tf.Tensor: shape=(1, 10), dtype=float32, numpy=\n",
      "array([[ 3.33e-01,  6.67e-01,  6.67e-01,  2.93e-05, -7.99e-06,  2.60e-05,\n",
      "         2.45e-05,  5.53e-05,  2.13e-05,  3.31e-05]], dtype=float32)>, <tf.Tensor: shape=(10, 10), dtype=float32, numpy=\n",
      "array([[-6.11e-01, -2.22e-01, -2.22e-01, -9.84e-06,  2.69e-06, -8.64e-06,\n",
      "        -8.16e-06, -1.85e-05, -7.08e-06, -1.11e-05],\n",
      "       [-2.22e-01, -9.44e-01, -4.44e-01, -1.94e-05,  5.27e-06, -1.73e-05,\n",
      "        -1.63e-05, -3.69e-05, -1.41e-05, -2.21e-05],\n",
      "       [-2.22e-01, -4.44e-01, -9.44e-01, -1.96e-05,  5.25e-06, -1.72e-05,\n",
      "        -1.63e-05, -3.68e-05, -1.43e-05, -2.19e-05],\n",
      "       [-9.78e-06, -1.94e-05, -1.95e-05, -5.00e-01, -9.20e-08, -1.33e-08,\n",
      "        -5.50e-08, -1.66e-08, -9.74e-08, -4.16e-08],\n",
      "       [ 2.74e-06,  5.31e-06,  5.34e-06, -8.38e-08, -5.00e-01, -1.41e-08,\n",
      "        -8.13e-08,  2.79e-08, -3.33e-08, -1.10e-07],\n",
      "       [-8.67e-06, -1.73e-05, -1.73e-05, -4.94e-08, -2.90e-09, -5.00e-01,\n",
      "        -5.39e-08, -7.71e-08,  1.47e-07, -2.17e-08],\n",
      "       [-8.11e-06, -1.63e-05, -1.63e-05, -5.49e-08, -1.17e-07, -5.88e-08,\n",
      "        -5.00e-01,  5.93e-09,  7.16e-09, -1.84e-08],\n",
      "       [-1.85e-05, -3.69e-05, -3.69e-05,  2.12e-08,  3.36e-08, -7.98e-08,\n",
      "        -1.32e-08, -5.00e-01,  3.28e-08,  4.60e-08],\n",
      "       [-7.13e-06, -1.42e-05, -1.43e-05, -8.07e-08, -1.68e-08,  1.20e-07,\n",
      "         5.02e-08,  4.91e-08, -5.00e-01,  1.48e-08],\n",
      "       [-1.11e-05, -2.21e-05, -2.20e-05, -6.29e-08, -1.21e-07, -3.85e-08,\n",
      "        -3.88e-08,  5.87e-08,  3.11e-08, -5.00e-01]], dtype=float32)>)\n"
     ]
    }
   ],
   "source": [
    "print(ps.covariance(N)(chir, chii, pullback))"
   ]
  },
  {
   "cell_type": "markdown",
   "metadata": {},
   "source": [
    "The covariance matrix is the identity matrix"
   ]
  }
 ],
 "metadata": {
  "kernelspec": {
   "display_name": "Python 3 (ipykernel)",
   "language": "python",
   "name": "python3"
  },
  "language_info": {
   "codemirror_mode": {
    "name": "ipython",
    "version": 3
   },
   "file_extension": ".py",
   "mimetype": "text/x-python",
   "name": "python",
   "nbconvert_exporter": "python",
   "pygments_lexer": "ipython3",
   "version": "3.8.13"
  }
 },
 "nbformat": 4,
 "nbformat_minor": 4
}
