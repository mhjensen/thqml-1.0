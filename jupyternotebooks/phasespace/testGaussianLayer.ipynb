{
 "cells": [
  {
   "cell_type": "markdown",
   "id": "96f7737a-4d0f-440e-9ab2-a35e228b180e",
   "metadata": {
    "tags": []
   },
   "source": [
    "# Test the GaussianLayer class\n",
    "\n",
    "\n",
    "<img src=\"../img/logo_circular.png\" width=\"20\" height=\"20\" />@by claudio<br>\n",
    "\n",
    "nonlinearxwaves@gmail.com<br>\n",
    "@created 7 nov 2021<br>\n",
    "@version 15 may 2023"
   ]
  },
  {
   "cell_type": "code",
   "execution_count": 1,
   "id": "95e605e4-ecb1-46fa-9f26-aeadca370ebb",
   "metadata": {},
   "outputs": [
    {
     "name": "stderr",
     "output_type": "stream",
     "text": [
      "2023-05-14 11:22:04.651193: W tensorflow/stream_executor/platform/default/dso_loader.cc:64] Could not load dynamic library 'libcudart.so.11.0'; dlerror: libcudart.so.11.0: cannot open shared object file: No such file or directory\n",
      "2023-05-14 11:22:04.651217: I tensorflow/stream_executor/cuda/cudart_stub.cc:29] Ignore above cudart dlerror if you do not have a GPU set up on your machine.\n"
     ]
    }
   ],
   "source": [
    "import numpy as np\n",
    "from thqml import phasespace as ps\n",
    "from thqml.utilities import utilities\n",
    "import tensorflow as tf\n",
    "import tensorflow.keras as tfk"
   ]
  },
  {
   "cell_type": "markdown",
   "id": "080ba134-ff47-4b53-a1ab-f44b63de183b",
   "metadata": {},
   "source": [
    "## Dimension"
   ]
  },
  {
   "cell_type": "code",
   "execution_count": 2,
   "id": "5825d336-b379-4baf-b2f4-7645823c59f4",
   "metadata": {},
   "outputs": [],
   "source": [
    "N=20"
   ]
  },
  {
   "cell_type": "markdown",
   "id": "727eacff-ebe7-44dd-9efa-dbe4532366cd",
   "metadata": {},
   "source": [
    "## Create a covariance matrix and a displacement vector"
   ]
  },
  {
   "cell_type": "code",
   "execution_count": 3,
   "id": "638ed3ae-a22b-49a9-9d96-feb7f34ffaf2",
   "metadata": {},
   "outputs": [],
   "source": [
    "g=np.eye(N) # identity matrix\n",
    "d=np.ones((N,1)) # displacement vector"
   ]
  },
  {
   "cell_type": "markdown",
   "id": "72bce439-922c-475d-a75b-36dce8421953",
   "metadata": {},
   "source": [
    "## Create a Gaussian Layer with an identity matrix as g and identity displacement vector"
   ]
  },
  {
   "cell_type": "code",
   "execution_count": 4,
   "id": "f2fe5f19-6446-4b28-993d-99f8e48da75c",
   "metadata": {},
   "outputs": [
    {
     "name": "stderr",
     "output_type": "stream",
     "text": [
      "2023-05-14 11:22:07.070355: W tensorflow/stream_executor/platform/default/dso_loader.cc:64] Could not load dynamic library 'libcuda.so.1'; dlerror: libcuda.so.1: cannot open shared object file: No such file or directory\n",
      "2023-05-14 11:22:07.070382: W tensorflow/stream_executor/cuda/cuda_driver.cc:269] failed call to cuInit: UNKNOWN ERROR (303)\n",
      "2023-05-14 11:22:07.070407: I tensorflow/stream_executor/cuda/cuda_diagnostics.cc:156] kernel driver does not appear to be running on this host (x1): /proc/driver/nvidia/version does not exist\n",
      "2023-05-14 11:22:07.070732: I tensorflow/core/platform/cpu_feature_guard.cc:151] This TensorFlow binary is optimized with oneAPI Deep Neural Network Library (oneDNN) to use the following CPU instructions in performance-critical operations:  AVX2 FMA\n",
      "To enable them in other operations, rebuild TensorFlow with the appropriate compiler flags.\n"
     ]
    }
   ],
   "source": [
    "G=ps.GaussianLayer(g,d)"
   ]
  },
  {
   "cell_type": "markdown",
   "id": "e9d329a3-9d3e-414c-a719-058f5536d325",
   "metadata": {},
   "source": [
    "## Create a data"
   ]
  },
  {
   "cell_type": "code",
   "execution_count": 5,
   "id": "eb25860d-8126-40d5-9e74-89b227d868ae",
   "metadata": {},
   "outputs": [],
   "source": [
    "Nbatch=5"
   ]
  },
  {
   "cell_type": "code",
   "execution_count": 6,
   "id": "810d788f-274d-44fd-b445-20360896da77",
   "metadata": {},
   "outputs": [],
   "source": [
    "xdata=np.random.rand(Nbatch,N)"
   ]
  },
  {
   "cell_type": "code",
   "execution_count": 7,
   "id": "f169c3b4-d32c-457e-86b9-e5b49645f6fa",
   "metadata": {},
   "outputs": [],
   "source": [
    "chir, chii =G(xdata)"
   ]
  },
  {
   "cell_type": "code",
   "execution_count": 8,
   "id": "2f432d96-70e6-40fc-83f1-69015b8f6bfa",
   "metadata": {},
   "outputs": [
    {
     "name": "stdout",
     "output_type": "stream",
     "text": [
      "tf.Tensor(\n",
      "[[-0.17403965]\n",
      " [-0.1911797 ]\n",
      " [ 0.06649071]\n",
      " [ 0.09819441]\n",
      " [-0.17848293]], shape=(5, 1), dtype=float32) tf.Tensor(\n",
      "[[ 0.20885466]\n",
      " [ 0.06339978]\n",
      " [-0.08818472]\n",
      " [-0.02622793]\n",
      " [-0.07659712]], shape=(5, 1), dtype=float32)\n"
     ]
    }
   ],
   "source": [
    "print(chir, chii)"
   ]
  },
  {
   "cell_type": "code",
   "execution_count": 9,
   "id": "dd027ab8-d759-4b98-9e96-73b79ac94072",
   "metadata": {},
   "outputs": [
    {
     "name": "stdout",
     "output_type": "stream",
     "text": [
      "tf.Tensor(\n",
      "[[ 0.20885466]\n",
      " [ 0.06339978]\n",
      " [-0.08818472]\n",
      " [-0.02622793]\n",
      " [-0.07659712]], shape=(5, 1), dtype=float32)\n"
     ]
    }
   ],
   "source": [
    "print(chii)"
   ]
  },
  {
   "cell_type": "markdown",
   "id": "eb2a1d45-2723-494d-a1c9-c67a6dcfb7ab",
   "metadata": {},
   "source": [
    "## Test the vacuum layer"
   ]
  },
  {
   "cell_type": "markdown",
   "id": "1b5d5420-5e68-4515-998b-3c3392ca6aa8",
   "metadata": {},
   "source": [
    "### create the layer"
   ]
  },
  {
   "cell_type": "code",
   "execution_count": 10,
   "id": "98211af3-922d-449d-8898-ec1472760517",
   "metadata": {},
   "outputs": [
    {
     "name": "stdout",
     "output_type": "stream",
     "text": [
      "tf.Tensor(\n",
      "[[0.27186406]\n",
      " [0.20141798]\n",
      " [0.11044256]\n",
      " [0.10163683]\n",
      " [0.1942248 ]], shape=(5, 1), dtype=float32) tf.Tensor(\n",
      "[[0.]\n",
      " [0.]\n",
      " [0.]\n",
      " [0.]\n",
      " [0.]], shape=(5, 1), dtype=float32)\n"
     ]
    }
   ],
   "source": [
    "vacuum=ps.VacuumLayer(N)\n",
    "chir_vacuum, chii_vacuum=vacuum(xdata)\n",
    "print(chir_vacuum, chii_vacuum)"
   ]
  },
  {
   "cell_type": "code",
   "execution_count": 11,
   "id": "062b2906-fb68-4c23-a1cf-4cdcaefa0120",
   "metadata": {},
   "outputs": [],
   "source": [
    "chir_vacuum, chir_vacuum=vacuum(xdata)"
   ]
  },
  {
   "cell_type": "code",
   "execution_count": 12,
   "id": "9ed5d785-7c44-47b1-a4fb-16963de10689",
   "metadata": {},
   "outputs": [
    {
     "name": "stdout",
     "output_type": "stream",
     "text": [
      "tf.Tensor(\n",
      "[[-0.17403965]\n",
      " [-0.1911797 ]\n",
      " [ 0.06649071]\n",
      " [ 0.09819441]\n",
      " [-0.17848293]], shape=(5, 1), dtype=float32)\n"
     ]
    }
   ],
   "source": [
    "print(chir)"
   ]
  },
  {
   "cell_type": "markdown",
   "id": "43c3529b-a6df-46a0-9980-b42940139b7c",
   "metadata": {},
   "source": [
    "## Create a model with two layers"
   ]
  },
  {
   "cell_type": "code",
   "execution_count": 13,
   "id": "a019612e-3549-47ef-ab4a-40a38502e333",
   "metadata": {},
   "outputs": [
    {
     "name": "stdout",
     "output_type": "stream",
     "text": [
      "[<tf.Tensor: shape=(5, 1), dtype=float32, numpy=\n",
      "array([[0.27186406],\n",
      "       [0.20141798],\n",
      "       [0.11044256],\n",
      "       [0.10163683],\n",
      "       [0.1942248 ]], dtype=float32)>, <tf.Tensor: shape=(5, 1), dtype=float32, numpy=\n",
      "array([[0.],\n",
      "       [0.],\n",
      "       [0.],\n",
      "       [0.],\n",
      "       [0.]], dtype=float32)>]\n"
     ]
    }
   ],
   "source": [
    "N=20\n",
    "vacuum=ps.VacuumLayer(N)\n",
    "x=tfk.layers.Input(N)\n",
    "chir, chii = vacuum(x)\n",
    "vacuum_model=tfk.Model(inputs=x, outputs=[chir,chii])\n",
    "print(vacuum_model(xdata))"
   ]
  },
  {
   "cell_type": "code",
   "execution_count": null,
   "id": "c0743a9b-0459-4a93-ab55-d44f4bac47b5",
   "metadata": {},
   "outputs": [],
   "source": []
  }
 ],
 "metadata": {
  "kernelspec": {
   "display_name": "Python 3 (ipykernel)",
   "language": "python",
   "name": "python3"
  },
  "language_info": {
   "codemirror_mode": {
    "name": "ipython",
    "version": 3
   },
   "file_extension": ".py",
   "mimetype": "text/x-python",
   "name": "python",
   "nbconvert_exporter": "python",
   "pygments_lexer": "ipython3",
   "version": "3.8.13"
  }
 },
 "nbformat": 4,
 "nbformat_minor": 5
}
