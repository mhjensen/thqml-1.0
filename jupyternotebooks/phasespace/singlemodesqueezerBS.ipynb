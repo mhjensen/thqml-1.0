{
 "cells": [
  {
   "cell_type": "markdown",
   "metadata": {},
   "source": [
    "# Single mode squeezed state model with BS"
   ]
  },
  {
   "cell_type": "markdown",
   "metadata": {},
   "source": [
    "Use the multihead (2-head) gates in the phase space \n",
    "to create a network that represent two single mode squeezed vacuum\n",
    "by starting from a Gaussian state and making a pullback\n",
    "\n",
    "The single mode squeezed state pass through a beams splitter\n",
    "\n",
    "\n",
    "\n",
    "<img src=\"../img/logo_circular.png\" width=\"20\" height=\"20\" />@by claudio<br>\n",
    "\n",
    "\n",
    "nonlinearxwaves@gmail.com<br>\n",
    "@created 18 october 2020<br>\n",
    "@version 1 may 2023"
   ]
  },
  {
   "cell_type": "code",
   "execution_count": 1,
   "metadata": {},
   "outputs": [
    {
     "name": "stderr",
     "output_type": "stream",
     "text": [
      "2023-05-01 11:21:52.709082: W tensorflow/stream_executor/platform/default/dso_loader.cc:64] Could not load dynamic library 'libcudart.so.11.0'; dlerror: libcudart.so.11.0: cannot open shared object file: No such file or directory\n",
      "2023-05-01 11:21:52.709105: I tensorflow/stream_executor/cuda/cudart_stub.cc:29] Ignore above cudart dlerror if you do not have a GPU set up on your machine.\n"
     ]
    }
   ],
   "source": [
    "import numpy as np\n",
    "from thqml import phasespace as ps\n",
    "from thqml.utilities import utilities\n",
    "import tensorflow as tf\n",
    "import matplotlib.pyplot as plt"
   ]
  },
  {
   "cell_type": "code",
   "execution_count": 2,
   "metadata": {},
   "outputs": [],
   "source": [
    "tf.keras.backend.clear_session()"
   ]
  },
  {
   "cell_type": "code",
   "execution_count": 3,
   "metadata": {},
   "outputs": [],
   "source": [
    "np.set_printoptions(precision=2)"
   ]
  },
  {
   "cell_type": "markdown",
   "metadata": {},
   "source": [
    "## Dimension (number of modes times 2)"
   ]
  },
  {
   "cell_type": "code",
   "execution_count": 4,
   "metadata": {},
   "outputs": [],
   "source": [
    "N = 4"
   ]
  },
  {
   "cell_type": "markdown",
   "metadata": {},
   "source": [
    "## Build vacuum by the Gaussian state"
   ]
  },
  {
   "cell_type": "code",
   "execution_count": 5,
   "metadata": {},
   "outputs": [
    {
     "name": "stderr",
     "output_type": "stream",
     "text": [
      "2023-05-01 11:21:55.166877: W tensorflow/stream_executor/platform/default/dso_loader.cc:64] Could not load dynamic library 'libcuda.so.1'; dlerror: libcuda.so.1: cannot open shared object file: No such file or directory\n",
      "2023-05-01 11:21:55.166903: W tensorflow/stream_executor/cuda/cuda_driver.cc:269] failed call to cuInit: UNKNOWN ERROR (303)\n",
      "2023-05-01 11:21:55.166928: I tensorflow/stream_executor/cuda/cuda_diagnostics.cc:156] kernel driver does not appear to be running on this host (x1): /proc/driver/nvidia/version does not exist\n",
      "2023-05-01 11:21:55.167265: I tensorflow/core/platform/cpu_feature_guard.cc:151] This TensorFlow binary is optimized with oneAPI Deep Neural Network Library (oneDNN) to use the following CPU instructions in performance-critical operations:  AVX2 FMA\n",
      "To enable them in other operations, rebuild TensorFlow with the appropriate compiler flags.\n"
     ]
    }
   ],
   "source": [
    "vacuum = ps.VacuumLayer(N)"
   ]
  },
  {
   "cell_type": "markdown",
   "metadata": {},
   "source": [
    "## Single mode squeezer 1"
   ]
  },
  {
   "cell_type": "code",
   "execution_count": 6,
   "metadata": {},
   "outputs": [],
   "source": [
    "ra=0.2;\n",
    "phia=np.pi/4;"
   ]
  },
  {
   "cell_type": "code",
   "execution_count": 7,
   "metadata": {},
   "outputs": [],
   "source": [
    "squeezer_a=ps.SingleModeSqueezerLayer(N, r_np=ra, theta_np=phia, n_squeezed=0, trainable=False)"
   ]
  },
  {
   "cell_type": "markdown",
   "metadata": {},
   "source": [
    "## Single mode squeezer 2"
   ]
  },
  {
   "cell_type": "code",
   "execution_count": 8,
   "metadata": {},
   "outputs": [],
   "source": [
    "rb=3.0;\n",
    "phib=np.pi/3;\n",
    "squeezer_b=ps.SingleModeSqueezerLayer(N, r_np=rb, theta_np=phib, n_squeezed=1, trainable=False)"
   ]
  },
  {
   "cell_type": "markdown",
   "metadata": {},
   "source": [
    "## Beam splitter"
   ]
  },
  {
   "cell_type": "code",
   "execution_count": 9,
   "metadata": {},
   "outputs": [],
   "source": [
    "theta=0.5 # maximum squeezing is for pi/4=0.78\n",
    "phi0=0.0\n",
    "phi1=0.0"
   ]
  },
  {
   "cell_type": "code",
   "execution_count": 10,
   "metadata": {},
   "outputs": [],
   "source": [
    "bs = ps.BeamSplitterLayer(N, theta=theta, phi0=phi0, phi1=phi1, n_0=0, n_1=1,  trainable_theta=True)"
   ]
  },
  {
   "cell_type": "markdown",
   "metadata": {},
   "source": [
    "# Build the model"
   ]
  },
  {
   "cell_type": "code",
   "execution_count": 11,
   "metadata": {},
   "outputs": [],
   "source": [
    "xin = tf.keras.layers.Input(N)\n",
    "x0,d0 = bs(xin)\n",
    "x1, d1 = squeezer_b(x0,d0)\n",
    "x2, d2 = squeezer_a(x1,d1)\n",
    "chir, chii = vacuum(x2, d2)\n",
    "squeezed1mBS = tf.keras.Model(inputs = xin, outputs=[chir, chii])"
   ]
  },
  {
   "cell_type": "markdown",
   "metadata": {},
   "source": [
    "## Introduce an entanglement layer to maximize"
   ]
  },
  {
   "cell_type": "code",
   "execution_count": 12,
   "metadata": {},
   "outputs": [],
   "source": [
    "cov_layer = ps.covariance(N)\n",
    "cova, chii_x, _ = cov_layer(chir,chii, squeezed1mBS)\n",
    "e_layer = ps.entanglementBSLayer(N)\n",
    "delta, Edelta, ca = e_layer(cova)\n",
    "entangler = tf.keras.Model(inputs = xin, outputs=delta)\n",
    "entanglement_value = tf.keras.Model(inputs = xin, outputs=Edelta)\n",
    "cov_entire = tf.keras.Model(inputs=xin, outputs= cova)\n",
    "cov_reduced = tf.keras.Model(inputs=xin, outputs= ca)"
   ]
  },
  {
   "cell_type": "markdown",
   "metadata": {},
   "source": [
    "### Dummy training points"
   ]
  },
  {
   "cell_type": "code",
   "execution_count": 13,
   "metadata": {},
   "outputs": [],
   "source": [
    "Nbatch=10\n",
    "gtarget=np.eye(N)\n",
    "dtarget=2.4*np.ones((N,1))\n",
    "xtrain = np.random.rand(Nbatch, N)-0.5\n",
    "ytrain =np.zeros_like(xtrain)\n",
    "dtrain = np.zeros((Nbatch,N))\n",
    "gtrain = np.zeros((Nbatch,N,N))\n",
    "for j in range(Nbatch):\n",
    "    for i in range(N):\n",
    "        dtrain[j,i]=dtarget[i]\n",
    "        for k in range(N):\n",
    "            gtrain[j,i,k]=gtarget[i,k]"
   ]
  },
  {
   "cell_type": "code",
   "execution_count": 14,
   "metadata": {},
   "outputs": [
    {
     "data": {
      "text/plain": [
       "<tf.Tensor: shape=(), dtype=float32, numpy=3.5184047>"
      ]
     },
     "execution_count": 14,
     "metadata": {},
     "output_type": "execute_result"
    }
   ],
   "source": [
    "entangler(xtrain)"
   ]
  },
  {
   "cell_type": "code",
   "execution_count": 15,
   "metadata": {},
   "outputs": [
    {
     "data": {
      "text/plain": [
       "<tf.Tensor: shape=(), dtype=float32, numpy=1.5510576>"
      ]
     },
     "execution_count": 15,
     "metadata": {},
     "output_type": "execute_result"
    }
   ],
   "source": [
    "entanglement_value(xtrain)"
   ]
  },
  {
   "cell_type": "code",
   "execution_count": 16,
   "metadata": {},
   "outputs": [
    {
     "data": {
      "text/plain": [
       "<tf.Tensor: shape=(2, 2), dtype=float32, numpy=\n",
       "array([[ 23.79, -40.38],\n",
       "       [-40.38,  70.6 ]], dtype=float32)>"
      ]
     },
     "execution_count": 16,
     "metadata": {},
     "output_type": "execute_result"
    }
   ],
   "source": [
    "cov_reduced(xtrain)"
   ]
  },
  {
   "cell_type": "markdown",
   "metadata": {},
   "source": [
    "# Compare with theory"
   ]
  },
  {
   "cell_type": "markdown",
   "metadata": {},
   "source": [
    "Define a python function to find the expected value of entanglement "
   ]
  },
  {
   "cell_type": "markdown",
   "metadata": {},
   "source": [
    "## Degree of entanglement and elements of the covariance matrix"
   ]
  },
  {
   "cell_type": "code",
   "execution_count": 17,
   "metadata": {},
   "outputs": [],
   "source": [
    "def theory_value(ra,phia,rb,phib, theta,phi0,phi1):\n",
    "    \"\"\" Return entanglement value following PRA66.064304 (note there is a mistake in the paper it is phi0-phi1)\"\"\"\n",
    "    cha = np.math.cosh(ra)\n",
    "    chb = np.math.cosh(rb)\n",
    "    sha = np.math.sinh(ra)\n",
    "    shb = np.math.sinh(rb)\n",
    "\n",
    "    ct = np.math.cos(theta)\n",
    "    st = np.math.sin(theta)\n",
    "\n",
    "\n",
    "    xa = sha*cha\n",
    "    xb = shb*chb\n",
    "\n",
    "    Sa=cha**2+sha**2\n",
    "    Sb=chb**2+shb**2\n",
    "\n",
    "    Db = 2*phi1-phib\n",
    "    Da = 2*phi0-phia\n",
    "\n",
    "    DbDa=Db-Da\n",
    "    tmp = np.math.cos(DbDa)\n",
    "\n",
    "\n",
    "    m11  = Sa*ct**2+Sb*st**2+2*xa*ct**2*np.math.cos(Da)+2*xb*st**2*np.math.cos(Db)\n",
    "    m12 = 2*xa*ct**2*np.math.sin(Da)+2*xb*st**2*np.math.sin(Db)\n",
    "    m21 = m12\n",
    "    m22 = Sa*ct**2+Sb*st**2-2*xa*ct**2*np.math.cos(Da)-2*xb*st**2*np.math.cos(Db)\n",
    "\n",
    "    nu2 = m11*m22-m12*m21\n",
    "    nu = 0.5*np.math.sqrt(nu2)\n",
    "\n",
    "    EE=-np.math.log(2/(nu+1))-(nu-1)*0.5*np.math.log((nu-1)/(nu+1))\n",
    "\n",
    "\n",
    "    return nu, EE, m11, m12, m21, m22"
   ]
  },
  {
   "cell_type": "markdown",
   "metadata": {},
   "source": [
    "Values for  nu and E(nu) expected from theory"
   ]
  },
  {
   "cell_type": "code",
   "execution_count": 18,
   "metadata": {},
   "outputs": [],
   "source": [
    "nuth, Eth, m11th, m12th, m21th, m22th =theory_value(ra,phia,rb,phib,theta,phi0,phi1)"
   ]
  },
  {
   "cell_type": "code",
   "execution_count": 19,
   "metadata": {},
   "outputs": [
    {
     "data": {
      "text/plain": [
       "(3.518400462775096, 1.5510563299760842)"
      ]
     },
     "execution_count": 19,
     "metadata": {},
     "output_type": "execute_result"
    }
   ],
   "source": [
    "nuth, Eth"
   ]
  },
  {
   "cell_type": "code",
   "execution_count": 20,
   "metadata": {},
   "outputs": [
    {
     "data": {
      "text/plain": [
       "(70.60215099433715, -40.37568768954344, -40.37568768954344, 23.791240068650314)"
      ]
     },
     "execution_count": 20,
     "metadata": {},
     "output_type": "execute_result"
    }
   ],
   "source": [
    "m11th, m12th, m21th, m22th"
   ]
  },
  {
   "cell_type": "markdown",
   "metadata": {},
   "source": [
    "# Plot entanglement vs delta"
   ]
  },
  {
   "cell_type": "code",
   "execution_count": 21,
   "metadata": {},
   "outputs": [],
   "source": [
    "def Edelta_np(dplot):\n",
    "    Ed = -np.log(2/(dplot+1))-0.5*(dplot-1)*np.log((dplot-1)/(dplot+1))\n",
    "    return Ed"
   ]
  },
  {
   "cell_type": "code",
   "execution_count": 22,
   "metadata": {},
   "outputs": [
    {
     "data": {
      "image/png": "[encoded data removed]",
      "text/plain": [
       "<Figure size 432x288 with 1 Axes>"
      ]
     },
     "metadata": {
      "needs_background": "light"
     },
     "output_type": "display_data"
    }
   ],
   "source": [
    "dplot=np.linspace(1.001,10,1000)\n",
    "Edplot=Edelta_np(dplot)\n",
    "plt.plot(dplot,Edplot)\n",
    "plt.ylabel(\"Degree of entanglement\");\n",
    "plt.xlabel(\"$\\delta$\");"
   ]
  },
  {
   "cell_type": "markdown",
   "metadata": {},
   "source": [
    "# Maximize entanglement"
   ]
  },
  {
   "cell_type": "markdown",
   "metadata": {},
   "source": [
    "### Define a custom loss function for the entropy to be minimized"
   ]
  },
  {
   "cell_type": "code",
   "execution_count": 23,
   "metadata": {},
   "outputs": [],
   "source": [
    "entangler.add_loss(-tf.math.log(Edelta))\n",
    "entangler.compile(optimizer=tf.keras.optimizers.Adam(learning_rate=0.01))"
   ]
  },
  {
   "cell_type": "code",
   "execution_count": 24,
   "metadata": {},
   "outputs": [
    {
     "name": "stdout",
     "output_type": "stream",
     "text": [
      "Model: \"model_1\"\n",
      "________________________________________________________________________________________________________________________\n",
      " Layer (type)                          Output Shape               Param #       Connected to                            \n",
      "========================================================================================================================\n",
      " input_1 (InputLayer)                  [(None, 4)]                0             []                                      \n",
      "                                                                                                                        \n",
      " beam_splitter_layer (BeamSplitterLaye  [(None, 4),               3             ['input_1[0][0]']                       \n",
      " r)                                     (4, 1)]                                                                         \n",
      "                                                                                                                        \n",
      " single_mode_squeezer_layer_1 (SingleM  [(None, 4),               2             ['beam_splitter_layer[0][0]',           \n",
      " odeSqueezerLayer)                      (4, 1)]                                  'beam_splitter_layer[0][1]']           \n",
      "                                                                                                                        \n",
      " single_mode_squeezer_layer (SingleMod  [(None, 4),               2             ['single_mode_squeezer_layer_1[0][0]',  \n",
      " eSqueezerLayer)                        (4, 1)]                                  'single_mode_squeezer_layer_1[0][1]']  \n",
      "                                                                                                                        \n",
      " gaussian_layer (GaussianLayer)        [(None, 1),                20            ['single_mode_squeezer_layer[0][0]',    \n",
      "                                        (None, 1)]                               'single_mode_squeezer_layer[0][1]']    \n",
      "                                                                                                                        \n",
      " covariance_layer (CovarianceLayer)    ((4, 4),                   0             ['gaussian_layer[0][0]',                \n",
      "                                        (1, 4),                                  'gaussian_layer[0][1]']                \n",
      "                                        (4, 4))                                                                         \n",
      "                                                                                                                        \n",
      " entanglement_bs_layer (entanglementBS  ((),                      0             ['covariance_layer[0][0]']              \n",
      " Layer)                                 (),                                                                             \n",
      "                                        (2, 2))                                                                         \n",
      "                                                                                                                        \n",
      " tf.math.log (TFOpLambda)              ()                         0             ['entanglement_bs_layer[0][1]']         \n",
      "                                                                                                                        \n",
      " tf.math.negative (TFOpLambda)         ()                         0             ['tf.math.log[0][0]']                   \n",
      "                                                                                                                        \n",
      " add_loss (AddLoss)                    ()                         0             ['tf.math.negative[0][0]']              \n",
      "                                                                                                                        \n",
      "========================================================================================================================\n",
      "Total params: 27\n",
      "Trainable params: 3\n",
      "Non-trainable params: 24\n",
      "________________________________________________________________________________________________________________________\n"
     ]
    }
   ],
   "source": [
    "entangler.summary(line_length=120)"
   ]
  },
  {
   "cell_type": "code",
   "execution_count": 25,
   "metadata": {},
   "outputs": [],
   "source": [
    "history = entangler.fit(x=xtrain,\n",
    "                        y=ytrain,\n",
    "                      epochs=1000,\n",
    "                      verbose=0)"
   ]
  },
  {
   "cell_type": "code",
   "execution_count": 43,
   "metadata": {},
   "outputs": [
    {
     "data": {
      "text/plain": [
       "[<matplotlib.lines.Line2D at 0x7fe0880cf610>]"
      ]
     },
     "execution_count": 43,
     "metadata": {},
     "output_type": "execute_result"
    },
    {
     "data": {
      "image/png": "[encoded data removed]",
      "text/plain": [
       "<Figure size 432x288 with 1 Axes>"
      ]
     },
     "metadata": {
      "needs_background": "light"
     },
     "output_type": "display_data"
    }
   ],
   "source": [
    "history.history.keys()\n",
    "plt.plot(history.history['loss'])\n"
   ]
  },
  {
   "cell_type": "code",
   "execution_count": 44,
   "metadata": {},
   "outputs": [
    {
     "data": {
      "text/plain": [
       "<tf.Tensor: shape=(), dtype=float32, numpy=6.143317>"
      ]
     },
     "execution_count": 44,
     "metadata": {},
     "output_type": "execute_result"
    }
   ],
   "source": [
    "# display the value of delta after training\n",
    "entangler(xtrain)"
   ]
  },
  {
   "cell_type": "code",
   "execution_count": 45,
   "metadata": {},
   "outputs": [
    {
     "data": {
      "text/plain": [
       "<tf.Tensor: shape=(), dtype=float32, numpy=2.117766>"
      ]
     },
     "execution_count": 45,
     "metadata": {},
     "output_type": "execute_result"
    }
   ],
   "source": [
    "# display the value of the entanglement\n",
    "entanglement_value(xtrain)"
   ]
  },
  {
   "cell_type": "code",
   "execution_count": 29,
   "metadata": {},
   "outputs": [
    {
     "data": {
      "text/plain": [
       "<tf.Tensor: shape=(2, 2), dtype=float32, numpy=\n",
       "array([[181.25, -61.27],\n",
       "       [-61.27,  21.54]], dtype=float32)>"
      ]
     },
     "execution_count": 29,
     "metadata": {},
     "output_type": "execute_result"
    }
   ],
   "source": [
    "cov_reduced(xtrain)"
   ]
  },
  {
   "cell_type": "code",
   "execution_count": 30,
   "metadata": {},
   "outputs": [
    {
     "data": {
      "text/plain": [
       "<tf.Tensor: shape=(4, 4), dtype=float32, numpy=\n",
       "array([[ 181.25,  -61.27, -180.5 ,   61.53],\n",
       "       [ -61.27,   21.54,   61.52,  -20.14],\n",
       "       [-180.5 ,   61.52,  181.25,  -61.28],\n",
       "       [  61.53,  -20.14,  -61.28,   21.55]], dtype=float32)>"
      ]
     },
     "execution_count": 30,
     "metadata": {},
     "output_type": "execute_result"
    }
   ],
   "source": [
    "cov_entire(xtrain)"
   ]
  },
  {
   "cell_type": "markdown",
   "metadata": {},
   "source": [
    "# Value of theta after maximization"
   ]
  },
  {
   "cell_type": "code",
   "execution_count": 31,
   "metadata": {},
   "outputs": [
    {
     "data": {
      "text/plain": [
       "<tf.Variable 'Variable:0' shape=() dtype=float32, numpy=0.7853978>"
      ]
     },
     "execution_count": 31,
     "metadata": {},
     "output_type": "execute_result"
    }
   ],
   "source": [
    "bs.theta"
   ]
  },
  {
   "cell_type": "code",
   "execution_count": 32,
   "metadata": {},
   "outputs": [
    {
     "data": {
      "text/plain": [
       "0.7853981633974483"
      ]
     },
     "execution_count": 32,
     "metadata": {},
     "output_type": "execute_result"
    }
   ],
   "source": [
    "np.pi/4"
   ]
  },
  {
   "cell_type": "markdown",
   "metadata": {},
   "source": [
    "# Value of beam splitter phases "
   ]
  },
  {
   "cell_type": "code",
   "execution_count": 33,
   "metadata": {},
   "outputs": [
    {
     "data": {
      "text/plain": [
       "<tf.Variable 'Variable:0' shape=() dtype=float32, numpy=0.7199285>"
      ]
     },
     "execution_count": 33,
     "metadata": {},
     "output_type": "execute_result"
    }
   ],
   "source": [
    "bs.phi0"
   ]
  },
  {
   "cell_type": "code",
   "execution_count": 34,
   "metadata": {},
   "outputs": [
    {
     "data": {
      "text/plain": [
       "<tf.Variable 'Variable:0' shape=() dtype=float32, numpy=-0.71996826>"
      ]
     },
     "execution_count": 34,
     "metadata": {},
     "output_type": "execute_result"
    }
   ],
   "source": [
    "bs.phi1"
   ]
  },
  {
   "cell_type": "code",
   "execution_count": 35,
   "metadata": {},
   "outputs": [
    {
     "data": {
      "text/plain": [
       "<tf.Variable 'single_mode_squeezer_layer/r:0' shape=() dtype=float32, numpy=0.2>"
      ]
     },
     "execution_count": 35,
     "metadata": {},
     "output_type": "execute_result"
    }
   ],
   "source": [
    "squeezer_a.r"
   ]
  },
  {
   "cell_type": "code",
   "execution_count": 36,
   "metadata": {},
   "outputs": [
    {
     "data": {
      "text/plain": [
       "<tf.Variable 'single_mode_squeezer_layer/theta:0' shape=() dtype=float32, numpy=0.7853982>"
      ]
     },
     "execution_count": 36,
     "metadata": {},
     "output_type": "execute_result"
    }
   ],
   "source": [
    "squeezer_a.theta"
   ]
  },
  {
   "cell_type": "code",
   "execution_count": 37,
   "metadata": {},
   "outputs": [
    {
     "data": {
      "text/plain": [
       "<tf.Variable 'single_mode_squeezer_layer_1/theta:0' shape=() dtype=float32, numpy=1.0471976>"
      ]
     },
     "execution_count": 37,
     "metadata": {},
     "output_type": "execute_result"
    }
   ],
   "source": [
    "squeezer_b.theta"
   ]
  },
  {
   "cell_type": "code",
   "execution_count": 38,
   "metadata": {},
   "outputs": [
    {
     "data": {
      "text/plain": [
       "<tf.Variable 'single_mode_squeezer_layer_1/r:0' shape=() dtype=float32, numpy=3.0>"
      ]
     },
     "execution_count": 38,
     "metadata": {},
     "output_type": "execute_result"
    }
   ],
   "source": [
    "squeezer_b.r"
   ]
  },
  {
   "cell_type": "markdown",
   "metadata": {},
   "source": [
    "# For maximum entanglement the following quantity must be a multiple of pi "
   ]
  },
  {
   "cell_type": "code",
   "execution_count": 39,
   "metadata": {},
   "outputs": [
    {
     "data": {
      "text/plain": [
       "<tf.Tensor: shape=(), dtype=float32, numpy=-3.141593>"
      ]
     },
     "execution_count": 39,
     "metadata": {},
     "output_type": "execute_result"
    }
   ],
   "source": [
    "2*(bs.phi1-bs.phi0)+squeezer_a.theta-squeezer_b.theta"
   ]
  },
  {
   "cell_type": "code",
   "execution_count": 40,
   "metadata": {},
   "outputs": [
    {
     "data": {
      "text/plain": [
       "1.5707963267948966"
      ]
     },
     "execution_count": 40,
     "metadata": {},
     "output_type": "execute_result"
    }
   ],
   "source": [
    "np.pi/2"
   ]
  },
  {
   "cell_type": "code",
   "execution_count": 41,
   "metadata": {},
   "outputs": [
    {
     "data": {
      "text/plain": [
       "0.7853981633974483"
      ]
     },
     "execution_count": 41,
     "metadata": {},
     "output_type": "execute_result"
    }
   ],
   "source": [
    "np.pi/4"
   ]
  },
  {
   "cell_type": "code",
   "execution_count": null,
   "metadata": {},
   "outputs": [],
   "source": []
  }
 ],
 "metadata": {
  "kernelspec": {
   "display_name": "Python 3 (ipykernel)",
   "language": "python",
   "name": "python3"
  },
  "language_info": {
   "codemirror_mode": {
    "name": "ipython",
    "version": 3
   },
   "file_extension": ".py",
   "mimetype": "text/x-python",
   "name": "python",
   "nbconvert_exporter": "python",
   "pygments_lexer": "ipython3",
   "version": "3.8.13"
  }
 },
 "nbformat": 4,
 "nbformat_minor": 4
}
