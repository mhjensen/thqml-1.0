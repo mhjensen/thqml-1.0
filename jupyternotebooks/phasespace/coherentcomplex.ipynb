{
 "cells": [
  {
   "cell_type": "markdown",
   "metadata": {},
   "source": [
    "# Test multihead coherent state generation by pullback"
   ]
  },
  {
   "cell_type": "markdown",
   "metadata": {},
   "source": [
    "Use the multihead (2-head) gates in the phase space \n",
    "to create a network that represent a coherent state,\n",
    "by starting from a Gaussian state and making a pullback,\n",
    "then propagating through a complex random medium\n",
    "\n",
    "<img src=\"../img/coherentcomplexTikZ.png\" width=\"900\" height=\"210\" />\n",
    "\n",
    "<img src=\"../img/logo_circular.png\" width=\"20\" height=\"20\" />@by claudio<br>\n",
    "\n",
    "nonlinearxwaves@gmail.com<br>\n",
    "@created 22 july 2020<br>\n",
    "@version 15 may 2023<br>"
   ]
  },
  {
   "cell_type": "code",
   "execution_count": 1,
   "metadata": {},
   "outputs": [
    {
     "name": "stderr",
     "output_type": "stream",
     "text": [
      "2023-05-14 11:08:09.044590: W tensorflow/stream_executor/platform/default/dso_loader.cc:64] Could not load dynamic library 'libcudart.so.11.0'; dlerror: libcudart.so.11.0: cannot open shared object file: No such file or directory\n",
      "2023-05-14 11:08:09.044615: I tensorflow/stream_executor/cuda/cudart_stub.cc:29] Ignore above cudart dlerror if you do not have a GPU set up on your machine.\n"
     ]
    }
   ],
   "source": [
    "import numpy as np\n",
    "from scipy.linalg import expm, sinm, cosm\n",
    "from thqml import phasespace as ps\n",
    "from thqml.utilities import utilities\n",
    "import tensorflow as tf\n",
    "from tensorflow import keras\n",
    "import matplotlib.pyplot as plt\n",
    "from tensorflow.keras.callbacks import EarlyStopping"
   ]
  },
  {
   "cell_type": "code",
   "execution_count": 2,
   "metadata": {},
   "outputs": [],
   "source": [
    "tf_complex = tf.complex\n",
    "tf_real = tf.float32\n",
    "np_complex = complex\n",
    "np_real = np.float64"
   ]
  },
  {
   "cell_type": "markdown",
   "metadata": {},
   "source": [
    "## Dimension"
   ]
  },
  {
   "cell_type": "code",
   "execution_count": 3,
   "metadata": {},
   "outputs": [],
   "source": [
    "N = 10"
   ]
  },
  {
   "cell_type": "markdown",
   "metadata": {},
   "source": [
    "## Build vacuum by the Gaussian state"
   ]
  },
  {
   "cell_type": "markdown",
   "metadata": {},
   "source": [
    "Build the layer"
   ]
  },
  {
   "cell_type": "code",
   "execution_count": 4,
   "metadata": {},
   "outputs": [
    {
     "name": "stderr",
     "output_type": "stream",
     "text": [
      "2023-05-14 11:08:13.272208: W tensorflow/stream_executor/platform/default/dso_loader.cc:64] Could not load dynamic library 'libcuda.so.1'; dlerror: libcuda.so.1: cannot open shared object file: No such file or directory\n",
      "2023-05-14 11:08:13.272236: W tensorflow/stream_executor/cuda/cuda_driver.cc:269] failed call to cuInit: UNKNOWN ERROR (303)\n",
      "2023-05-14 11:08:13.272261: I tensorflow/stream_executor/cuda/cuda_diagnostics.cc:156] kernel driver does not appear to be running on this host (x1): /proc/driver/nvidia/version does not exist\n",
      "2023-05-14 11:08:13.272560: I tensorflow/core/platform/cpu_feature_guard.cc:151] This TensorFlow binary is optimized with oneAPI Deep Neural Network Library (oneDNN) to use the following CPU instructions in performance-critical operations:  AVX2 FMA\n",
      "To enable them in other operations, rebuild TensorFlow with the appropriate compiler flags.\n"
     ]
    }
   ],
   "source": [
    "vacuum = ps.VacuumLayer(N)"
   ]
  },
  {
   "cell_type": "markdown",
   "metadata": {},
   "source": [
    "## Build the pullback layer for generating the coherent state"
   ]
  },
  {
   "cell_type": "markdown",
   "metadata": {},
   "source": [
    "Target displacement vector<br>\n",
    "The displacement vector is a column vector"
   ]
  },
  {
   "cell_type": "code",
   "execution_count": 5,
   "metadata": {},
   "outputs": [],
   "source": [
    "dinput = 3.0*np.ones((N,1))"
   ]
  },
  {
   "cell_type": "markdown",
   "metadata": {},
   "source": [
    "Symplectic operator<br>\n",
    "A simple identity matrix"
   ]
  },
  {
   "cell_type": "code",
   "execution_count": 6,
   "metadata": {},
   "outputs": [],
   "source": [
    "D = ps.DisplacementLayerConstant(dinput)"
   ]
  },
  {
   "cell_type": "markdown",
   "metadata": {},
   "source": [
    "## Define the layer for the complex medium\n",
    "The LinearConstantMultiHead generate by default a non-trainable random medium with \n",
    "the relevant random symplectic operator"
   ]
  },
  {
   "cell_type": "code",
   "execution_count": 7,
   "metadata": {},
   "outputs": [],
   "source": [
    "R = ps.RandomLayer(N)"
   ]
  },
  {
   "cell_type": "markdown",
   "metadata": {},
   "source": [
    "## Connect the layers\n",
    "Note the layers are in the inverse order as it is a pullback neural network"
   ]
  },
  {
   "cell_type": "markdown",
   "metadata": {},
   "source": [
    "Input layers"
   ]
  },
  {
   "cell_type": "code",
   "execution_count": 8,
   "metadata": {},
   "outputs": [],
   "source": [
    "xin = tf.keras.layers.Input(N)"
   ]
  },
  {
   "cell_type": "markdown",
   "metadata": {},
   "source": [
    "Complex random medium"
   ]
  },
  {
   "cell_type": "code",
   "execution_count": 9,
   "metadata": {},
   "outputs": [],
   "source": [
    "x2, a2 = R(xin)"
   ]
  },
  {
   "cell_type": "markdown",
   "metadata": {},
   "source": [
    "Linear pullback for generating the coherent state"
   ]
  },
  {
   "cell_type": "code",
   "execution_count": 10,
   "metadata": {},
   "outputs": [],
   "source": [
    "x1, a1 = D(x2,a2)"
   ]
  },
  {
   "cell_type": "markdown",
   "metadata": {},
   "source": [
    "Gaussian vacuum state"
   ]
  },
  {
   "cell_type": "code",
   "execution_count": 11,
   "metadata": {},
   "outputs": [],
   "source": [
    "chir, chii = vacuum(x1, a1)"
   ]
  },
  {
   "cell_type": "markdown",
   "metadata": {},
   "source": [
    "Build the model"
   ]
  },
  {
   "cell_type": "code",
   "execution_count": 12,
   "metadata": {},
   "outputs": [],
   "source": [
    "pullback = tf.keras.Model(inputs = xin, outputs=[chir, chii]) "
   ]
  },
  {
   "cell_type": "markdown",
   "metadata": {},
   "source": [
    "## Display the symplectic operator of the random layer"
   ]
  },
  {
   "cell_type": "markdown",
   "metadata": {},
   "source": [
    "Evaluate the symplectic matrix and the inverse by using the builtin function"
   ]
  },
  {
   "cell_type": "code",
   "execution_count": 13,
   "metadata": {},
   "outputs": [],
   "source": [
    "M, MI = R.get_M()"
   ]
  },
  {
   "cell_type": "markdown",
   "metadata": {},
   "source": [
    "Print the symplectic matrix"
   ]
  },
  {
   "cell_type": "code",
   "execution_count": 14,
   "metadata": {},
   "outputs": [
    {
     "name": "stdout",
     "output_type": "stream",
     "text": [
      "+0.2+0.0i +0.2+0.0i +0.3+0.0i +0.1+0.0i -0.3+0.0i -0.1+0.0i -0.3+0.0i -0.5+0.0i +0.2+0.0i +0.6+0.0i \n",
      "-0.2+0.0i +0.2+0.0i -0.1+0.0i +0.3+0.0i +0.1+0.0i -0.3+0.0i +0.5+0.0i -0.3+0.0i -0.6+0.0i +0.2+0.0i \n",
      "-0.1+0.0i -0.3+0.0i +0.7+0.0i +0.5+0.0i -0.1+0.0i +0.2+0.0i -0.0+0.0i +0.3+0.0i -0.3+0.0i +0.0+0.0i \n",
      "+0.3+0.0i -0.1+0.0i -0.5+0.0i +0.7+0.0i -0.2+0.0i -0.1+0.0i -0.3+0.0i -0.0+0.0i -0.0+0.0i -0.3+0.0i \n",
      "+0.0+0.0i +0.2+0.0i -0.2+0.0i +0.2+0.0i +0.7+0.0i +0.5+0.0i -0.2+0.0i +0.1+0.0i -0.0+0.0i +0.4+0.0i \n",
      "-0.2+0.0i +0.0+0.0i -0.2+0.0i -0.2+0.0i -0.5+0.0i +0.7+0.0i -0.1+0.0i -0.2+0.0i -0.4+0.0i -0.0+0.0i \n",
      "+0.7+0.0i -0.1+0.0i -0.2+0.0i -0.1+0.0i -0.1+0.0i +0.0+0.0i +0.3+0.0i +0.4+0.0i -0.2+0.0i +0.4+0.0i \n",
      "+0.1+0.0i +0.7+0.0i +0.1+0.0i -0.2+0.0i -0.0+0.0i -0.1+0.0i -0.4+0.0i +0.3+0.0i -0.4+0.0i -0.2+0.0i \n",
      "-0.2+0.0i +0.5+0.0i -0.1+0.0i +0.3+0.0i -0.3+0.0i +0.2+0.0i +0.4+0.0i +0.4+0.0i +0.4+0.0i +0.1+0.0i \n",
      "-0.5+0.0i -0.2+0.0i -0.3+0.0i -0.1+0.0i -0.2+0.0i -0.3+0.0i -0.4+0.0i +0.4+0.0i -0.1+0.0i +0.4+0.0i \n"
     ]
    }
   ],
   "source": [
    "utilities.printonscreen(M)"
   ]
  },
  {
   "cell_type": "code",
   "execution_count": 15,
   "metadata": {},
   "outputs": [
    {
     "name": "stdout",
     "output_type": "stream",
     "text": [
      "[[0.230782926 0.225924224 0.344488919 ... -0.460717857 0.192638025 0.55475229]\n",
      " [-0.225924224 0.230782926 -0.0713840947 ... -0.33052516 -0.55475229 0.192638025]\n",
      " [-0.0772145614 -0.294446021 0.676841199 ... 0.331759214 -0.274899364 0.000528143253]\n",
      " ...\n",
      " [0.144793615 0.694200516 0.132704735 ... 0.326622039 -0.380529255 -0.240704447]\n",
      " [-0.208992183 0.478252083 -0.0779867768 ... 0.354928046 0.449485481 0.123856097]\n",
      " [-0.478252083 -0.208992183 -0.280691713 ... 0.386057556 -0.123856097 0.449485481]]\n"
     ]
    }
   ],
   "source": [
    "tf.print(M)"
   ]
  },
  {
   "cell_type": "markdown",
   "metadata": {},
   "source": [
    "Print the inverse of the symplectic matrix"
   ]
  },
  {
   "cell_type": "code",
   "execution_count": 16,
   "metadata": {},
   "outputs": [
    {
     "name": "stdout",
     "output_type": "stream",
     "text": [
      "+0.2+0.0i -0.2+0.0i -0.1+0.0i +0.3+0.0i +0.0+0.0i -0.2+0.0i +0.7+0.0i +0.1+0.0i -0.2+0.0i -0.5+0.0i \n",
      "+0.2+0.0i +0.2+0.0i -0.3+0.0i -0.1+0.0i +0.2+0.0i +0.0+0.0i -0.1+0.0i +0.7+0.0i +0.5+0.0i -0.2+0.0i \n",
      "+0.3+0.0i -0.1+0.0i +0.7+0.0i -0.5+0.0i -0.2+0.0i -0.2+0.0i -0.2+0.0i +0.1+0.0i -0.1+0.0i -0.3+0.0i \n",
      "+0.1+0.0i +0.3+0.0i +0.5+0.0i +0.7+0.0i +0.2+0.0i -0.2+0.0i -0.1+0.0i -0.2+0.0i +0.3+0.0i -0.1+0.0i \n",
      "-0.3+0.0i +0.1+0.0i -0.1+0.0i -0.2+0.0i +0.7+0.0i -0.5+0.0i -0.1+0.0i -0.0+0.0i -0.3+0.0i -0.2+0.0i \n",
      "-0.1+0.0i -0.3+0.0i +0.2+0.0i -0.1+0.0i +0.5+0.0i +0.7+0.0i +0.0+0.0i -0.1+0.0i +0.2+0.0i -0.3+0.0i \n",
      "-0.3+0.0i +0.5+0.0i -0.0+0.0i -0.3+0.0i -0.2+0.0i -0.1+0.0i +0.3+0.0i -0.4+0.0i +0.4+0.0i -0.4+0.0i \n",
      "-0.5+0.0i -0.3+0.0i +0.3+0.0i -0.0+0.0i +0.1+0.0i -0.2+0.0i +0.4+0.0i +0.3+0.0i +0.4+0.0i +0.4+0.0i \n",
      "+0.2+0.0i -0.6+0.0i -0.3+0.0i -0.0+0.0i -0.0+0.0i -0.4+0.0i -0.2+0.0i -0.4+0.0i +0.4+0.0i -0.1+0.0i \n",
      "+0.6+0.0i +0.2+0.0i +0.0+0.0i -0.3+0.0i +0.4+0.0i -0.0+0.0i +0.4+0.0i -0.2+0.0i +0.1+0.0i +0.4+0.0i \n"
     ]
    }
   ],
   "source": [
    "utilities.printonscreen(MI)"
   ]
  },
  {
   "cell_type": "markdown",
   "metadata": {},
   "source": [
    "Check if the matrix is symplectic by multipliying M and its inverse IM as generated by the layer"
   ]
  },
  {
   "cell_type": "code",
   "execution_count": 17,
   "metadata": {},
   "outputs": [
    {
     "name": "stdout",
     "output_type": "stream",
     "text": [
      "+1.0+0.0i +0.0+0.0i -0.0+0.0i -0.0+0.0i +0.0+0.0i -0.0+0.0i -0.0+0.0i -0.0+0.0i -0.0+0.0i +0.0+0.0i \n",
      "+0.0+0.0i +1.0+0.0i +0.0+0.0i -0.0+0.0i +0.0+0.0i +0.0+0.0i +0.0+0.0i -0.0+0.0i -0.0+0.0i -0.0+0.0i \n",
      "-0.0+0.0i +0.0+0.0i +1.0+0.0i -0.0+0.0i +0.0+0.0i -0.0+0.0i -0.0+0.0i +0.0+0.0i +0.0+0.0i +0.0+0.0i \n",
      "-0.0+0.0i -0.0+0.0i -0.0+0.0i +1.0+0.0i +0.0+0.0i +0.0+0.0i -0.0+0.0i -0.0+0.0i -0.0+0.0i -0.0+0.0i \n",
      "+0.0+0.0i +0.0+0.0i +0.0+0.0i +0.0+0.0i +1.0+0.0i +0.0+0.0i -0.0+0.0i -0.0+0.0i +0.0+0.0i +0.0+0.0i \n",
      "-0.0+0.0i +0.0+0.0i -0.0+0.0i +0.0+0.0i +0.0+0.0i +1.0+0.0i +0.0+0.0i -0.0+0.0i -0.0+0.0i +0.0+0.0i \n",
      "-0.0+0.0i +0.0+0.0i -0.0+0.0i -0.0+0.0i -0.0+0.0i +0.0+0.0i +1.0+0.0i -0.0+0.0i +0.0+0.0i -0.0+0.0i \n",
      "-0.0+0.0i -0.0+0.0i +0.0+0.0i -0.0+0.0i -0.0+0.0i -0.0+0.0i -0.0+0.0i +1.0+0.0i +0.0+0.0i -0.0+0.0i \n",
      "-0.0+0.0i -0.0+0.0i +0.0+0.0i -0.0+0.0i +0.0+0.0i -0.0+0.0i +0.0+0.0i +0.0+0.0i +1.0+0.0i -0.0+0.0i \n",
      "+0.0+0.0i -0.0+0.0i +0.0+0.0i -0.0+0.0i +0.0+0.0i +0.0+0.0i -0.0+0.0i -0.0+0.0i -0.0+0.0i +1.0+0.0i \n"
     ]
    }
   ],
   "source": [
    "utilities.printonscreen(tf.matmul(M,MI))"
   ]
  },
  {
   "cell_type": "markdown",
   "metadata": {},
   "source": [
    "## Test the derivative of the model\n",
    "Evaluate the expectation value of the displacement as derivative of the characterisc function"
   ]
  },
  {
   "cell_type": "code",
   "execution_count": 18,
   "metadata": {},
   "outputs": [],
   "source": [
    "x = tf.Variable(np.zeros((1,N)), dtype=tf_real) # the derivative are evaluated at x=0\n",
    "with tf.GradientTape(persistent=True) as tape:\n",
    "    tape.watch(x)\n",
    "    chir, chii = pullback(x)"
   ]
  },
  {
   "cell_type": "markdown",
   "metadata": {},
   "source": [
    "Derivative of chir<br>\n",
    "(must be zero)"
   ]
  },
  {
   "cell_type": "code",
   "execution_count": 19,
   "metadata": {},
   "outputs": [
    {
     "name": "stdout",
     "output_type": "stream",
     "text": [
      "+0.0+0.0i +0.0+0.0i +0.0+0.0i +0.0+0.0i +0.0+0.0i +0.0+0.0i +0.0+0.0i +0.0+0.0i +0.0+0.0i +0.0+0.0i \n"
     ]
    }
   ],
   "source": [
    "utilities.printonscreen(tape.gradient(chir,x))"
   ]
  },
  {
   "cell_type": "code",
   "execution_count": 20,
   "metadata": {},
   "outputs": [
    {
     "name": "stdout",
     "output_type": "stream",
     "text": [
      "[[0 0 0 ... 0 0 0]]\n"
     ]
    }
   ],
   "source": [
    "tf.print(tape.gradient(chir,x))"
   ]
  },
  {
   "cell_type": "markdown",
   "metadata": {},
   "source": [
    "Derivative of chii<br>\n",
    "(this is a random vector)"
   ]
  },
  {
   "cell_type": "code",
   "execution_count": 21,
   "metadata": {},
   "outputs": [
    {
     "name": "stdout",
     "output_type": "stream",
     "text": [
      "+1.2+0.0i -0.4+0.0i +2.6+0.0i -1.6+0.0i +4.8+0.0i -3.3+0.0i +2.8+0.0i +0.1+0.0i +4.9+0.0i -3.6+0.0i \n"
     ]
    }
   ],
   "source": [
    "utilities.printonscreen(tape.gradient(chii,x))"
   ]
  },
  {
   "cell_type": "code",
   "execution_count": 22,
   "metadata": {},
   "outputs": [
    {
     "name": "stdout",
     "output_type": "stream",
     "text": [
      "[[1.22221088 -0.411860943 2.60023451 ... 0.0550819635 4.86147833 -3.63549471]]\n"
     ]
    }
   ],
   "source": [
    "tf.print(tape.gradient(chii,x))"
   ]
  },
  {
   "cell_type": "markdown",
   "metadata": {},
   "source": [
    "Test the conservation of the photon number by the norm of input and output displacement<br>\n",
    "The total number of bosons for a coherent state is <br>\n",
    "$\\sum_{j=0}^{N-1} \\frac{1}{2} d_j^2$"
   ]
  },
  {
   "cell_type": "code",
   "execution_count": 23,
   "metadata": {},
   "outputs": [
    {
     "name": "stdout",
     "output_type": "stream",
     "text": [
      "[[ 1.2222109  -0.41186094  2.6002345  -1.6080265   4.846274   -3.3042426\n",
      "   2.7805374   0.05508196  4.8614783  -3.6354947 ]]\n"
     ]
    }
   ],
   "source": [
    "doutput=tape.gradient(chii,x).numpy(); print(doutput)"
   ]
  },
  {
   "cell_type": "code",
   "execution_count": 24,
   "metadata": {},
   "outputs": [
    {
     "name": "stdout",
     "output_type": "stream",
     "text": [
      "44.99999656774207\n"
     ]
    }
   ],
   "source": [
    "print(np.linalg.norm(doutput)**2/2)"
   ]
  },
  {
   "cell_type": "code",
   "execution_count": 25,
   "metadata": {},
   "outputs": [
    {
     "name": "stdout",
     "output_type": "stream",
     "text": [
      "45.0\n"
     ]
    }
   ],
   "source": [
    "print(np.linalg.norm(dinput)**2/2)"
   ]
  },
  {
   "cell_type": "markdown",
   "metadata": {},
   "source": [
    "Remark: The numbers are the same within numerical precision"
   ]
  }
 ],
 "metadata": {
  "kernelspec": {
   "display_name": "Python 3 (ipykernel)",
   "language": "python",
   "name": "python3"
  },
  "language_info": {
   "codemirror_mode": {
    "name": "ipython",
    "version": 3
   },
   "file_extension": ".py",
   "mimetype": "text/x-python",
   "name": "python",
   "nbconvert_exporter": "python",
   "pygments_lexer": "ipython3",
   "version": "3.8.13"
  }
 },
 "nbformat": 4,
 "nbformat_minor": 4
}
