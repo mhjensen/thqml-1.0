{
 "cells": [
  {
   "cell_type": "markdown",
   "metadata": {
    "tags": []
   },
   "source": [
    "# Test the generation of symplectic matrices\n",
    "Test the formulas concerning RP, RQ, J, and M\n",
    "\n",
    "\n",
    "<img src=\"../img/logo_circular.png\" width=\"20\" height=\"20\" />@by claudio<br>\n",
    "\n",
    "nonlinearxwaves@gmail.com<br>\n",
    "@created 12 sep 2020<br>\n",
    "@version 15 may 2023"
   ]
  },
  {
   "cell_type": "code",
   "execution_count": 1,
   "metadata": {},
   "outputs": [
    {
     "name": "stderr",
     "output_type": "stream",
     "text": [
      "2023-05-14 11:21:18.401010: W tensorflow/stream_executor/platform/default/dso_loader.cc:64] Could not load dynamic library 'libcudart.so.11.0'; dlerror: libcudart.so.11.0: cannot open shared object file: No such file or directory\n",
      "2023-05-14 11:21:18.401034: I tensorflow/stream_executor/cuda/cudart_stub.cc:29] Ignore above cudart dlerror if you do not have a GPU set up on your machine.\n"
     ]
    }
   ],
   "source": [
    "import numpy as np\n",
    "from thqml import phasespace as ps\n",
    "from thqml.utilities import utilities\n",
    "import tensorflow as tf"
   ]
  },
  {
   "cell_type": "code",
   "execution_count": 2,
   "metadata": {},
   "outputs": [],
   "source": [
    "N=10"
   ]
  },
  {
   "cell_type": "markdown",
   "metadata": {},
   "source": [
    "## Verifies the properties of RQ, RP and J"
   ]
  },
  {
   "cell_type": "code",
   "execution_count": 3,
   "metadata": {},
   "outputs": [],
   "source": [
    "RQ, RP, J = ps.RQRP(N)"
   ]
  },
  {
   "cell_type": "code",
   "execution_count": 4,
   "metadata": {},
   "outputs": [
    {
     "name": "stdout",
     "output_type": "stream",
     "text": [
      "array([[1., 0., 0., 0., 0.],\n",
      "       [0., 0., 0., 0., 0.],\n",
      "       [0., 1., 0., 0., 0.],\n",
      "       [0., 0., 0., 0., 0.],\n",
      "       [0., 0., 1., 0., 0.],\n",
      "       [0., 0., 0., 0., 0.],\n",
      "       [0., 0., 0., 1., 0.],\n",
      "       [0., 0., 0., 0., 0.],\n",
      "       [0., 0., 0., 0., 1.],\n",
      "       [0., 0., 0., 0., 0.]], dtype=float32)\n"
     ]
    },
    {
     "name": "stderr",
     "output_type": "stream",
     "text": [
      "2023-05-14 11:21:20.882472: W tensorflow/stream_executor/platform/default/dso_loader.cc:64] Could not load dynamic library 'libcuda.so.1'; dlerror: libcuda.so.1: cannot open shared object file: No such file or directory\n",
      "2023-05-14 11:21:20.882497: W tensorflow/stream_executor/cuda/cuda_driver.cc:269] failed call to cuInit: UNKNOWN ERROR (303)\n",
      "2023-05-14 11:21:20.882519: I tensorflow/stream_executor/cuda/cuda_diagnostics.cc:156] kernel driver does not appear to be running on this host (x1): /proc/driver/nvidia/version does not exist\n",
      "2023-05-14 11:21:20.883025: I tensorflow/core/platform/cpu_feature_guard.cc:151] This TensorFlow binary is optimized with oneAPI Deep Neural Network Library (oneDNN) to use the following CPU instructions in performance-critical operations:  AVX2 FMA\n",
      "To enable them in other operations, rebuild TensorFlow with the appropriate compiler flags.\n"
     ]
    }
   ],
   "source": [
    "tf.print(RQ)"
   ]
  },
  {
   "cell_type": "code",
   "execution_count": 5,
   "metadata": {},
   "outputs": [
    {
     "name": "stdout",
     "output_type": "stream",
     "text": [
      "array([[0., 0., 0., 0., 0.],\n",
      "       [1., 0., 0., 0., 0.],\n",
      "       [0., 0., 0., 0., 0.],\n",
      "       [0., 1., 0., 0., 0.],\n",
      "       [0., 0., 0., 0., 0.],\n",
      "       [0., 0., 1., 0., 0.],\n",
      "       [0., 0., 0., 0., 0.],\n",
      "       [0., 0., 0., 1., 0.],\n",
      "       [0., 0., 0., 0., 0.],\n",
      "       [0., 0., 0., 0., 1.]], dtype=float32)\n"
     ]
    }
   ],
   "source": [
    "tf.print(RP)"
   ]
  },
  {
   "cell_type": "code",
   "execution_count": 6,
   "metadata": {},
   "outputs": [
    {
     "data": {
      "text/plain": [
       "(10, 5)"
      ]
     },
     "execution_count": 6,
     "metadata": {},
     "output_type": "execute_result"
    }
   ],
   "source": [
    "RQ.shape"
   ]
  },
  {
   "cell_type": "code",
   "execution_count": 7,
   "metadata": {},
   "outputs": [
    {
     "data": {
      "text/plain": [
       "(10, 5)"
      ]
     },
     "execution_count": 7,
     "metadata": {},
     "output_type": "execute_result"
    }
   ],
   "source": [
    "RP.shape"
   ]
  },
  {
   "cell_type": "code",
   "execution_count": 8,
   "metadata": {},
   "outputs": [
    {
     "name": "stdout",
     "output_type": "stream",
     "text": [
      "array([[ 0.,  1.,  0.,  0.,  0.,  0.,  0.,  0.,  0.,  0.],\n",
      "       [-1.,  0.,  0.,  0.,  0.,  0.,  0.,  0.,  0.,  0.],\n",
      "       [ 0.,  0.,  0.,  1.,  0.,  0.,  0.,  0.,  0.,  0.],\n",
      "       [ 0.,  0., -1.,  0.,  0.,  0.,  0.,  0.,  0.,  0.],\n",
      "       [ 0.,  0.,  0.,  0.,  0.,  1.,  0.,  0.,  0.,  0.],\n",
      "       [ 0.,  0.,  0.,  0., -1.,  0.,  0.,  0.,  0.,  0.],\n",
      "       [ 0.,  0.,  0.,  0.,  0.,  0.,  0.,  1.,  0.,  0.],\n",
      "       [ 0.,  0.,  0.,  0.,  0.,  0., -1.,  0.,  0.,  0.],\n",
      "       [ 0.,  0.,  0.,  0.,  0.,  0.,  0.,  0.,  0.,  1.],\n",
      "       [ 0.,  0.,  0.,  0.,  0.,  0.,  0.,  0., -1.,  0.]], dtype=float32)\n"
     ]
    }
   ],
   "source": [
    "tf.print(J)"
   ]
  },
  {
   "cell_type": "code",
   "execution_count": 9,
   "metadata": {},
   "outputs": [
    {
     "data": {
      "text/plain": [
       "(10, 10)"
      ]
     },
     "execution_count": 9,
     "metadata": {},
     "output_type": "execute_result"
    }
   ],
   "source": [
    "J.shape"
   ]
  },
  {
   "cell_type": "markdown",
   "metadata": {},
   "source": [
    "$${\\bf J} {\\bf R}_\\text{q} = -{\\bf R}_\\text{p}$$"
   ]
  },
  {
   "cell_type": "code",
   "execution_count": 10,
   "metadata": {},
   "outputs": [
    {
     "data": {
      "text/plain": [
       "array([[ 0.,  0.,  0.,  0.,  0.],\n",
       "       [-1.,  0.,  0.,  0.,  0.],\n",
       "       [ 0.,  0.,  0.,  0.,  0.],\n",
       "       [ 0., -1.,  0.,  0.,  0.],\n",
       "       [ 0.,  0.,  0.,  0.,  0.],\n",
       "       [ 0.,  0., -1.,  0.,  0.],\n",
       "       [ 0.,  0.,  0.,  0.,  0.],\n",
       "       [ 0.,  0.,  0., -1.,  0.],\n",
       "       [ 0.,  0.,  0.,  0.,  0.],\n",
       "       [ 0.,  0.,  0.,  0., -1.]], dtype=float32)"
      ]
     },
     "execution_count": 10,
     "metadata": {},
     "output_type": "execute_result"
    }
   ],
   "source": [
    "np.matmul(J,RQ)"
   ]
  },
  {
   "cell_type": "markdown",
   "metadata": {},
   "source": [
    "$${\\bf R}_\\text{q}{\\bf R}_\\text{q}^\\top+{\\bf R}_\\text{p}{\\bf R}_\\text{p}^\\top = {\\bf 1}_N$$"
   ]
  },
  {
   "cell_type": "code",
   "execution_count": 11,
   "metadata": {},
   "outputs": [
    {
     "data": {
      "text/plain": [
       "array([[1., 0., 0., 0., 0., 0., 0., 0., 0., 0.],\n",
       "       [0., 1., 0., 0., 0., 0., 0., 0., 0., 0.],\n",
       "       [0., 0., 1., 0., 0., 0., 0., 0., 0., 0.],\n",
       "       [0., 0., 0., 1., 0., 0., 0., 0., 0., 0.],\n",
       "       [0., 0., 0., 0., 1., 0., 0., 0., 0., 0.],\n",
       "       [0., 0., 0., 0., 0., 1., 0., 0., 0., 0.],\n",
       "       [0., 0., 0., 0., 0., 0., 1., 0., 0., 0.],\n",
       "       [0., 0., 0., 0., 0., 0., 0., 1., 0., 0.],\n",
       "       [0., 0., 0., 0., 0., 0., 0., 0., 1., 0.],\n",
       "       [0., 0., 0., 0., 0., 0., 0., 0., 0., 1.]], dtype=float32)"
      ]
     },
     "execution_count": 11,
     "metadata": {},
     "output_type": "execute_result"
    }
   ],
   "source": [
    "np.matmul(RQ,RQ.transpose())+np.matmul(RP,RP.transpose())"
   ]
  },
  {
   "cell_type": "markdown",
   "metadata": {},
   "source": [
    "$${\\bf R}_\\text{q}{\\bf R}_\\text{p}^\\top-{\\bf R}_\\text{p}{\\bf R}_\\text{q}^\\top = {\\bf J}$$"
   ]
  },
  {
   "cell_type": "code",
   "execution_count": 12,
   "metadata": {},
   "outputs": [
    {
     "data": {
      "text/plain": [
       "array([[ 0.,  1.,  0.,  0.,  0.,  0.,  0.,  0.,  0.,  0.],\n",
       "       [-1.,  0.,  0.,  0.,  0.,  0.,  0.,  0.,  0.,  0.],\n",
       "       [ 0.,  0.,  0.,  1.,  0.,  0.,  0.,  0.,  0.,  0.],\n",
       "       [ 0.,  0., -1.,  0.,  0.,  0.,  0.,  0.,  0.,  0.],\n",
       "       [ 0.,  0.,  0.,  0.,  0.,  1.,  0.,  0.,  0.,  0.],\n",
       "       [ 0.,  0.,  0.,  0., -1.,  0.,  0.,  0.,  0.,  0.],\n",
       "       [ 0.,  0.,  0.,  0.,  0.,  0.,  0.,  1.,  0.,  0.],\n",
       "       [ 0.,  0.,  0.,  0.,  0.,  0., -1.,  0.,  0.,  0.],\n",
       "       [ 0.,  0.,  0.,  0.,  0.,  0.,  0.,  0.,  0.,  1.],\n",
       "       [ 0.,  0.,  0.,  0.,  0.,  0.,  0.,  0., -1.,  0.]], dtype=float32)"
      ]
     },
     "execution_count": 12,
     "metadata": {},
     "output_type": "execute_result"
    }
   ],
   "source": [
    "np.matmul(RQ,RP.transpose())-np.matmul(RP,RQ.transpose())"
   ]
  },
  {
   "cell_type": "markdown",
   "metadata": {},
   "source": [
    "$${\\bf R}_\\text{p}^\\top {\\bf R}_\\text{q} = {\\bf 0}_{n}$$"
   ]
  },
  {
   "cell_type": "code",
   "execution_count": 13,
   "metadata": {},
   "outputs": [
    {
     "data": {
      "text/plain": [
       "array([[0., 0., 0., 0., 0.],\n",
       "       [0., 0., 0., 0., 0.],\n",
       "       [0., 0., 0., 0., 0.],\n",
       "       [0., 0., 0., 0., 0.],\n",
       "       [0., 0., 0., 0., 0.]], dtype=float32)"
      ]
     },
     "execution_count": 13,
     "metadata": {},
     "output_type": "execute_result"
    }
   ],
   "source": [
    "np.matmul(RP.transpose(), RQ)"
   ]
  },
  {
   "cell_type": "markdown",
   "metadata": {},
   "source": [
    "$${\\bf R}_\\text{q}^\\top {\\bf R}_\\text{q} = {\\bf 1}_{n}$$"
   ]
  },
  {
   "cell_type": "code",
   "execution_count": 14,
   "metadata": {},
   "outputs": [
    {
     "data": {
      "text/plain": [
       "array([[1., 0., 0., 0., 0.],\n",
       "       [0., 1., 0., 0., 0.],\n",
       "       [0., 0., 1., 0., 0.],\n",
       "       [0., 0., 0., 1., 0.],\n",
       "       [0., 0., 0., 0., 1.]], dtype=float32)"
      ]
     },
     "execution_count": 14,
     "metadata": {},
     "output_type": "execute_result"
    }
   ],
   "source": [
    "np.matmul(RQ.transpose(), RQ)"
   ]
  },
  {
   "cell_type": "markdown",
   "metadata": {},
   "source": [
    "## Verify the symplectic matrix"
   ]
  },
  {
   "cell_type": "code",
   "execution_count": 15,
   "metadata": {},
   "outputs": [],
   "source": [
    "M, MI, U = ps.RandomSymplectic(N)"
   ]
  },
  {
   "cell_type": "code",
   "execution_count": 16,
   "metadata": {},
   "outputs": [
    {
     "name": "stdout",
     "output_type": "stream",
     "text": [
      "array([[ 0.33442115,  0.35201558, -0.10746386,  0.26402261, -0.41732781,\n",
      "         0.59593333,  0.0962469 , -0.08810987,  0.36878297, -0.02577538],\n",
      "       [-0.35201558,  0.33442115, -0.26402261, -0.10746386, -0.59593333,\n",
      "        -0.41732781,  0.08810987,  0.0962469 ,  0.02577538,  0.36878297],\n",
      "       [-0.15915445,  0.35543689,  0.70193224,  0.4407444 , -0.08672281,\n",
      "        -0.05222372, -0.30904258,  0.09463725, -0.21491739,  0.02165212],\n",
      "       [-0.35543689, -0.15915445, -0.4407444 ,  0.70193224,  0.05222372,\n",
      "        -0.08672281, -0.09463725, -0.30904258, -0.02165212, -0.21491739],\n",
      "       [ 0.4739208 ,  0.47169526, -0.31209531,  0.19624395,  0.44895935,\n",
      "        -0.22268846, -0.04688832,  0.02600138, -0.20060911,  0.35030591],\n",
      "       [-0.47169526,  0.4739208 , -0.19624395, -0.31209531,  0.22268846,\n",
      "         0.44895935, -0.02600138, -0.04688832, -0.35030591, -0.20060911],\n",
      "       [-0.15487619, -0.1107411 ,  0.03787045,  0.30656642,  0.1136091 ,\n",
      "         0.17163952,  0.69769278,  0.54159166, -0.15332806,  0.14953007],\n",
      "       [ 0.1107411 , -0.15487619, -0.30656642,  0.03787045, -0.17163952,\n",
      "         0.1136091 , -0.54159166,  0.69769278, -0.14953007, -0.15332806],\n",
      "       [-0.35022643, -0.08109181,  0.01624956,  0.01351783,  0.33623888,\n",
      "         0.23210862, -0.29191191,  0.10161577,  0.53554513,  0.5666047 ],\n",
      "       [ 0.08109181, -0.35022643, -0.01351783,  0.01624956, -0.23210862,\n",
      "         0.33623888, -0.10161577, -0.29191191, -0.5666047 ,  0.53554513]])\n"
     ]
    }
   ],
   "source": [
    "tf.print(M)"
   ]
  },
  {
   "cell_type": "code",
   "execution_count": 17,
   "metadata": {},
   "outputs": [
    {
     "name": "stdout",
     "output_type": "stream",
     "text": [
      "+0.3+0.0i -0.4+0.0i -0.2+0.0i -0.4+0.0i +0.5+0.0i -0.5+0.0i -0.2+0.0i +0.1+0.0i -0.4+0.0i +0.1+0.0i \n",
      "+0.4+0.0i +0.3+0.0i +0.4+0.0i -0.2+0.0i +0.5+0.0i +0.5+0.0i -0.1+0.0i -0.2+0.0i -0.1+0.0i -0.4+0.0i \n",
      "-0.1+0.0i -0.3+0.0i +0.7+0.0i -0.4+0.0i -0.3+0.0i -0.2+0.0i +0.0+0.0i -0.3+0.0i +0.0+0.0i -0.0+0.0i \n",
      "+0.3+0.0i -0.1+0.0i +0.4+0.0i +0.7+0.0i +0.2+0.0i -0.3+0.0i +0.3+0.0i +0.0+0.0i +0.0+0.0i +0.0+0.0i \n",
      "-0.4+0.0i -0.6+0.0i -0.1+0.0i +0.1+0.0i +0.4+0.0i +0.2+0.0i +0.1+0.0i -0.2+0.0i +0.3+0.0i -0.2+0.0i \n",
      "+0.6+0.0i -0.4+0.0i -0.1+0.0i -0.1+0.0i -0.2+0.0i +0.4+0.0i +0.2+0.0i +0.1+0.0i +0.2+0.0i +0.3+0.0i \n",
      "+0.1+0.0i +0.1+0.0i -0.3+0.0i -0.1+0.0i -0.0+0.0i -0.0+0.0i +0.7+0.0i -0.5+0.0i -0.3+0.0i -0.1+0.0i \n",
      "-0.1+0.0i +0.1+0.0i +0.1+0.0i -0.3+0.0i +0.0+0.0i -0.0+0.0i +0.5+0.0i +0.7+0.0i +0.1+0.0i -0.3+0.0i \n",
      "+0.4+0.0i +0.0+0.0i -0.2+0.0i -0.0+0.0i -0.2+0.0i -0.4+0.0i -0.2+0.0i -0.1+0.0i +0.5+0.0i -0.6+0.0i \n",
      "-0.0+0.0i +0.4+0.0i +0.0+0.0i -0.2+0.0i +0.4+0.0i -0.2+0.0i +0.1+0.0i -0.2+0.0i +0.6+0.0i +0.5+0.0i \n"
     ]
    }
   ],
   "source": [
    "utilities.printonscreennp(MI)"
   ]
  },
  {
   "cell_type": "code",
   "execution_count": 18,
   "metadata": {},
   "outputs": [
    {
     "data": {
      "text/plain": [
       "(10, 10)"
      ]
     },
     "execution_count": 18,
     "metadata": {},
     "output_type": "execute_result"
    }
   ],
   "source": [
    "M.shape"
   ]
  },
  {
   "cell_type": "code",
   "execution_count": 19,
   "metadata": {},
   "outputs": [
    {
     "data": {
      "text/plain": [
       "(10, 10)"
      ]
     },
     "execution_count": 19,
     "metadata": {},
     "output_type": "execute_result"
    }
   ],
   "source": [
    "MI.shape"
   ]
  },
  {
   "cell_type": "markdown",
   "metadata": {},
   "source": [
    "$${\\bf M}{\\bf M_I}={\\bf 1}_N$$"
   ]
  },
  {
   "cell_type": "code",
   "execution_count": 20,
   "metadata": {},
   "outputs": [
    {
     "name": "stdout",
     "output_type": "stream",
     "text": [
      "+1.0+0.0i -0.0+0.0i +0.0+0.0i -0.0+0.0i -0.0+0.0i -0.0+0.0i +0.0+0.0i +0.0+0.0i +0.0+0.0i +0.0+0.0i \n",
      "-0.0+0.0i +1.0+0.0i +0.0+0.0i +0.0+0.0i +0.0+0.0i -0.0+0.0i -0.0+0.0i +0.0+0.0i -0.0+0.0i +0.0+0.0i \n",
      "+0.0+0.0i +0.0+0.0i +1.0+0.0i -0.0+0.0i +0.0+0.0i +0.0+0.0i +0.0+0.0i -0.0+0.0i -0.0+0.0i -0.0+0.0i \n",
      "-0.0+0.0i +0.0+0.0i -0.0+0.0i +1.0+0.0i -0.0+0.0i +0.0+0.0i +0.0+0.0i +0.0+0.0i +0.0+0.0i -0.0+0.0i \n",
      "-0.0+0.0i +0.0+0.0i +0.0+0.0i -0.0+0.0i +1.0+0.0i +0.0+0.0i -0.0+0.0i +0.0+0.0i -0.0+0.0i -0.0+0.0i \n",
      "-0.0+0.0i -0.0+0.0i +0.0+0.0i +0.0+0.0i +0.0+0.0i +1.0+0.0i -0.0+0.0i -0.0+0.0i +0.0+0.0i -0.0+0.0i \n",
      "+0.0+0.0i -0.0+0.0i +0.0+0.0i +0.0+0.0i -0.0+0.0i -0.0+0.0i +1.0+0.0i -0.0+0.0i +0.0+0.0i +0.0+0.0i \n",
      "+0.0+0.0i +0.0+0.0i -0.0+0.0i +0.0+0.0i +0.0+0.0i -0.0+0.0i -0.0+0.0i +1.0+0.0i -0.0+0.0i +0.0+0.0i \n",
      "+0.0+0.0i -0.0+0.0i -0.0+0.0i +0.0+0.0i -0.0+0.0i +0.0+0.0i +0.0+0.0i -0.0+0.0i +1.0+0.0i +0.0+0.0i \n",
      "+0.0+0.0i +0.0+0.0i -0.0+0.0i -0.0+0.0i -0.0+0.0i -0.0+0.0i +0.0+0.0i +0.0+0.0i +0.0+0.0i +1.0+0.0i \n"
     ]
    }
   ],
   "source": [
    "utilities.printonscreennp(np.matmul(M,MI))"
   ]
  },
  {
   "cell_type": "markdown",
   "metadata": {},
   "source": [
    "$${\\bf M}{\\bf J}{\\bf M}^\\top={\\bf J}$$"
   ]
  },
  {
   "cell_type": "code",
   "execution_count": 21,
   "metadata": {},
   "outputs": [
    {
     "name": "stdout",
     "output_type": "stream",
     "text": [
      "+0.0+0.0i +1.0+0.0i +0.0+0.0i +0.0+0.0i +0.0+0.0i -0.0+0.0i -0.0+0.0i +0.0+0.0i -0.0+0.0i +0.0+0.0i \n",
      "-1.0+0.0i -0.0+0.0i -0.0+0.0i +0.0+0.0i +0.0+0.0i +0.0+0.0i -0.0+0.0i -0.0+0.0i -0.0+0.0i -0.0+0.0i \n",
      "-0.0+0.0i +0.0+0.0i +0.0+0.0i +1.0+0.0i -0.0+0.0i +0.0+0.0i +0.0+0.0i +0.0+0.0i +0.0+0.0i -0.0+0.0i \n",
      "-0.0+0.0i -0.0+0.0i -1.0+0.0i -0.0+0.0i -0.0+0.0i -0.0+0.0i -0.0+0.0i +0.0+0.0i +0.0+0.0i +0.0+0.0i \n",
      "-0.0+0.0i -0.0+0.0i +0.0+0.0i +0.0+0.0i -0.0+0.0i +1.0+0.0i -0.0+0.0i -0.0+0.0i +0.0+0.0i -0.0+0.0i \n",
      "+0.0+0.0i -0.0+0.0i -0.0+0.0i +0.0+0.0i -1.0+0.0i +0.0+0.0i +0.0+0.0i -0.0+0.0i +0.0+0.0i +0.0+0.0i \n",
      "+0.0+0.0i +0.0+0.0i -0.0+0.0i +0.0+0.0i +0.0+0.0i -0.0+0.0i +0.0+0.0i +1.0+0.0i -0.0+0.0i +0.0+0.0i \n",
      "-0.0+0.0i +0.0+0.0i -0.0+0.0i -0.0+0.0i +0.0+0.0i +0.0+0.0i -1.0+0.0i -0.0+0.0i -0.0+0.0i -0.0+0.0i \n",
      "+0.0+0.0i +0.0+0.0i -0.0+0.0i -0.0+0.0i -0.0+0.0i -0.0+0.0i +0.0+0.0i +0.0+0.0i -0.0+0.0i +1.0+0.0i \n",
      "-0.0+0.0i +0.0+0.0i +0.0+0.0i -0.0+0.0i +0.0+0.0i -0.0+0.0i -0.0+0.0i +0.0+0.0i -1.0+0.0i +0.0+0.0i \n"
     ]
    }
   ],
   "source": [
    "utilities.printonscreennp(np.matmul(M, np.matmul(J,M.transpose()) ))"
   ]
  },
  {
   "cell_type": "markdown",
   "metadata": {},
   "source": [
    "## Verify the properties of the unitary matrix"
   ]
  },
  {
   "cell_type": "code",
   "execution_count": 22,
   "metadata": {},
   "outputs": [
    {
     "name": "stdout",
     "output_type": "stream",
     "text": [
      "+0.3-0.4i -0.1-0.3i -0.4-0.6i +0.1+0.1i +0.4+0.0i \n",
      "-0.2-0.4i +0.7-0.4i -0.1+0.1i -0.3-0.1i -0.2-0.0i \n",
      "+0.5-0.5i -0.3-0.2i +0.4+0.2i -0.0-0.0i -0.2-0.4i \n",
      "-0.2+0.1i +0.0-0.3i +0.1-0.2i +0.7-0.5i -0.2-0.1i \n",
      "-0.4+0.1i +0.0-0.0i +0.3-0.2i -0.3-0.1i +0.5-0.6i \n"
     ]
    }
   ],
   "source": [
    "utilities.printonscreennp(U)"
   ]
  },
  {
   "cell_type": "markdown",
   "metadata": {},
   "source": [
    "$${\\bf U}^\\dagger = ({\\bf U}^\\top)^*$$"
   ]
  },
  {
   "cell_type": "code",
   "execution_count": 23,
   "metadata": {},
   "outputs": [
    {
     "name": "stdout",
     "output_type": "stream",
     "text": [
      "+0.3+0.4i -0.2+0.4i +0.5+0.5i -0.2-0.1i -0.4-0.1i \n",
      "-0.1+0.3i +0.7+0.4i -0.3+0.2i +0.0+0.3i +0.0+0.0i \n",
      "-0.4+0.6i -0.1-0.1i +0.4-0.2i +0.1+0.2i +0.3+0.2i \n",
      "+0.1-0.1i -0.3+0.1i -0.0+0.0i +0.7+0.5i -0.3+0.1i \n",
      "+0.4-0.0i -0.2+0.0i -0.2+0.4i -0.2+0.1i +0.5+0.6i \n"
     ]
    }
   ],
   "source": [
    "Udagger =U.transpose().conjugate(); utilities.printonscreennp(Udagger)"
   ]
  },
  {
   "cell_type": "markdown",
   "metadata": {},
   "source": [
    "$${\\bf U}^\\dagger {\\bf U}={\\bf 1}_{n}$$"
   ]
  },
  {
   "cell_type": "code",
   "execution_count": 24,
   "metadata": {},
   "outputs": [
    {
     "name": "stdout",
     "output_type": "stream",
     "text": [
      "+1.0+0.0i +0.0+0.0i -0.0+0.0i -0.0-0.0i -0.0-0.0i \n",
      "+0.0-0.0i +1.0+0.0i -0.0-0.0i +0.0+0.0i +0.0+0.0i \n",
      "-0.0-0.0i -0.0+0.0i +1.0+0.0i +0.0+0.0i -0.0+0.0i \n",
      "-0.0+0.0i +0.0-0.0i +0.0-0.0i +1.0+0.0i -0.0-0.0i \n",
      "-0.0+0.0i +0.0-0.0i -0.0+0.0i -0.0+0.0i +1.0+0.0i \n"
     ]
    }
   ],
   "source": [
    "utilities.printonscreennp(np.matmul(Udagger,U))"
   ]
  },
  {
   "cell_type": "markdown",
   "metadata": {},
   "source": [
    "$${\\bf U}_R=\\Re{\\bf U}$$"
   ]
  },
  {
   "cell_type": "code",
   "execution_count": 25,
   "metadata": {},
   "outputs": [
    {
     "name": "stdout",
     "output_type": "stream",
     "text": [
      "+0.3+0.0i -0.1+0.0i -0.4+0.0i +0.1+0.0i +0.4+0.0i \n",
      "-0.2+0.0i +0.7+0.0i -0.1+0.0i -0.3+0.0i -0.2+0.0i \n",
      "+0.5+0.0i -0.3+0.0i +0.4+0.0i -0.0+0.0i -0.2+0.0i \n",
      "-0.2+0.0i +0.0+0.0i +0.1+0.0i +0.7+0.0i -0.2+0.0i \n",
      "-0.4+0.0i +0.0+0.0i +0.3+0.0i -0.3+0.0i +0.5+0.0i \n"
     ]
    }
   ],
   "source": [
    "UR = np.real(U); utilities.printonscreennp(UR)"
   ]
  },
  {
   "cell_type": "markdown",
   "metadata": {},
   "source": [
    "$${\\bf U}_I=\\Im {\\bf U}$$"
   ]
  },
  {
   "cell_type": "code",
   "execution_count": 26,
   "metadata": {},
   "outputs": [
    {
     "name": "stdout",
     "output_type": "stream",
     "text": [
      "-0.4+0.0i -0.3+0.0i -0.6+0.0i +0.1+0.0i +0.0+0.0i \n",
      "-0.4+0.0i -0.4+0.0i +0.1+0.0i -0.1+0.0i -0.0+0.0i \n",
      "-0.5+0.0i -0.2+0.0i +0.2+0.0i -0.0+0.0i -0.4+0.0i \n",
      "+0.1+0.0i -0.3+0.0i -0.2+0.0i -0.5+0.0i -0.1+0.0i \n",
      "+0.1+0.0i -0.0+0.0i -0.2+0.0i -0.1+0.0i -0.6+0.0i \n"
     ]
    }
   ],
   "source": [
    "UI = np.imag(U); utilities.printonscreennp(UI)"
   ]
  },
  {
   "cell_type": "markdown",
   "metadata": {},
   "source": [
    "$${\\bf U}_R {\\bf U}_R^\\top+{\\bf U}_I{\\bf U}_I^\\top={\\bf 1}_{n}$$"
   ]
  },
  {
   "cell_type": "code",
   "execution_count": 27,
   "metadata": {},
   "outputs": [
    {
     "name": "stdout",
     "output_type": "stream",
     "text": [
      "+1.0+0.0i +0.0+0.0i -0.0+0.0i +0.0+0.0i +0.0+0.0i \n",
      "+0.0+0.0i +1.0+0.0i +0.0+0.0i -0.0+0.0i -0.0+0.0i \n",
      "-0.0+0.0i +0.0+0.0i +1.0+0.0i -0.0+0.0i -0.0+0.0i \n",
      "+0.0+0.0i -0.0+0.0i -0.0+0.0i +1.0+0.0i +0.0+0.0i \n",
      "+0.0+0.0i -0.0+0.0i -0.0+0.0i +0.0+0.0i +1.0+0.0i \n"
     ]
    }
   ],
   "source": [
    "utilities.printonscreennp(np.matmul(UR,UR.transpose())+np.matmul(UI,UI.transpose()))"
   ]
  },
  {
   "cell_type": "markdown",
   "metadata": {},
   "source": [
    "$${\\bf U}_R {\\bf U}_I^\\top-{\\bf U}_I{\\bf U}_R^\\top={\\bf 0}_{n}$$"
   ]
  },
  {
   "cell_type": "code",
   "execution_count": 28,
   "metadata": {},
   "outputs": [
    {
     "name": "stdout",
     "output_type": "stream",
     "text": [
      "+0.0+0.0i -0.0+0.0i -0.0+0.0i +0.0+0.0i +0.0+0.0i \n",
      "+0.0+0.0i +0.0+0.0i +0.0+0.0i -0.0+0.0i -0.0+0.0i \n",
      "+0.0+0.0i -0.0+0.0i +0.0+0.0i +0.0+0.0i -0.0+0.0i \n",
      "-0.0+0.0i +0.0+0.0i -0.0+0.0i +0.0+0.0i +0.0+0.0i \n",
      "-0.0+0.0i +0.0+0.0i +0.0+0.0i -0.0+0.0i +0.0+0.0i \n"
     ]
    }
   ],
   "source": [
    "utilities.printonscreennp(np.matmul(UR,UI.transpose())-np.matmul(UI,UR.transpose()))"
   ]
  }
 ],
 "metadata": {
  "kernelspec": {
   "display_name": "Python 3 (ipykernel)",
   "language": "python",
   "name": "python3"
  },
  "language_info": {
   "codemirror_mode": {
    "name": "ipython",
    "version": 3
   },
   "file_extension": ".py",
   "mimetype": "text/x-python",
   "name": "python",
   "nbconvert_exporter": "python",
   "pygments_lexer": "ipython3",
   "version": "3.8.13"
  }
 },
 "nbformat": 4,
 "nbformat_minor": 4
}
