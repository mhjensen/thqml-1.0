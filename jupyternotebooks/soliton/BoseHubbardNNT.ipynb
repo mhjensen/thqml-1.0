{
 "cells": [
  {
   "cell_type": "markdown",
   "metadata": {},
   "source": [
    "# Discrete solitons in Bose Hubbard model with nearest neighbors\n",
    "\n",
    "We use a variational ansatz via pullback in the representation\n",
    "of the characteristic function in the quantum phase space\n",
    "\n",
    "The file contains also some code for saving and retrieving\n",
    "\n",
    "\n",
    "<img src=\"../logo_circular.png\" width=\"20\" height=\"20\" />@by claudio<br>\n",
    "<br>nonlinearxwaves@gmail.com<br>\n",
    "@created 3 may 2021<br>\n",
    "@version 28 march 2023"
   ]
  },
  {
   "cell_type": "markdown",
   "metadata": {},
   "source": [
    "## Disable GPU"
   ]
  },
  {
   "cell_type": "code",
   "execution_count": 1,
   "metadata": {},
   "outputs": [],
   "source": [
    "import os"
   ]
  },
  {
   "cell_type": "code",
   "execution_count": 2,
   "metadata": {},
   "outputs": [],
   "source": [
    "DisableGPU=True\n",
    "if DisableGPU:\n",
    "    try:\n",
    "        # Disable all GPUS        \n",
    "        os.environ[\"CUDA_VISIBLE_DEVICES\"] = \"-1\"\n",
    "        #tf.config.set_visible_devices([], 'GPU')\n",
    "        #visible_devices = tf.config.get_visible_devices()\n",
    "        #for device in visible_devices:\n",
    "        #    assert device.device_type != 'GPU'\n",
    "    except:\n",
    "        # Invalid device or cannot modify virtual devices once initialized.\n",
    "        pass\n",
    "else:\n",
    "    print(\"Nothing to be done\")"
   ]
  },
  {
   "cell_type": "markdown",
   "metadata": {},
   "source": [
    "## Import and setup"
   ]
  },
  {
   "cell_type": "code",
   "execution_count": 3,
   "metadata": {},
   "outputs": [
    {
     "name": "stderr",
     "output_type": "stream",
     "text": [
      "2023-03-29 07:50:34.118041: W tensorflow/stream_executor/platform/default/dso_loader.cc:64] Could not load dynamic library 'libcudart.so.11.0'; dlerror: libcudart.so.11.0: cannot open shared object file: No such file or directory\n",
      "2023-03-29 07:50:34.118109: I tensorflow/stream_executor/cuda/cudart_stub.cc:29] Ignore above cudart dlerror if you do not have a GPU set up on your machine.\n",
      "2023-03-29 07:50:37.397027: W tensorflow/stream_executor/platform/default/dso_loader.cc:64] Could not load dynamic library 'libcuda.so.1'; dlerror: libcuda.so.1: cannot open shared object file: No such file or directory\n",
      "2023-03-29 07:50:37.397045: W tensorflow/stream_executor/cuda/cuda_driver.cc:269] failed call to cuInit: UNKNOWN ERROR (303)\n",
      "2023-03-29 07:50:37.397062: I tensorflow/stream_executor/cuda/cuda_diagnostics.cc:156] kernel driver does not appear to be running on this host (x1): /proc/driver/nvidia/version does not exist\n",
      "2023-03-29 07:50:37.397765: I tensorflow/core/platform/cpu_feature_guard.cc:151] This TensorFlow binary is optimized with oneAPI Deep Neural Network Library (oneDNN) to use the following CPU instructions in performance-critical operations:  AVX2 FMA\n",
      "To enable them in other operations, rebuild TensorFlow with the appropriate compiler flags.\n"
     ]
    }
   ],
   "source": [
    "import sys\n",
    "import numpy as np\n",
    "import tensorflow as tf\n",
    "import matplotlib.pyplot as plt\n",
    "from thqml import phasespace as qx\n",
    "from thqml import quantumsolitons as qs\n",
    "import random"
   ]
  },
  {
   "cell_type": "markdown",
   "metadata": {},
   "source": [
    "#### Default precision (tr_real and np_real as tf.float32 np.float32 or tf.float64 np.floatt)"
   ]
  },
  {
   "cell_type": "code",
   "execution_count": 4,
   "metadata": {},
   "outputs": [],
   "source": [
    "tf_real = tf.float32\n",
    "np_real = np.float32"
   ]
  },
  {
   "cell_type": "code",
   "execution_count": 5,
   "metadata": {},
   "outputs": [],
   "source": [
    "np.set_printoptions(precision=4)"
   ]
  },
  {
   "cell_type": "markdown",
   "metadata": {},
   "source": [
    "#### Check GPU"
   ]
  },
  {
   "cell_type": "code",
   "execution_count": 6,
   "metadata": {},
   "outputs": [
    {
     "name": "stdout",
     "output_type": "stream",
     "text": [
      "Num GPUs Available:  0\n"
     ]
    }
   ],
   "source": [
    "print(\"Num GPUs Available: \", len(tf.config.experimental.list_physical_devices('GPU')))"
   ]
  },
  {
   "cell_type": "markdown",
   "metadata": {},
   "source": [
    "# Parameters"
   ]
  },
  {
   "cell_type": "code",
   "execution_count": 7,
   "metadata": {},
   "outputs": [],
   "source": [
    "max_number_epochs=1000"
   ]
  },
  {
   "cell_type": "code",
   "execution_count": 8,
   "metadata": {},
   "outputs": [],
   "source": [
    "period_display_epoch=max_number_epochs//10"
   ]
  },
  {
   "cell_type": "code",
   "execution_count": 9,
   "metadata": {},
   "outputs": [],
   "source": [
    "period_checkpoint_epoch=period_display_epoch"
   ]
  },
  {
   "cell_type": "code",
   "execution_count": 14,
   "metadata": {},
   "outputs": [],
   "source": [
    "BosonSampling=False # if true perform the boson sampling"
   ]
  },
  {
   "cell_type": "code",
   "execution_count": 15,
   "metadata": {},
   "outputs": [],
   "source": [
    "CenterSolution=False # if true center the maximum of bosons"
   ]
  },
  {
   "cell_type": "markdown",
   "metadata": {},
   "source": [
    "## Target total number of bosons"
   ]
  },
  {
   "cell_type": "code",
   "execution_count": 16,
   "metadata": {},
   "outputs": [],
   "source": [
    "Ntarget=10"
   ]
  },
  {
   "cell_type": "markdown",
   "metadata": {},
   "source": [
    "## Dimension"
   ]
  },
  {
   "cell_type": "code",
   "execution_count": 17,
   "metadata": {},
   "outputs": [],
   "source": [
    "N=34"
   ]
  },
  {
   "cell_type": "markdown",
   "metadata": {},
   "source": [
    "### Number of modes"
   ]
  },
  {
   "cell_type": "code",
   "execution_count": 18,
   "metadata": {},
   "outputs": [
    {
     "name": "stdout",
     "output_type": "stream",
     "text": [
      "8\n"
     ]
    }
   ],
   "source": [
    "n=int(N/2)\n",
    "ncenter=int(n/2)\n",
    "print(ncenter)"
   ]
  },
  {
   "cell_type": "markdown",
   "metadata": {},
   "source": [
    "## Value for potential (this also named gamma)"
   ]
  },
  {
   "cell_type": "code",
   "execution_count": 19,
   "metadata": {},
   "outputs": [],
   "source": [
    "chi=-1"
   ]
  },
  {
   "cell_type": "markdown",
   "metadata": {},
   "source": [
    "# Init the quantum soliton python module"
   ]
  },
  {
   "cell_type": "code",
   "execution_count": 20,
   "metadata": {},
   "outputs": [
    {
     "name": "stdout",
     "output_type": "stream",
     "text": [
      "Setting Bose-Hubbard model L=n (non periodical)\n"
     ]
    }
   ],
   "source": [
    "# bose hubbard model has L=n and U=chi\n",
    "qs.init({\"n\":n,\"dtype\":tf_real,\"chi\":chi,\"L\":n,\"model\":\"nnt\"})\n",
    "# Remark\n",
    "# in the code chi is scaled with n/L in the potential energy\n",
    "# thus setting L=n avoid this scaling (useful for other applications)"
   ]
  },
  {
   "cell_type": "markdown",
   "metadata": {},
   "source": [
    "## Check omega"
   ]
  },
  {
   "cell_type": "code",
   "execution_count": 21,
   "metadata": {},
   "outputs": [
    {
     "name": "stdout",
     "output_type": "stream",
     "text": [
      "[[ 0. -1.  0.  0.  0.  0.  0.  0.  0.  0.  0.  0.  0.  0.  0.  0.  0.]\n",
      " [-1.  0. -1.  0.  0.  0.  0.  0.  0.  0.  0.  0.  0.  0.  0.  0.  0.]\n",
      " [ 0. -1.  0. -1.  0.  0.  0.  0.  0.  0.  0.  0.  0.  0.  0.  0.  0.]\n",
      " [ 0.  0. -1.  0. -1.  0.  0.  0.  0.  0.  0.  0.  0.  0.  0.  0.  0.]\n",
      " [ 0.  0.  0. -1.  0. -1.  0.  0.  0.  0.  0.  0.  0.  0.  0.  0.  0.]\n",
      " [ 0.  0.  0.  0. -1.  0. -1.  0.  0.  0.  0.  0.  0.  0.  0.  0.  0.]\n",
      " [ 0.  0.  0.  0.  0. -1.  0. -1.  0.  0.  0.  0.  0.  0.  0.  0.  0.]\n",
      " [ 0.  0.  0.  0.  0.  0. -1.  0. -1.  0.  0.  0.  0.  0.  0.  0.  0.]\n",
      " [ 0.  0.  0.  0.  0.  0.  0. -1.  0. -1.  0.  0.  0.  0.  0.  0.  0.]\n",
      " [ 0.  0.  0.  0.  0.  0.  0.  0. -1.  0. -1.  0.  0.  0.  0.  0.  0.]\n",
      " [ 0.  0.  0.  0.  0.  0.  0.  0.  0. -1.  0. -1.  0.  0.  0.  0.  0.]\n",
      " [ 0.  0.  0.  0.  0.  0.  0.  0.  0.  0. -1.  0. -1.  0.  0.  0.  0.]\n",
      " [ 0.  0.  0.  0.  0.  0.  0.  0.  0.  0.  0. -1.  0. -1.  0.  0.  0.]\n",
      " [ 0.  0.  0.  0.  0.  0.  0.  0.  0.  0.  0.  0. -1.  0. -1.  0.  0.]\n",
      " [ 0.  0.  0.  0.  0.  0.  0.  0.  0.  0.  0.  0.  0. -1.  0. -1.  0.]\n",
      " [ 0.  0.  0.  0.  0.  0.  0.  0.  0.  0.  0.  0.  0.  0. -1.  0. -1.]\n",
      " [ 0.  0.  0.  0.  0.  0.  0.  0.  0.  0.  0.  0.  0.  0.  0. -1.  0.]]\n"
     ]
    }
   ],
   "source": [
    "print(qs.OMEGAR.numpy())"
   ]
  },
  {
   "cell_type": "markdown",
   "metadata": {},
   "source": [
    "## Save filename"
   ]
  },
  {
   "cell_type": "code",
   "execution_count": 22,
   "metadata": {},
   "outputs": [],
   "source": [
    "claudio_arrays_file='./dataBH_N'+repr(N)+'Ntarget'+repr(Ntarget)+'U'+repr(qs.chi)+'/claudioarrays'\n",
    "claudio_weights_file='./dataBH_N'+repr(N)+'Ntarget'+repr(Ntarget)+'U'+repr(qs.chi)+'/claudiomodel'"
   ]
  },
  {
   "cell_type": "code",
   "execution_count": 23,
   "metadata": {},
   "outputs": [
    {
     "name": "stdout",
     "output_type": "stream",
     "text": [
      "./dataBH_N34Ntarget10U-1/claudioarrays\n",
      "./dataBH_N34Ntarget10U-1/claudiomodel\n"
     ]
    }
   ],
   "source": [
    "print(claudio_arrays_file)\n",
    "print(claudio_weights_file)"
   ]
  },
  {
   "cell_type": "markdown",
   "metadata": {},
   "source": [
    "## Dummy training points"
   ]
  },
  {
   "cell_type": "code",
   "execution_count": 24,
   "metadata": {},
   "outputs": [],
   "source": [
    "Nbatch=1\n",
    "beta_np=1\n",
    "xtrain = np.random.rand(Nbatch, N)-0.5\n",
    "ytrain=np.zeros([Nbatch,2])\n",
    "for i1 in range(Nbatch):\n",
    "    ytrain[i1]=0"
   ]
  },
  {
   "cell_type": "markdown",
   "metadata": {},
   "source": [
    "## Create model"
   ]
  },
  {
   "cell_type": "markdown",
   "metadata": {},
   "source": [
    "First define the vacuum layer"
   ]
  },
  {
   "cell_type": "code",
   "execution_count": 25,
   "metadata": {},
   "outputs": [],
   "source": [
    "vacuum = qx.VacuumLayer(N,dtype=tf_real, name=\"Vacuum\")"
   ]
  },
  {
   "cell_type": "markdown",
   "metadata": {},
   "source": [
    "Then a trainable displacer"
   ]
  },
  {
   "cell_type": "code",
   "execution_count": 26,
   "metadata": {},
   "outputs": [],
   "source": [
    "dtarget=0.1*np.ones([N,1],dtype=np_real)\n",
    "D=qx.TrainableDisplacementLayer(dtarget,dtype=tf_real,name=\"Displacement\")"
   ]
  },
  {
   "cell_type": "markdown",
   "metadata": {},
   "source": [
    "We also need a series of layers for observable quantities\n",
    "When needed these layers are Lambda layers obtained from functions"
   ]
  },
  {
   "cell_type": "code",
   "execution_count": 27,
   "metadata": {},
   "outputs": [],
   "source": [
    "# covariance\n",
    "CovL=qx.CovarianceLayer(N, name=\"covariance\",dtype=tf_real)\n",
    "# kinetic energy\n",
    "KinL=tf.keras.layers.Lambda(qs.kinetic_energy, name=\"K\",dtype=tf_real)\n",
    "# boson numbers\n",
    "BL=tf.keras.layers.Lambda(qs.gaussian_boson_numbers, name=\"Bosons\",dtype=tf_real)\n",
    "# total particle number\n",
    "NL=tf.keras.layers.Lambda(tf.reduce_sum, dtype=tf_real,name=\"N\")\n",
    "# potential energy\n",
    "VL=tf.keras.layers.Lambda(qs.potential_energy, dtype=tf_real,name=\"V\")\n",
    "# total hamiltonian\n",
    "HL=tf.keras.layers.Lambda(qs.total_energy, dtype=tf_real,name=\"H\")"
   ]
  },
  {
   "cell_type": "markdown",
   "metadata": {},
   "source": [
    "Create the model for the ansatz state \n",
    "by cascading in reverse order\n",
    "the vacuum, the squeezers, the displacer, the random interferomenter, and an input layer"
   ]
  },
  {
   "cell_type": "code",
   "execution_count": 28,
   "metadata": {},
   "outputs": [],
   "source": [
    "# Create the boson sampling layer\n",
    "xin = tf.keras.layers.Input(N, dtype=tf_real, name=\"Input\")\n",
    "x1 = xin\n",
    "a1 = None\n",
    "x1, a1=qx.RandomLayer(N,dtype=tf_real,name=\"R\")(x1,a1)\n",
    "x1, a1 = D(x1,a1)\n",
    "for ij in range(n):\n",
    "        r_np=0.1*np.random.rand(1)\n",
    "        n_squeeze=ij\n",
    "        theta_np=2.0*np.pi*np.random.rand(1)\n",
    "        x1, a1 = qx.SingleModeSqueezerLayer(N, r_np=r_np, \n",
    "                                   theta_np=theta_np, n_squeezed=n_squeeze, trainable=True, \n",
    "                                   dtype=tf_real, name=\"S\"+repr(ij))(x1,a1)    \n",
    "chir, chii = vacuum(x1, a1)\n",
    "# create the model with input and output\n",
    "PSImodel = tf.keras.Model(inputs = xin, outputs=[chir, chii])    "
   ]
  },
  {
   "cell_type": "markdown",
   "metadata": {},
   "source": [
    "Connect the model to the measurment layer"
   ]
  },
  {
   "cell_type": "code",
   "execution_count": 29,
   "metadata": {},
   "outputs": [],
   "source": [
    "# connect the model to the covariance\n",
    "cov, d, hessian = CovL(chir,chii, PSImodel)\n",
    "# connect for kinetic energy\n",
    "Ktotal=KinL([cov,d]) \n",
    "# boson numbers and squared boson number\n",
    "[nboson,nboson2]=BL([cov,d,hessian])\n",
    "# total number of particles\n",
    "Ntotal=NL(nboson)   \n",
    "# total potential energy\n",
    "Vtotal=VL([nboson,nboson2])\n",
    "# total hamiltonian\n",
    "Htotal=HL([Ktotal, Vtotal])\n",
    "# total particle\n",
    "Ntarget_tf=tf.constant(Ntarget,dtype=tf_real)\n",
    "# eigenvalues of covariance matrix\n",
    "e, v = tf.linalg.eig(cov)\n",
    "# define the cost function\n",
    "expL=tf.exp(Htotal/n)\n",
    "Ncenter_tf=tf.gather_nd(nboson,[[0,ncenter]])[0]\n",
    "expNcenter=tf.exp(-Ncenter_tf)"
   ]
  },
  {
   "cell_type": "markdown",
   "metadata": {},
   "source": [
    "## Callbacks"
   ]
  },
  {
   "cell_type": "code",
   "execution_count": 30,
   "metadata": {},
   "outputs": [],
   "source": [
    "# checkpoint function\n",
    "def savecheckpoint(num_epochs):\n",
    "    model.save_weights(claudio_weights_file+'_cp_'+repr(num_epochs))\n",
    "    np.savez(claudio_arrays_file+'_cp_'+repr(num_epochs),history_H=history_H,history_N=history_N,\n",
    "             #history_beta=history_beta,\n",
    "             history_eig=history_eig,history_negativity=history_negativity,nbosonout=nbosonout[0].numpy())\n",
    "    print('Made checkpoint at epoch '+repr(num_epochs))"
   ]
  },
  {
   "cell_type": "code",
   "execution_count": 31,
   "metadata": {},
   "outputs": [],
   "source": [
    "eig_model = tf.keras.Model(inputs = xin, outputs=e)    # print model\n",
    "cov_model = tf.keras.Model(inputs = xin, outputs=cov)    # for covariance matrix\n",
    "history_eig=[]\n",
    "history_H=[]\n",
    "history_N=[]\n",
    "#history_beta=[]\n",
    "history_negativity=[]\n",
    "# mask for negativity (entropy)\n",
    "nmask=np.zeros(n)\n",
    "nmask[ncenter]=1\n",
    "# custom callback\n",
    "class CustomCallback(tf.keras.callbacks.Callback):\n",
    "\n",
    "    def on_epoch_end(self, epoch, logs=None):\n",
    "        logs = logs or {}\n",
    "        global history_eig\n",
    "        #keys = list(logs.keys())\n",
    "        eigs=eig_model(xtrain)\n",
    "        history_eig.append(eigs.numpy()[-1])\n",
    "        history_H.append(logs.get(\"H\"))\n",
    "        history_N.append(logs.get(\"N\"))\n",
    "        # history_beta.append(LL.get_weights()[0])\n",
    "        Enegativity, _, _, _,_ =qs.logarithmic_negativity(cov_model(xtrain).numpy(),nmask)\n",
    "        history_negativity.append(Enegativity)\n",
    "        \n",
    "        # display training info\n",
    "        if np.mod(epoch, period_display_epoch)==0:\n",
    "            print(\"Epoch \"+repr(epoch)+\n",
    "                  \" of \"+repr(max_number_epochs)+\n",
    "                 \" time \"+repr(np.datetime64('now'))+\n",
    "                  \" H=\"+repr(np.around(logs.get(\"H\"),decimals=3))+\n",
    "                  \" N=\"+repr(np.around(logs.get(\"N\"),decimals=3)))\n",
    "            \n",
    "        # checkpoint at absolute value of the number of epochs\n",
    "        if np.mod(epoch, period_checkpoint_epoch)==0:\n",
    "            savecheckpoint(len(history_N)-1)"
   ]
  },
  {
   "cell_type": "markdown",
   "metadata": {},
   "source": [
    "## Losses and metrics"
   ]
  },
  {
   "cell_type": "code",
   "execution_count": 28,
   "metadata": {},
   "outputs": [],
   "source": [
    "model = tf.keras.Model(inputs = xin, outputs=expL)    # print model\n",
    "model.add_loss(tf.reduce_mean(tf.square(Ntotal-Ntarget_tf)))\n",
    "model.add_loss(expL)\n",
    "if CenterSolution:\n",
    "    model.add_loss(expNcenter)\n",
    "model.add_metric(tf.reduce_mean(tf.square(Ntotal-Ntarget_tf)),name=\"Dn\",aggregation=\"mean\")\n",
    "model.add_metric(expL,name=\"expF\",aggregation=\"mean\")\n",
    "model.add_metric(Htotal,name=\"H\",aggregation=\"mean\")\n",
    "model.add_metric(Ntotal,name=\"N\",aggregation=\"mean\")\n",
    "model.compile(optimizer='adam')"
   ]
  },
  {
   "cell_type": "markdown",
   "metadata": {},
   "source": [
    "## Load saved"
   ]
  },
  {
   "cell_type": "code",
   "execution_count": 29,
   "metadata": {},
   "outputs": [],
   "source": [
    "# load data\n",
    "load_data=False\n",
    "if load_data:\n",
    "    try:\n",
    "        model.load_weights(claudio_weights_file)\n",
    "        data_arrays=np.load(claudio_arrays_file+'.npz')\n",
    "        data_arrays.files\n",
    "        history_H=data_arrays['history_H'].tolist()\n",
    "        history_N=data_arrays['history_N'].tolist()\n",
    "        history_beta=data_arrays['history_beta'].tolist()\n",
    "        history_eig=data_arrays['history_eig'].tolist()\n",
    "        history_negativity=data_arrays['history_negativity'].tolist()\n",
    "        print(\"Loaded data\")\n",
    "        plt.figure(1)\n",
    "        plt.plot(history_H)\n",
    "        plt.title('H')\n",
    "        plt.figure(2)\n",
    "        plt.plot(history_N)\n",
    "        plt.title('N')\n",
    "        plt.title('beta')\n",
    "        plt.figure(4)\n",
    "        plt.plot(np.real(history_eig))\n",
    "        plt.title('eig')\n",
    "        plt.figure(5)\n",
    "        plt.plot(np.real(history_negativity))\n",
    "        plt.title('negativity')\n",
    "    except: \n",
    "        print(\"No stored data found\")"
   ]
  },
  {
   "cell_type": "markdown",
   "metadata": {},
   "source": [
    "## Test"
   ]
  },
  {
   "cell_type": "code",
   "execution_count": 30,
   "metadata": {},
   "outputs": [
    {
     "name": "stdout",
     "output_type": "stream",
     "text": [
      "tf.Tensor(\n",
      "[[0.0165 0.015  0.0131 0.0167 0.0109 0.0136 0.016  0.0088 0.014  0.0144\n",
      "  0.016  0.0153 0.0124 0.0088 0.0161 0.0159 0.0087]], shape=(1, 17), dtype=float32)\n",
      "tf.Tensor(0.2321983, shape=(), dtype=float32)\n",
      "H=-0.31715152\n",
      "K=-0.31321603\n",
      "V=-0.003935486\n",
      "N=0.2321983\n"
     ]
    },
    {
     "data": {
      "text/plain": [
       "<StemContainer object of 3 artists>"
      ]
     },
     "execution_count": 30,
     "metadata": {},
     "output_type": "execute_result"
    },
    {
     "data": {
      "image/png": "[encoded data removed]",
      "text/plain": [
       "<Figure size 432x288 with 1 Axes>"
      ]
     },
     "metadata": {
      "needs_background": "light"
     },
     "output_type": "display_data"
    }
   ],
   "source": [
    "# display obserbables\n",
    "Bmodel = tf.keras.Model(inputs = xin, outputs=[nboson,Htotal,Vtotal, Ktotal, Ntotal,d])    # print model\n",
    "nbosonout, Hout, Vout, Kout, Nout,dout=Bmodel(xtrain) \n",
    "print(nbosonout)\n",
    "print(tf.math.reduce_sum(nbosonout))\n",
    "print(\"H=\"+repr(Hout.numpy()))\n",
    "print(\"K=\"+repr(Kout.numpy()))\n",
    "print(\"V=\"+repr(Vout.numpy()))\n",
    "print(\"N=\"+repr(Nout.numpy()))\n",
    "plt.stem(nbosonout[0].numpy())"
   ]
  },
  {
   "cell_type": "markdown",
   "metadata": {},
   "source": [
    "# Save initial model"
   ]
  },
  {
   "cell_type": "code",
   "execution_count": 31,
   "metadata": {},
   "outputs": [
    {
     "data": {
      "text/plain": [
       "0"
      ]
     },
     "execution_count": 31,
     "metadata": {},
     "output_type": "execute_result"
    }
   ],
   "source": [
    "len(history_H)"
   ]
  },
  {
   "cell_type": "code",
   "execution_count": 32,
   "metadata": {},
   "outputs": [],
   "source": [
    "# save model and arrays with initial stamp (only save if length of history_H is small)\n",
    "if len(history_H)==0:\n",
    "    model.save_weights(claudio_weights_file+'_initial')\n",
    "    np.savez(claudio_arrays_file+'_initial',history_H=history_H,history_N=history_N,\n",
    "             history_eig=history_eig,history_negativity=history_negativity,nbosonout=nbosonout[0].numpy())"
   ]
  },
  {
   "cell_type": "markdown",
   "metadata": {},
   "source": [
    "## Train"
   ]
  },
  {
   "cell_type": "code",
   "execution_count": 33,
   "metadata": {},
   "outputs": [
    {
     "name": "stdout",
     "output_type": "stream",
     "text": [
      "Model trainable weights 646\n"
     ]
    }
   ],
   "source": [
    "total_trainable_parameters=np.sum([np.prod(v.get_shape().as_list()) for v in model.trainable_variables])\n",
    "print(\"Model trainable weights \"+repr(total_trainable_parameters))"
   ]
  },
  {
   "cell_type": "code",
   "execution_count": 34,
   "metadata": {},
   "outputs": [
    {
     "name": "stdout",
     "output_type": "stream",
     "text": [
      "Training model ...\n",
      "Epoch 0 of 1000 time numpy.datetime64('2023-03-28T07:34:32') H=-0.317 N=0.232\n",
      "Made checkpoint at epoch 0\n",
      "Epoch 100 of 1000 time numpy.datetime64('2023-03-28T07:34:38') H=-1.788 N=1.276\n",
      "Made checkpoint at epoch 100\n",
      "Epoch 200 of 1000 time numpy.datetime64('2023-03-28T07:34:44') H=-5.719 N=3.595\n",
      "Made checkpoint at epoch 200\n",
      "Epoch 300 of 1000 time numpy.datetime64('2023-03-28T07:34:50') H=-11.942 N=6.628\n",
      "Made checkpoint at epoch 300\n",
      "Epoch 400 of 1000 time numpy.datetime64('2023-03-28T07:34:56') H=-17.838 N=8.946\n",
      "Made checkpoint at epoch 400\n",
      "Epoch 500 of 1000 time numpy.datetime64('2023-03-28T07:35:02') H=-20.988 N=9.831\n",
      "Made checkpoint at epoch 500\n",
      "Epoch 600 of 1000 time numpy.datetime64('2023-03-28T07:35:09') H=-22.646 N=10.003\n",
      "Made checkpoint at epoch 600\n",
      "Epoch 700 of 1000 time numpy.datetime64('2023-03-28T07:35:15') H=-23.149 N=10.025\n",
      "Made checkpoint at epoch 700\n",
      "Epoch 800 of 1000 time numpy.datetime64('2023-03-28T07:35:22') H=-23.391 N=10.026\n",
      "Made checkpoint at epoch 800\n",
      "Epoch 900 of 1000 time numpy.datetime64('2023-03-28T07:35:28') H=-23.641 N=10.027\n",
      "Made checkpoint at epoch 900\n",
      "Initial loss 96.3914566040039\n",
      "  Final loss 0.2456384003162384\n",
      " ################################### \n",
      "1/1 [==============================] - 2s 2s/step - loss: 0.2456 - Dn: 7.0892e-04 - expF: 0.2449 - H: -23.9176 - N: 10.0266\n",
      "CPU times: user 1min 25s, sys: 1.92 s, total: 1min 27s\n",
      "Wall time: 1min 11s\n"
     ]
    }
   ],
   "source": [
    "%%time\n",
    "# train\n",
    "# timing after the first run of training that takes around a duobled time\n",
    "# N=32 100 epochs in 5.3 s in portatilegrande with noGPU\n",
    "# N=32 100 epochs in 11.7 s in portatilegrande with GPU\n",
    "# N=32 hawaii 1000 epocs 2 minuti no gpu\n",
    "# N=32 hawaii 10000 epocs 20 minuti no gpu\n",
    "# N=32 hawaii 10000 epocs 43 minuti with gpu\n",
    "\n",
    "print(\"Training model ...\")\n",
    "if max_number_epochs>0:\n",
    "    history=model.fit(xtrain,ytrain,epochs=max_number_epochs,verbose=0, callbacks=[CustomCallback()])    \n",
    "    print(\"Initial loss \"+repr(history.history['loss'][0]))\n",
    "    print(\"  Final loss \"+repr(history.history['loss'][-1]))\n",
    "    print(\" ################################### \")\n",
    "results=model.evaluate(xtrain,ytrain)"
   ]
  },
  {
   "cell_type": "code",
   "execution_count": 35,
   "metadata": {},
   "outputs": [],
   "source": [
    "# save model and arrays\n",
    "model.save_weights(claudio_weights_file)\n",
    "np.savez(claudio_arrays_file,history_H=history_H,history_N=history_N,\n",
    "         history_eig=history_eig,history_negativity=history_negativity)"
   ]
  },
  {
   "cell_type": "code",
   "execution_count": 36,
   "metadata": {},
   "outputs": [],
   "source": [
    "# save model and arrays with epoch stamp including nboson out\n",
    "if max_number_epochs>0:\n",
    "    model.save_weights(claudio_weights_file+'_'+repr(len(history_H)))\n",
    "    np.savez(claudio_arrays_file+'_'+repr(len(history_H)),history_H=history_H,history_N=history_N,\n",
    "         history_eig=history_eig,history_negativity=history_negativity,nbosonout=nbosonout[0].numpy())"
   ]
  },
  {
   "cell_type": "code",
   "execution_count": 37,
   "metadata": {},
   "outputs": [
    {
     "data": {
      "text/plain": [
       "Text(0.5, 1.0, 'negativity')"
      ]
     },
     "execution_count": 37,
     "metadata": {},
     "output_type": "execute_result"
    },
    {
     "data": {
      "image/png": "[encoded data removed]",
      "text/plain": [
       "<Figure size 432x288 with 1 Axes>"
      ]
     },
     "metadata": {
      "needs_background": "light"
     },
     "output_type": "display_data"
    },
    {
     "data": {
      "image/png": "[encoded data removed]",
      "text/plain": [
       "<Figure size 432x288 with 1 Axes>"
      ]
     },
     "metadata": {
      "needs_background": "light"
     },
     "output_type": "display_data"
    },
    {
     "data": {
      "image/png": "[encoded data removed]",
      "text/plain": [
       "<Figure size 432x288 with 1 Axes>"
      ]
     },
     "metadata": {
      "needs_background": "light"
     },
     "output_type": "display_data"
    },
    {
     "data": {
      "image/png": "[encoded data removed]",
      "text/plain": [
       "<Figure size 432x288 with 1 Axes>"
      ]
     },
     "metadata": {
      "needs_background": "light"
     },
     "output_type": "display_data"
    }
   ],
   "source": [
    "plt.figure(1)\n",
    "plt.plot(history_H)\n",
    "plt.title(\"H\")\n",
    "plt.figure(2)\n",
    "plt.plot(history_N)\n",
    "plt.title(\"N\")\n",
    "plt.figure(3)\n",
    "plt.plot(np.real(history_eig))\n",
    "plt.title(\"eig\")\n",
    "plt.figure(4)\n",
    "plt.plot(history_negativity)\n",
    "plt.title(\"negativity\")"
   ]
  },
  {
   "cell_type": "code",
   "execution_count": 38,
   "metadata": {},
   "outputs": [
    {
     "name": "stdout",
     "output_type": "stream",
     "text": [
      "tf.Tensor(\n",
      "[[0.3094 0.3081 0.3094 0.3063 0.3073 0.3078 0.3103 0.3093 0.3158 0.3092\n",
      "  0.3268 0.5697 4.5445 0.5525 0.323  0.3097 0.3075]], shape=(1, 17), dtype=float32)\n",
      "tf.Tensor(10.026626, shape=(), dtype=float32)\n",
      "H=-23.917625\n",
      "K=-4.394025\n",
      "V=-19.5236\n",
      "N=10.026626\n",
      "orderparameter=-0.19431438\n"
     ]
    },
    {
     "data": {
      "text/plain": [
       "<StemContainer object of 3 artists>"
      ]
     },
     "execution_count": 38,
     "metadata": {},
     "output_type": "execute_result"
    },
    {
     "data": {
      "image/png": "[encoded data removed]",
      "text/plain": [
       "<Figure size 432x288 with 1 Axes>"
      ]
     },
     "metadata": {
      "needs_background": "light"
     },
     "output_type": "display_data"
    },
    {
     "data": {
      "image/png": "[encoded data removed]",
      "text/plain": [
       "<Figure size 432x288 with 1 Axes>"
      ]
     },
     "metadata": {
      "needs_background": "light"
     },
     "output_type": "display_data"
    },
    {
     "data": {
      "image/png": "[encoded data removed]",
      "text/plain": [
       "<Figure size 432x288 with 1 Axes>"
      ]
     },
     "metadata": {
      "needs_background": "light"
     },
     "output_type": "display_data"
    },
    {
     "data": {
      "image/png": "[encoded data removed]",
      "text/plain": [
       "<Figure size 432x288 with 1 Axes>"
      ]
     },
     "metadata": {
      "needs_background": "light"
     },
     "output_type": "display_data"
    },
    {
     "data": {
      "image/png": "[encoded data removed]",
      "text/plain": [
       "<Figure size 432x288 with 1 Axes>"
      ]
     },
     "metadata": {
      "needs_background": "light"
     },
     "output_type": "display_data"
    }
   ],
   "source": [
    "Bmodel = tf.keras.Model(inputs = xin, outputs=[nboson,nboson2,Htotal,Vtotal, Ktotal, Ntotal, cov, d])    # print model\n",
    "nbosonout,nbosonout2, Hout, Vout, Kout, Nout,covout, dout=Bmodel(xtrain) \n",
    "print(nbosonout)\n",
    "print(tf.math.reduce_sum(nbosonout))\n",
    "print(\"H=\"+repr(Hout.numpy()))\n",
    "print(\"K=\"+repr(Kout.numpy()))\n",
    "print(\"V=\"+repr(Vout.numpy()))\n",
    "print(\"N=\"+repr(Nout.numpy()))\n",
    "print(\"orderparameter=\"+repr(np.mean(dout.numpy())))\n",
    "\n",
    "plt.figure(6)\n",
    "plt.stem(nbosonout[0])\n",
    "plt.figure(7)\n",
    "tmpr=dout[0][0::2]\n",
    "plt.plot(tmpr)\n",
    "plt.figure(8)\n",
    "tmpi=dout[0][1::2]\n",
    "plt.plot(np.angle(tmpr.numpy()+1j*tmpi.numpy()))\n",
    "plt.figure(10)\n",
    "plt.stem(nbosonout2[0])\n",
    "plt.figure(11)\n",
    "plt.stem(np.sqrt(nbosonout2[0]-nbosonout[0]**2))"
   ]
  },
  {
   "cell_type": "markdown",
   "metadata": {},
   "source": [
    "# Boson sampling the model"
   ]
  },
  {
   "cell_type": "code",
   "execution_count": 39,
   "metadata": {},
   "outputs": [
    {
     "ename": "Exception",
     "evalue": "Finished code",
     "output_type": "error",
     "traceback": [
      "\u001b[0;31m---------------------------------------------------------------------------\u001b[0m",
      "\u001b[0;31mException\u001b[0m                                 Traceback (most recent call last)",
      "Input \u001b[0;32mIn [39]\u001b[0m, in \u001b[0;36m<cell line: 1>\u001b[0;34m()\u001b[0m\n\u001b[1;32m      1\u001b[0m \u001b[38;5;28;01mif\u001b[39;00m \u001b[38;5;129;01mnot\u001b[39;00m(BosonSampling):\n\u001b[0;32m----> 2\u001b[0m     \u001b[38;5;28;01mraise\u001b[39;00m \u001b[38;5;167;01mException\u001b[39;00m(\u001b[38;5;124m\"\u001b[39m\u001b[38;5;124mFinished code\u001b[39m\u001b[38;5;124m\"\u001b[39m)\n",
      "\u001b[0;31mException\u001b[0m: Finished code"
     ]
    }
   ],
   "source": [
    "if not(BosonSampling):\n",
    "    raise Exception(\"Finished code\")"
   ]
  },
  {
   "cell_type": "markdown",
   "metadata": {},
   "source": [
    "## Make the Q-trasform of the model"
   ]
  },
  {
   "cell_type": "code",
   "execution_count": null,
   "metadata": {},
   "outputs": [],
   "source": [
    "kin, Qrho=qx.getQTransformModel(PSImodel)\n",
    "Qfun = qx.QTransform(covout,dout)"
   ]
  },
  {
   "cell_type": "code",
   "execution_count": null,
   "metadata": {},
   "outputs": [],
   "source": [
    "Qrho.summary()"
   ]
  },
  {
   "cell_type": "code",
   "execution_count": null,
   "metadata": {},
   "outputs": [],
   "source": [
    "qx.Pr([0]*n, Qfun)"
   ]
  },
  {
   "cell_type": "code",
   "execution_count": null,
   "metadata": {},
   "outputs": [],
   "source": [
    "%%time\n",
    "nphoton=1\n",
    "out=[0]*n\n",
    "for ij in range(n):\n",
    "    nsample=[0]*n\n",
    "    nsample[ij]=nphoton\n",
    "    out[ij]=qx.Pr(nsample, Qfun)\n",
    "plt.plot(out)"
   ]
  },
  {
   "cell_type": "code",
   "execution_count": null,
   "metadata": {},
   "outputs": [],
   "source": [
    "# probability of 2 photons\n",
    "%matplotlib inline\n",
    "%time\n",
    "ijcenter=ncenter\n",
    "out=np.zeros(n)\n",
    "# sul solitone 2 fotoni\n",
    "c=0\n",
    "for ij in range(n):\n",
    "    nsample=[0]*n\n",
    "    nsample[ijcenter]=1\n",
    "    if np.not_equal(ij,ijcenter):\n",
    "        nsample[ij]=1\n",
    "        print(nsample)\n",
    "        out[c]=qx.Pr(nsample, Qfun)\n",
    "        c=c+1\n",
    "#    else: #count 2 photon on the soliton peak\n",
    "#        nsample[ij]=2    \n",
    "        \n",
    "plt.stem(np.log(out))\n",
    "%time"
   ]
  },
  {
   "cell_type": "code",
   "execution_count": null,
   "metadata": {},
   "outputs": [],
   "source": [
    "%%time\n",
    "#probability of finding n photons in the soliton\n",
    "maxnphoton=Nexp\n",
    "outp=np.zeros(maxnphoton)\n",
    "for ij in range(maxnphoton):\n",
    "    nsample=[0]*n\n",
    "    nsample[ijcenter]=ij\n",
    "    print(\"Computing nphoton \"+repr(ij))\n",
    "    outp[ij]=qx.Pr(nsample, Qfun)\n",
    "plt.stem(np.log(outp))"
   ]
  },
  {
   "cell_type": "markdown",
   "metadata": {},
   "source": [
    "# PLOT MODEL"
   ]
  },
  {
   "cell_type": "code",
   "execution_count": null,
   "metadata": {},
   "outputs": [],
   "source": [
    "tf.keras.utils.plot_model(model)"
   ]
  },
  {
   "cell_type": "code",
   "execution_count": null,
   "metadata": {},
   "outputs": [],
   "source": [
    "tf.keras.utils.plot_model(Qfun)"
   ]
  },
  {
   "cell_type": "code",
   "execution_count": null,
   "metadata": {},
   "outputs": [],
   "source": [
    "M,_ =model.layers[1].get_M()"
   ]
  },
  {
   "cell_type": "code",
   "execution_count": null,
   "metadata": {},
   "outputs": [],
   "source": [
    "tf.print(M)"
   ]
  },
  {
   "cell_type": "code",
   "execution_count": null,
   "metadata": {},
   "outputs": [],
   "source": []
  }
 ],
 "metadata": {
  "kernelspec": {
   "display_name": "Python 3 (ipykernel)",
   "language": "python",
   "name": "python3"
  },
  "language_info": {
   "codemirror_mode": {
    "name": "ipython",
    "version": 3
   },
   "file_extension": ".py",
   "mimetype": "text/x-python",
   "name": "python",
   "nbconvert_exporter": "python",
   "pygments_lexer": "ipython3",
   "version": "3.8.13"
  }
 },
 "nbformat": 4,
 "nbformat_minor": 4
}
