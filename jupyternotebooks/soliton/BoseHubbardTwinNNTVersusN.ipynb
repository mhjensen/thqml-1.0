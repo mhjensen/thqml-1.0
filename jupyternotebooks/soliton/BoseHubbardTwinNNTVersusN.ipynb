{
 "cells": [
  {
   "cell_type": "markdown",
   "metadata": {},
   "source": [
    "# Discrete solitons, twin soliton, compute entanglement vs N\n",
    "\n",
    "We use a variational ansatz via pullback in the representation\n",
    "of the characteristic function in the quantum phase space\n",
    "\n",
    "\n",
    "<img src=\"../logo_circular.png\" width=\"20\" height=\"20\" />@by claudio<br>\n",
    "<br>nonlinearxwaves@gmail.com<br>\n",
    "@created 31 july 2021<br>\n",
    "@version 30 march 2023"
   ]
  },
  {
   "cell_type": "markdown",
   "metadata": {},
   "source": [
    "## Disable GPU"
   ]
  },
  {
   "cell_type": "code",
   "execution_count": 1,
   "metadata": {},
   "outputs": [],
   "source": [
    "import os\n"
   ]
  },
  {
   "cell_type": "code",
   "execution_count": 2,
   "metadata": {},
   "outputs": [],
   "source": [
    "DisableGPU=True\n",
    "if DisableGPU:\n",
    "    try:\n",
    "        # Disable all GPUS        \n",
    "        os.environ[\"CUDA_VISIBLE_DEVICES\"] = \"-1\"\n",
    "        #tf.config.set_visible_devices([], 'GPU')\n",
    "        #visible_devices = tf.config.get_visible_devices()\n",
    "        #for device in visible_devices:\n",
    "        #    assert device.device_type != 'GPU'\n",
    "    except:\n",
    "        # Invalid device or cannot modify virtual devices once initialized.\n",
    "        pass\n",
    "else:\n",
    "    print(\"Nothing to be done\")"
   ]
  },
  {
   "cell_type": "markdown",
   "metadata": {},
   "source": [
    "## Import and setup"
   ]
  },
  {
   "cell_type": "code",
   "execution_count": 4,
   "metadata": {},
   "outputs": [
    {
     "name": "stderr",
     "output_type": "stream",
     "text": [
      "2023-03-29 08:33:41.906423: W tensorflow/stream_executor/platform/default/dso_loader.cc:64] Could not load dynamic library 'libcuda.so.1'; dlerror: libcuda.so.1: cannot open shared object file: No such file or directory\n",
      "2023-03-29 08:33:41.906443: W tensorflow/stream_executor/cuda/cuda_driver.cc:269] failed call to cuInit: UNKNOWN ERROR (303)\n",
      "2023-03-29 08:33:41.906459: I tensorflow/stream_executor/cuda/cuda_diagnostics.cc:156] kernel driver does not appear to be running on this host (x1): /proc/driver/nvidia/version does not exist\n",
      "2023-03-29 08:33:41.906831: I tensorflow/core/platform/cpu_feature_guard.cc:151] This TensorFlow binary is optimized with oneAPI Deep Neural Network Library (oneDNN) to use the following CPU instructions in performance-critical operations:  AVX2 FMA\n",
      "To enable them in other operations, rebuild TensorFlow with the appropriate compiler flags.\n"
     ]
    }
   ],
   "source": [
    "import sys\n",
    "sys.path.append('../../')\n",
    "import numpy as np\n",
    "import tensorflow as tf\n",
    "import matplotlib.pyplot as plt\n",
    "from thqml import phasespace as qx\n",
    "from thqml import quantumsolitons as qs\n",
    "import random"
   ]
  },
  {
   "cell_type": "markdown",
   "metadata": {},
   "source": [
    "#### Default precision (tr_real and np_real as tf.float32 np.float32 or tf.float64 np.floatt)"
   ]
  },
  {
   "cell_type": "code",
   "execution_count": 5,
   "metadata": {},
   "outputs": [],
   "source": [
    "tf_real = tf.float32\n",
    "np_real = np.float32"
   ]
  },
  {
   "cell_type": "code",
   "execution_count": 6,
   "metadata": {},
   "outputs": [],
   "source": [
    "np.set_printoptions(precision=4)"
   ]
  },
  {
   "cell_type": "markdown",
   "metadata": {},
   "source": [
    "#### Check GPU"
   ]
  },
  {
   "cell_type": "code",
   "execution_count": 7,
   "metadata": {},
   "outputs": [
    {
     "name": "stdout",
     "output_type": "stream",
     "text": [
      "Num GPUs Available:  0\n"
     ]
    }
   ],
   "source": [
    "print(\"Num GPUs Available: \", len(tf.config.experimental.list_physical_devices('GPU')))"
   ]
  },
  {
   "cell_type": "markdown",
   "metadata": {},
   "source": [
    "# Parameters"
   ]
  },
  {
   "cell_type": "code",
   "execution_count": 8,
   "metadata": {},
   "outputs": [],
   "source": [
    "max_number_epochs=10000"
   ]
  },
  {
   "cell_type": "code",
   "execution_count": 9,
   "metadata": {},
   "outputs": [],
   "source": [
    "period_display_epoch=max_number_epochs/10"
   ]
  },
  {
   "cell_type": "code",
   "execution_count": 10,
   "metadata": {},
   "outputs": [],
   "source": [
    "period_checkpoint_epoch=period_display_epoch"
   ]
  },
  {
   "cell_type": "code",
   "execution_count": 11,
   "metadata": {},
   "outputs": [],
   "source": [
    "BosonSampling=False"
   ]
  },
  {
   "cell_type": "code",
   "execution_count": 12,
   "metadata": {},
   "outputs": [],
   "source": [
    "# index of pair modes\n",
    "nA=4\n",
    "nB=5"
   ]
  },
  {
   "cell_type": "markdown",
   "metadata": {},
   "source": [
    "## Target total number of bosons"
   ]
  },
  {
   "cell_type": "code",
   "execution_count": 14,
   "metadata": {},
   "outputs": [],
   "source": [
    "Nmin=20 # minimal value of N\n",
    "Nmax=110 # maximal value of N\n",
    "Nstep=10 # step in N"
   ]
  },
  {
   "cell_type": "markdown",
   "metadata": {},
   "source": [
    "## Dimension (initial minimal value)"
   ]
  },
  {
   "cell_type": "code",
   "execution_count": 16,
   "metadata": {},
   "outputs": [],
   "source": [
    "N=20"
   ]
  },
  {
   "cell_type": "markdown",
   "metadata": {},
   "source": [
    "### Number of modes"
   ]
  },
  {
   "cell_type": "code",
   "execution_count": 17,
   "metadata": {},
   "outputs": [],
   "source": [
    "n=int(N/2)"
   ]
  },
  {
   "cell_type": "markdown",
   "metadata": {},
   "source": [
    "## Value for potential"
   ]
  },
  {
   "cell_type": "code",
   "execution_count": 18,
   "metadata": {},
   "outputs": [],
   "source": [
    "chi=-1"
   ]
  },
  {
   "cell_type": "markdown",
   "metadata": {},
   "source": [
    "# Init the quantum soliton python module"
   ]
  },
  {
   "cell_type": "code",
   "execution_count": 20,
   "metadata": {},
   "outputs": [
    {
     "name": "stdout",
     "output_type": "stream",
     "text": [
      "Setting Bose-Hubbard model L=n (non periodical)\n"
     ]
    }
   ],
   "source": [
    "# bose hubbard model has L=n and U=chi\n",
    "qs.init({\"n\":n,\"dtype\":tf_real,\"chi\":chi,\"L\":n,\"model\":\"nnt\"})"
   ]
  },
  {
   "cell_type": "markdown",
   "metadata": {},
   "source": [
    "## Compute negativity by training for various N"
   ]
  },
  {
   "cell_type": "code",
   "execution_count": null,
   "metadata": {},
   "outputs": [
    {
     "name": "stdout",
     "output_type": "stream",
     "text": [
      "----------------------- Processing N = 20\n",
      "Training model for epochs 10000 ...\n",
      "Initial loss 396.8519287109375\n",
      "  Final loss 0.004855906590819359\n",
      "Number of total bosons after training 20.0006 ...\n",
      " ################################### \n",
      "EN = 1.9248179455760157\n",
      "----------------------- Processing N = 30\n",
      "Training model for epochs 10000 ...\n"
     ]
    }
   ],
   "source": [
    "ENeg_list=[]\n",
    "N_values=[]\n",
    "for indexn in range(Nmin,Nmax,Nstep):\n",
    "    tf.keras.backend.clear_session()\n",
    "    print('----------------------- Processing N = '+repr(indexn))\n",
    "    ENeg, twin_model = qs.twin_solitons_entanglement(nA,nB,indexn,nepochs=max_number_epochs)\n",
    "    print('EN = '+repr(ENeg))\n",
    "    ENeg_list.append(ENeg)\n",
    "    N_values.append(indexn)\n"
   ]
  },
  {
   "cell_type": "code",
   "execution_count": 18,
   "metadata": {},
   "outputs": [
    {
     "data": {
      "text/plain": [
       "[<matplotlib.lines.Line2D at 0x7f8594e55250>]"
      ]
     },
     "execution_count": 18,
     "metadata": {},
     "output_type": "execute_result"
    },
    {
     "data": {
      "image/png": "[encoded data removed]",
      "text/plain": [
       "<Figure size 432x288 with 1 Axes>"
      ]
     },
     "metadata": {
      "needs_background": "light"
     },
     "output_type": "display_data"
    }
   ],
   "source": [
    "#plt.plot(N_values,ENeg_list)"
   ]
  },
  {
   "cell_type": "markdown",
   "metadata": {},
   "source": [
    "## Save data "
   ]
  },
  {
   "cell_type": "code",
   "execution_count": 26,
   "metadata": {},
   "outputs": [],
   "source": [
    "root_path='./'\n",
    "claudio_arrays_file=root_path+'dataBHT/manyN/data_Nmin'+repr(Nmin)+'_Nmax'+repr(Nmax)+'_Nstep'+repr(Nstep)+'_N'+repr(N)+'_A'+repr(nA)+'_B'+repr(nB)+'_epochs'+repr(max_number_epochs)+'/claudioarrays'\n",
    "claudio_weights_file=root_path+'dataBHT/manyN/data_Nmin'+repr(Nmin)+'_Nmax'+repr(Nmax)+'_Nstep'+repr(Nstep)+'_N'+repr(N)+'_A'+repr(nA)+'_B'+repr(nB)+'_epochs'+repr(max_number_epochs)+'/claudiomodel'"
   ]
  },
  {
   "cell_type": "code",
   "execution_count": 27,
   "metadata": {},
   "outputs": [
    {
     "data": {
      "text/plain": [
       "'/home/claudio/Dropbox/incorso/QUOMPLEX2018/QUOMPLEX2020PYTHON/QUOMPLEX2020/examples/variational/dataBHT/manyN/data_Nmin20_Nmax100_Nstep10_N20_A4_B5_epochs10000/claudioarrays'"
      ]
     },
     "execution_count": 27,
     "metadata": {},
     "output_type": "execute_result"
    }
   ],
   "source": [
    "claudio_arrays_file"
   ]
  },
  {
   "cell_type": "code",
   "execution_count": 28,
   "metadata": {},
   "outputs": [],
   "source": [
    "# Save file\n",
    "twin_model.save_weights(claudio_weights_file)\n",
    "np.savez(claudio_arrays_file,ENeg_list=ENeg_list,N_values=N_values,\n",
    "         nA=nA, nB=nB,Nmin=Nmin,Nmax=Nmax,Nstep=Nstep, chi=chi, N=N, max_number_epochs=max_number_epochs)"
   ]
  },
  {
   "cell_type": "code",
   "execution_count": 29,
   "metadata": {},
   "outputs": [],
   "source": [
    "def plot_nboson(twin_model):\n",
    "    \" Plot the boson profile in the model\"\n",
    "    xtrain = np.random.rand(1, N)-0.5\n",
    "    results=twin_model(xtrain)\n",
    "    plt.stem(results[0][0].numpy());\n"
   ]
  },
  {
   "cell_type": "code",
   "execution_count": 23,
   "metadata": {},
   "outputs": [],
   "source": [
    "#ENeg, twin_model = qs.twin_solitons_entanglement(nA,nB,indexn,nepochs=max_number_epochs)\n",
    "\n",
    "#plot_nboson(twin_model)"
   ]
  },
  {
   "cell_type": "markdown",
   "metadata": {},
   "source": [
    "## Stop Exec"
   ]
  },
  {
   "cell_type": "code",
   "execution_count": 24,
   "metadata": {},
   "outputs": [
    {
     "ename": "Exception",
     "evalue": "Finished code",
     "output_type": "error",
     "traceback": [
      "\u001b[0;31m---------------------------------------------------------------------------\u001b[0m",
      "\u001b[0;31mException\u001b[0m                                 Traceback (most recent call last)",
      "\u001b[0;32m<ipython-input-24-f7636e861c13>\u001b[0m in \u001b[0;36m<module>\u001b[0;34m\u001b[0m\n\u001b[0;32m----> 1\u001b[0;31m \u001b[0;32mraise\u001b[0m \u001b[0mException\u001b[0m\u001b[0;34m(\u001b[0m\u001b[0;34m\"Finished code\"\u001b[0m\u001b[0;34m)\u001b[0m\u001b[0;34m\u001b[0m\u001b[0;34m\u001b[0m\u001b[0m\n\u001b[0m",
      "\u001b[0;31mException\u001b[0m: Finished code"
     ]
    }
   ],
   "source": [
    "    raise Exception(\"Finished code\")"
   ]
  },
  {
   "cell_type": "markdown",
   "metadata": {},
   "source": [
    "## Create model"
   ]
  },
  {
   "cell_type": "code",
   "execution_count": null,
   "metadata": {},
   "outputs": [],
   "source": [
    "model, output_tensors, _ = qs.soliton_model()"
   ]
  },
  {
   "cell_type": "code",
   "execution_count": null,
   "metadata": {},
   "outputs": [],
   "source": [
    "Htotal=output_tensors[2]"
   ]
  },
  {
   "cell_type": "code",
   "execution_count": null,
   "metadata": {},
   "outputs": [],
   "source": [
    "Ntotal=output_tensors[5]"
   ]
  },
  {
   "cell_type": "code",
   "execution_count": null,
   "metadata": {},
   "outputs": [],
   "source": [
    "    nboson=output_tensors[0]"
   ]
  },
  {
   "cell_type": "markdown",
   "metadata": {},
   "source": [
    "## Define losses"
   ]
  },
  {
   "cell_type": "code",
   "execution_count": null,
   "metadata": {},
   "outputs": [],
   "source": [
    "expL=tf.exp(Htotal/n)\n",
    "nAtf=tf.gather_nd(nboson,[[0,nA]])[0]\n",
    "nBtf=tf.gather_nd(nboson,[[0,nB]])[0]\n",
    "expN=tf.exp(-nAtf)\n",
    "expDN=tf.square(nAtf-nBtf)\n",
    "Nexp_tf=tf.constant(Nexp,dtype=tf_real)"
   ]
  },
  {
   "cell_type": "markdown",
   "metadata": {},
   "source": [
    "## Add loss to the model"
   ]
  },
  {
   "cell_type": "code",
   "execution_count": null,
   "metadata": {},
   "outputs": [],
   "source": [
    "model.add_loss(tf.reduce_mean(tf.square(Ntotal-Nexp_tf)))\n",
    "model.add_loss(expL)\n",
    "model.add_loss(expN)\n",
    "model.add_loss(expDN)\n",
    "model.compile(optimizer='adam')"
   ]
  },
  {
   "cell_type": "markdown",
   "metadata": {},
   "source": [
    "## Train"
   ]
  },
  {
   "cell_type": "code",
   "execution_count": null,
   "metadata": {},
   "outputs": [],
   "source": [
    "results=model.evaluate(xtrain,ytrain)"
   ]
  },
  {
   "cell_type": "code",
   "execution_count": null,
   "metadata": {},
   "outputs": [],
   "source": [
    "%%time\n",
    "print(\"Training model for epochs \"+repr(max_number_epochs)+\" ...\")\n",
    "\n",
    "#history=model.fit(xtrain,ytrain,epochs=max_number_epochs,verbose=0, callbacks=[CustomCallback()])    \n",
    "history=model.fit(xtrain,ytrain,epochs=max_number_epochs,verbose=0)    \n",
    "print(\"Initial loss \"+repr(history.history['loss'][0]))\n",
    "print(\"  Final loss \"+repr(history.history['loss'][-1]))\n",
    "print(\" ################################### \")\n",
    "results=model.evaluate(xtrain,ytrain)"
   ]
  },
  {
   "cell_type": "markdown",
   "metadata": {},
   "source": [
    "## Compute final entropy "
   ]
  },
  {
   "cell_type": "code",
   "execution_count": null,
   "metadata": {},
   "outputs": [],
   "source": [
    "cov_out=model(xtrain)[6]"
   ]
  },
  {
   "cell_type": "code",
   "execution_count": null,
   "metadata": {},
   "outputs": [],
   "source": [
    "# mask for negativity (entropy)\n",
    "nmask=np.zeros(n)\n",
    "nmask[nA]=1\n",
    "print(nmask)"
   ]
  },
  {
   "cell_type": "code",
   "execution_count": null,
   "metadata": {},
   "outputs": [],
   "source": [
    "ENeg, Neg, seigs, ev, sv=qs.logarithmic_negativity(cov_out.numpy(),nmask)"
   ]
  },
  {
   "cell_type": "code",
   "execution_count": null,
   "metadata": {},
   "outputs": [],
   "source": [
    "ENeg"
   ]
  },
  {
   "cell_type": "markdown",
   "metadata": {},
   "source": [
    "## Stop execution"
   ]
  },
  {
   "cell_type": "code",
   "execution_count": null,
   "metadata": {},
   "outputs": [],
   "source": [
    "raise Exception(\"Finished code\")"
   ]
  },
  {
   "cell_type": "markdown",
   "metadata": {},
   "source": [
    "## Callbacks"
   ]
  },
  {
   "cell_type": "code",
   "execution_count": null,
   "metadata": {},
   "outputs": [],
   "source": [
    "# checkpoint function\n",
    "def savecheckpoint(num_epochs):\n",
    "    model.save_weights(claudio_weights_file+'_cp_'+repr(num_epochs))\n",
    "    np.savez(claudio_arrays_file+'_cp_'+repr(num_epochs),history_H=history_H,history_N=history_N,history_beta=history_beta,\n",
    "             history_eig=history_eig,history_negativity=history_negativity,nbosonout=nbosonout[0].numpy())\n",
    "    print('Made checkpoint at total epoch '+repr(num_epochs))"
   ]
  },
  {
   "cell_type": "code",
   "execution_count": null,
   "metadata": {},
   "outputs": [],
   "source": [
    "eig_model = tf.keras.Model(inputs = xin, outputs=e)    # print model\n",
    "cov_model = tf.keras.Model(inputs = xin, outputs=cov)    # for covariance matrix\n",
    "history_eig=[]\n",
    "history_H=[]\n",
    "history_N=[]\n",
    "history_expN=[]\n",
    "history_expDIFF=[]\n",
    "history_beta=[]\n",
    "history_negativity=[]\n",
    "# mask for negativity (entropy)\n",
    "nmask=np.zeros(n)\n",
    "nmask[nA]=1\n",
    "# custom callback\n",
    "class CustomCallback(tf.keras.callbacks.Callback):\n",
    "\n",
    "    def on_epoch_end(self, epoch, logs=None):\n",
    "        logs = logs or {}\n",
    "        global history_eig\n",
    "        #keys = list(logs.keys())\n",
    "        eigs=eig_model(xtrain)\n",
    "        history_eig.append(eigs.numpy()[-1])\n",
    "        history_H.append(logs.get(\"H\"))\n",
    "        history_N.append(logs.get(\"N\"))\n",
    "        history_expN.append(logs.get(\"expN\"))\n",
    "        history_expDIFF.append(logs.get(\"expDIFF\"))\n",
    "        history_beta.append(LL.get_weights()[0])\n",
    "        ENeg, _, _,_,_= qs.logarithmic_negativity(cov_model(xtrain).numpy(),nmask)\n",
    "        history_negativity.append(ENeg)\n",
    "        \n",
    "        if np.mod(epoch, period_display_epoch)==0:\n",
    "            print(\"Epoch \"+repr(epoch)+\n",
    "                  \" of \"+repr(max_number_epochs)+\n",
    "                 \" time \"+repr(np.datetime64('now'))+\n",
    "                  \" H=\"+repr(np.around(logs.get(\"H\"),decimals=3))+\n",
    "                  \" N=\"+repr(np.around(logs.get(\"N\"),decimals=3))+\n",
    "                  \" DN=\"+repr(np.around(logs.get(\"expDIFF\"),decimals=3)))\n",
    "            \n",
    "        # checkpoint at absolute value of the number of epochs\n",
    "        if np.mod(epoch, period_checkpoint_epoch)==0:\n",
    "            savecheckpoint(len(history_N)-1)"
   ]
  },
  {
   "cell_type": "markdown",
   "metadata": {},
   "source": [
    "## Losses and metrics"
   ]
  },
  {
   "cell_type": "code",
   "execution_count": null,
   "metadata": {},
   "outputs": [],
   "source": [
    "model = tf.keras.Model(inputs = xin, outputs=expL)    # print model\n",
    "model.add_loss(tf.reduce_mean(tf.square(Ntotal-Nexp_tf)))\n",
    "model.add_loss(expL)\n",
    "model.add_loss(expN)\n",
    "model.add_loss(expDN)\n",
    "#model.add_loss(expDIFF)\n",
    "model.add_metric(tf.reduce_mean(tf.square(Ntotal-Nexp_tf)),name=\"Dn\",aggregation=\"mean\")\n",
    "model.add_metric(expL,name=\"expDIFF\",aggregation=\"mean\")\n",
    "model.add_metric(expL,name=\"expF\",aggregation=\"mean\")\n",
    "model.add_metric(expDN,name=\"expDN\",aggregation=\"mean\")\n",
    "model.add_metric(Htotal,name=\"H\",aggregation=\"mean\")\n",
    "model.add_metric(Ntotal,name=\"N\",aggregation=\"mean\")\n",
    "model.compile(optimizer='adam')"
   ]
  },
  {
   "cell_type": "markdown",
   "metadata": {},
   "source": [
    "## Load saved"
   ]
  },
  {
   "cell_type": "code",
   "execution_count": null,
   "metadata": {},
   "outputs": [],
   "source": [
    "# load data\n",
    "load_data=True\n",
    "if load_data:\n",
    "    try:\n",
    "        model.load_weights(claudio_weights_file)\n",
    "        data_arrays=np.load(claudio_arrays_file+'.npz')\n",
    "        data_arrays.files\n",
    "        history_H=data_arrays['history_H'].tolist()\n",
    "        history_N=data_arrays['history_N'].tolist()\n",
    "#        history_expN=data_arrays['history_expN'].tolist()\n",
    "        history_beta=data_arrays['history_beta'].tolist()\n",
    "        history_eig=data_arrays['history_eig'].tolist()\n",
    "        history_negativity=data_arrays['history_negativity'].tolist()\n",
    "        print(\"Loaded data\")\n",
    "        plt.figure(1)\n",
    "        plt.plot(history_H)\n",
    "        plt.title('H')\n",
    "        plt.figure(2)\n",
    "        plt.plot(history_N)\n",
    "        plt.title('N, expN')\n",
    "        plt.plot(history_expN)\n",
    "        plt.figure(3)\n",
    "        plt.plot(np.real(history_beta))\n",
    "        plt.title('beta')\n",
    "        plt.figure(4)\n",
    "        plt.plot(np.real(history_eig))\n",
    "        plt.title('eig')\n",
    "        plt.figure(5)\n",
    "        plt.plot(np.real(history_negativity))\n",
    "        plt.title('log negativity')\n",
    "    except: \n",
    "        print(\"No stored data found\")"
   ]
  },
  {
   "cell_type": "markdown",
   "metadata": {},
   "source": [
    "## Test"
   ]
  },
  {
   "cell_type": "code",
   "execution_count": null,
   "metadata": {},
   "outputs": [],
   "source": [
    "#model(xtrain)\n",
    "#model.evaluate(xtrain)"
   ]
  },
  {
   "cell_type": "code",
   "execution_count": null,
   "metadata": {},
   "outputs": [],
   "source": [
    "# display obserbables\n",
    "Bmodel = tf.keras.Model(inputs = xin, outputs=[nboson,Htotal,Vtotal, Ktotal, Ntotal,d])    # print model\n",
    "nbosonout, Hout, Vout, Kout, Nout,dout=Bmodel(xtrain) \n",
    "print(nbosonout)\n",
    "print(tf.math.reduce_sum(nbosonout))\n",
    "print(\"H=\"+repr(Hout.numpy()))\n",
    "print(\"K=\"+repr(Kout.numpy()))\n",
    "print(\"V=\"+repr(Vout.numpy()))\n",
    "print(\"N=\"+repr(Nout.numpy()))\n",
    "plt.plot(nbosonout[0])"
   ]
  },
  {
   "cell_type": "markdown",
   "metadata": {},
   "source": [
    "## Train"
   ]
  },
  {
   "cell_type": "code",
   "execution_count": null,
   "metadata": {},
   "outputs": [],
   "source": [
    "total_trainable_parameters=np.sum([np.prod(v.get_shape().as_list()) for v in model.trainable_variables])\n",
    "print(\"Model trainable weights \"+repr(total_trainable_parameters))"
   ]
  },
  {
   "cell_type": "code",
   "execution_count": null,
   "metadata": {},
   "outputs": [],
   "source": [
    "%%time\n",
    "# train\n",
    "# timing after the first run of training that takes around a duobled time\n",
    "# N=32 100 epochs in 5.3 s in portatilegrande with noGPU\n",
    "# N=32 100 epochs in 11.7 s in portatilegrande with GPU\n",
    "# N=32 hawaii 1000 epocs 2 minuti no gpu\n",
    "# N=32 hawaii 10000 epocs 20 minuti no gpu\n",
    "# N=32 hawaii 10000 epocs 43 minuti with gpu\n",
    "\n",
    "print(\"Training model for epochs \"+repr(max_number_epochs)+\" ...\")\n",
    "\n",
    "history=model.fit(xtrain,ytrain,epochs=max_number_epochs,verbose=0, callbacks=[CustomCallback()])    \n",
    "print(\"Initial loss \"+repr(history.history['loss'][0]))\n",
    "print(\"  Final loss \"+repr(history.history['loss'][-1]))\n",
    "print(\" ################################### \")\n",
    "results=model.evaluate(xtrain,ytrain)"
   ]
  },
  {
   "cell_type": "code",
   "execution_count": null,
   "metadata": {},
   "outputs": [],
   "source": [
    "# save model and arrays\n",
    "model.save_weights(claudio_weights_file)\n",
    "np.savez(claudio_arrays_file,history_H=history_H,history_N=history_N,history_beta=history_beta,\n",
    "         history_eig=history_eig,history_negativity=history_negativity)\n",
    "max_number_epochs"
   ]
  },
  {
   "cell_type": "code",
   "execution_count": null,
   "metadata": {},
   "outputs": [],
   "source": [
    "plt.figure(1)\n",
    "#plt.plot(history.history[\"H\"])\n",
    "plt.plot(history_H)\n",
    "plt.title(\"H\")\n",
    "fig, axs=plt.subplots(2)\n",
    "#plt.figure(2)\n",
    "#plt.plot(history.history[\"N\"])\n",
    "#plt.plot(history_N)\n",
    "axs[0].plot(history_expN)\n",
    "axs[1].plot(history_N)\n",
    "plt.title(\"expN\")\n",
    "plt.figure(3)\n",
    "plt.plot(np.real(history_expDIFF))\n",
    "plt.title(\"expDIFF\")\n",
    "plt.figure(4)\n",
    "plt.plot(history_beta)\n",
    "plt.title(\"beta\")\n",
    "plt.figure(5)\n",
    "plt.plot(history_negativity)\n",
    "plt.title(\"logarithmic negativity\")"
   ]
  },
  {
   "cell_type": "code",
   "execution_count": null,
   "metadata": {},
   "outputs": [],
   "source": [
    "Bmodel = tf.keras.Model(inputs = xin, outputs=[nboson,nboson2,Htotal,Vtotal, Ktotal, Ntotal,Ltotal, cov, d])    # print model\n",
    "nbosonout,nbosonout2, Hout, Vout, Kout, Nout,Lout,covout, dout=Bmodel(xtrain) \n",
    "print(nbosonout)\n",
    "print(tf.math.reduce_sum(nbosonout))\n",
    "print(\"H=\"+repr(Hout.numpy()))\n",
    "print(\"K=\"+repr(Kout.numpy()))\n",
    "print(\"V=\"+repr(Vout.numpy()))\n",
    "print(\"N=\"+repr(Nout.numpy()))\n",
    "print(\"F=\"+repr(Lout.numpy()))\n",
    "print(\"beta=\"+repr(LL.get_weights()[0]))\n",
    "print(\"orderparameter=\"+repr(np.mean(dout.numpy())))\n",
    "\n",
    "plt.figure(6)\n",
    "plt.stem(nbosonout[0])\n",
    "plt.title('<n>')\n",
    "plt.figure(7)\n",
    "tmpr=dout[0][0::2].numpy()\n",
    "tmpi=dout[0][1::2].numpy()\n",
    "a2=0.5*(tmpr**2+tmpi**2)\n",
    "fase=np.angle(tmpr+1j*tmpi)\n",
    "plt.stem(a2)\n",
    "plt.title('|<dout>|^2')\n",
    "plt.figure(8)\n",
    "plt.plot(fase)\n",
    "plt.title('phase')\n",
    "plt.figure(10)\n",
    "plt.plot(nbosonout[0])\n",
    "plt.title('<n>')\n",
    "plt.figure(11)\n",
    "plt.plot(nbosonout2[0]-nbosonout[0]**2)\n",
    "plt.title('<Dn>')"
   ]
  },
  {
   "cell_type": "markdown",
   "metadata": {},
   "source": [
    "# Compute the partial transpose and the degree of entanglement on the peaks"
   ]
  },
  {
   "cell_type": "code",
   "execution_count": null,
   "metadata": {},
   "outputs": [],
   "source": [
    "# covariance matrix\n",
    "cov_np=covout.numpy()\n",
    "# take a vector of n elements, with 1 for each mode to be trasponsed\n",
    "nmask=np.zeros(n)\n",
    "nmask[nA]=1\n",
    "# build a diagonal with -1 corresponding to the momenta to be transposed\n",
    "diag1=np.ones(N, dtype=np_real)\n",
    "for j in range(n):\n",
    "    if nmask[j]==1:\n",
    "        diag1[j+1]=-1\n",
    "# build the transformation matrix\n",
    "Ftrans=np.diag(diag1)\n",
    "# transform the covariance matrix\n",
    "cov_np_Ta=np.matmul(Ftrans, np.matmul(cov_np, Ftrans))\n",
    "qs.entanglement_entropy(cov_np_Ta)\n"
   ]
  },
  {
   "cell_type": "code",
   "execution_count": null,
   "metadata": {},
   "outputs": [],
   "source": [
    "nmask.shape"
   ]
  },
  {
   "cell_type": "code",
   "execution_count": null,
   "metadata": {},
   "outputs": [],
   "source": [
    "# determinant of covariance matrix\n",
    "np.linalg.det(cov_np)"
   ]
  },
  {
   "cell_type": "code",
   "execution_count": null,
   "metadata": {},
   "outputs": [],
   "source": [
    "nmask=np.zeros(n)\n",
    "nmask[nA]=1\n",
    "nmask[nB]=0\n",
    "print(nmask)"
   ]
  },
  {
   "cell_type": "code",
   "execution_count": null,
   "metadata": {},
   "outputs": [],
   "source": [
    "ENeg, Neg, seigs, ev, sv=qs.logarithmic_negativity(cov_np,nmask)\n"
   ]
  },
  {
   "cell_type": "code",
   "execution_count": null,
   "metadata": {},
   "outputs": [],
   "source": [
    "print(ENeg)\n",
    "print(Neg)\n",
    "print(seigs)\n",
    "print(ev)\n"
   ]
  },
  {
   "cell_type": "code",
   "execution_count": null,
   "metadata": {},
   "outputs": [],
   "source": [
    "sv.shape"
   ]
  },
  {
   "cell_type": "code",
   "execution_count": null,
   "metadata": {},
   "outputs": [],
   "source": [
    "for i in range(n):\n",
    "    svr=np.real(sv[i,0::2])\n",
    "    plt.figure()\n",
    "    asv=svr\n",
    "    plt.plot(asv)\n",
    "    plt.title(repr(i)+\" e=\"+repr(seigs[i]))"
   ]
  },
  {
   "cell_type": "code",
   "execution_count": null,
   "metadata": {},
   "outputs": [],
   "source": [
    "sv[9]"
   ]
  },
  {
   "cell_type": "markdown",
   "metadata": {},
   "source": [
    "3**2"
   ]
  },
  {
   "cell_type": "markdown",
   "metadata": {},
   "source": [
    "# Boson sampling the model"
   ]
  },
  {
   "cell_type": "code",
   "execution_count": null,
   "metadata": {},
   "outputs": [],
   "source": [
    "if not(BosonSampling):\n",
    "    raise Exception(\"Finished code\")"
   ]
  },
  {
   "cell_type": "markdown",
   "metadata": {},
   "source": [
    "## Make the Q-trasform of the model"
   ]
  },
  {
   "cell_type": "code",
   "execution_count": null,
   "metadata": {},
   "outputs": [],
   "source": [
    "kin, Qrho=qx.getQTransformModel(PSImodel)\n",
    "Qfun = qx.QTransform(covout,dout)"
   ]
  },
  {
   "cell_type": "code",
   "execution_count": null,
   "metadata": {},
   "outputs": [],
   "source": [
    "Qrho.summary()"
   ]
  },
  {
   "cell_type": "code",
   "execution_count": null,
   "metadata": {},
   "outputs": [],
   "source": [
    "#qx.Pr([1]*n, Qrho)"
   ]
  },
  {
   "cell_type": "code",
   "execution_count": null,
   "metadata": {},
   "outputs": [],
   "source": [
    "[0]*n"
   ]
  },
  {
   "cell_type": "code",
   "execution_count": null,
   "metadata": {},
   "outputs": [],
   "source": []
  },
  {
   "cell_type": "code",
   "execution_count": null,
   "metadata": {},
   "outputs": [],
   "source": [
    "Qfun"
   ]
  },
  {
   "cell_type": "code",
   "execution_count": null,
   "metadata": {},
   "outputs": [],
   "source": [
    "qx.Pr([0]*n, Qfun)"
   ]
  },
  {
   "cell_type": "code",
   "execution_count": null,
   "metadata": {},
   "outputs": [],
   "source": [
    "nsample=[0]*n"
   ]
  },
  {
   "cell_type": "code",
   "execution_count": null,
   "metadata": {},
   "outputs": [],
   "source": [
    "nsample[1]=1"
   ]
  },
  {
   "cell_type": "code",
   "execution_count": null,
   "metadata": {},
   "outputs": [],
   "source": [
    "print(nsample)"
   ]
  },
  {
   "cell_type": "code",
   "execution_count": null,
   "metadata": {},
   "outputs": [],
   "source": [
    "qx.Pr(nsample, Qfun)"
   ]
  },
  {
   "cell_type": "code",
   "execution_count": null,
   "metadata": {},
   "outputs": [],
   "source": [
    "nsample[0]=1"
   ]
  },
  {
   "cell_type": "code",
   "execution_count": null,
   "metadata": {},
   "outputs": [],
   "source": [
    "qx.Pr(nsample, Qfun)"
   ]
  },
  {
   "cell_type": "code",
   "execution_count": null,
   "metadata": {},
   "outputs": [],
   "source": [
    "nsample"
   ]
  },
  {
   "cell_type": "code",
   "execution_count": null,
   "metadata": {},
   "outputs": [],
   "source": [
    "nsample[2]=1"
   ]
  },
  {
   "cell_type": "code",
   "execution_count": null,
   "metadata": {},
   "outputs": [],
   "source": [
    "qx.Pr(nsample, Qfun)"
   ]
  },
  {
   "cell_type": "code",
   "execution_count": null,
   "metadata": {},
   "outputs": [],
   "source": [
    "nsample[3]=1; print(nsample)"
   ]
  },
  {
   "cell_type": "code",
   "execution_count": null,
   "metadata": {},
   "outputs": [],
   "source": [
    "qx.Pr(nsample, Qfun)"
   ]
  },
  {
   "cell_type": "code",
   "execution_count": null,
   "metadata": {},
   "outputs": [],
   "source": [
    "nsample[4]=1; print(nsample)"
   ]
  },
  {
   "cell_type": "code",
   "execution_count": null,
   "metadata": {},
   "outputs": [],
   "source": [
    "%%time\n",
    "qx.Pr(nsample, Qfun)"
   ]
  },
  {
   "cell_type": "code",
   "execution_count": null,
   "metadata": {},
   "outputs": [],
   "source": [
    "nsample=[0]*n; nsample[9]=1;nsample[7]=1;nsample[8]=1; print(nsample)"
   ]
  },
  {
   "cell_type": "code",
   "execution_count": null,
   "metadata": {},
   "outputs": [],
   "source": [
    "%%time\n",
    "qx.Pr(nsample, Qfun)"
   ]
  },
  {
   "cell_type": "code",
   "execution_count": null,
   "metadata": {},
   "outputs": [],
   "source": [
    "%%time\n",
    "nphoton=4\n",
    "out=[0]*n\n",
    "for ij in range(n):\n",
    "    nsample=[0]*n\n",
    "    nsample[ij]=nphoton\n",
    "    out[ij]=qx.Pr(nsample, Qfun)\n",
    "plt.plot(out)"
   ]
  },
  {
   "cell_type": "code",
   "execution_count": null,
   "metadata": {},
   "outputs": [],
   "source": [
    "%%time\n",
    "nphoton=1\n",
    "out=[0]*n\n",
    "for ij in range(n):\n",
    "    nsample=[0]*n\n",
    "    nsample[ij]=nphoton\n",
    "    nsample[np.mod(ij+1,n)]=nphoton\n",
    "    print(nsample)\n",
    "    out[ij]=qx.Pr(nsample, Qfun)\n",
    "plt.plot(out)"
   ]
  },
  {
   "cell_type": "code",
   "execution_count": null,
   "metadata": {},
   "outputs": [],
   "source": [
    "%matplotlib inline\n",
    "plt.plot(dout[0])\n",
    "print(np.argmax(dout[0]))"
   ]
  },
  {
   "cell_type": "code",
   "execution_count": null,
   "metadata": {},
   "outputs": [],
   "source": [
    "# probability of 2 photons\n",
    "%matplotlib inline\n",
    "%time\n",
    "#ijcenter =np.argmax(dout[0])/2\n",
    "ijcenter=nA\n",
    "print(\"Center at j = \"+repr(ijcenter))\n",
    "out=np.zeros(n)\n",
    "# sul solitone 2 fotoni\n",
    "c=0\n",
    "for ij in range(n):\n",
    "    nsample=[0]*n\n",
    "    nsample[ijcenter]=1\n",
    "    if np.not_equal(ij,ijcenter):\n",
    "        nsample[ij]=1\n",
    "    else: #count 2 photon on the soliton peak\n",
    "        nsample[ij]=2    \n",
    "    print(nsample)\n",
    "    out[c]=qx.Pr(nsample, Qfun)\n",
    "    c=c+1\n",
    "        \n",
    "plt.stem(out)\n",
    "%time"
   ]
  },
  {
   "cell_type": "markdown",
   "metadata": {},
   "source": [
    "# PLOT MODEL"
   ]
  },
  {
   "cell_type": "code",
   "execution_count": null,
   "metadata": {},
   "outputs": [],
   "source": [
    "tf.keras.utils.plot_model(model)"
   ]
  },
  {
   "cell_type": "code",
   "execution_count": null,
   "metadata": {},
   "outputs": [],
   "source": [
    "tf.keras.utils.plot_model(Qfun)"
   ]
  },
  {
   "cell_type": "code",
   "execution_count": null,
   "metadata": {},
   "outputs": [],
   "source": [
    "M,_ =model.layers[1].get_M()"
   ]
  },
  {
   "cell_type": "code",
   "execution_count": null,
   "metadata": {},
   "outputs": [],
   "source": [
    "tf.print(M)"
   ]
  },
  {
   "cell_type": "code",
   "execution_count": null,
   "metadata": {},
   "outputs": [],
   "source": []
  }
 ],
 "metadata": {
  "kernelspec": {
   "display_name": "Python 3 (ipykernel)",
   "language": "python",
   "name": "python3"
  },
  "language_info": {
   "codemirror_mode": {
    "name": "ipython",
    "version": 3
   },
   "file_extension": ".py",
   "mimetype": "text/x-python",
   "name": "python",
   "nbconvert_exporter": "python",
   "pygments_lexer": "ipython3",
   "version": "3.8.13"
  }
 },
 "nbformat": 4,
 "nbformat_minor": 4
}
