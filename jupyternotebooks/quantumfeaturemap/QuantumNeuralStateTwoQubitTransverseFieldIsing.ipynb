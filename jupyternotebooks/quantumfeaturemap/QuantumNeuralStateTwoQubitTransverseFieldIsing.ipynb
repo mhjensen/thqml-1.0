{
 "cells": [
  {
   "cell_type": "markdown",
   "id": "0915292a-b237-4a7d-a549-e1e1cf10552e",
   "metadata": {},
   "source": [
    "# Two-qubit Transverse field Ising model by a quantum neural state\n",
    "\n",
    "\n",
    "\n",
    "<img src=\"../logo_circular.png\" width=\"20\" height=\"20\" />@by claudio<br>\n",
    "nonlinearxwaves@gmail.com<br>\n",
    "\n",
    "\n",
    "@created 30 july 2022<br>\n",
    "@version 4 sept 2022"
   ]
  },
  {
   "cell_type": "code",
   "execution_count": 1,
   "id": "56ec1e35-3493-4ee1-9f6d-56d6027fa956",
   "metadata": {
    "tags": []
   },
   "outputs": [
    {
     "name": "stderr",
     "output_type": "stream",
     "text": [
      "2022-09-05 06:58:44.882332: W tensorflow/stream_executor/platform/default/dso_loader.cc:64] Could not load dynamic library 'libcudart.so.11.0'; dlerror: libcudart.so.11.0: cannot open shared object file: No such file or directory\n",
      "2022-09-05 06:58:44.882360: I tensorflow/stream_executor/cuda/cudart_stub.cc:29] Ignore above cudart dlerror if you do not have a GPU set up on your machine.\n",
      "2022-09-05 06:58:46.252987: W tensorflow/stream_executor/platform/default/dso_loader.cc:64] Could not load dynamic library 'libcuda.so.1'; dlerror: libcuda.so.1: cannot open shared object file: No such file or directory\n",
      "2022-09-05 06:58:46.253013: W tensorflow/stream_executor/cuda/cuda_driver.cc:269] failed call to cuInit: UNKNOWN ERROR (303)\n",
      "2022-09-05 06:58:46.253034: I tensorflow/stream_executor/cuda/cuda_diagnostics.cc:156] kernel driver does not appear to be running on this host (x1): /proc/driver/nvidia/version does not exist\n",
      "2022-09-05 06:58:46.253307: I tensorflow/core/platform/cpu_feature_guard.cc:151] This TensorFlow binary is optimized with oneAPI Deep Neural Network Library (oneDNN) to use the following CPU instructions in performance-critical operations:  AVX2 FMA\n",
      "To enable them in other operations, rebuild TensorFlow with the appropriate compiler flags.\n"
     ]
    }
   ],
   "source": [
    "from thqml import quantummap as quantummap\n",
    "import tensorflow as  tf\n",
    "import numpy as np\n",
    "import matplotlib.pyplot as plt\n",
    "import tensorflow_addons as tfa\n",
    "np.set_printoptions(precision=2)"
   ]
  },
  {
   "cell_type": "markdown",
   "id": "ffe871d0-34a0-4b84-b2c5-58d407ae5a25",
   "metadata": {
    "tags": []
   },
   "source": [
    "# Define Hamiltonian operator"
   ]
  },
  {
   "cell_type": "markdown",
   "id": "0eac9b4f-637d-4d14-aade-5d7894d9e65e",
   "metadata": {},
   "source": [
    "$\\hat{\\mathcal{H}}=-J Z_0 Z_1 -h_0 Z_0 -h_1 Z_1$"
   ]
  },
  {
   "cell_type": "code",
   "execution_count": 2,
   "id": "5c119c43-4975-4435-9e6c-afd062fa48c8",
   "metadata": {},
   "outputs": [],
   "source": [
    "@tf.function\n",
    "def Hamiltonian(J=1, h=[0,0]):\n",
    "    \"\"\" Two-qubit tranverse Ising model Hamiltonian\n",
    "    \n",
    "        H=-J Z0 Z1 -h0 X0 -h1 X0\n",
    "        \n",
    "        Params\n",
    "        ------\n",
    "        J = coupling shape=(1,)\n",
    "        h = field shape=(2,)\n",
    "    \"\"\"\n",
    "    out = -J*quantummap.ZZ-h[0]*quantummap.XI-h[1]*quantummap.IX\n",
    "        \n",
    "    return out"
   ]
  },
  {
   "cell_type": "markdown",
   "id": "894cbf2d-495d-44a2-b4ed-201baaf9fbe8",
   "metadata": {},
   "source": [
    "## Test the Hamiltonian"
   ]
  },
  {
   "cell_type": "markdown",
   "id": "4277fa62-4308-4a1c-9593-585222496924",
   "metadata": {},
   "source": [
    "Hamiltonian with no field terms"
   ]
  },
  {
   "cell_type": "code",
   "execution_count": 3,
   "id": "5413673c-4599-4eff-bb93-f87dc43e6af1",
   "metadata": {},
   "outputs": [
    {
     "name": "stdout",
     "output_type": "stream",
     "text": [
      "tf.Tensor(\n",
      "[[-1.+0.j -0.+0.j -0.+0.j -0.+0.j]\n",
      " [-0.+0.j  1.-0.j -0.+0.j -0.+0.j]\n",
      " [-0.+0.j -0.+0.j  1.-0.j -0.+0.j]\n",
      " [-0.+0.j -0.+0.j -0.+0.j -1.+0.j]], shape=(4, 4), dtype=complex64)\n"
     ]
    }
   ],
   "source": [
    "H=Hamiltonian()\n",
    "print(quantummap.Transform2Matrix(H))"
   ]
  },
  {
   "cell_type": "markdown",
   "id": "7e2049e2-9e7c-409d-9b6f-ba0b6f7e3a8c",
   "metadata": {},
   "source": [
    "Hamiltonian with field terms"
   ]
  },
  {
   "cell_type": "code",
   "execution_count": 4,
   "id": "61ade790-a740-44f8-bbf1-0f8adeede21b",
   "metadata": {},
   "outputs": [
    {
     "name": "stdout",
     "output_type": "stream",
     "text": [
      "tf.Tensor(\n",
      "[[-1. +0.j -3.2+0.j -1.1+0.j -0. +0.j]\n",
      " [-3.2+0.j  1. -0.j -0. +0.j -1.1+0.j]\n",
      " [-1.1+0.j -0. +0.j  1. -0.j -3.2+0.j]\n",
      " [-0. +0.j -1.1+0.j -3.2+0.j -1. +0.j]], shape=(4, 4), dtype=complex64)\n"
     ]
    }
   ],
   "source": [
    "H=Hamiltonian(h=[1.1,3.2])\n",
    "print(quantummap.Transform2Matrix(H))"
   ]
  },
  {
   "cell_type": "markdown",
   "id": "3455105b-4ce1-47f4-b3e6-e8e7068d66c7",
   "metadata": {},
   "source": [
    "# Custom Neural weight"
   ]
  },
  {
   "cell_type": "code",
   "execution_count": 5,
   "id": "14189a6a-ea83-473b-b8dd-fa9bf187b788",
   "metadata": {},
   "outputs": [],
   "source": [
    "class HamiltonianLayerNNQS(tf.keras.layers.Layer):\n",
    "    # Define a Layer returning the mean value of the Hamiltonian\n",
    "    # on the variational ansatz\n",
    "    #\n",
    "    # The layer uses quantum neural networks\n",
    "    # formed by two dense layers with \n",
    "    # relu activation\n",
    "    #\n",
    "    # The Layer use the function\n",
    "    # Hamiltonian\n",
    "    #\n",
    "    # The constructor use parameters \n",
    "    #\n",
    "    #  Params\n",
    "    #  ------\n",
    "    #  J : coupling coefficient\n",
    "    #      (default J=1)\n",
    "    #  h : positive field shape=(2,)\n",
    "    #      (default h=[0.0,0.0])\n",
    "    #  nhidden: the number of internal layers\n",
    "    #      (default is 16)\n",
    "    #  bias: the bias state\n",
    "    #      (default is ground state quantummap.q00)\n",
    "    #\n",
    "    #  Example\n",
    "    #  -------\n",
    "    #  HL=HL(J=.5, h=[1.2,-1.0], nhidden=100)\n",
    "    #\n",
    "    #  Returns\n",
    "    #  -------\n",
    "    #  The call return the real part of \n",
    "    #  <\\psi|H|\\psi>\n",
    "    #\n",
    "    def __init__(self, J=1.0, h=[0.0,0.0], \n",
    "                 nhidden=10,\n",
    "                 bias=quantummap.q00,\n",
    "                 **kwargs):\n",
    "        super(HamiltonianLayerNNQS, self).__init__(**kwargs)\n",
    "        # trainable parameter of the model\n",
    "        # gap coefficient\n",
    "        self.J=J\n",
    "        # field coefficient\n",
    "        self.h=h\n",
    "        # Hamiltonian\n",
    "        self.H=Hamiltonian(J=self.J,h=self.h)\n",
    "        # Bias state\n",
    "        self.bias=bias\n",
    "        # Weights of the NNQS\n",
    "        self.AR=tf.Variable(tf.random.normal(shape=(nhidden,8)));\n",
    "        self.AI=tf.Variable(tf.random.normal(shape=(nhidden,8))); \n",
    "        self.HR=tf.Variable(tf.random.normal(shape=(4,nhidden)));\n",
    "        self.HI=tf.Variable(tf.random.normal(shape=(4,nhidden))); \n",
    "        \n",
    "    @tf.function\n",
    "    def realNNQS(self,bias):\n",
    "        \"\"\" Function returning \n",
    "        the real part NN\n",
    "\n",
    "        Input\n",
    "        -----\n",
    "        bias state shape=(2,2)\n",
    "        \n",
    "        Returns\n",
    "        -------\n",
    "        real phi shape=(4,)        \n",
    "        \"\"\"\n",
    "        rebias=tf.math.real(bias)\n",
    "        imbias=tf.math.imag(bias)\n",
    "        bias1=tf.concat([rebias,imbias],0)\n",
    "        bias2=tf.reshape(bias1,[-1])\n",
    "        hideR=tf.nn.relu(tf.tensordot(self.AR,bias2,axes=1))\n",
    "        rephi=tf.nn.relu(tf.tensordot(self.HR,hideR,axes=1))\n",
    "        return rephi\n",
    "\n",
    "    @tf.function\n",
    "    def imagNNQS(self,bias):\n",
    "        \"\"\" Function returning \n",
    "        the imaginary part NN\n",
    "        \n",
    "        Input\n",
    "        -----\n",
    "        bias state shape=(2,2)\n",
    "        \n",
    "        Returns\n",
    "        -------\n",
    "        imag phi shape=(4,)\n",
    "        \"\"\"\n",
    "        rebias=tf.math.real(bias)\n",
    "        imbias=tf.math.imag(bias)\n",
    "        bias1=tf.concat([rebias,imbias],0)\n",
    "        bias2=tf.reshape(bias1,[-1])\n",
    "        hideI=tf.nn.relu(tf.tensordot(self.AI,bias2,axes=1))\n",
    "        imphi=tf.nn.relu(tf.tensordot(self.HI,hideI,axes=1))\n",
    "        return imphi\n",
    "\n",
    "    @tf.function\n",
    "    def complexify(self,rephi,imphi):\n",
    "        \"\"\" Function combining\n",
    "        real and imaginary part\n",
    "        and normalizing\n",
    "        \"\"\"\n",
    "        cphi0=tf.complex(rephi,imphi)\n",
    "        cphi=tf.reshape(cphi0,[2,2])\n",
    "        sqrtnorm=tf.math.sqrt(quantummap.Scalar(cphi,cphi))\n",
    "        nphi=cphi/sqrtnorm\n",
    "        return nphi\n",
    "\n",
    "    @tf.function\n",
    "    def ground_state(self):\n",
    "        \"\"\" Return the current ground state\"\"\"\n",
    "        rph=self.realNNQS(self.bias)\n",
    "        iph=self.imagNNQS(self.bias)        \n",
    "        return self.complexify(rph,iph)\n",
    "\n",
    "    def call(self,dummy):\n",
    "        \"\"\" Return Re<H> \n",
    "        Remark:  this layer has a dummy variable as input\n",
    "        (required for compatibility with tensorflow call)\n",
    "        \"\"\"\n",
    "        phi=self.ground_state()\n",
    "        Hphi=quantummap.Gate2(self.H,phi)\n",
    "        meanH=tf.math.real(quantummap.Scalar(phi, Hphi))\n",
    "        return meanH"
   ]
  },
  {
   "cell_type": "markdown",
   "id": "0806aefa-2cef-4b9d-a117-7e2d5eb5f966",
   "metadata": {},
   "source": [
    "## Test the layer"
   ]
  },
  {
   "cell_type": "markdown",
   "id": "35f4b552-c724-4828-a354-283c9191b3aa",
   "metadata": {},
   "source": [
    "Create the layer with default parameters"
   ]
  },
  {
   "cell_type": "code",
   "execution_count": 6,
   "id": "cc2474e3-5b53-4a81-815a-9aae7fb5cfda",
   "metadata": {},
   "outputs": [],
   "source": [
    "HL=HamiltonianLayerNNQS()"
   ]
  },
  {
   "cell_type": "markdown",
   "id": "8f257f08-cf3e-4a56-9eb6-5f4f929865c9",
   "metadata": {},
   "source": [
    "Print J and H"
   ]
  },
  {
   "cell_type": "code",
   "execution_count": 7,
   "id": "ff067e6e-53f2-48e5-becf-3b2aaa3155b3",
   "metadata": {},
   "outputs": [
    {
     "name": "stdout",
     "output_type": "stream",
     "text": [
      "1.0 ListWrapper([0.0, 0.0])\n"
     ]
    }
   ],
   "source": [
    "print(HL.J, HL.h)"
   ]
  },
  {
   "cell_type": "markdown",
   "id": "c3274da0-0026-4e40-b2f7-739ade06e35a",
   "metadata": {},
   "source": [
    "Display $\\mathcal{\\hat{H}}$ as a matrix"
   ]
  },
  {
   "cell_type": "code",
   "execution_count": 8,
   "id": "f5dc5492-775d-450d-be0c-510fd8a67e56",
   "metadata": {},
   "outputs": [
    {
     "name": "stdout",
     "output_type": "stream",
     "text": [
      "tf.Tensor(\n",
      "[[-1.+0.j -0.+0.j -0.+0.j -0.+0.j]\n",
      " [-0.+0.j  1.-0.j -0.+0.j -0.+0.j]\n",
      " [-0.+0.j -0.+0.j  1.-0.j -0.+0.j]\n",
      " [-0.+0.j -0.+0.j -0.+0.j -1.+0.j]], shape=(4, 4), dtype=complex64)\n"
     ]
    }
   ],
   "source": [
    "print(quantummap.Transform2Matrix(HL.H))"
   ]
  },
  {
   "cell_type": "code",
   "execution_count": 9,
   "id": "5fc23dac-48da-4f11-a6a5-b00641d64883",
   "metadata": {},
   "outputs": [
    {
     "data": {
      "text/plain": [
       "<tf.Tensor: shape=(2, 2), dtype=complex64, numpy=\n",
       "array([[1.+0.j, 0.+0.j],\n",
       "       [0.+0.j, 0.+0.j]], dtype=complex64)>"
      ]
     },
     "execution_count": 9,
     "metadata": {},
     "output_type": "execute_result"
    }
   ],
   "source": [
    "HL.bias"
   ]
  },
  {
   "cell_type": "markdown",
   "id": "575f9508-f9ff-4c9a-9fcb-b9fb6d62abcc",
   "metadata": {},
   "source": [
    "Display the current ground state"
   ]
  },
  {
   "cell_type": "code",
   "execution_count": 10,
   "id": "10edd03f-a372-457a-b0e5-1569a640de3f",
   "metadata": {},
   "outputs": [
    {
     "name": "stdout",
     "output_type": "stream",
     "text": [
      "tf.Tensor(\n",
      "[[0.+0.j 0.+0.j]\n",
      " [1.+0.j 0.+0.j]], shape=(2, 2), dtype=complex64)\n"
     ]
    }
   ],
   "source": [
    "print(HL.ground_state())"
   ]
  },
  {
   "cell_type": "markdown",
   "id": "611979af-64da-442d-8f12-8c7fe2993300",
   "metadata": {},
   "source": [
    "Check the normalizzation"
   ]
  },
  {
   "cell_type": "code",
   "execution_count": 11,
   "id": "a5265b57-de7a-4578-8c3b-b8b06dd234d9",
   "metadata": {},
   "outputs": [
    {
     "data": {
      "text/plain": [
       "<tf.Tensor: shape=(1, 1), dtype=complex64, numpy=array([[1.+0.j]], dtype=complex64)>"
      ]
     },
     "execution_count": 11,
     "metadata": {},
     "output_type": "execute_result"
    }
   ],
   "source": [
    "quantummap.Scalar(HL.ground_state(),HL.ground_state())"
   ]
  },
  {
   "cell_type": "markdown",
   "id": "5658ef04-6ba5-430d-a5d6-acc0576f93fd",
   "metadata": {},
   "source": [
    "Compute $\\mathcal{\\hat{H}}|\\phi\\rangle$"
   ]
  },
  {
   "cell_type": "code",
   "execution_count": 12,
   "id": "a9fbaed3-b719-4d6a-9429-f4dcc009f24f",
   "metadata": {},
   "outputs": [],
   "source": [
    "Hphi=quantummap.Gate2(HL.H,HL.ground_state())"
   ]
  },
  {
   "cell_type": "markdown",
   "id": "b4cfda2f-bc84-4f5f-b27d-6af9c53fbe8c",
   "metadata": {},
   "source": [
    "Compute $\\langle \\phi|\\mathcal{\\hat{H}}|\\phi\\rangle$"
   ]
  },
  {
   "cell_type": "code",
   "execution_count": 13,
   "id": "3b6c2bc7-43a0-4d8d-bdcc-55c9747f6291",
   "metadata": {},
   "outputs": [
    {
     "data": {
      "text/plain": [
       "<tf.Tensor: shape=(1, 1), dtype=complex64, numpy=array([[1.+0.j]], dtype=complex64)>"
      ]
     },
     "execution_count": 13,
     "metadata": {},
     "output_type": "execute_result"
    }
   ],
   "source": [
    "quantummap.Scalar2(HL.ground_state(),Hphi)"
   ]
  },
  {
   "cell_type": "markdown",
   "id": "266f4551-8a2f-4e0a-a2a6-7ccc3b68e44c",
   "metadata": {},
   "source": [
    "Call the layer and check is equal to $\\langle \\phi|\\mathcal{\\hat{H}}|\\phi\\rangle$"
   ]
  },
  {
   "cell_type": "code",
   "execution_count": 14,
   "id": "a631120e-168c-4abf-bd64-46058f412cb8",
   "metadata": {},
   "outputs": [
    {
     "data": {
      "text/plain": [
       "<tf.Tensor: shape=(1, 1), dtype=float32, numpy=array([[1.]], dtype=float32)>"
      ]
     },
     "execution_count": 14,
     "metadata": {},
     "output_type": "execute_result"
    }
   ],
   "source": [
    "HL(1.0)"
   ]
  },
  {
   "cell_type": "markdown",
   "id": "eb40148e-0e9c-49bd-906c-abc9a567036b",
   "metadata": {},
   "source": [
    "# Define and train the model"
   ]
  },
  {
   "cell_type": "code",
   "execution_count": 15,
   "id": "ccab6c67-a584-49ec-9b42-0a9417c0c38d",
   "metadata": {},
   "outputs": [],
   "source": [
    "# bias\n",
    "Hbias=quantummap.Gate2(quantummap.HH,quantummap.q00)\n",
    "# hyperparameter for the Hamiltonian\n",
    "J=1.0\n",
    "h=[1.0,1.0]\n",
    "# Input layer (one dummy input)\n",
    "xin = tf.keras.layers.Input(1,name='DummyInput');\n",
    "# Hamiltonianl layer\n",
    "HL=HamiltonianLayerNNQS(J=J,h=h, bias=Hbias,nhidden=100, name='HL')\n",
    "# output\n",
    "meanH=HL(xin)\n",
    "# trainable model returning meanH\n",
    "IsingNNQS = tf.keras.Model(inputs = xin, outputs=meanH, name='modelNNQS')\n",
    "# add loss function for the mean energy\n",
    "IsingNNQS.add_loss(meanH)"
   ]
  },
  {
   "cell_type": "markdown",
   "id": "8db5e393-537c-4d75-9450-8eefc1161e38",
   "metadata": {},
   "source": [
    "## Test the model with dummy input"
   ]
  },
  {
   "cell_type": "code",
   "execution_count": 17,
   "id": "1ffd17f8-dbd8-4fe8-9377-f89b438b1d9a",
   "metadata": {},
   "outputs": [
    {
     "name": "stdout",
     "output_type": "stream",
     "text": [
      "[[-0.104926467]]\n"
     ]
    }
   ],
   "source": [
    "tf.print(IsingNNQS(1.1))"
   ]
  },
  {
   "cell_type": "markdown",
   "id": "99966caa-93e2-409b-b2f3-abf3f4af0656",
   "metadata": {},
   "source": [
    "## Summary of the model"
   ]
  },
  {
   "cell_type": "code",
   "execution_count": 18,
   "id": "611d90cf-f0e4-48b6-80e1-6f4fa4933fff",
   "metadata": {},
   "outputs": [
    {
     "name": "stdout",
     "output_type": "stream",
     "text": [
      "Model: \"modelNNQS\"\n",
      "_________________________________________________________________\n",
      " Layer (type)                Output Shape              Param #   \n",
      "=================================================================\n",
      " DummyInput (InputLayer)     [(None, 1)]               0         \n",
      "                                                                 \n",
      " HL (HamiltonianLayerNNQS)   (1, 1)                    2400      \n",
      "                                                                 \n",
      " add_loss (AddLoss)          (1, 1)                    0         \n",
      "                                                                 \n",
      "=================================================================\n",
      "Total params: 2,400\n",
      "Trainable params: 2,400\n",
      "Non-trainable params: 0\n",
      "_________________________________________________________________\n"
     ]
    }
   ],
   "source": [
    "IsingNNQS.summary()"
   ]
  },
  {
   "cell_type": "markdown",
   "id": "a31e2c2e-3081-47d7-9d86-2286f2c55663",
   "metadata": {},
   "source": [
    "## Plot model"
   ]
  },
  {
   "cell_type": "code",
   "execution_count": 20,
   "id": "3e2163b6-60ac-430b-91b2-4ad85b9ddbf7",
   "metadata": {},
   "outputs": [
    {
     "data": {
      "image/png": "[encoded data removed]",
      "text/plain": [
       "<IPython.core.display.Image object>"
      ]
     },
     "execution_count": 20,
     "metadata": {},
     "output_type": "execute_result"
    }
   ],
   "source": [
    "from keras.utils.vis_utils import plot_model\n",
    "# save as pdf\n",
    "plot_model(IsingNNQS, to_file='TwoQubitIsingNNQS_plot.pdf', show_shapes=True, show_layer_names=True)\n",
    "# save and display as png\n",
    "plot_model(IsingNNQS, to_file='TwoQubitIsingNNQS_plot.png', show_shapes=True, show_layer_names=True)"
   ]
  },
  {
   "cell_type": "markdown",
   "id": "851489eb-a7b2-471b-b1be-b88abab835b5",
   "metadata": {},
   "source": [
    "## Store the ground state before training"
   ]
  },
  {
   "cell_type": "code",
   "execution_count": null,
   "id": "b39f853f-be45-48e4-bd44-12c716bc545b",
   "metadata": {},
   "outputs": [],
   "source": [
    "ground_state_0=tf.identity(HL10.ground_state())\n",
    "print(ground_state_0)"
   ]
  },
  {
   "cell_type": "markdown",
   "id": "ea9d004c-430d-4cee-b574-d6774c776b81",
   "metadata": {},
   "source": [
    "## Store the weights before training"
   ]
  },
  {
   "cell_type": "code",
   "execution_count": null,
   "id": "884b7dba-4468-41c5-ba6e-5210845c1e06",
   "metadata": {},
   "outputs": [],
   "source": [
    "weight0=IsingNNQS10.weights"
   ]
  },
  {
   "cell_type": "markdown",
   "id": "9ad51392-f18e-4332-a496-1e29368ba1a1",
   "metadata": {},
   "source": [
    "## Train"
   ]
  },
  {
   "cell_type": "code",
   "execution_count": null,
   "id": "b10ef903-e2bc-4ab3-be81-18aa3801c0b0",
   "metadata": {},
   "outputs": [],
   "source": [
    "# initialize tqdm callback with default parameters\n",
    "import tqdm\n",
    "tqdm_callback = tfa.callbacks.TQDMProgressBar(leave_epoch_progress=False, show_epoch_progress=False)"
   ]
  },
  {
   "cell_type": "markdown",
   "id": "afc16cfa-6821-47b7-808c-075ded86dfa1",
   "metadata": {},
   "source": [
    "We compile the model"
   ]
  },
  {
   "cell_type": "code",
   "execution_count": null,
   "id": "b9123378-3898-46eb-ae3e-109a2ab9f234",
   "metadata": {},
   "outputs": [],
   "source": [
    "IsingNNQS10.compile(optimizer=tf.keras.optimizers.Adam(learning_rate=0.1))"
   ]
  },
  {
   "cell_type": "markdown",
   "id": "4015370e-2d21-4f7a-8b79-37188dba4bf7",
   "metadata": {},
   "source": [
    "We use the <code>tqdm_callback</code> to display the error bar while training"
   ]
  },
  {
   "cell_type": "code",
   "execution_count": null,
   "id": "6b7b1182-8d6e-4bc1-8f41-66db0ad7d1cc",
   "metadata": {},
   "outputs": [],
   "source": [
    "historyNNQS10 = IsingNNQS10.fit(x=np.zeros(10,),epochs=1000, verbose=0, callbacks=[tqdm_callback])"
   ]
  },
  {
   "cell_type": "markdown",
   "id": "e592f06e-806e-40ac-879f-8993dfa4bba0",
   "metadata": {},
   "source": [
    "Print last value of energy"
   ]
  },
  {
   "cell_type": "code",
   "execution_count": null,
   "id": "920daa8a-ba02-4bee-ad0e-a8708e2334cc",
   "metadata": {},
   "outputs": [],
   "source": [
    "historyNNQS10.history['loss'][-1]"
   ]
  },
  {
   "cell_type": "code",
   "execution_count": null,
   "id": "5f16567e-f88f-4c9a-b76c-c872f77caf55",
   "metadata": {},
   "outputs": [],
   "source": [
    "IsingNNQS10(1.0)"
   ]
  },
  {
   "cell_type": "markdown",
   "id": "089ec83e-591d-4fb3-9f7a-735876e85a8b",
   "metadata": {},
   "source": [
    "### eigenvalues"
   ]
  },
  {
   "cell_type": "code",
   "execution_count": null,
   "id": "fc3ec952-eb59-48ac-960b-57e6ee24b331",
   "metadata": {},
   "outputs": [],
   "source": [
    "es=tf.linalg.eig(quantummap.Transform2Matrix(HL10.H))\n",
    "print(es[0])\n",
    "# find the lowest eigenvalue\n",
    "esmin=np.min(tf.math.real(es[0].numpy()))\n",
    "print(\"Lowest eigenvalues \"+repr(esmin))"
   ]
  },
  {
   "cell_type": "markdown",
   "id": "afdf899b-488f-44c1-b3eb-94ac92bccf5d",
   "metadata": {},
   "source": [
    "**REMARK** the lowest energy value is higher than the ground state energy !"
   ]
  },
  {
   "cell_type": "markdown",
   "id": "01647e18-7e43-4422-8b50-a6bf9a36b96a",
   "metadata": {},
   "source": [
    "## Plot the training history"
   ]
  },
  {
   "cell_type": "code",
   "execution_count": null,
   "id": "6a2a25a6-25f2-4917-a27b-475e29a3d2bf",
   "metadata": {},
   "outputs": [],
   "source": [
    "# %%\n",
    "# %matplotlib inline\n",
    "# Plot training & validation accuracy values\n",
    "f1 = plt.figure\n",
    "plt.subplot(2, 1, 1)\n",
    "plt.plot(historyNNQS10.history['loss'])\n",
    "plt.ylabel('$<\\mathcal{\\hat{H}}>$')\n",
    "plt.xlabel('Epoch')\n",
    "# superimpose the lowest eigenvalue\n",
    "xline=np.linspace(0,1000,100);\n",
    "yline=esmin*np.ones_like(xline);\n",
    "plt.plot(xline,yline,'r--')\n",
    "#print the training hystory on a file\n",
    "#plt. savefig(\"trainingTwoQuibtModelIsingNNQS10oknhidden100Hq00.pdf\", format=\"pdf\", bbox_inches=\"tight\")"
   ]
  },
  {
   "cell_type": "markdown",
   "id": "6b8676df-ac6e-4bb6-a788-6e519dcf2484",
   "metadata": {},
   "source": [
    "### Compute the entropy of the ground state"
   ]
  },
  {
   "cell_type": "code",
   "execution_count": null,
   "id": "c23806f8-b4a3-47a1-b8ae-96f6b47e06c6",
   "metadata": {},
   "outputs": [],
   "source": [
    "quantummap.VonNeumannEntropy2(HL10.ground_state())"
   ]
  },
  {
   "cell_type": "code",
   "execution_count": null,
   "id": "64d83fe1-8408-40f6-a49d-bd183ec5f27a",
   "metadata": {},
   "outputs": [],
   "source": [
    "HL10.ground_state()"
   ]
  },
  {
   "cell_type": "code",
   "execution_count": null,
   "id": "1ebcd3a6-c9d4-4928-ae7e-86230676b167",
   "metadata": {},
   "outputs": [],
   "source": [
    "ground_state_0"
   ]
  },
  {
   "cell_type": "markdown",
   "id": "27d641f6-c94c-44fd-9c1c-5d0907fab063",
   "metadata": {},
   "source": [
    "Check normalizzation of the ground state"
   ]
  },
  {
   "cell_type": "code",
   "execution_count": null,
   "id": "f45332f0-df13-4a85-b6cf-83734bf70563",
   "metadata": {},
   "outputs": [],
   "source": [
    "quantummap.Scalar(HL10.ground_state(),HL10.ground_state())"
   ]
  },
  {
   "cell_type": "markdown",
   "id": "43e2eaf3-a5f5-477a-bf2a-bf39ec2a7812",
   "metadata": {},
   "source": [
    "Stop running the notebook"
   ]
  },
  {
   "cell_type": "code",
   "execution_count": null,
   "id": "ac370e82-a80a-4f48-a6ee-9f6d8676f192",
   "metadata": {},
   "outputs": [],
   "source": [
    "assert False"
   ]
  }
 ],
 "metadata": {
  "kernelspec": {
   "display_name": "Python 3 (ipykernel)",
   "language": "python",
   "name": "python3"
  },
  "language_info": {
   "codemirror_mode": {
    "name": "ipython",
    "version": 3
   },
   "file_extension": ".py",
   "mimetype": "text/x-python",
   "name": "python",
   "nbconvert_exporter": "python",
   "pygments_lexer": "ipython3",
   "version": "3.8.13"
  }
 },
 "nbformat": 4,
 "nbformat_minor": 5
}
