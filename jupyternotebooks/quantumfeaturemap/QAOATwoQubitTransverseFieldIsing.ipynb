{
 "cells": [
  {
   "cell_type": "markdown",
   "id": "0915292a-b237-4a7d-a549-e1e1cf10552e",
   "metadata": {},
   "source": [
    "# Two-qubit Transverse field Ising model by quantum approximate optimization algorithm\n",
    "\n",
    "\n",
    "\n",
    "<img src=\"../logo_circular.png\" width=\"20\" height=\"20\" />@by claudio<br>\n",
    "nonlinearxwaves@gmail.com<br>\n",
    "\n",
    "\n",
    "@created 7 sep 2022<br>\n",
    "@version 7 sep 2022"
   ]
  },
  {
   "cell_type": "code",
   "execution_count": 1,
   "id": "56ec1e35-3493-4ee1-9f6d-56d6027fa956",
   "metadata": {
    "tags": []
   },
   "outputs": [
    {
     "name": "stderr",
     "output_type": "stream",
     "text": [
      "2022-09-09 07:37:54.532123: W tensorflow/stream_executor/platform/default/dso_loader.cc:64] Could not load dynamic library 'libcudart.so.11.0'; dlerror: libcudart.so.11.0: cannot open shared object file: No such file or directory\n",
      "2022-09-09 07:37:54.532153: I tensorflow/stream_executor/cuda/cudart_stub.cc:29] Ignore above cudart dlerror if you do not have a GPU set up on your machine.\n",
      "2022-09-09 07:37:55.823485: W tensorflow/stream_executor/platform/default/dso_loader.cc:64] Could not load dynamic library 'libcuda.so.1'; dlerror: libcuda.so.1: cannot open shared object file: No such file or directory\n",
      "2022-09-09 07:37:55.823509: W tensorflow/stream_executor/cuda/cuda_driver.cc:269] failed call to cuInit: UNKNOWN ERROR (303)\n",
      "2022-09-09 07:37:55.823527: I tensorflow/stream_executor/cuda/cuda_diagnostics.cc:156] kernel driver does not appear to be running on this host (x1): /proc/driver/nvidia/version does not exist\n",
      "2022-09-09 07:37:55.823752: I tensorflow/core/platform/cpu_feature_guard.cc:151] This TensorFlow binary is optimized with oneAPI Deep Neural Network Library (oneDNN) to use the following CPU instructions in performance-critical operations:  AVX2 FMA\n",
      "To enable them in other operations, rebuild TensorFlow with the appropriate compiler flags.\n"
     ]
    }
   ],
   "source": [
    "from thqml import quantummap as quantummap\n",
    "import tensorflow as  tf\n",
    "import numpy as np\n",
    "import matplotlib.pyplot as plt\n",
    "import tensorflow_addons as tfa\n",
    "np.set_printoptions(precision=2)"
   ]
  },
  {
   "cell_type": "markdown",
   "id": "ffe871d0-34a0-4b84-b2c5-58d407ae5a25",
   "metadata": {
    "tags": []
   },
   "source": [
    "# Define Hamiltonian operator"
   ]
  },
  {
   "cell_type": "markdown",
   "id": "0eac9b4f-637d-4d14-aade-5d7894d9e65e",
   "metadata": {},
   "source": [
    "$\\hat{\\mathcal{H}}=-J Z_0 Z_1 -h_0 X_0 -h_1 X_1$"
   ]
  },
  {
   "cell_type": "code",
   "execution_count": 2,
   "id": "5c119c43-4975-4435-9e6c-afd062fa48c8",
   "metadata": {},
   "outputs": [],
   "source": [
    "@tf.function\n",
    "def Hamiltonian(J=1, h=[0,0]):\n",
    "    \"\"\" Two-qubit tranverse Ising model Hamiltonian\n",
    "    \n",
    "        H=-J Z0 Z1 -h0 X0 -h1 X0\n",
    "        \n",
    "        Params\n",
    "        ------\n",
    "        J = coupling shape=(1,)\n",
    "        h = field shape=(2,)\n",
    "    \"\"\"\n",
    "    out = -J*quantummap.ZZ-h[0]*quantummap.XI-h[1]*quantummap.IX\n",
    "        \n",
    "    return out"
   ]
  },
  {
   "cell_type": "markdown",
   "id": "894cbf2d-495d-44a2-b4ed-201baaf9fbe8",
   "metadata": {},
   "source": [
    "## Test the Hamiltonian"
   ]
  },
  {
   "cell_type": "markdown",
   "id": "4277fa62-4308-4a1c-9593-585222496924",
   "metadata": {},
   "source": [
    "Hamiltonian with no field terms"
   ]
  },
  {
   "cell_type": "code",
   "execution_count": 3,
   "id": "5413673c-4599-4eff-bb93-f87dc43e6af1",
   "metadata": {},
   "outputs": [
    {
     "name": "stdout",
     "output_type": "stream",
     "text": [
      "tf.Tensor(\n",
      "[[-1.+0.j -0.+0.j -0.+0.j -0.+0.j]\n",
      " [-0.+0.j  1.-0.j -0.+0.j -0.+0.j]\n",
      " [-0.+0.j -0.+0.j  1.-0.j -0.+0.j]\n",
      " [-0.+0.j -0.+0.j -0.+0.j -1.+0.j]], shape=(4, 4), dtype=complex64)\n"
     ]
    }
   ],
   "source": [
    "H=Hamiltonian()\n",
    "print(quantummap.Transform2Matrix(H))"
   ]
  },
  {
   "cell_type": "markdown",
   "id": "7e2049e2-9e7c-409d-9b6f-ba0b6f7e3a8c",
   "metadata": {},
   "source": [
    "Hamiltonian with field terms"
   ]
  },
  {
   "cell_type": "code",
   "execution_count": 4,
   "id": "61ade790-a740-44f8-bbf1-0f8adeede21b",
   "metadata": {},
   "outputs": [
    {
     "name": "stdout",
     "output_type": "stream",
     "text": [
      "tf.Tensor(\n",
      "[[-1. +0.j -3.2+0.j -1.1+0.j -0. +0.j]\n",
      " [-3.2+0.j  1. -0.j -0. +0.j -1.1+0.j]\n",
      " [-1.1+0.j -0. +0.j  1. -0.j -3.2+0.j]\n",
      " [-0. +0.j -1.1+0.j -3.2+0.j -1. +0.j]], shape=(4, 4), dtype=complex64)\n"
     ]
    }
   ],
   "source": [
    "H=Hamiltonian(h=[1.1,3.2])\n",
    "print(quantummap.Transform2Matrix(H))"
   ]
  },
  {
   "cell_type": "markdown",
   "id": "8a13818d-6645-4ef2-b25c-2adfc81e53ec",
   "metadata": {},
   "source": [
    "## Find eigenvalues an eigenvectors of H"
   ]
  },
  {
   "cell_type": "markdown",
   "id": "f5b8e6e9-dd7e-43b3-aee5-595851afda80",
   "metadata": {},
   "source": [
    "Let us consider the Hamiltonian with no field"
   ]
  },
  {
   "cell_type": "code",
   "execution_count": 5,
   "id": "056b293e-f135-484d-962b-2e23e5678143",
   "metadata": {},
   "outputs": [],
   "source": [
    "H=Hamiltonian()"
   ]
  },
  {
   "cell_type": "markdown",
   "id": "479da46e-cc65-4c70-8650-6c81e8ec3f6d",
   "metadata": {},
   "source": [
    "Transforms H into a 4x4 numpy matrix"
   ]
  },
  {
   "cell_type": "code",
   "execution_count": 6,
   "id": "10645dbf-2d36-4d72-b23d-2bc7453eefa2",
   "metadata": {},
   "outputs": [],
   "source": [
    "Hmatrix=quantummap.Transform2Matrix(H).numpy()"
   ]
  },
  {
   "cell_type": "code",
   "execution_count": 7,
   "id": "ccc8c87e-a0ae-4c0f-9a86-11e16a1dd7bb",
   "metadata": {},
   "outputs": [
    {
     "name": "stdout",
     "output_type": "stream",
     "text": [
      "[[-1.+0.j -0.+0.j -0.+0.j -0.+0.j]\n",
      " [-0.+0.j  1.-0.j -0.+0.j -0.+0.j]\n",
      " [-0.+0.j -0.+0.j  1.-0.j -0.+0.j]\n",
      " [-0.+0.j -0.+0.j -0.+0.j -1.+0.j]]\n"
     ]
    }
   ],
   "source": [
    "print(Hmatrix)"
   ]
  },
  {
   "cell_type": "markdown",
   "id": "a5f2a457-e951-454c-9861-df6c362fd89f",
   "metadata": {},
   "source": [
    "Eigenvalues of H"
   ]
  },
  {
   "cell_type": "code",
   "execution_count": 8,
   "id": "9b3a972d-f5ed-47bb-a7b2-887e3ac6f696",
   "metadata": {},
   "outputs": [],
   "source": [
    "eigenvalues, eigenvectors=np.linalg.eig(Hmatrix)"
   ]
  },
  {
   "cell_type": "code",
   "execution_count": 9,
   "id": "d9ef3451-4ea6-4530-a4c4-d2e181261f86",
   "metadata": {},
   "outputs": [
    {
     "name": "stdout",
     "output_type": "stream",
     "text": [
      "[-1.+0.j  1.-0.j  1.-0.j -1.+0.j]\n"
     ]
    }
   ],
   "source": [
    "print(eigenvalues)"
   ]
  },
  {
   "cell_type": "code",
   "execution_count": 10,
   "id": "d4e01cfa-193a-4571-bc28-5e3eadd06168",
   "metadata": {},
   "outputs": [
    {
     "name": "stdout",
     "output_type": "stream",
     "text": [
      "[[1.+0.j 0.+0.j 0.+0.j 0.+0.j]\n",
      " [0.+0.j 1.+0.j 0.+0.j 0.+0.j]\n",
      " [0.+0.j 0.+0.j 1.+0.j 0.+0.j]\n",
      " [0.+0.j 0.+0.j 0.+0.j 1.+0.j]]\n"
     ]
    }
   ],
   "source": [
    "print(eigenvectors)"
   ]
  },
  {
   "cell_type": "markdown",
   "id": "16625e23-33d0-4dd8-ac93-00b7ad8bbaf2",
   "metadata": {},
   "source": [
    "So the ground state is doubly degenerate with eigenvalue -1"
   ]
  },
  {
   "cell_type": "markdown",
   "id": "f1e2a2ba-f46c-4966-bac1-863721c9096e",
   "metadata": {},
   "source": [
    "Eigenvalues $-1$ are <code>eigenvalues[0]</code> and <code>eigenvalues[3]</code>"
   ]
  },
  {
   "cell_type": "markdown",
   "id": "ca5b987d-1b21-4d83-b462-2b058e4dece8",
   "metadata": {},
   "source": [
    "The two corresponding eigevectos are $|00\\rangle=|\\downarrow\\downarrow\\rangle$ and $|11\\rangle=|\\uparrow\\uparrow\\rangle$,"
   ]
  },
  {
   "cell_type": "markdown",
   "id": "d4d7dc90-6857-4543-9950-cef7c44cf6c8",
   "metadata": {},
   "source": [
    "which correspond to parallel spins and <code>eigenvectors[:,0]</code> and <code>eigenvectors[:,3]</code> "
   ]
  },
  {
   "cell_type": "code",
   "execution_count": 11,
   "id": "433e81c1-b274-428d-b3da-838d9e604ae1",
   "metadata": {},
   "outputs": [
    {
     "name": "stdout",
     "output_type": "stream",
     "text": [
      "(-1+0j)\n",
      "[1.+0.j 0.+0.j 0.+0.j 0.+0.j]\n"
     ]
    }
   ],
   "source": [
    "print(eigenvalues[0])\n",
    "print(eigenvectors[:,0])"
   ]
  },
  {
   "cell_type": "code",
   "execution_count": 12,
   "id": "736af7d3-6e5c-4ae7-b1b0-3962d1a5c39d",
   "metadata": {},
   "outputs": [
    {
     "name": "stdout",
     "output_type": "stream",
     "text": [
      "(-1+0j)\n",
      "[0.+0.j 0.+0.j 0.+0.j 1.+0.j]\n"
     ]
    }
   ],
   "source": [
    "print(eigenvalues[3])\n",
    "print(eigenvectors[:,3])"
   ]
  },
  {
   "cell_type": "markdown",
   "id": "3663ca48-14e0-43ed-935f-396531666d02",
   "metadata": {},
   "source": [
    "# Variational Ansatz with Two Qubit, first version, non entangled map"
   ]
  },
  {
   "cell_type": "markdown",
   "id": "30814f06-45cf-4cb4-b9a7-7752adaac4e7",
   "metadata": {},
   "source": [
    "## Number of parameters in the variational ansatz"
   ]
  },
  {
   "cell_type": "code",
   "execution_count": 13,
   "id": "08cec60d-d059-48f6-9ddb-5d3813b273bb",
   "metadata": {},
   "outputs": [],
   "source": [
    "ntheta=6"
   ]
  },
  {
   "cell_type": "code",
   "execution_count": 14,
   "id": "9594f5a5-33b6-4949-90ae-915335f281e6",
   "metadata": {},
   "outputs": [
    {
     "name": "stdout",
     "output_type": "stream",
     "text": [
      "[0.92 0.06 0.36 0.91]\n",
      "[0.92 0.06]\n",
      "[0.36 0.91]\n",
      "0.9176601886714327\n"
     ]
    }
   ],
   "source": [
    "nlayer=2\n",
    "theta=np.random.random(2*nlayer)\n",
    "print(theta)\n",
    "gamma=theta[:nlayer]\n",
    "beta=theta[nlayer:]\n",
    "print(gamma)\n",
    "print(beta)\n",
    "print(gamma[0])"
   ]
  },
  {
   "cell_type": "markdown",
   "id": "e8c7e930-911d-47ed-b2f6-e8ecdc8fbd0b",
   "metadata": {},
   "source": [
    "## A simple variational ansatz with rotations"
   ]
  },
  {
   "cell_type": "code",
   "execution_count": 15,
   "id": "dc2c4a35-f10a-40ed-a880-17234a9af541",
   "metadata": {},
   "outputs": [],
   "source": [
    "@tf.function\n",
    "def QAOA(theta, phi, layers=1, J=1, h=[0.0,0.0]):\n",
    "    \"\"\" Feature Map for the \n",
    "    Quantum Approximate Optimization Algorithm\n",
    "    \n",
    "    Params\n",
    "    ------\n",
    "    theta, shape=(2*layers,) real parameters \n",
    "    phi,   two-qubit state\n",
    "    layers=1, number of iterations\n",
    "    \n",
    "    Returns\n",
    "    -------\n",
    "    A two-qubit state\n",
    "    \"\"\"\n",
    "    h0=h[0]\n",
    "    h1=h[1]\n",
    "    \n",
    "    # extract parameters of the layers\n",
    "    gamma=theta[:layers]\n",
    "    beta=theta[layers:]\n",
    "\n",
    "    # init the state as H|00>\n",
    "    phi=quantummap.Gate(quantummap.HH,phi)\n",
    "    # function for a step\n",
    "    def UC(phi, gamma, beta):\n",
    "        # e^{i gamma C}\n",
    "        C=quantummap.EZZ(-J*gamma)\n",
    "        phi=quantummap.Gate(C,phi)\n",
    "        C=quantummap.EXI(-h0*gamma)\n",
    "        phi=quantummap.Gate(C,phi)\n",
    "        C=quantummap.EXI(-h1*gamma)\n",
    "        phi=quantummap.Gate(C,phi)        \n",
    "        # e^{i beta B}\n",
    "        phi=quantummap.Gate(quantummap.EXI(beta),phi)\n",
    "        phi=quantummap.Gate(quantummap.EIX(beta),phi)\n",
    "        return phi\n",
    "\n",
    "    # iterate the layers\n",
    "    for  j in range(layers):\n",
    "        phi=UC(phi, gamma[j], beta[j])\n",
    "        \n",
    "    return phi"
   ]
  },
  {
   "cell_type": "markdown",
   "id": "d78514bc-f466-4556-bf81-ce9cf4a4febb",
   "metadata": {},
   "source": [
    "# Layer with weights theta and output mean Hamiltonian"
   ]
  },
  {
   "cell_type": "code",
   "execution_count": 16,
   "id": "1622c42d-daff-4136-ae69-7dd32af49a07",
   "metadata": {},
   "outputs": [],
   "source": [
    "class HamiltonianLayerQAOA(tf.keras.layers.Layer):\n",
    "    # Define a Layer returning the mean value of the Hamiltonian\n",
    "    # with\n",
    "    # Quantum Approximate Optimization Annealing\n",
    "    #\n",
    "    # The layer has trainable parameters, i.e.,\n",
    "    # the  parameters theta of the trainable feature map\n",
    "    #\n",
    "    # The Layer use the functions\n",
    "    # Hamiltonian\n",
    "    # QAOA \n",
    "    #\n",
    "    # The constructor use parameters \n",
    "    #\n",
    "    #  Params\n",
    "    #  ------\n",
    "    #  J : coupling coefficient\n",
    "    #      (default J=1)\n",
    "    #  h : positive field shape=(2,)\n",
    "    #      (default h=[0.0,0.0])\n",
    "    #  map: a function containing the feature map\n",
    "    #      (default is QAOA)\n",
    "    #  pQAOA: iterations of the QAOA feature map\n",
    "    #      (default is 1)\n",
    "    #  bias: the bias state\n",
    "    #      (default is ground state quantummap.q00)\n",
    "    #\n",
    "    #  Example\n",
    "    #  -------\n",
    "    #  HL=HL(J=.5, h=[1.2,-1.0],pQAOA=3)\n",
    "    #\n",
    "    #  Returns\n",
    "    #  -------\n",
    "    #  The call return the real part of \n",
    "    #  <\\psi|H|\\psi>\n",
    "    #\n",
    "    def __init__(self, J=1.0, h=[0.0,0.0], \n",
    "                 FeatureMap=QAOA, \n",
    "                 pQAOA=1,\n",
    "                 q00=quantummap.q00,\n",
    "                 **kwargs):\n",
    "        super(HamiltonianLayerQAOA, self).__init__(**kwargs)\n",
    "        # trainable parameter of the model\n",
    "        # initially set as random (real variables)\n",
    "        self.theta=tf.Variable(np.random.random(2*pQAOA),\n",
    "                               dtype=tf.float32,\n",
    "                              name='theta')\n",
    "        # gap coefficient\n",
    "        self.J=J\n",
    "        # field coefficient\n",
    "        self.h=h\n",
    "        # Hamiltonian\n",
    "        self.H=Hamiltonian(J=self.J,h=self.h)\n",
    "        # Bias state\n",
    "        self.q00=q00\n",
    "        # Feature map for the ground state\n",
    "        self.FeatureMap=FeatureMap\n",
    "        # Number of layers of QAOA\n",
    "        self.pQAOA=pQAOA\n",
    "    def ground_state(self):\n",
    "        \"\"\" Return the current ground state \"\"\"\n",
    "        phi=self.FeatureMap(self.theta,self.q00,self.pQAOA, self.J,self.h)\n",
    "        return phi\n",
    "    def call(self,dummy):\n",
    "        \"\"\" Return Re<H> \n",
    "        Remark:  this layer has a dummy variable as input\n",
    "        (required for compatibility with tensorflow call)\n",
    "        \"\"\"\n",
    "        phi=self.ground_state()\n",
    "        Hphi=quantummap.Gate2(self.H,phi)\n",
    "        meanH=quantummap.Scalar(phi, Hphi)\n",
    "        return tf.math.real(meanH)"
   ]
  },
  {
   "cell_type": "markdown",
   "id": "c02e419a-1f1e-48c4-9db4-1399237dc287",
   "metadata": {},
   "source": [
    "## Test the layer"
   ]
  },
  {
   "cell_type": "markdown",
   "id": "01b9a21d-0103-4504-b220-f3c3a2e1b011",
   "metadata": {},
   "source": [
    "Create the layer with default parameters"
   ]
  },
  {
   "cell_type": "code",
   "execution_count": 17,
   "id": "072a9098-fcac-4f49-9a67-c2bf252f52cd",
   "metadata": {},
   "outputs": [],
   "source": [
    "HL=HamiltonianLayerQAOA()"
   ]
  },
  {
   "cell_type": "markdown",
   "id": "b3094743-4a32-4c5a-9883-cd62f1275f50",
   "metadata": {},
   "source": [
    "Print J and H"
   ]
  },
  {
   "cell_type": "code",
   "execution_count": 18,
   "id": "970596a7-9c6f-47e5-9af1-8d4f9fcf814c",
   "metadata": {},
   "outputs": [
    {
     "name": "stdout",
     "output_type": "stream",
     "text": [
      "1.0 ListWrapper([0.0, 0.0])\n"
     ]
    }
   ],
   "source": [
    "print(HL.J, HL.h)"
   ]
  },
  {
   "cell_type": "markdown",
   "id": "36139e04-f7d7-446f-9d7f-8296a088702a",
   "metadata": {},
   "source": [
    "Display $\\mathcal{\\hat{H}}$ as a matrix"
   ]
  },
  {
   "cell_type": "code",
   "execution_count": 19,
   "id": "99c75543-a5d2-43f2-a0b0-96202913d109",
   "metadata": {},
   "outputs": [
    {
     "name": "stdout",
     "output_type": "stream",
     "text": [
      "tf.Tensor(\n",
      "[[-1.+0.j -0.+0.j -0.+0.j -0.+0.j]\n",
      " [-0.+0.j  1.-0.j -0.+0.j -0.+0.j]\n",
      " [-0.+0.j -0.+0.j  1.-0.j -0.+0.j]\n",
      " [-0.+0.j -0.+0.j -0.+0.j -1.+0.j]], shape=(4, 4), dtype=complex64)\n"
     ]
    }
   ],
   "source": [
    "print(quantummap.Transform2Matrix(HL.H))"
   ]
  },
  {
   "cell_type": "markdown",
   "id": "688dedc4-3532-4ecb-bdf6-193832ced8e9",
   "metadata": {},
   "source": [
    "Display the current ground state"
   ]
  },
  {
   "cell_type": "code",
   "execution_count": 20,
   "id": "70011aa0-d30b-4486-82b9-e5d2c83c9da6",
   "metadata": {},
   "outputs": [
    {
     "name": "stdout",
     "output_type": "stream",
     "text": [
      "tf.Tensor(\n",
      "[[-0.25+0.5j  -0.  +0.43j]\n",
      " [-0.  +0.43j -0.25+0.5j ]], shape=(2, 2), dtype=complex64)\n"
     ]
    }
   ],
   "source": [
    "print(HL.ground_state())"
   ]
  },
  {
   "cell_type": "markdown",
   "id": "9b883651-6fc2-4ee3-b77f-c1edb232fdf8",
   "metadata": {},
   "source": [
    "Display the current weights"
   ]
  },
  {
   "cell_type": "code",
   "execution_count": 21,
   "id": "d17de2ec-bf99-4da2-af20-19e6d4e3cb96",
   "metadata": {},
   "outputs": [
    {
     "name": "stdout",
     "output_type": "stream",
     "text": [
      "[<tf.Variable 'theta:0' shape=(2,) dtype=float32, numpy=array([0.26, 0.92], dtype=float32)>]\n"
     ]
    }
   ],
   "source": [
    "print(HL.weights)"
   ]
  },
  {
   "cell_type": "markdown",
   "id": "788fe4e3-f8cf-4fbd-b85e-c922938a3e6a",
   "metadata": {},
   "source": [
    "Compute $\\mathcal{\\hat{H}}|\\phi\\rangle$"
   ]
  },
  {
   "cell_type": "code",
   "execution_count": 22,
   "id": "bc02f343-9af2-4f4a-a7f2-4e703fbbbfa0",
   "metadata": {},
   "outputs": [],
   "source": [
    "Hphi=quantummap.Gate2(HL.H,HL.ground_state())"
   ]
  },
  {
   "cell_type": "markdown",
   "id": "125b256f-d724-49d5-9104-6910599263a5",
   "metadata": {},
   "source": [
    "Compute $\\langle \\phi|\\mathcal{\\hat{H}}|\\phi\\rangle$"
   ]
  },
  {
   "cell_type": "code",
   "execution_count": 23,
   "id": "cdb89bbb-fc15-44f9-83a0-4148da10d0f1",
   "metadata": {},
   "outputs": [
    {
     "data": {
      "text/plain": [
       "<tf.Tensor: shape=(1, 1), dtype=complex64, numpy=array([[-0.25+0.j]], dtype=complex64)>"
      ]
     },
     "execution_count": 23,
     "metadata": {},
     "output_type": "execute_result"
    }
   ],
   "source": [
    "quantummap.Scalar2(HL.ground_state(),Hphi)"
   ]
  },
  {
   "cell_type": "markdown",
   "id": "539963e8-6afe-408a-a3d1-0308cfd03735",
   "metadata": {},
   "source": [
    "Call the layer and check is equal to $\\langle \\phi|\\mathcal{\\hat{H}}|\\phi\\rangle$"
   ]
  },
  {
   "cell_type": "code",
   "execution_count": 24,
   "id": "bbb719b0-2bd8-4ba1-9812-00c5eed2f056",
   "metadata": {},
   "outputs": [
    {
     "data": {
      "text/plain": [
       "<tf.Tensor: shape=(1, 1), dtype=float32, numpy=array([[-0.25]], dtype=float32)>"
      ]
     },
     "execution_count": 24,
     "metadata": {},
     "output_type": "execute_result"
    }
   ],
   "source": [
    "HL(1.0)"
   ]
  },
  {
   "cell_type": "markdown",
   "id": "cd2f25e7-a295-43cd-9ebf-3a8b0b515f22",
   "metadata": {},
   "source": [
    "note the input to the layer is a dummy real number"
   ]
  },
  {
   "cell_type": "markdown",
   "id": "75dd099a-d47d-42d5-aea8-889a5e645eee",
   "metadata": {},
   "source": [
    "# Define and train the model"
   ]
  },
  {
   "cell_type": "code",
   "execution_count": 25,
   "id": "51a5c67d-c71c-4e59-a5fa-1217257258b3",
   "metadata": {},
   "outputs": [],
   "source": [
    "# hyperparameter for the Hamiltonain\n",
    "J=1.0\n",
    "h=[1.0,1.0]\n",
    "# Input layer (one dummy input)\n",
    "xin1 = tf.keras.layers.Input(1,name='DummyInput1');\n",
    "# Hamiltonianl layer\n",
    "HL1=HamiltonianLayerQAOA(J=J,h=h, pQAOA=3, name='H1')\n",
    "# output\n",
    "meanH1=HL1(xin1)\n",
    "# trainable model returning meanH\n",
    "Ising1 = tf.keras.Model(inputs = xin1, outputs=meanH1, name='model1')\n",
    "# add loss function\n",
    "Ising1.add_loss(meanH1)"
   ]
  },
  {
   "cell_type": "markdown",
   "id": "db7fe7d6-971d-4bd1-92e2-be11da7347fd",
   "metadata": {},
   "source": [
    "## Test the model with dummy input"
   ]
  },
  {
   "cell_type": "code",
   "execution_count": 26,
   "id": "9d9d066e-7327-44ed-823e-47d87e087f81",
   "metadata": {},
   "outputs": [
    {
     "name": "stdout",
     "output_type": "stream",
     "text": [
      "[[1.46006274]]\n"
     ]
    }
   ],
   "source": [
    "tf.print(Ising1(1.1))"
   ]
  },
  {
   "cell_type": "markdown",
   "id": "eedaef5d-d3e9-4a86-bc6e-b10c97eaeacd",
   "metadata": {},
   "source": [
    "# Summary of the model"
   ]
  },
  {
   "cell_type": "code",
   "execution_count": 27,
   "id": "09b9fdcb-59cf-4b25-bfb2-0652981523bc",
   "metadata": {},
   "outputs": [
    {
     "name": "stdout",
     "output_type": "stream",
     "text": [
      "Model: \"model1\"\n",
      "_________________________________________________________________\n",
      " Layer (type)                Output Shape              Param #   \n",
      "=================================================================\n",
      " DummyInput1 (InputLayer)    [(None, 1)]               0         \n",
      "                                                                 \n",
      " H1 (HamiltonianLayerQAOA)   (1, 1)                    6         \n",
      "                                                                 \n",
      " add_loss (AddLoss)          (1, 1)                    0         \n",
      "                                                                 \n",
      "=================================================================\n",
      "Total params: 6\n",
      "Trainable params: 6\n",
      "Non-trainable params: 0\n",
      "_________________________________________________________________\n"
     ]
    }
   ],
   "source": [
    "Ising1.summary()"
   ]
  },
  {
   "cell_type": "markdown",
   "id": "f7a3b023-5bff-4435-8d45-430e1cdb0ff2",
   "metadata": {},
   "source": [
    "## Plot model"
   ]
  },
  {
   "cell_type": "code",
   "execution_count": 28,
   "id": "334eb9e2-b802-4e52-a2b1-88bcca265755",
   "metadata": {},
   "outputs": [
    {
     "data": {
      "image/png": "[encoded data removed]",
      "text/plain": [
       "<IPython.core.display.Image object>"
      ]
     },
     "execution_count": 28,
     "metadata": {},
     "output_type": "execute_result"
    }
   ],
   "source": [
    "from keras.utils.vis_utils import plot_model\n",
    "# save as pdf\n",
    "plot_model(Ising1, to_file='TwoQubitIsingQAOA_plot.pdf', show_shapes=True, show_layer_names=True)\n",
    "# save and display as png\n",
    "plot_model(Ising1, to_file='TwoQubitIsingQAOA_plot.png', show_shapes=True, show_layer_names=True)"
   ]
  },
  {
   "cell_type": "markdown",
   "id": "88b84079-4b62-47c5-bec0-4440e7405e3f",
   "metadata": {},
   "source": [
    "## Store the ground state before training"
   ]
  },
  {
   "cell_type": "code",
   "execution_count": 29,
   "id": "c0ce70a0-84ba-4d27-8b7b-4d4008306726",
   "metadata": {},
   "outputs": [
    {
     "name": "stdout",
     "output_type": "stream",
     "text": [
      "tf.Tensor(\n",
      "[[-0.25+0.5j  -0.  +0.43j]\n",
      " [-0.  +0.43j -0.25+0.5j ]], shape=(2, 2), dtype=complex64)\n"
     ]
    }
   ],
   "source": [
    "ground_state_0=tf.identity(HL.ground_state())\n",
    "print(ground_state_0)"
   ]
  },
  {
   "cell_type": "markdown",
   "id": "795ef848-e6e3-4446-9a66-514a60d046e3",
   "metadata": {},
   "source": [
    "## Store the weights before training"
   ]
  },
  {
   "cell_type": "code",
   "execution_count": 30,
   "id": "96accb82-0a79-41e9-bac1-bd90e9ca9373",
   "metadata": {},
   "outputs": [
    {
     "name": "stdout",
     "output_type": "stream",
     "text": [
      "tf.Tensor([[0.74 0.94 0.36 0.81 0.28 0.82]], shape=(1, 6), dtype=float32)\n"
     ]
    }
   ],
   "source": [
    "weight0=tf.identity(Ising1.weights)\n",
    "print(weight0)"
   ]
  },
  {
   "cell_type": "code",
   "execution_count": 31,
   "id": "772b0a71-7be9-45c4-b9d2-21de7aa2e3f0",
   "metadata": {},
   "outputs": [],
   "source": [
    "## Eigenvalues of the Hamiltonian"
   ]
  },
  {
   "cell_type": "code",
   "execution_count": 32,
   "id": "58f3d73b-6a2d-48c7-9d57-1df7111ee2fd",
   "metadata": {},
   "outputs": [
    {
     "name": "stdout",
     "output_type": "stream",
     "text": [
      "tf.Tensor([ 1.  +0.j -1.  +0.j -2.24+0.j  2.24+0.j], shape=(4,), dtype=complex64)\n",
      "Lowest eigenvalues -2.2360685\n"
     ]
    }
   ],
   "source": [
    "es=tf.linalg.eig(quantummap.Transform2Matrix(HL1.H))\n",
    "print(es[0])\n",
    "# find the lowest eigenvalue\n",
    "esmin=np.min(tf.math.real(es[0].numpy()))\n",
    "print(\"Lowest eigenvalues \"+repr(esmin))"
   ]
  },
  {
   "cell_type": "markdown",
   "id": "e6f511c8-3d10-4b43-97df-4ea8e8ce6a20",
   "metadata": {},
   "source": [
    "# Train"
   ]
  },
  {
   "cell_type": "code",
   "execution_count": 33,
   "id": "3bfeb5ad-b1cd-4eae-9a6e-735debb43396",
   "metadata": {},
   "outputs": [
    {
     "data": {
      "application/vnd.jupyter.widget-view+json": {
       "model_id": "402b54e5e58d4ca2b5e1e849b7de2701",
       "version_major": 2,
       "version_minor": 0
      },
      "text/plain": [
       "Training:   0%|                                                0/1000 ETA: ?s,  ?epochs/s"
      ]
     },
     "metadata": {},
     "output_type": "display_data"
    }
   ],
   "source": [
    "# initialize tqdm callback with default parameters\n",
    "import tqdm\n",
    "tqdm_callback = tfa.callbacks.TQDMProgressBar(leave_epoch_progress=False, show_epoch_progress=False)\n",
    "Ising1.compile(optimizer=tf.keras.optimizers.Adam(learning_rate=0.01))\n",
    "history1 = Ising1.fit(x=np.zeros(10,),epochs=1000, verbose=0, callbacks=[tqdm_callback])"
   ]
  },
  {
   "cell_type": "code",
   "execution_count": 34,
   "id": "e7b94b7c-7f1d-420e-b02d-82b1af50e30b",
   "metadata": {},
   "outputs": [
    {
     "data": {
      "text/plain": [
       "[<tf.Variable 'theta:0' shape=(6,) dtype=float32, numpy=array([1.01, 0.66, 0.53, 0.57, 0.39, 0.92], dtype=float32)>]"
      ]
     },
     "execution_count": 34,
     "metadata": {},
     "output_type": "execute_result"
    }
   ],
   "source": [
    "Ising1.weights"
   ]
  },
  {
   "cell_type": "markdown",
   "id": "1d4fd26b-4195-4c7c-8bdc-8dba28cdd0d5",
   "metadata": {},
   "source": [
    "Plot the training history"
   ]
  },
  {
   "cell_type": "code",
   "execution_count": 35,
   "id": "0705e5d8-5841-497f-9a80-3867d1ab9186",
   "metadata": {},
   "outputs": [
    {
     "data": {
      "image/png": "[encoded data removed]",
      "text/plain": [
       "<Figure size 432x288 with 1 Axes>"
      ]
     },
     "metadata": {
      "needs_background": "light"
     },
     "output_type": "display_data"
    }
   ],
   "source": [
    "# %%\n",
    "# %matplotlib inline\n",
    "# Plot training & validation accuracy values\n",
    "f1 = plt.figure\n",
    "plt.subplot(2, 1, 1)\n",
    "plt.plot(history1.history['loss'])\n",
    "plt.ylabel('$<\\mathcal{\\hat{H}}>$')\n",
    "plt.xlabel('Epoch')\n",
    "# superimpose the lowest eigenvalue\n",
    "xline=np.linspace(0,1000,100);\n",
    "yline=esmin*np.ones_like(xline);\n",
    "plt.plot(xline,yline,'r--')\n",
    "#print the training hystory on a file\n",
    "plt. savefig(\"trainingTwoQuibtModelIsingQAOA.pdf\", format=\"pdf\", bbox_inches=\"tight\")"
   ]
  },
  {
   "cell_type": "markdown",
   "id": "23c80b16-7309-4ac1-992c-8ca7dacbe5b2",
   "metadata": {},
   "source": [
    "Final value for the mean Hamiltonian"
   ]
  },
  {
   "cell_type": "code",
   "execution_count": 36,
   "id": "f1eed22e-f398-48fb-a5f6-17a66b742fba",
   "metadata": {},
   "outputs": [
    {
     "name": "stdout",
     "output_type": "stream",
     "text": [
      "Final loss-2.2360661029815674\n"
     ]
    },
    {
     "ename": "NameError",
     "evalue": "name 'e3min' is not defined",
     "output_type": "error",
     "traceback": [
      "\u001b[0;31m---------------------------------------------------------------------------\u001b[0m",
      "\u001b[0;31mNameError\u001b[0m                                 Traceback (most recent call last)",
      "Input \u001b[0;32mIn [36]\u001b[0m, in \u001b[0;36m<cell line: 2>\u001b[0;34m()\u001b[0m\n\u001b[1;32m      1\u001b[0m \u001b[38;5;28mprint\u001b[39m(\u001b[38;5;124m'\u001b[39m\u001b[38;5;124mFinal loss\u001b[39m\u001b[38;5;124m'\u001b[39m \u001b[38;5;241m+\u001b[39m\u001b[38;5;28mrepr\u001b[39m(history1\u001b[38;5;241m.\u001b[39mhistory[\u001b[38;5;124m'\u001b[39m\u001b[38;5;124mloss\u001b[39m\u001b[38;5;124m'\u001b[39m][\u001b[38;5;241m-\u001b[39m\u001b[38;5;241m1\u001b[39m]))\n\u001b[0;32m----> 2\u001b[0m \u001b[38;5;28mprint\u001b[39m(\u001b[38;5;124m'\u001b[39m\u001b[38;5;124mTarget energy\u001b[39m\u001b[38;5;124m'\u001b[39m \u001b[38;5;241m+\u001b[39m\u001b[38;5;28mrepr\u001b[39m(\u001b[43me3min\u001b[49m))\n",
      "\u001b[0;31mNameError\u001b[0m: name 'e3min' is not defined"
     ]
    }
   ],
   "source": [
    "print('Final loss' +repr(history1.history['loss'][-1]))\n",
    "print('Target energy' +repr(e3min))"
   ]
  },
  {
   "cell_type": "markdown",
   "id": "d5b3c498-e294-4a4f-93a2-d1df17017d34",
   "metadata": {},
   "source": [
    "Ground state computed from the feature map function with the trained weights and bias"
   ]
  },
  {
   "cell_type": "code",
   "execution_count": null,
   "id": "6e71fa39-2eed-4f7b-8ca7-97063bf65bc9",
   "metadata": {},
   "outputs": [],
   "source": [
    "phi=HL1.ground_state()\n",
    "print(phi)"
   ]
  },
  {
   "cell_type": "markdown",
   "id": "e3fa9c97-6c54-481c-a710-f5e85c345071",
   "metadata": {},
   "source": [
    "Check if the ground state is normalized"
   ]
  },
  {
   "cell_type": "code",
   "execution_count": null,
   "id": "78744dae-5df8-47bc-9f05-30fca659d5ae",
   "metadata": {},
   "outputs": [],
   "source": [
    "quantummap.Scalar(phi,phi)"
   ]
  },
  {
   "cell_type": "markdown",
   "id": "d28e23c7-c22e-4905-9751-0b99c9215805",
   "metadata": {},
   "source": [
    "Ground state from the Hamiltonian layer (must be the same as above)"
   ]
  },
  {
   "cell_type": "code",
   "execution_count": null,
   "id": "f6096f3b-deab-4516-8105-616a31258378",
   "metadata": {},
   "outputs": [],
   "source": [
    "print(HL1.ground_state())"
   ]
  },
  {
   "cell_type": "markdown",
   "id": "3cf57a37-9a36-47ef-b3eb-6c23185443a5",
   "metadata": {},
   "source": [
    "Check the normalizzation"
   ]
  },
  {
   "cell_type": "markdown",
   "id": "9ca56eeb-e129-4177-891f-215553075d60",
   "metadata": {},
   "source": [
    "Parameters theta"
   ]
  },
  {
   "cell_type": "code",
   "execution_count": null,
   "id": "1d419080-b154-48a6-96fb-108b6510f4c2",
   "metadata": {},
   "outputs": [],
   "source": [
    "HL1.theta"
   ]
  },
  {
   "cell_type": "markdown",
   "id": "feecd48f-f3fb-41a2-a0fa-74af158b4d24",
   "metadata": {},
   "source": [
    "### Entanglement entropy of ground state"
   ]
  },
  {
   "cell_type": "code",
   "execution_count": null,
   "id": "72c49491-dd74-42a3-960c-ce2d73bf0638",
   "metadata": {},
   "outputs": [],
   "source": [
    "quantummap.VonNeumannEntropy2(HL1.ground_state())"
   ]
  },
  {
   "cell_type": "code",
   "execution_count": null,
   "id": "b6418dbc-42be-41b5-8d96-c6bb8e9f714d",
   "metadata": {},
   "outputs": [],
   "source": [
    "assert False"
   ]
  },
  {
   "cell_type": "markdown",
   "id": "09223341-d754-47a0-bf88-12e771cb724e",
   "metadata": {
    "jp-MarkdownHeadingCollapsed": true,
    "tags": []
   },
   "source": [
    "## Define a new model with $h_0=h$ and $h_1=0$"
   ]
  },
  {
   "cell_type": "code",
   "execution_count": null,
   "id": "d4788351-4bb0-4981-8423-3826e485c400",
   "metadata": {},
   "outputs": [],
   "source": [
    "# hyperparameter for the Hamiltonain\n",
    "J=1.0\n",
    "h=[1.0,0.0]\n",
    "# Input layer (one dummy input)\n",
    "xin2 = tf.keras.layers.Input(1);\n",
    "# Hamiltonian layer\n",
    "HL2=HamiltonianLayer(J=J,h=h, nparams=6,FeatureMap=FeatureMapU1, name='H2')\n",
    "# output\n",
    "meanH2=HL2(xin2)\n",
    "# trainable model returning meanH\n",
    "Ising2 = tf.keras.Model(inputs = xin2, outputs=meanH2, name='model2')\n",
    "# add loss function\n",
    "Ising2.add_loss(meanH2)"
   ]
  },
  {
   "cell_type": "markdown",
   "id": "e22e71dd-7354-4ba9-8c20-52d967c537bb",
   "metadata": {},
   "source": [
    "### Compile and train"
   ]
  },
  {
   "cell_type": "code",
   "execution_count": null,
   "id": "09cbd37e-c027-4817-bb50-7ddd14d6f995",
   "metadata": {},
   "outputs": [],
   "source": [
    "# initialize tqdm callback with default parameters\n",
    "Ising2.compile(optimizer=tf.keras.optimizers.Adam(learning_rate=0.01))\n",
    "history2 = Ising2.fit(x=np.zeros(10,),epochs=1000, verbose=0, callbacks=[tqdm_callback])\n",
    "# Plot training & validation accuracy values\n",
    "f2 = plt.figure\n",
    "plt.subplot(2, 1, 1)\n",
    "plt.plot(history2.history['loss'])\n",
    "xline=np.linspace(0,1000,100);\n",
    "yline=-np.sqrt(2.0)*np.ones_like(xline);\n",
    "plt.plot(xline,yline,'r--')\n",
    "plt.ylabel('$<\\mathcal{\\hat{H}}>$')\n",
    "plt.xlabel('Epoch')\n",
    "#print the training hystory on a file\n",
    "#plt. savefig(\"trainingTwoQuibtModelIsing2.pdf\", format=\"pdf\", bbox_inches=\"tight\")\n",
    "#print last value of Hamiltonian\n",
    "print(\"Last value of loss \"+repr(history2.history['loss'][-1]))"
   ]
  },
  {
   "cell_type": "markdown",
   "id": "0319ca48-8666-49a6-9545-ab14be00ac75",
   "metadata": {},
   "source": [
    "### Print ground state"
   ]
  },
  {
   "cell_type": "code",
   "execution_count": null,
   "id": "075c25a0-43e3-4d94-a51c-c06d332f5dd6",
   "metadata": {},
   "outputs": [],
   "source": [
    "print(HL2.ground_state())"
   ]
  },
  {
   "cell_type": "markdown",
   "id": "9dc9e488-5461-41db-a64c-129fd1edf89d",
   "metadata": {},
   "source": [
    "### Check the entropy of the ground state"
   ]
  },
  {
   "cell_type": "code",
   "execution_count": null,
   "id": "14a9f96e-6e10-4751-b834-61427859b77e",
   "metadata": {},
   "outputs": [],
   "source": [
    "quantummap.VonNeumannEntropy2(HL2.ground_state())"
   ]
  },
  {
   "cell_type": "markdown",
   "id": "642484ce-e5ea-478c-8af5-ecc9ed3e0a88",
   "metadata": {},
   "source": [
    "### Compute eigenvalue of H for check"
   ]
  },
  {
   "cell_type": "code",
   "execution_count": null,
   "id": "9779c75a-51bc-4ba7-aa24-1c42e460358a",
   "metadata": {},
   "outputs": [],
   "source": [
    "tf.linalg.eig(quantummap.Transform2Matrix(HL2.H))"
   ]
  },
  {
   "cell_type": "markdown",
   "id": "9240ebf7-dbe8-43a7-888b-343e953d8ad3",
   "metadata": {},
   "source": [
    "## Define and train a model with $h_0=h_1=h$"
   ]
  },
  {
   "cell_type": "markdown",
   "id": "645af7f9-df8b-4ff5-948a-321b1e197355",
   "metadata": {},
   "source": [
    "### model definition"
   ]
  },
  {
   "cell_type": "code",
   "execution_count": null,
   "id": "c0c41426-f191-4b9c-8c11-0ab094e559fc",
   "metadata": {},
   "outputs": [],
   "source": [
    "# hyperparameter for the Hamiltonain\n",
    "J=1.0\n",
    "h=[1.0,1.0]\n",
    "# Input layer (one dummy input)\n",
    "xin3 = tf.keras.layers.Input(1);\n",
    "# Hamiltonian layer\n",
    "HL3=HamiltonianLayer(J=J,h=h, nparams=6,FeatureMap=FeatureMapU1, name='H3')\n",
    "# output\n",
    "meanH3=HL3(xin3)\n",
    "# trainable model returning meanH\n",
    "Ising3 = tf.keras.Model(inputs = xin3, outputs=meanH3, name='model3')\n",
    "# add loss function\n",
    "Ising3.add_loss(meanH3)"
   ]
  },
  {
   "cell_type": "markdown",
   "id": "94f0262b-71a7-431a-8f50-7f225da5edf3",
   "metadata": {},
   "source": [
    "### eigenvalues"
   ]
  },
  {
   "cell_type": "code",
   "execution_count": null,
   "id": "c9252f73-dac6-446f-a2a9-65686db4eb6a",
   "metadata": {},
   "outputs": [],
   "source": [
    "e3=tf.linalg.eig(quantummap.Transform2Matrix(HL3.H))\n",
    "print(e3[0])\n",
    "# find the lowest eigenvalue\n",
    "e3min=np.min(tf.math.real(e3[0].numpy()))\n",
    "print(\"Lowest eigenvalues \"+repr(e3min))"
   ]
  },
  {
   "cell_type": "markdown",
   "id": "36dc8572-d486-4ca5-8b8e-5dcb53a8c29e",
   "metadata": {},
   "source": [
    "### Compile and train"
   ]
  },
  {
   "cell_type": "code",
   "execution_count": null,
   "id": "43e378a2-c518-41db-90a1-7db45d836b95",
   "metadata": {},
   "outputs": [],
   "source": [
    "# initialize tqdm callback with default parameters\n",
    "Ising3.compile(optimizer=tf.keras.optimizers.Adam(learning_rate=0.01))\n",
    "history3 = Ising3.fit(x=np.zeros(10,),epochs=1000, verbose=0, callbacks=[tqdm_callback])\n",
    "# Plot training & validation accuracy values\n",
    "f3 = plt.figure\n",
    "plt.subplot(2, 1, 1)\n",
    "plt.plot(history3.history['loss'])\n",
    "plt.ylabel('$<\\mathcal{\\hat{H}}>$')\n",
    "plt.xlabel('Epoch')\n",
    "xline=np.linspace(0,1000,100);\n",
    "yline=e3min*np.ones_like(xline);\n",
    "plt.plot(xline,yline,'r--')\n",
    "plt.ylabel('$<\\mathcal{\\hat{H}}>$')\n",
    "plt.xlabel('Epoch')\n",
    "#print the training hystory on a file\n",
    "plt. savefig(\"trainingTwoQuibtModelIsing3.pdf\", format=\"pdf\", bbox_inches=\"tight\")\n",
    "#print last value of Hamiltonian\n",
    "print(\"Last value of loss \"+repr(history3.history['loss'][-1]))"
   ]
  },
  {
   "cell_type": "markdown",
   "id": "8ca704d6-901e-41a4-8789-7c75c87d126d",
   "metadata": {},
   "source": [
    "### Ground state and its entropy"
   ]
  },
  {
   "cell_type": "code",
   "execution_count": null,
   "id": "64db9570-7511-452f-8e65-61a29a2dc0ab",
   "metadata": {},
   "outputs": [],
   "source": [
    "print(HL3.ground_state())"
   ]
  },
  {
   "cell_type": "code",
   "execution_count": null,
   "id": "89c7a337-8d75-4c09-be7f-f410cb3bf6bb",
   "metadata": {},
   "outputs": [],
   "source": [
    "quantummap.VonNeumannEntropy2(HL3.ground_state())"
   ]
  },
  {
   "cell_type": "markdown",
   "id": "3b168bd2-5ca7-4986-b5c5-fce31c5ffe23",
   "metadata": {},
   "source": [
    "### Eigenvalues"
   ]
  },
  {
   "cell_type": "code",
   "execution_count": null,
   "id": "13523ae8-4ebc-4ef2-a61c-1a2254868188",
   "metadata": {},
   "outputs": [],
   "source": [
    "tf.linalg.eig(quantummap.Transform2Matrix(HL3.H))"
   ]
  },
  {
   "cell_type": "markdown",
   "id": "2d52c91f-8d6d-42ad-a431-7f8edfe18390",
   "metadata": {},
   "source": [
    "**Remark** in this case the model cannot find the low energy state, as this is entangled, and the feature map we are using does not have entanglement"
   ]
  },
  {
   "cell_type": "markdown",
   "id": "10edac0a-9f7e-4638-8907-a4f5c6ca945a",
   "metadata": {},
   "source": [
    "Thus we have to consider a different feature map with entanglement"
   ]
  },
  {
   "cell_type": "markdown",
   "id": "2274987b-aeae-4962-9bf5-f8f99f5be448",
   "metadata": {
    "tags": []
   },
   "source": [
    "# Define an entangled feature map by a CZ gate"
   ]
  },
  {
   "cell_type": "code",
   "execution_count": null,
   "id": "1e467846-96d1-418a-a369-09574c9c3902",
   "metadata": {},
   "outputs": [],
   "source": [
    "@tf.function\n",
    "def FeatureMapU2(theta, psi):\n",
    "    \"\"\" Feature Map for the \n",
    "    Variational Quantum Algorithm\n",
    "    with entanglement\n",
    "    Obtained by FeatureMapU1\n",
    "    with an additional CZ gate\n",
    "    \n",
    "    Params\n",
    "    ------\n",
    "    theta, shape=(6,) real \n",
    "    psi,   two-qubit state\n",
    "    \n",
    "    Returns\n",
    "    -------\n",
    "    A two-qubit state\n",
    "    \"\"\"\n",
    "    phi=FeatureMapU1(theta,psi)\n",
    "    # add an CZ gate that generates entanglement\n",
    "    phi=quantummap.Gate(quantummap.CZ,phi)\n",
    "    return phi"
   ]
  },
  {
   "cell_type": "markdown",
   "id": "bc4bc59a-e056-49de-b860-098453e6e9f1",
   "metadata": {},
   "source": [
    "### Test the FeatureMapU2 with random weights"
   ]
  },
  {
   "cell_type": "code",
   "execution_count": null,
   "id": "385ccdcd-dd1a-4c1e-85fc-8bae8fe0df09",
   "metadata": {},
   "outputs": [],
   "source": [
    "# generate random weights\n",
    "theta_test=np.random.random(6)\n",
    "print(\"Weights theta_test \"+repr(theta_test))\n",
    "# generate a state with bias q00\n",
    "phi_test=FeatureMapU2(theta_test,quantummap.q00)\n",
    "print(phi_test)"
   ]
  },
  {
   "cell_type": "markdown",
   "id": "14fa437a-a2bd-4111-b783-36ef1963cd59",
   "metadata": {},
   "source": [
    "### Check if the new state is entangled"
   ]
  },
  {
   "cell_type": "code",
   "execution_count": null,
   "id": "3d562bd9-9595-4197-b6c8-f4a69360a286",
   "metadata": {},
   "outputs": [],
   "source": [
    "print(\"Entropy \"+repr(quantummap.VonNeumannEntropy2(phi_test)[0]))\n",
    "print(\"Probabilities \"+repr(quantummap.VonNeumannEntropy2(phi_test)[1]))"
   ]
  },
  {
   "cell_type": "markdown",
   "id": "a7338f31-0216-455c-b223-413dfcc95b65",
   "metadata": {},
   "source": [
    "<code>quantumap.VonNeumannEntropy2</code> return a list of two elements\n",
    "entropy is the element [0]\n",
    "the second output [1] are the probabilities in the density matrix"
   ]
  },
  {
   "cell_type": "markdown",
   "id": "4f3cc684-b518-4fbc-8bcc-b06297b80aff",
   "metadata": {},
   "source": [
    "## Define the model with the new feature map"
   ]
  },
  {
   "cell_type": "code",
   "execution_count": null,
   "id": "1488b874-8821-4836-9f13-7cfa5ca854a0",
   "metadata": {},
   "outputs": [],
   "source": [
    "# hyperparameter for the Hamiltonain\n",
    "J=1.0\n",
    "h=[1.0,1.0]\n",
    "# Input layer (one dummy input)\n",
    "xin4 = tf.keras.layers.Input(1);\n",
    "# Hamiltonian layer\n",
    "HL4=HamiltonianLayer(J=J,h=h, nparams=6,FeatureMap=FeatureMapU2, name='H4')\n",
    "# output\n",
    "meanH4=HL4(xin4)\n",
    "# trainable model returning meanH\n",
    "Ising4 = tf.keras.Model(inputs = xin4, outputs=meanH4, name='model4')\n",
    "# add loss function\n",
    "Ising4.add_loss(meanH4)"
   ]
  },
  {
   "cell_type": "code",
   "execution_count": null,
   "id": "ad165404-1349-4a1b-b216-afe71e011435",
   "metadata": {},
   "outputs": [],
   "source": [
    "# initialize tqdm callback with default parameters\n",
    "Ising4.compile(optimizer=tf.keras.optimizers.Adam(learning_rate=0.01))\n",
    "history4 = Ising4.fit(x=np.zeros(10,),epochs=1000, verbose=0, callbacks=[tqdm_callback])\n",
    "# Plot training & validation accuracy values\n",
    "f4 = plt.figure\n",
    "plt.subplot(2, 1, 1)\n",
    "plt.plot(history4.history['loss'])\n",
    "xline=np.linspace(0,1000,100);\n",
    "yline=e3min*np.ones_like(xline);\n",
    "plt.plot(xline,yline,'r--')\n",
    "plt.ylabel('$<\\mathcal{\\hat{H}}>$')\n",
    "plt.xlabel('Epoch')\n",
    "#print the training hystory on a file\n",
    "plt. savefig(\"trainingTwoQuibtModelIsing4.pdf\", format=\"pdf\", bbox_inches=\"tight\")\n",
    "#print last value of Hamiltonian\n",
    "print(\"Last value of loss \"+repr(history4.history['loss'][-1]))"
   ]
  },
  {
   "cell_type": "code",
   "execution_count": null,
   "id": "98cbb1b8-a2ea-4672-a85b-193b71764b77",
   "metadata": {},
   "outputs": [],
   "source": [
    "quantummap.VonNeumannEntropy2(HL4.ground_state())"
   ]
  },
  {
   "cell_type": "markdown",
   "id": "2afe932b-99d7-452f-853b-ed83af07326f",
   "metadata": {},
   "source": [
    "## Define a model with iterated entangled feature map"
   ]
  },
  {
   "cell_type": "code",
   "execution_count": null,
   "id": "062718ff-0d9d-4fac-aeaa-047eb6db2a0c",
   "metadata": {},
   "outputs": [],
   "source": [
    "@tf.function\n",
    "def FeatureMapU3(theta, psi):\n",
    "    # Define a new feature map \n",
    "    # with entanglement\n",
    "    # by iterating the FeatureMapU2\n",
    "    psi = FeatureMapU2(theta, psi)\n",
    "    psi = FeatureMapU2(theta, psi)\n",
    "    return psi"
   ]
  },
  {
   "cell_type": "markdown",
   "id": "95f09607-35a8-4c00-b8a5-6576838dd789",
   "metadata": {},
   "source": [
    "### Test the iterated map "
   ]
  },
  {
   "cell_type": "code",
   "execution_count": null,
   "id": "aecebc03-277d-4570-9872-9c865795126a",
   "metadata": {},
   "outputs": [],
   "source": [
    "# generate a state with bias q00\n",
    "phi_test2=FeatureMapU3(theta_test,quantummap.q00)\n",
    "print(phi_test2)\n",
    "print(\"Entropy \"+repr(quantummap.VonNeumannEntropy2(phi_test2)))"
   ]
  },
  {
   "cell_type": "markdown",
   "id": "2dd0043d-e579-4d39-ac29-285108237a52",
   "metadata": {},
   "source": [
    "**Remark** the iterated feature map as higher entropy"
   ]
  },
  {
   "cell_type": "code",
   "execution_count": null,
   "id": "d28a8783-0016-4ef5-9d4b-1a516b35f55c",
   "metadata": {},
   "outputs": [],
   "source": [
    "print(theta_test)"
   ]
  },
  {
   "cell_type": "markdown",
   "id": "6ab13b88-2455-43ba-a0f7-27af1206b63a",
   "metadata": {},
   "source": [
    "## Define the model with the new feature map"
   ]
  },
  {
   "cell_type": "code",
   "execution_count": null,
   "id": "e6e3e5c9-a739-478a-af97-d20a05f6e4fc",
   "metadata": {},
   "outputs": [],
   "source": [
    "# hyperparameter for the Hamiltonain\n",
    "J=1.0\n",
    "h=[1.0,1.0]\n",
    "# Input layer (one dummy input)\n",
    "xin5 = tf.keras.layers.Input(1);\n",
    "# Hamiltonian layer\n",
    "HL5=HamiltonianLayer(J=J,h=h, nparams=6,FeatureMap=FeatureMapU3, name='H5')\n",
    "# output\n",
    "meanH5=HL5(xin5)\n",
    "# trainable model returning meanH\n",
    "Ising5 = tf.keras.Model(inputs = xin5, outputs=meanH5, name='model5')\n",
    "# add loss function\n",
    "Ising5.add_loss(meanH5)"
   ]
  },
  {
   "cell_type": "code",
   "execution_count": null,
   "id": "24542479-9927-42af-9a07-4202bb2dba19",
   "metadata": {},
   "outputs": [],
   "source": [
    "# initialize tqdm callback with default parameters\n",
    "Ising5.compile(optimizer=tf.keras.optimizers.Adam(learning_rate=0.01))\n",
    "history5 = Ising5.fit(x=np.zeros(10,),epochs=1000, verbose=0, callbacks=[tqdm_callback])\n",
    "# Plot training & validation accuracy values\n",
    "f5 = plt.figure\n",
    "plt.subplot(2, 1, 1)\n",
    "plt.plot(history5.history['loss'])\n",
    "xline=np.linspace(0,1000,100);\n",
    "yline=e3min*np.ones_like(xline);\n",
    "plt.plot(xline,yline,'r--')\n",
    "plt.ylabel('$<\\mathcal{\\hat{H}}>$')\n",
    "plt.xlabel('Epoch')\n",
    "#print the training hystory on a file\n",
    "plt. savefig(\"trainingTwoQuibtModelIsing5.pdf\", format=\"pdf\", bbox_inches=\"tight\")\n",
    "#print last value of Hamiltonian\n",
    "print(\"Last value of loss \"+repr(history5.history['loss'][-1]))"
   ]
  },
  {
   "cell_type": "code",
   "execution_count": null,
   "id": "8f2561ae-8fc8-4b3f-b491-dd18efc7f6fe",
   "metadata": {},
   "outputs": [],
   "source": [
    "quantummap.VonNeumannEntropy2(HL5.ground_state())"
   ]
  },
  {
   "cell_type": "markdown",
   "id": "968b2d03-7335-43d1-b12b-bbe32dff7dc7",
   "metadata": {},
   "source": [
    "Exit the notebook"
   ]
  },
  {
   "cell_type": "code",
   "execution_count": null,
   "id": "5b05e70a-02c6-46c6-9c13-4ee77cb31a6e",
   "metadata": {},
   "outputs": [],
   "source": [
    "assert False"
   ]
  },
  {
   "cell_type": "code",
   "execution_count": null,
   "id": "ff6cc19a-538b-4c08-9585-2be2b2c188e4",
   "metadata": {},
   "outputs": [],
   "source": []
  },
  {
   "cell_type": "markdown",
   "id": "f9fae0d3-e46d-44c6-8d44-62fc649562a1",
   "metadata": {},
   "source": [
    "## Iterated Feature Map"
   ]
  },
  {
   "cell_type": "code",
   "execution_count": null,
   "id": "d0f28690-d2be-41a4-8ed9-ed72a3522c2a",
   "metadata": {},
   "outputs": [],
   "source": [
    "@tf.function\n",
    "def FeatureMapU1U1(theta, psi):\n",
    "    psi = FeatureMapU1(theta, psi)\n",
    "    psi = FeatureMapU1(theta, psi)\n",
    "    psi = FeatureMapU1(theta, psi)\n",
    "    return psi"
   ]
  },
  {
   "cell_type": "markdown",
   "id": "33d4c2a7-f7be-436c-96bf-328adab16dee",
   "metadata": {},
   "source": [
    "Test the feature map"
   ]
  },
  {
   "cell_type": "code",
   "execution_count": null,
   "id": "6fdcaa02-8a47-4d38-ab57-1acf86467bcd",
   "metadata": {},
   "outputs": [],
   "source": [
    "Upsi=FeatureMapU1(tf.constant(np.random.random(ntheta)),quantummap.q00)\n",
    "print(Upsi)"
   ]
  },
  {
   "cell_type": "markdown",
   "id": "4a48af9d-c639-4612-9c54-dae748a73382",
   "metadata": {},
   "source": [
    "# TODO check the entanglement of the ground state "
   ]
  },
  {
   "cell_type": "markdown",
   "id": "8def6329-58cf-427a-ac03-c1e7eb866725",
   "metadata": {},
   "source": [
    "# Variational Ansatz with Two Qubit, first version"
   ]
  },
  {
   "cell_type": "code",
   "execution_count": null,
   "id": "2c3b3c02-73b5-49ec-b106-72b623c78969",
   "metadata": {},
   "outputs": [],
   "source": [
    "@tf.function\n",
    "def FeatureMapU(theta, psi):\n",
    "    thetaX0=theta[0]\n",
    "    thetaX1=theta[1]\n",
    "    thetaZZ=theta[2]\n",
    "    thetaY0=theta[3]\n",
    "    thetaY1=theta[4]\n",
    "    thetaZ0=theta[5]\n",
    "    thetaZ1=theta[6]    \n",
    "    psi=quantummap.Gate(quantummap.HH,psi)\n",
    "    psi=quantummap.Gate(quantummap.EXI(thetaX0),psi)\n",
    "    psi=quantummap.Gate(quantummap.EIX(thetaX1),psi)\n",
    "    psi=quantummap.Gate(quantummap.EZZ(thetaZZ),psi)\n",
    "    psi=quantummap.Gate(quantummap.EYI(thetaY0),psi)\n",
    "    psi=quantummap.Gate(quantummap.EIY(thetaY1),psi)\n",
    "    psi=quantummap.Gate(quantummap.EZZ(thetaZZ),psi)\n",
    "    psi=quantummap.Gate(quantummap.EZI(thetaZ0),psi)\n",
    "    psi=quantummap.Gate(quantummap.EIZ(thetaZ1),psi)\n",
    "    psi=quantummap.Gate(quantummap.EZZ(thetaZZ),psi)\n",
    "    return psi"
   ]
  },
  {
   "cell_type": "markdown",
   "id": "39e9522b-c27b-4f83-81d8-2a1e6be77f32",
   "metadata": {},
   "source": [
    "## Iterated Feature Map"
   ]
  },
  {
   "cell_type": "code",
   "execution_count": null,
   "id": "ac777bff-7b68-4e57-aa6a-3e1d41d3b2a1",
   "metadata": {},
   "outputs": [],
   "source": [
    "@tf.function\n",
    "def FeatureMapUU(theta, psi):\n",
    "    psi = FeatureMapU(theta, psi)\n",
    "    psi = FeatureMapU(theta, psi)\n",
    "    psi = FeatureMapU(theta, psi)\n",
    "    return psi"
   ]
  },
  {
   "cell_type": "markdown",
   "id": "7d4dd911-6fdd-4273-88bb-33404720931d",
   "metadata": {},
   "source": [
    "Test the feature map"
   ]
  },
  {
   "cell_type": "code",
   "execution_count": null,
   "id": "f16b47a6-00fa-4e68-902b-c7335f336660",
   "metadata": {},
   "outputs": [],
   "source": [
    "Upsi=FeatureMapU(tf.constant(np.random.random(ntheta)),quantummap.q00)\n",
    "print(Upsi)"
   ]
  },
  {
   "cell_type": "markdown",
   "id": "80651160-ac39-4298-aea7-ed4e5629bc92",
   "metadata": {},
   "source": [
    "# Layer with weights theta and output mean Hamiltonian"
   ]
  },
  {
   "cell_type": "code",
   "execution_count": null,
   "id": "1c4930ac-ca16-4f5f-b0b9-0a3e3a352243",
   "metadata": {},
   "outputs": [],
   "source": [
    "class HamiltonianLayer(tf.keras.layers.Layer):\n",
    "    # Define a Layer returning the mean value of the Hamiltonian\n",
    "    # on the variational ansatz\n",
    "    #\n",
    "    # The layer has a trainable parameters the \n",
    "    # parameters theta of the trainable feature map\n",
    "    # theta[0] as theta_x\n",
    "    # theta[1] as theta_y\n",
    "    # theta[2] as theta_z\n",
    "    #\n",
    "    # The Layer use the functions\n",
    "    # Hamiltonian\n",
    "    # FeatureMapU\n",
    "    #\n",
    "    # The constructor use parameters \n",
    "    #\n",
    "    #  Params\n",
    "    #  ------\n",
    "    #  J : coupling coefficient\n",
    "    #  h : positive field shape=(2,)\n",
    "    #\n",
    "    #  Example\n",
    "    #  -------\n",
    "    #  HL=HL(J=.5, h=[1.2,-1.0])\n",
    "    #\n",
    "    #  The call return the real part of \n",
    "    #  <\\psi|H\\psi>\n",
    "    #\n",
    "    def __init__(self, J=1.0, h=[0.0,0.0], **kwargs):\n",
    "        super(HamiltonianLayer, self).__init__(**kwargs)\n",
    "        # trainable parameter of the model\n",
    "        # initially set as random (real variables)\n",
    "        self.theta=tf.Variable(np.random.random(ntheta),\n",
    "                               dtype=tf.float32,\n",
    "                              name='theta')\n",
    "        # gap coefficient\n",
    "        self.J=J\n",
    "        # field coefficient\n",
    "        self.h=h\n",
    "        # Hamiltonian\n",
    "        self.H=Hamiltonian(J=self.J,h=self.h)\n",
    "        # Feature map for the ground state\n",
    "        self.FeatureMap=FeatureMapUU\n",
    "    def ground_state(self):\n",
    "        \"\"\" Return the current ground state \"\"\"\n",
    "        psi=self.FeatureMap(self.theta,quantummap.q00)\n",
    "        return psi\n",
    "    def call(self,dummy):\n",
    "        \"\"\" Return Re<H> \n",
    "        Remark:  this layer has a dummy variable as input\n",
    "        (required for compatibility with tensorflow call)\n",
    "        \"\"\"\n",
    "        #psi=self.FeatureMap(self.theta,quantummap.qubit0)\n",
    "        psi=self.ground_state()\n",
    "        meanH=quantummap.Scalar(psi, \n",
    "                                quantummap.Gate2(self.H, psi))\n",
    "        return tf.math.real(meanH)"
   ]
  },
  {
   "cell_type": "markdown",
   "id": "f042581c-526d-4f00-bda7-40bc2816c2b4",
   "metadata": {},
   "source": [
    "## Test the layer"
   ]
  },
  {
   "cell_type": "code",
   "execution_count": null,
   "id": "6d805f60-ff95-4926-a1eb-0b894d84fa3a",
   "metadata": {},
   "outputs": [],
   "source": [
    "HL=HamiltonianLayer(name=\"Hamiltonian\")"
   ]
  },
  {
   "cell_type": "code",
   "execution_count": null,
   "id": "3f2a42fe-8ea8-4c9d-a34f-ff914504896a",
   "metadata": {},
   "outputs": [],
   "source": [
    "print(HL.J, HL.h)"
   ]
  },
  {
   "cell_type": "code",
   "execution_count": null,
   "id": "9cd89eea-fb32-416b-8420-94661d5c4cb1",
   "metadata": {},
   "outputs": [],
   "source": [
    "print(quantummap.Transform2Matrix(HL.H))"
   ]
  },
  {
   "cell_type": "code",
   "execution_count": null,
   "id": "d273adab-2ae4-47de-816b-12ccece6a9fc",
   "metadata": {},
   "outputs": [],
   "source": [
    "print(HL.ground_state())"
   ]
  },
  {
   "cell_type": "code",
   "execution_count": null,
   "id": "8ccbb11d-fb50-4819-a1b8-a3249e8d9786",
   "metadata": {},
   "outputs": [],
   "source": [
    "print(HL.weights)"
   ]
  },
  {
   "cell_type": "code",
   "execution_count": null,
   "id": "d2fd2779-f3f3-4658-a936-44147668140d",
   "metadata": {},
   "outputs": [],
   "source": [
    "quantummap.Gate2(HL.H,HL.ground_state())"
   ]
  },
  {
   "cell_type": "code",
   "execution_count": null,
   "id": "28c3ce0e-14bd-4c0a-8b97-9125c9965d30",
   "metadata": {},
   "outputs": [],
   "source": [
    "quantummap.Scalar2(HL.ground_state(),HL.ground_state())"
   ]
  },
  {
   "cell_type": "code",
   "execution_count": null,
   "id": "d9d4e92f-ae62-431b-b141-e30f18def386",
   "metadata": {},
   "outputs": [],
   "source": [
    "quantummap.Scalar2(HL.ground_state(),quantummap.Gate2(HL.H,HL.ground_state()))"
   ]
  },
  {
   "cell_type": "code",
   "execution_count": null,
   "id": "6eeda522-2a53-4587-90c4-257901fe064f",
   "metadata": {},
   "outputs": [],
   "source": [
    "quantummap.Scalar(quantummap.q11,quantummap.Gate2(HL.H,quantummap.q11))"
   ]
  },
  {
   "cell_type": "code",
   "execution_count": null,
   "id": "e7d863db-d37b-489c-90e5-7d854a3b9cda",
   "metadata": {},
   "outputs": [],
   "source": [
    "quantummap.Scalar(quantummap.q01,quantummap.Gate2(HL.H,quantummap.q01))"
   ]
  },
  {
   "cell_type": "markdown",
   "id": "2dd1911a-4e99-454c-866b-72b7d18fc4e0",
   "metadata": {},
   "source": [
    "# Define and train the model"
   ]
  },
  {
   "cell_type": "code",
   "execution_count": null,
   "id": "4af4c6e8-e34a-4a18-b2cf-6d5d9cead06e",
   "metadata": {},
   "outputs": [],
   "source": [
    "# hyperparameter for the Hamiltonain\n",
    "J=1.0\n",
    "h=[1.0, 1.0]\n",
    "# Input layer (one dummy input)\n",
    "xin = tf.keras.layers.Input(1);\n",
    "# Hamiltonianl layer\n",
    "HL=HamiltonianLayer(J=J,h=h)\n",
    "# output\n",
    "meanH=HL(xin)\n",
    "# trainable model returning meanH\n",
    "Ising = tf.keras.Model(inputs = xin, outputs=meanH)"
   ]
  },
  {
   "cell_type": "markdown",
   "id": "1c0186ec-e250-4c59-a9b4-05f51c95f48a",
   "metadata": {},
   "source": [
    "## Test the model with dummy input"
   ]
  },
  {
   "cell_type": "code",
   "execution_count": null,
   "id": "fefe8eec-1992-42c1-8a01-94559de15145",
   "metadata": {},
   "outputs": [],
   "source": [
    "tf.print(Ising(1.1))"
   ]
  },
  {
   "cell_type": "markdown",
   "id": "a4c22ea5-cb74-4610-a0c5-575386fb4683",
   "metadata": {},
   "source": [
    "# Add loss function"
   ]
  },
  {
   "cell_type": "code",
   "execution_count": null,
   "id": "da3ecf17-434a-41df-b257-d38fdeb42a46",
   "metadata": {},
   "outputs": [],
   "source": [
    "# add loss function\n",
    "#Ising.add_loss(tf.math.exp(meanH))\n",
    "Ising.add_loss(meanH)"
   ]
  },
  {
   "cell_type": "markdown",
   "id": "2e05c8a8-8afd-47a8-8b43-ba20bb146e68",
   "metadata": {},
   "source": [
    "# Summary of the model"
   ]
  },
  {
   "cell_type": "code",
   "execution_count": null,
   "id": "66d4e210-6c33-4aa1-846a-f926810d8a11",
   "metadata": {},
   "outputs": [],
   "source": [
    "Ising.summary()"
   ]
  },
  {
   "cell_type": "markdown",
   "id": "a76382b2-62d5-4ccb-b278-2662c0b43063",
   "metadata": {},
   "source": [
    "## Plot model"
   ]
  },
  {
   "cell_type": "code",
   "execution_count": null,
   "id": "ca9cd36d-1792-46f8-9716-cd31c932984a",
   "metadata": {},
   "outputs": [],
   "source": [
    "from keras.utils.vis_utils import plot_model\n",
    "# save as pdf\n",
    "plot_model(Ising, to_file='TwoQubitIsing_plot.pdf', show_shapes=True, show_layer_names=True)\n",
    "# save and display as png\n",
    "plot_model(Ising, to_file='TwoQubitIsing_plot.png', show_shapes=True, show_layer_names=True)"
   ]
  },
  {
   "cell_type": "markdown",
   "id": "946a1dd9-63b2-4bd9-b423-fd6cf923aa3f",
   "metadata": {},
   "source": [
    "## Store the ground state before training"
   ]
  },
  {
   "cell_type": "code",
   "execution_count": null,
   "id": "81f49fab-a4c6-441d-82bc-b42973d282a8",
   "metadata": {},
   "outputs": [],
   "source": [
    "ground_state_0=tf.identity(HL.ground_state())\n",
    "print(ground_state_0)"
   ]
  },
  {
   "cell_type": "markdown",
   "id": "d9eaeeb4-0b81-4842-8a8b-f728d0e096e1",
   "metadata": {},
   "source": [
    "## Store the weights before training"
   ]
  },
  {
   "cell_type": "code",
   "execution_count": null,
   "id": "115f7f71-793b-438e-b8bd-dd2f0bf36c20",
   "metadata": {},
   "outputs": [],
   "source": [
    "weight0=tf.identity(Ising.weights)\n",
    "print(weight0)"
   ]
  },
  {
   "cell_type": "markdown",
   "id": "2be3cfac-9abf-4cc7-82d8-a054a064bcac",
   "metadata": {},
   "source": [
    "## Train"
   ]
  },
  {
   "cell_type": "code",
   "execution_count": null,
   "id": "31390204-124a-4604-aa70-456995f69cff",
   "metadata": {},
   "outputs": [],
   "source": [
    "import tqdm\n",
    "tqdm.__version__"
   ]
  },
  {
   "cell_type": "code",
   "execution_count": null,
   "id": "9e170025-ed77-46d6-8d51-23a8714e41b6",
   "metadata": {},
   "outputs": [],
   "source": [
    "# initialize tqdm callback with default parameters\n",
    "tqdm_callback = tfa.callbacks.TQDMProgressBar(leave_epoch_progress=False, show_epoch_progress=False)"
   ]
  },
  {
   "cell_type": "code",
   "execution_count": null,
   "id": "bce751a3-ef52-4193-9b17-e294b487c393",
   "metadata": {},
   "outputs": [],
   "source": [
    "Ising.compile(optimizer=tf.keras.optimizers.Adam(learning_rate=0.01))"
   ]
  },
  {
   "cell_type": "code",
   "execution_count": null,
   "id": "01c08466-706d-4ee8-8b86-708a8ce2c216",
   "metadata": {},
   "outputs": [],
   "source": [
    "history = Ising.fit(x=np.zeros(10,),epochs=1000, verbose=0, callbacks=[tqdm_callback])"
   ]
  },
  {
   "cell_type": "code",
   "execution_count": null,
   "id": "7e865523-7604-4574-b736-359a672d35c1",
   "metadata": {},
   "outputs": [],
   "source": [
    "Ising.weights"
   ]
  },
  {
   "cell_type": "code",
   "execution_count": null,
   "id": "5bb39660-d488-41a1-a473-3030e3097767",
   "metadata": {},
   "outputs": [],
   "source": [
    "# %%\n",
    "# %matplotlib inline\n",
    "# Plot training & validation accuracy values\n",
    "f1 = plt.figure\n",
    "plt.subplot(2, 1, 1)\n",
    "plt.plot(history.history['loss'])\n",
    "plt.ylabel('<H>')\n",
    "plt.xlabel('Epoch')\n",
    "#print the training hystory on a file\n",
    "plt. savefig(\"trainingIsing2.pdf\", format=\"pdf\", bbox_inches=\"tight\")"
   ]
  },
  {
   "cell_type": "markdown",
   "id": "7ce646b6-e71b-482c-a020-a966ec4290b8",
   "metadata": {},
   "source": [
    "Final value for the mean Hamiltonian"
   ]
  },
  {
   "cell_type": "code",
   "execution_count": null,
   "id": "cdc58577-f18c-413d-8ebe-130a89384c27",
   "metadata": {},
   "outputs": [],
   "source": [
    "print(history.history['loss'][-1])"
   ]
  },
  {
   "cell_type": "code",
   "execution_count": null,
   "id": "77b73a56-e8f8-41cd-906d-a6f4108c2eec",
   "metadata": {},
   "outputs": [],
   "source": [
    "# weights before training\n",
    "weight0"
   ]
  },
  {
   "cell_type": "code",
   "execution_count": null,
   "id": "509c7ad4-38b9-4f6b-8eed-4e544f7c0a87",
   "metadata": {},
   "outputs": [],
   "source": [
    "HL.theta"
   ]
  },
  {
   "cell_type": "code",
   "execution_count": null,
   "id": "a597bed2-503a-42e6-81fa-0e02e0a9cb6d",
   "metadata": {},
   "outputs": [],
   "source": [
    "print(quantummap.Transform2Matrix(HL.H))"
   ]
  },
  {
   "cell_type": "code",
   "execution_count": null,
   "id": "d0fc1bdd-6adf-428f-b6ae-f225ffe670c1",
   "metadata": {},
   "outputs": [],
   "source": [
    "psi=FeatureMapU(Ising.weights[0],quantummap.q00)\n",
    "print(psi)"
   ]
  },
  {
   "cell_type": "code",
   "execution_count": null,
   "id": "de287f9f-19cb-47de-808f-a41c918f0a4c",
   "metadata": {},
   "outputs": [],
   "source": [
    "HL.ground_state()"
   ]
  },
  {
   "cell_type": "code",
   "execution_count": null,
   "id": "7129fd63-70ba-4009-8b6c-eb4e6f250072",
   "metadata": {},
   "outputs": [],
   "source": [
    "quantummap.Scalar(HL.ground_state(),HL.ground_state())"
   ]
  },
  {
   "cell_type": "code",
   "execution_count": null,
   "id": "1dc65df3-9a7d-4a09-a025-66783673a206",
   "metadata": {},
   "outputs": [],
   "source": [
    "HL.theta"
   ]
  },
  {
   "cell_type": "code",
   "execution_count": null,
   "id": "2e50edd3-cb7f-4fa7-b2d0-93b430ac7c4b",
   "metadata": {},
   "outputs": [],
   "source": [
    "HL.weights"
   ]
  },
  {
   "cell_type": "code",
   "execution_count": null,
   "id": "eb982f2e-f255-4a46-8708-74d6f05b53ea",
   "metadata": {},
   "outputs": [],
   "source": [
    "HL(0)"
   ]
  },
  {
   "cell_type": "markdown",
   "id": "14dad5ea-b1d8-45ec-9b5f-f7bf4b5b2e86",
   "metadata": {},
   "source": [
    "# Compute eigenvalue of H for check"
   ]
  },
  {
   "cell_type": "code",
   "execution_count": null,
   "id": "fbf9b402-56e9-4bf9-a859-dc11e9d6a76b",
   "metadata": {},
   "outputs": [],
   "source": [
    "tf.linalg.eig(quantummap.Transform2Matrix(HL.H))"
   ]
  },
  {
   "cell_type": "markdown",
   "id": "beb4e6d8-860c-493a-b8bc-097bd8ff44d5",
   "metadata": {},
   "source": [
    "# TODO check the ground state with no, and with h "
   ]
  },
  {
   "cell_type": "markdown",
   "id": "d5e28467-7268-4293-b7d0-0d8c712827ea",
   "metadata": {},
   "source": [
    "# TODO check the entanglement of the ground state "
   ]
  },
  {
   "cell_type": "code",
   "execution_count": null,
   "id": "441ac98e-2d9b-42b2-8521-38d26f4e0e8b",
   "metadata": {},
   "outputs": [],
   "source": []
  }
 ],
 "metadata": {
  "kernelspec": {
   "display_name": "Python 3 (ipykernel)",
   "language": "python",
   "name": "python3"
  },
  "language_info": {
   "codemirror_mode": {
    "name": "ipython",
    "version": 3
   },
   "file_extension": ".py",
   "mimetype": "text/x-python",
   "name": "python",
   "nbconvert_exporter": "python",
   "pygments_lexer": "ipython3",
   "version": "3.8.13"
  }
 },
 "nbformat": 4,
 "nbformat_minor": 5
}
